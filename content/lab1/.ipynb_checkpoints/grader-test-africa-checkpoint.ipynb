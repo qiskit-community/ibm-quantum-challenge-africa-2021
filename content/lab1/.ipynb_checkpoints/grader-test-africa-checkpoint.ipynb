{
 "cells": [
  {
   "cell_type": "markdown",
   "id": "8ac17305",
   "metadata": {},
   "source": [
    "## grader test"
   ]
  },
  {
   "cell_type": "markdown",
   "id": "203baf66",
   "metadata": {},
   "source": [
    "### Prerequisites\n",
    "\n",
    "- install the `qc_grader` client (if you dont already have it installed)\n",
    "\n",
    "    ```\n",
    "    pip install -I git+https://github.com/qiskit-community/Quantum-Challenge- Grader.git\n",
    "    ```\n",
    "\n",
    "- configure the following environment variables to connect to the grading service"
   ]
  },
  {
   "cell_type": "code",
   "execution_count": 1,
   "id": "b9e4e8b9",
   "metadata": {},
   "outputs": [
    {
     "name": "stdout",
     "output_type": "stream",
     "text": [
      "env: QC_GRADING_ENDPOINT=https://qac-grading-dev.quantum-computing.ibm.com\n"
     ]
    }
   ],
   "source": [
    "%set_env QC_GRADING_ENDPOINT=https://qac-grading-dev.quantum-computing.ibm.com\n"
   ]
  },
  {
   "cell_type": "code",
   "execution_count": 2,
   "id": "019d1d73",
   "metadata": {},
   "outputs": [
    {
     "name": "stdout",
     "output_type": "stream",
     "text": [
      "Name: qc-grader\n",
      "Version: 0.7.0\n",
      "Summary: Grading client for the IBM Quantum Challenge\n",
      "Home-page: https://quantum-computing.ibm.com/\n",
      "Author: IBM Quantum Community Team\n",
      "Author-email: va@us.ibm.com\n",
      "License: Apache 2.0\n",
      "Location: /Users/va/blue/git/quantum-challenge/grading/Quantum-Challenge-Grader\n",
      "Requires: numpy, qiskit, requests, networkx, ipycytoscape, plotly\n",
      "Required-by: \n"
     ]
    }
   ],
   "source": [
    "!pip show qc_grader"
   ]
  },
  {
   "cell_type": "markdown",
   "id": "462a04b9",
   "metadata": {},
   "source": [
    "---\n",
    "\n",
    "**ex1a**"
   ]
  },
  {
   "cell_type": "code",
   "execution_count": 3,
   "id": "252c87b7",
   "metadata": {},
   "outputs": [],
   "source": [
    "qiskit_module_names_correct = [\n",
    "    \"Qiskit finance\",\n",
    "    \"qiskit nature\",\n",
    "    \"qiskit optimization\",\n",
    "    \"qiskit machine learning\",\n",
    "]"
   ]
  },
  {
   "cell_type": "code",
   "execution_count": 5,
   "id": "b670daf8",
   "metadata": {},
   "outputs": [
    {
     "name": "stdout",
     "output_type": "stream",
     "text": [
      "Grading your answer for ex1/partA. Please wait...\n",
      "\n",
      "Congratulations 🎉! Your answer is correct.\n",
      "Feel free to submit your answer.\n",
      "\n"
     ]
    }
   ],
   "source": [
    "from qc_grader import grade_ex1a\n",
    "\n",
    "grade_ex1a(qiskit_module_names_correct)"
   ]
  },
  {
   "cell_type": "markdown",
   "id": "040752a0",
   "metadata": {},
   "source": [
    "**ex1b**"
   ]
  },
  {
   "cell_type": "code",
   "execution_count": 6,
   "id": "174b7300",
   "metadata": {},
   "outputs": [],
   "source": [
    "from qiskit_optimization import QuadraticProgram\n",
    "\n",
    "def cropyieldQuadraticProgram_solution():\n",
    "    ### Define crop-yield quadratic coefficients\n",
    "    # Constraint variables on hectares\n",
    "    max_hectares_per_crop = 1\n",
    "    hectares_available = 3\n",
    "\n",
    "    # Crops to be planted\n",
    "    crops = [\"Wheat\", \"Soybeans\", \"Maize\", \"PushPull\"]\n",
    "\n",
    "    # Monoculture crop yields, in tons/hectare\n",
    "    yield_monoculture_per_hectare = {\n",
    "        \"Wheat\": 2,\n",
    "        \"Soybeans\": 1,\n",
    "        \"Maize\": 4,\n",
    "        \"PushPull\": 0,\n",
    "    }\n",
    "\n",
    "    # Intercrop crop yields, in tons/hectare\n",
    "    yield_intercrop_per_hectare = {\n",
    "        (\"Wheat\", \"Soybeans\"): 2.4,\n",
    "        (\"Wheat\", \"Maize\"): 4,\n",
    "        (\"Wheat\", \"PushPull\"): 4,\n",
    "        (\"Soybeans\", \"Maize\"): 2,\n",
    "        (\"Soybeans\", \"PushPull\"): 1,\n",
    "        (\"Maize\", \"PushPull\"): 5,\n",
    "    }\n",
    "    # Create a QuadraticProgram\n",
    "    cropyield = QuadraticProgram(\n",
    "        name=\"Crop Yield\",\n",
    "    )\n",
    "\n",
    "    # Add crop-yield variables\n",
    "    for crop in crops:\n",
    "        # Note that we add these as integer variables but max_hectares_per_crop is 1\n",
    "        cropyield.integer_var(lowerbound=0, upperbound=max_hectares_per_crop, name=crop)\n",
    "\n",
    "    # Add crop-yield quadratic using monoculture and intercrop yield variables\n",
    "    cropyield.maximize(\n",
    "        linear=yield_monoculture_per_hectare,\n",
    "        quadratic=yield_intercrop_per_hectare,\n",
    "    )\n",
    "\n",
    "    # Add constraint for the total farm area\n",
    "    hectares_available_linear_dict = dict([(crop, 1) for crop in crops])\n",
    "    cropyield.linear_constraint(\n",
    "        linear=hectares_available_linear_dict,\n",
    "        sense=\"<=\",\n",
    "        rhs=hectares_available,\n",
    "        name=\"Hectares Availabe\",\n",
    "    )\n",
    "    return cropyield"
   ]
  },
  {
   "cell_type": "code",
   "execution_count": 7,
   "id": "d7194ace",
   "metadata": {},
   "outputs": [
    {
     "name": "stdout",
     "output_type": "stream",
     "text": [
      "Grading your answer for ex1/partB. Please wait...\n",
      "\n",
      "Congratulations 🎉! Your answer is correct.\n",
      "Feel free to submit your answer.\n",
      "\n"
     ]
    }
   ],
   "source": [
    "from qc_grader import grade_ex1b\n",
    "\n",
    "cropyield = cropyieldQuadraticProgram_solution()\n",
    "\n",
    "grade_ex1b(cropyield)"
   ]
  },
  {
   "cell_type": "markdown",
   "id": "a7eca7f6",
   "metadata": {},
   "source": [
    "**ex1c**"
   ]
  },
  {
   "cell_type": "code",
   "execution_count": 8,
   "id": "8c60ece3",
   "metadata": {},
   "outputs": [
    {
     "name": "stdout",
     "output_type": "stream",
     "text": [
      "Grading your answer for ex1/partC. Please wait...\n",
      "\n",
      "Congratulations 🎉! Your answer is correct.\n",
      "Feel free to submit your answer.\n",
      "\n"
     ]
    }
   ],
   "source": [
    "from qc_grader import grade_ex1c\n",
    "\n",
    "max_yield_qaoa = 19.0  # qaoa_result.fval\n",
    "max_yield_vqe = 19.0  # vqe_result.fval\n",
    "\n",
    "grade_ex1c(tonnage_qaoa=max_yield_qaoa, tonnage_vqe=max_yield_vqe)"
   ]
  },
  {
   "cell_type": "markdown",
   "id": "56bcd1c0",
   "metadata": {},
   "source": [
    "---\n",
    "\n",
    "**ex2a**"
   ]
  },
  {
   "cell_type": "code",
   "execution_count": 9,
   "id": "1798d49a",
   "metadata": {},
   "outputs": [],
   "source": [
    "num_uncertainty_qubits = 2\n",
    "low  = 0\n",
    "high = 100\n",
    "epsilon = 0.01\n",
    "alpha = 0.05\n",
    "shots = 100\n",
    "simulator = 'qasm_simulator'\n",
    "\n",
    "\n",
    "solutions = [\n",
    "    num_uncertainty_qubits,\n",
    "    low,\n",
    "    high,\n",
    "    epsilon,\n",
    "    alpha,\n",
    "    shots,\n",
    "    simulator\n",
    "]"
   ]
  },
  {
   "cell_type": "code",
   "execution_count": 10,
   "id": "bb224cea",
   "metadata": {},
   "outputs": [
    {
     "name": "stdout",
     "output_type": "stream",
     "text": [
      "Grading your answer for ex2/partA. Please wait...\n",
      "\n",
      "Oops 😕! Try changing more parameters to get an estimation error less than 0.03!\n",
      "Please review your answer and try again.\n"
     ]
    }
   ],
   "source": [
    "from qc_grader import grade_ex2a\n",
    "\n",
    "grade_ex2a(solutions)"
   ]
  },
  {
   "cell_type": "markdown",
   "id": "35cc564e",
   "metadata": {},
   "source": [
    "**ex2b**"
   ]
  },
  {
   "cell_type": "code",
   "execution_count": 11,
   "id": "0a3bef10",
   "metadata": {},
   "outputs": [],
   "source": [
    "import numpy as np\n",
    "from qiskit_finance.circuit.library import LogNormalDistribution\n",
    "\n",
    "\n",
    "num_uncertainty_qubits = 4\n",
    "S = 200 # initial spot price\n",
    "vol = 0.3 # volatility of 30%\n",
    "r = 0.08 # annual interest rate of 4%\n",
    "T = 60 / 365 # 60 days to maturity\n",
    "strike_price = 230\n",
    "epsilon = 0.01\n",
    "alpha = 0.05\n",
    "shots = 100\n",
    "simulator = 'qasm_simulator'\n",
    "\n",
    "# set the approximation scaling for the payoff function\n",
    "rescaling_factor = 0.25\n",
    "\n",
    "# resulting parameters for log-normal distribution\n",
    "mu = ((r - 0.5 * vol**2) * T + np.log(S))\n",
    "sigma = vol * np.sqrt(T)\n",
    "mean = np.exp(mu + sigma**2/2)\n",
    "variance = (np.exp(sigma**2) - 1) * np.exp(2*mu + sigma**2)\n",
    "stddev = np.sqrt(variance)\n",
    "low  = np.maximum(0, mean - 2*stddev) \n",
    "high = mean + 2*stddev\n",
    "breakpoints = [low, high]\n",
    "slopes = [-1, 0]\n",
    "offsets = [strike_price - low, 0]\n",
    "f_min = 0\n",
    "f_max = strike_price - low\n",
    "\n",
    "\n",
    "uncertainty_model = LogNormalDistribution(num_uncertainty_qubits, mu=mu, sigma=sigma**2, bounds=(low, high)) #'insert here'\n",
    "\n",
    "\n",
    "#####\n",
    "\n",
    "from qiskit import Aer\n",
    "from qiskit.utils import QuantumInstance\n",
    "from qiskit.algorithms import IterativeAmplitudeEstimation, EstimationProblem\n",
    "from qiskit.circuit.library import  LinearAmplitudeFunction\n",
    "\n",
    "# setup piecewise linear objective function, the LinearAmplitudeFunction\n",
    "\n",
    "european_put_objective = LinearAmplitudeFunction(\n",
    "    num_uncertainty_qubits,\n",
    "    slopes,\n",
    "    offsets,\n",
    "    domain=(low, high),\n",
    "    image=(f_min, f_max),\n",
    "    rescaling_factor=rescaling_factor,\n",
    "    breakpoints=breakpoints   \n",
    ")\n",
    "\n",
    "\n",
    "# setup the quantum instance to pass to the IterativeAmplitudeEstimation function\n",
    "\n",
    "qi = QuantumInstance(Aer.get_backend(simulator), shots=shots, seed_simulator=42, seed_transpiler=42)\n",
    "\n",
    "# construct amplitude estimation\n",
    "\n",
    "ae = IterativeAmplitudeEstimation(epsilon, alpha=alpha, quantum_instance=qi)\n",
    "\n"
   ]
  },
  {
   "cell_type": "code",
   "execution_count": 12,
   "id": "9f17ed65",
   "metadata": {},
   "outputs": [
    {
     "name": "stdout",
     "output_type": "stream",
     "text": [
      "Grading your answer for ex2/partB. Please wait...\n",
      "\n",
      "Congratulations 🎉! Your answer is correct.\n",
      "Feel free to submit your answer.\n",
      "\n"
     ]
    }
   ],
   "source": [
    "from qc_grader import grade_ex2b\n",
    "\n",
    "grade_ex2b(uncertainty_model, european_put_objective, ae)"
   ]
  },
  {
   "cell_type": "markdown",
   "id": "09254dba",
   "metadata": {},
   "source": [
    "---\n",
    "\n",
    "**ex3a**"
   ]
  },
  {
   "cell_type": "code",
   "execution_count": 13,
   "id": "9c5fd821",
   "metadata": {},
   "outputs": [],
   "source": [
    "from qiskit_nature.drivers import Molecule\n",
    "from functools import partial as apply_variation_to_atom_pair\n",
    "\n",
    "def ex3a_valid():\n",
    "    atom_pair = (6, 1)\n",
    "    geometry = [\n",
    "        [\"O\", [1.1280, 0.2091, 0.0000]],\n",
    "        [\"N\", [-1.1878, 0.1791, 0.0000]],\n",
    "        [\"C\", [0.0598, -0.3882, 0.0000]],\n",
    "        [\"H\", [-1.3085, 1.1864, 0.0001]],\n",
    "        [\"H\", [-2.0305, -0.3861, -0.0001]],\n",
    "        [\"H\", [-0.0014, -1.4883, -0.0001]],\n",
    "        [\"C\", [-0.1805, 1.3955, 0.0000]],\n",
    "    ]\n",
    "    charge = 0\n",
    "    multiplicity = 1\n",
    "\n",
    "    specific_molecular_variation = apply_variation_to_atom_pair(\n",
    "        Molecule.absolute_stretching, atom_pair=atom_pair\n",
    "    )\n",
    "    macro_molecule = Molecule(\n",
    "        geometry=geometry,\n",
    "        charge=charge,\n",
    "        multiplicity=multiplicity,\n",
    "        degrees_of_freedom=[specific_molecular_variation],\n",
    "    )\n",
    "    return macro_molecule"
   ]
  },
  {
   "cell_type": "code",
   "execution_count": 14,
   "id": "90fa4fa1",
   "metadata": {},
   "outputs": [
    {
     "name": "stdout",
     "output_type": "stream",
     "text": [
      "Grading your answer for ex3/partA. Please wait...\n",
      "\n",
      "Congratulations 🎉! Your answer is correct.\n",
      "Feel free to submit your answer.\n",
      "\n"
     ]
    }
   ],
   "source": [
    "from qc_grader import grade_ex3a\n",
    "\n",
    "molecule=ex3a_valid()\n",
    "\n",
    "grade_ex3a(molecule)"
   ]
  },
  {
   "cell_type": "markdown",
   "id": "337bfc19",
   "metadata": {},
   "source": [
    "**ex3b**"
   ]
  },
  {
   "cell_type": "code",
   "execution_count": 15,
   "id": "747b9966",
   "metadata": {},
   "outputs": [
    {
     "name": "stdout",
     "output_type": "stream",
     "text": [
      "Grading your answer for ex3/partB. Please wait...\n",
      "\n",
      "Congratulations 🎉! Your answer is correct.\n",
      "Feel free to submit your answer.\n",
      "\n"
     ]
    }
   ],
   "source": [
    "from qc_grader import grade_ex3b\n",
    "\n",
    "grade_ex3b('C', 'A')"
   ]
  },
  {
   "cell_type": "markdown",
   "id": "15e03606",
   "metadata": {},
   "source": [
    "**ex3c**"
   ]
  },
  {
   "cell_type": "code",
   "execution_count": 16,
   "id": "131a3166",
   "metadata": {},
   "outputs": [],
   "source": [
    "import numpy as np\n",
    "\n",
    "molecular_variation = Molecule.absolute_stretching\n",
    "\n",
    "specific_molecular_variation = apply_variation_to_atom_pair(\n",
    "    molecular_variation, atom_pair=(6, 1)\n",
    ")\n",
    "\n",
    "macromolecule_solution = Molecule(\n",
    "    geometry=[\n",
    "        [\"O\", [1.1280, 0.2091, 0.0000]],\n",
    "        [\"N\", [-1.1878, 0.1791, 0.0000]],\n",
    "        [\"C\", [0.0598, -0.3882, 0.0000]],\n",
    "        [\"H\", [-1.3085, 1.1864, 0.0001]],\n",
    "        [\"H\", [-2.0305, -0.3861, -0.0001]],\n",
    "        [\"H\", [-0.0014, -1.4883, -0.0001]],\n",
    "        [\"C\", [-0.1805, 1.3955, 0.0000]],\n",
    "    ],\n",
    "    charge=0,\n",
    "    multiplicity=1,\n",
    "    degrees_of_freedom=[specific_molecular_variation],\n",
    ")\n"
   ]
  },
  {
   "cell_type": "code",
   "execution_count": 17,
   "id": "8f071a5c",
   "metadata": {},
   "outputs": [
    {
     "name": "stdout",
     "output_type": "stream",
     "text": [
      "Grading your answer for ex3/partC. Please wait...\n",
      "\n",
      "Oops 😕! Energy surface results do not appear to be correct\n",
      "Please review your answer and try again.\n"
     ]
    }
   ],
   "source": [
    "from qc_grader import grade_ex3c\n",
    "\n",
    "grade_ex3c(\n",
    "    energy_surface=[],\n",
    "    molecule=macromolecule_solution,\n",
    "    num_electrons=2,\n",
    "    num_molecular_orbitals=2,\n",
    "    chemistry_inspired=True,\n",
    "    hardware_inspired_trial=None,\n",
    "    vqe=True,\n",
    "    perturbation_steps=np.linspace(-0.5, 5, 30),\n",
    "    q2_multiple_choice='D'\n",
    ")\n"
   ]
  },
  {
   "cell_type": "markdown",
   "id": "86840c46",
   "metadata": {},
   "source": [
    "**ex3d**"
   ]
  },
  {
   "cell_type": "code",
   "execution_count": 18,
   "id": "e581fe90",
   "metadata": {},
   "outputs": [
    {
     "name": "stdout",
     "output_type": "stream",
     "text": [
      "Grading your answer for ex3/partD. Please wait...\n",
      "\n",
      "Congratulations 🎉! Your answer is correct.\n",
      "Feel free to submit your answer.\n",
      "\n"
     ]
    }
   ],
   "source": [
    "from qc_grader import grade_ex3d\n",
    "\n",
    "grade_ex3d('decreases', 4)"
   ]
  },
  {
   "cell_type": "markdown",
   "id": "a74332d9",
   "metadata": {},
   "source": [
    "**ex3e**"
   ]
  },
  {
   "cell_type": "code",
   "execution_count": 19,
   "id": "57ae1b48",
   "metadata": {},
   "outputs": [],
   "source": [
    "from qc_grader import grade_ex3e\n",
    "\n",
    "# grade_ex3e(\n",
    "#     energy_surface_result=...,\n",
    "#     molecule=...,\n",
    "#     num_electrons=2,\n",
    "#     num_molecular_orbitals=2,\n",
    "#     chemistry_inspired=False,\n",
    "#     hardware_inspired_trial=...,\n",
    "#     vqe=True,\n",
    "#     perturbation_steps=[0],\n",
    "# )"
   ]
  },
  {
   "cell_type": "code",
   "execution_count": null,
   "id": "288269ec",
   "metadata": {},
   "outputs": [],
   "source": []
  }
 ],
 "metadata": {
  "kernelspec": {
   "display_name": "Python 3 (ipykernel)",
   "language": "python",
   "name": "python3"
  },
  "language_info": {
   "codemirror_mode": {
    "name": "ipython",
    "version": 3
   },
   "file_extension": ".py",
   "mimetype": "text/x-python",
   "name": "python",
   "nbconvert_exporter": "python",
   "pygments_lexer": "ipython3",
   "version": "3.8.8"
  }
 },
 "nbformat": 4,
 "nbformat_minor": 5
}
