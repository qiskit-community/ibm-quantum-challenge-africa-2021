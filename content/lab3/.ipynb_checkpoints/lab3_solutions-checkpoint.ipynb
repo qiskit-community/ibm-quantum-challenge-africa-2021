{
 "cells": [
  {
   "cell_type": "markdown",
   "id": "convinced-medium",
   "metadata": {},
   "source": [
    "<div align=center class=\"alert alert-block alert-info\">\n",
    "    <h1>IBM Quantum Challenge Africa: Quantum Chemistry for HIV</h1>\n",
    "</div>\n",
    "\n",
    "<img src=\"HIV-1_capsid_wikipedia.png\"/>\n",
    "\n",
    "<div align=center class=\"alert alert-block alert-info\">\n",
    "    <h1>Table of Contents</h1>\n",
    "</div>\n",
    "\n",
    "| Walk-through |\n",
    "|:-|\n",
    "|[Preface](#preface)|\n",
    "|[Introduction](#intro)|\n",
    "|[Step 1 : Defining the Molecular Geometry](#step_1)|\n",
    "|[Step 2 : Calculating the Qubit Hamiltonian](#step_2)|\n",
    "|[Step 2a: Constructing the Fermionic Hamiltonion](#step_3)|\n",
    "|[Step 2b: Getting Ready to Convert to a Qubit Hamiltonian](#step_2b)|\n",
    "|[Step 3 : Setting up the Variational Quantum Eigensolver (VQE)](#step_3)|\n",
    "|[Step 3a: The V in VQE (i.e. the Variational form, a Trial state)](#step_3a)|\n",
    "|[Step 3b: The Q in VQE: the Quantum environment](#step_3b)|\n",
    "|[Step 3c: Initializing VQE](#step_3c)|\n",
    "|[Step 4 : Solving for the Ground-state](#step_4)|\n",
    "||\n",
    "|[The HIV Challenge](#challenge)|\n",
    "|[1. Refining Step 1: Varying the Molecule](#refine_step_1)|\n",
    "|[2. Refining Step 2: Reducing the quantum workload](#refine_step_2)|\n",
    "|[3. Refining Step 4: Energy Surface](#refine_step_4)|\n",
    "|[4. Refining Step 3a](#refine_step_3a)|\n",
    "|Exercises|\n",
    "|[Exercise 3a: Molecular Definition of Macromolecule with Blocking Approach](#exercise_3a)|\n",
    "|[Exercise 3b: Classical-Quantum Treatment Conceptual Questions (Multiple-Choice)](#exercise_3b)|\n",
    "|[Exercise 3c: Energy Landscape, To bind or not to bind?](#exercise_3c)|\n",
    "|[Exercise 3d: The effect of more repetitions](#exercise_3d)|\n",
    "|[Exercise 3e: Open-ended: Find the best hardware_inspired_trial to minimize the Energy Error for the Macromolecule](#exercise_3e)|\n",
    "|[Quantum Chemistry Resources](#qresource)|\n",
    "\n",
    "<h2><a id='preface'>Preface</a></h2>\n",
    "\n",
    "\n",
    "**HIV is a virus that has presented an immense challenge for public health, globally**. The ensuing disease dynamics touch on multiple societal dimensions including nutrition, access to health, education and research funding. To compound the difficulties, the virus mutates rapidly with different strains having different geographic footprints. In particular, the HIV-1-C and HIV-2 strains predominate mostly in Africa. Due to disparities in funding, research for treatments of the African strains lags behind other programmes. African researchers are striving to address this imbalance and should consider adding the latest technologies such as quantum computing to their toolkits.\n",
    "\n",
    "**Quantum computing promises spectacular improvements in drug-design**. In particular, in order to design new anti-retrovirals it is important to perform **chemical simulations** to confirm that the anti-retroviral binds with the virus protein. Such simulations are notoriously hard and sometimes ineffective on classical supercomputers. Quantum computers promise more accurate simulations allowing for a better drug-design workflow.\n",
    "\n",
    "In detail: anti-retrovirals are drugs that bind with and block a virus protein, called protease, that cleaves virus polyproteins into smaller proteins, ready for packaging. The protease can be thought of as a chemical scissor. The anti-retroviral can be thought of as a sticky obstacle that disrupts the ability of the scissor to cut. With the protease blocked, the virus cannot make more copies of itself.\n",
    "\n",
    "Mutations in the viral protease changes the binding propensity of a given anti-retroviral. Hence, when a mutation occurs and an anti-retroviral no longer binds well, the goal becomes to adjust the anti-retroviral molecule to again bind strongly.\n",
    "\n",
    "**The main goal of this challenge is to explore whether a toy anti-retroviral molecule binds with a toy virus protease.**\n",
    "\n",
    "Along the way, this challenge introduces **state-of-the-art hybrid classical-quantum embedded chemistry modelling** allowing the splitting of the work-load between classical approximations and more accurate quantum calculations.\n",
    "\n",
    "Finally, you need to tweak the setup of the quantum chemistry algorithm (without having to understand the nuts and bolts of quantum computing) to achieve the best performance for ideal quantum computing conditions."
   ]
  },
  {
   "cell_type": "markdown",
   "id": "93390da9",
   "metadata": {},
   "source": [
    "*A video explaining how HIV infects and how anti-retroviral treatment works*:"
   ]
  },
  {
   "cell_type": "code",
   "execution_count": 1,
   "id": "50e0523a",
   "metadata": {},
   "outputs": [
    {
     "data": {
      "image/jpeg": "[encoded data removed]",
      "text/html": [
       "\n",
       "        <iframe\n",
       "            width=\"400\"\n",
       "            height=\"300\"\n",
       "            src=\"https://www.youtube.com/embed/cSNaBui2IM8\"\n",
       "            frameborder=\"0\"\n",
       "            allowfullscreen\n",
       "        ></iframe>\n",
       "        "
      ],
      "text/plain": [
       "<IPython.lib.display.YouTubeVideo at 0x7f87c859b940>"
      ]
     },
     "execution_count": 1,
     "metadata": {},
     "output_type": "execute_result"
    }
   ],
   "source": [
    "from IPython.display import display, YouTubeVideo\n",
    "YouTubeVideo('cSNaBui2IM8')"
   ]
  },
  {
   "cell_type": "markdown",
   "id": "fuzzy-huntington",
   "metadata": {},
   "source": [
    "<div align=center class=\"alert alert-block alert-success\">\n",
    "    <h1>Walk-through: Calculating the Ground-state Energy for the Simplest Molecule in the Universe</h1>\n",
    "</div>"
   ]
  },
  {
   "cell_type": "markdown",
   "id": "italian-canvas",
   "metadata": {},
   "source": [
    "*Import relevant packages*"
   ]
  },
  {
   "cell_type": "code",
   "execution_count": 2,
   "id": "express-might",
   "metadata": {},
   "outputs": [],
   "source": [
    "from qiskit import Aer\n",
    "\n",
    "from qiskit_nature.drivers import PySCFDriver, UnitsType, Molecule\n",
    "from qiskit_nature.problems.second_quantization.electronic import ElectronicStructureProblem\n",
    "from qiskit_nature.mappers.second_quantization import JordanWignerMapper, BravyiKitaevMapper\n",
    "from qiskit_nature.converters.second_quantization import QubitConverter\n",
    "\n",
    "from qiskit_nature.transformers import ActiveSpaceTransformer\n",
    "from qiskit_nature.algorithms import GroundStateEigensolver, BOPESSampler\n",
    "from qiskit.algorithms import NumPyMinimumEigensolver\n",
    "\n",
    "from qiskit.utils import QuantumInstance\n",
    "\n",
    "from qiskit_nature.circuit.library.ansatzes import UCCSD\n",
    "from qiskit_nature.circuit.library.initial_states import HartreeFock\n",
    "from qiskit.circuit.library import TwoLocal\n",
    "\n",
    "from qiskit.algorithms import VQE\n",
    "from qiskit.algorithms.optimizers import COBYLA\n",
    "\n",
    "from functools import partial as apply_variation_to_atom_pair\n",
    "import numpy as np\n",
    "import matplotlib.pyplot as plt"
   ]
  },
  {
   "cell_type": "markdown",
   "id": "homeless-cheat",
   "metadata": {
    "tags": []
   },
   "source": [
    "<h2><a id='intro'>Introduction</a></h2>\n",
    "\n",
    "In the HIV Challenge, we are tasked with investigating whether the toy anti-retroviral molecule binds with and therefore, disrupts the toy protease molecule. Successful binding is determined by a lower total ground-state energy for the molecules when they are close together (forming a single macromolecule) compared to far apart.\n",
    "\n",
    "Total ground-state energy refers to the sum of the energies concerning the arrangement of the electrons and the nuclei. The nuclear energy is easy to calculate classically. It is the energy of the electron distribution (i.e. molecular spin-orbital occupation) that is extremely difficult and requires a quantum computer.\n",
    "\n",
    "We start with a walk-through tutorial, where we calculate the ground-state energy of a simple molecule and leave the more complicated set-up to the challenge section."
   ]
  },
  {
   "cell_type": "markdown",
   "id": "modified-jacob",
   "metadata": {},
   "source": [
    "The ground-state of a molecule in some configuration consists of the locations of the nuclei, together with some distribution of electrons around the nuclei. The nucleus-nucleus, nuclei-electron and electron-electron forces/energy of attraction and repulsion are captured in a matrix called the **Hamiltonian**. Since the nuclei are relatively massive compared to the electrons, they move at a slower time-scale than the electrons. This allows us to split the calculation into two parts: placing the nuclei and calculating the electron distribution, followed by moving the nuclei and recalculating the electron distribution until a minimum total energy distribution is reached:"
   ]
  },
  {
   "cell_type": "markdown",
   "id": "d1b0bb46",
   "metadata": {},
   "source": [
    "<div class=\"alert alert-block alert-warning\">\n",
    "<b>Algorithm: Find_total_ground_state</b>\n",
    "\n",
    "Place nuclei\n",
    "    \n",
    "Repeat until grid completed or no change in total_energy:\n",
    "    \n",
    "  - calculate electronic ground-state\n",
    "    \n",
    "  - total_energy = (nuclei repulsion + electronic energy)\n",
    "    \n",
    "  - move nuclei (either in grid or following gradient)\n",
    "\n",
    "return total_energy\n",
    "</div>"
   ]
  },
  {
   "cell_type": "markdown",
   "id": "metropolitan-works",
   "metadata": {},
   "source": [
    "In the walk-through, we simply fix the nuclei positions; however, later, in the challenge section, we allow for a varying one-dimensional intermolecular distance between the anti-retroviral and the protease molecules, which represents the anti-retroviral approaching the protease molecule in an attempt to bind."
   ]
  },
  {
   "cell_type": "markdown",
   "id": "26dd8e8e",
   "metadata": {},
   "source": [
    "<h2><a id='step_1'>Step 1: Defining the Molecular Geometry</a></h2>"
   ]
  },
  {
   "cell_type": "markdown",
   "id": "accepted-liberal",
   "metadata": {},
   "source": [
    "For this walk-through, we work with the simplest non-trivial molecule possible: H$_2$, the hydrogen gas molecule.\n",
    "\n",
    "<img src=\"h2.png\"/>\n",
    "\n",
    "*The first thing to do is to fix the location of each nucleus. This is specified as a python list of nuclei, where each nucleus (as a list) contains a string corresponding to the atomic species and its 3D co-ordinates (as another list). We also specify the overall charge, which tells Qiskit to automatically calculate the number of needed electrons to produce that charge:*"
   ]
  },
  {
   "cell_type": "code",
   "execution_count": 3,
   "id": "threatened-accreditation",
   "metadata": {},
   "outputs": [],
   "source": [
    "hydrogen_molecule = Molecule(geometry=\n",
    "                             [['H', [0., 0., 0.]],\n",
    "                              ['H', [0., 0., 0.735]]],\n",
    "                     charge=0, multiplicity=1)"
   ]
  },
  {
   "cell_type": "markdown",
   "id": "52a426ce",
   "metadata": {
    "tags": []
   },
   "source": [
    "<h2><a id='step_2'>Step 2: Calculating the Qubit Hamiltonian</a></h2>"
   ]
  },
  {
   "cell_type": "markdown",
   "id": "lesbian-outline",
   "metadata": {},
   "source": [
    "Once nuclei positions are fixed (the nucleus-nucleus forces are temporarily irrelevant), the only part of the Hamiltonian that then needs to be calculated on the quantum computer is the detailed electron-electron interaction. The nuclei-electron and a rough mean field electron-electron interaction can be pre-computed as *allowed molecular orbitals* on a classical computer via the, so called, Hartree-Fock approximation. With these allowed molecular orbitals and their pre-calculated overlaps, Qiskit automatically produces an interacting electron-electron **fermionic molecular-orbital Hamiltonian** (called Second Quantization). The molecular orbital and overlap pre-calculation are provided by classical packages, e.g. PySCF, and connected to Qiskit via a so-called *driver*, in particular, we use the PySCFDriver."
   ]
  },
  {
   "cell_type": "markdown",
   "id": "20058145",
   "metadata": {},
   "source": [
    "<h3><a id='step_3'>Step 2a: Constructing the Fermionic Hamiltonion</a></h3>"
   ]
  },
  {
   "cell_type": "markdown",
   "id": "geographic-texas",
   "metadata": {},
   "source": [
    "*We specify the driver to the classical software package that is to be used to calculate the resulting orbitals of the provided molecule after taking into account the nuclei-electron and mean-field interactions. The `basis` option selects the basis set in which the molecular orbitals are to be expanded in. `sto3g` is the smallest available basis set:*"
   ]
  },
  {
   "cell_type": "code",
   "execution_count": 4,
   "id": "6c557ec7",
   "metadata": {},
   "outputs": [],
   "source": [
    "molecular_hydrogen_orbital_maker = PySCFDriver(molecule=hydrogen_molecule, unit=UnitsType.ANGSTROM, basis='sto3g')"
   ]
  },
  {
   "cell_type": "markdown",
   "id": "15d9ab80",
   "metadata": {},
   "source": [
    "*Qiskit provides a helpful Class named the ElectronicStructureProblem, which calls the driver in the right way to construct the molecular orbitals. We initialise ElectronicStructureProblem with the driver (which already has the molecular information stored in it from the previous step):*"
   ]
  },
  {
   "cell_type": "code",
   "execution_count": 5,
   "id": "e1957fe5",
   "metadata": {},
   "outputs": [],
   "source": [
    "hydrogen_fermionic_hamiltonian = ElectronicStructureProblem(molecular_hydrogen_orbital_maker)"
   ]
  },
  {
   "cell_type": "markdown",
   "id": "9e0ea2c8",
   "metadata": {},
   "source": [
    "*Here, we instruct the ElectronicStructureProblem object to go ahead and create the fermionic molecular-orbital Hamiltonian (which gets stored internally):*"
   ]
  },
  {
   "cell_type": "code",
   "execution_count": 6,
   "id": "separated-detail",
   "metadata": {},
   "outputs": [
    {
     "name": "stdout",
     "output_type": "stream",
     "text": [
      "Completed running classical package.\n",
      "Fermionic molecular-orbital Hamiltonian calculated and stored internally.\n",
      "An example of HF info available: Orbital Energies [-0.58062892  0.67633625]\n"
     ]
    }
   ],
   "source": [
    "hydrogen_fermionic_hamiltonian.second_q_ops()\n",
    "print(\"Completed running classical package.\\nFermionic molecular-orbital Hamiltonian calculated and stored internally.\")\n",
    "print(\"An example of HF info available: Orbital Energies\", hydrogen_fermionic_hamiltonian._molecule_data_transformed.orbital_energies)"
   ]
  },
  {
   "cell_type": "markdown",
   "id": "67d7064a",
   "metadata": {},
   "source": [
    "(If this step is not run explicitly, and its outputs are not used in an intermediary step, the final ground_state solving step would run it automatically.)"
   ]
  },
  {
   "cell_type": "markdown",
   "id": "8607bc99",
   "metadata": {
    "tags": []
   },
   "source": [
    "<h3><a id='step_2b'>Step 2b: Getting Ready to Convert to a Qubit Hamiltonian</a></h3>"
   ]
  },
  {
   "cell_type": "markdown",
   "id": "opposed-philadelphia",
   "metadata": {},
   "source": [
    "Above, *fermionic* is a term to describe the behaviour of electrons (having an anti-symmetric wave-function obeying the Pauli Exclusion principle). In order to use the quantum computer we need to map the electrons (which exhibit fermionic behavior) to the quantum computer's qubits (which have closely related spin behaviour: Pauli Exclusion but not necessarily anti-symmetric). This mapping is a generic process, independent of the driver above."
   ]
  },
  {
   "cell_type": "markdown",
   "id": "continued-granny",
   "metadata": {},
   "source": [
    "There are multiple mapping methods available, each with pros and cons, and constitutes something to experiment with."
   ]
  },
  {
   "cell_type": "markdown",
   "id": "distant-question",
   "metadata": {},
   "source": [
    "*For now, we select the simplest qubit mapper/converter called the Jordan-Wigner Mapper:*"
   ]
  },
  {
   "cell_type": "code",
   "execution_count": 7,
   "id": "arctic-exhaust",
   "metadata": {},
   "outputs": [],
   "source": [
    "map_fermions_to_qubits = QubitConverter(JordanWignerMapper())\n",
    "# e.g. alternative:\n",
    "# map_fermions_to_qubits = QubitConverter(BravyiKitaevMapper())"
   ]
  },
  {
   "cell_type": "markdown",
   "id": "190cd577",
   "metadata": {},
   "source": [
    "(Note, we have just chosen the mapper above, it has not yet been applied to the fermionic Hamiltonian.)"
   ]
  },
  {
   "cell_type": "markdown",
   "id": "ddcf6c41",
   "metadata": {},
   "source": [
    "<h2><a id='step_3'>Step 3: Setting up the Variational Quantum Eigensolver (VQE)</a></h2>\n",
    "\n",
    "Now that we have defined the molecule and its mapping onto a quantum computer, we need to select an algorithm to solve for the ground state. There are two well-known approaches: Quantum Phase Estimation (QPE) and VQE. The first requires fault-tolerant quantum computers that have not yet been built. The second is suitable for current day, noisy **depth**-restricted quantum computers, because it is a hybrid quantum-classical method with short-depth quantum circuits. By *depth* of the circuit, it suffices to know that quantum computers can only be run for a short while, before noise completely scrambles the results.\n",
    "\n",
    "Therefore, for now, we only explore the VQE method. Furthermore, VQE offers many opportunities to tweak its configuration; thus, as an end-user you gain experience in quantum black-box tweaking.\n",
    "\n",
    "<img src=\"vqe_method_NB.png\"/>"
   ]
  },
  {
   "cell_type": "markdown",
   "id": "ba1aa361",
   "metadata": {},
   "source": [
    "VQE is an algorithm for finding the ground-state of a molecule (or any Hamiltonian in general). It is a hybrid quantum-classical algorithm, which means that the algorithm consists of two interacting stages, a quantum stage and a classical stage. \n",
    "\n",
    "During the quantum stage, a trial molecular state is created on the quantum computer. The trial state is specified by a collection of **parameters** which are provided and adjusted by the classical stage. After the trial state is created, its energy is calculated on the quantum computer (by a few rounds of quantum-classical measurements). The result is finally available classically. \n",
    "\n",
    "At this stage, a classical optimization algorithm looks at the previous energy levels and the new energy level and decides how to adjust the trial state parameters. This process repeats until the energy essentially stops decreasing. The output of the whole algorithm is the final set of parameters that produced the winning approximation to the ground-state and its energy level."
   ]
  },
  {
   "cell_type": "markdown",
   "id": "becoming-special",
   "metadata": {},
   "source": [
    "<h3><a id='step_3a'>Step 3a: The V in VQE (i.e. the Variational form, a Trial state)</a></h3>\n",
    "\n",
    "VQE works by 'searching' for the electron orbital occupation distribution with the lowest energy, called the ground-state. The quantum computer is repeatedly used to calculate the energy of the search trial state.\n",
    "\n",
    "The trial state is specified by a collection of (randomly initialized) parameters that move the state around, in our search for the ground-state (we're minimizing the energy cost-function). The form of the 'movement' is something that can be tweaked (i.e., the definition of the structure of the *ansatz*/trial). There are two broad approaches we could follow. The first, let's call it *Chemistry-Inspired Trial-states*, is to use domain knowledge of what we expect the ground-state to look like from a chemistry point of view and build that into our trial state. The second, let's call it *Hardware-Inspired Trial-states*, is to simply try and create trial states that have as wide a reach as possible while taking into account the architecure of the available quantum computers.\n",
    "\n",
    "#### *Chemistry-Inspired Trial-states*\n",
    "\n",
    "Since chemistry gives us domain-specific prior information (e.g., the number of orbitals and electrons and the actual Hartree-Fock approximation), it makes sense to guide the trial state by baking this knowledge into the form of the trial."
   ]
  },
  {
   "cell_type": "markdown",
   "id": "dominant-tattoo",
   "metadata": {},
   "source": [
    "*From the HF approximation we get the number of orbitals and from that we can calculate the number of spin orbitals:*"
   ]
  },
  {
   "cell_type": "code",
   "execution_count": 8,
   "id": "chronic-juvenile",
   "metadata": {},
   "outputs": [],
   "source": [
    "hydrogen_molecule_info          = hydrogen_fermionic_hamiltonian.molecule_data_transformed\n",
    "num_hydrogen_molecular_orbitals = hydrogen_molecule_info.num_molecular_orbitals\n",
    "num_hydrogen_spin_orbitals      = 2 * num_hydrogen_molecular_orbitals"
   ]
  },
  {
   "cell_type": "markdown",
   "id": "approved-fantasy",
   "metadata": {},
   "source": [
    "*Furthermore, we can also extract the number of electrons (spin up and spin down):*"
   ]
  },
  {
   "cell_type": "code",
   "execution_count": 9,
   "id": "rolled-harvey",
   "metadata": {},
   "outputs": [],
   "source": [
    "num_hydrogen_electrons_spin_up_spin_down = (hydrogen_molecule_info.num_alpha, hydrogen_molecule_info.num_beta)"
   ]
  },
  {
   "cell_type": "markdown",
   "id": "internal-binary",
   "metadata": {},
   "source": [
    "*With the number of spin orbitals, the number of electrons able to fill them and the mapping from fermions to qubits, we can construct an initial quantum computing state for our trial state:*"
   ]
  },
  {
   "cell_type": "code",
   "execution_count": 10,
   "id": "piano-drilling",
   "metadata": {},
   "outputs": [],
   "source": [
    "hydrogen_initial_state = HartreeFock(num_hydrogen_spin_orbitals,\n",
    "                                     num_hydrogen_electrons_spin_up_spin_down,\n",
    "                                     map_fermions_to_qubits)"
   ]
  },
  {
   "cell_type": "markdown",
   "id": "portable-pacific",
   "metadata": {},
   "source": [
    "*Finally, Qiskit provides a Class (Unitary Coupled Cluster Single and Double excitations, `UCCSD`) that takes the above information and creates a parameterised state inspired by the HF approximation, that can be iteratively adjusted in our attempt to find the ground-state:*"
   ]
  },
  {
   "cell_type": "code",
   "execution_count": 11,
   "id": "acquired-equity",
   "metadata": {},
   "outputs": [],
   "source": [
    "hydrogen_chemistry_inspired_trial = UCCSD(map_fermions_to_qubits,\n",
    "                                          num_hydrogen_electrons_spin_up_spin_down,\n",
    "                                          num_hydrogen_spin_orbitals,\n",
    "                                          initial_state=hydrogen_initial_state)"
   ]
  },
  {
   "cell_type": "markdown",
   "id": "governmental-paper",
   "metadata": {},
   "source": [
    "#### *Hardware-Inspired Trial-states*\n",
    "\n",
    "The problem with the above \"chemistry-inspired\" trial-states, is that they are quite deep, quickly using up the available depth of current-day quantum computers. A potential solution is to forgo this chemistry knowledge and try to represent arbitrary states with trial states that are easy to prepare and parametrically \"move\" around on current hardware. There are two quantum operations that can be used to try and reach arbitrary states: mixing (our term for *conditional sub-space rotation*) and rotating (*unconditional rotation*). Detailed knowledge of how these operations and their sub-options work are not really needed, especially because it is not immediately obvious which settings produce the best results.\n",
    "\n",
    "##### Mixing (also called Entanglement maps)\n",
    "\n",
    "There are a set of available mixing strategies, that you may experiment with. This is specified with two arguments, *`entanglement`* (choosing what to mix) and *`entanglement_blocks`* (choosing how to mix):\n",
    "\n",
    "Possible *`entanglement`* values: `'linear'`, `'full'`, `'circular'`, `'sca'`\n",
    "\n",
    "Possible *`entanglement_blocks`* values: `'cz'`, `'cx'`\n",
    "\n",
    "For our purposes, it is acceptable to simply choose the first option for each setting.\n",
    "  \n",
    "##### Rotation\n",
    "\n",
    "There are a set of available *parameterized* rotation strategies. The rotation strategies are specified as a single argument, *`rotation_blocks`*, in the form of a list of any combination of the following possibilities:\n",
    "\n",
    "Possible *`rotation_blocks`*: `'ry'`, `'rx'`,`'rz'`,`'h'`, ...\n",
    "\n",
    "Typically, this is the only place that parameters are introduced in the trial state. One parameter is introduced with every rotation, corresponding to the angle of rotation around the associated axis. (Note, `'h'` does not have any parameters and so can not be selected alone.)\n",
    "\n",
    "Again, for our purposes, an acceptable choice is the first option alone in the list."
   ]
  },
  {
   "cell_type": "markdown",
   "id": "9f0151fa",
   "metadata": {},
   "source": [
    "*Qiskit provides a Class called `TwoLocal` for creating random trial states by local operations only. The number of **rounds** of the local operations is specified by the argument `reps`:*"
   ]
  },
  {
   "cell_type": "code",
   "execution_count": 12,
   "id": "polished-lounge",
   "metadata": {},
   "outputs": [],
   "source": [
    "hardware_inspired_trial = TwoLocal(rotation_blocks = ['ry'], entanglement_blocks = 'cz',\n",
    "                                   entanglement='linear', reps=2)"
   ]
  },
  {
   "cell_type": "markdown",
   "id": "21483bb4",
   "metadata": {},
   "source": [
    "(Note, this trial state does not depend on the molecule.)"
   ]
  },
  {
   "cell_type": "markdown",
   "id": "37f09449",
   "metadata": {},
   "source": [
    "*Just for convenience, let's choose between the two approaches by assiging the choice to a variable:*"
   ]
  },
  {
   "cell_type": "code",
   "execution_count": 13,
   "id": "cdd1d06f",
   "metadata": {},
   "outputs": [],
   "source": [
    "hydrogen_trial_state = hydrogen_chemistry_inspired_trial\n",
    "# OR\n",
    "# hydrogen_trial_state = hardware_inspired_trial"
   ]
  },
  {
   "cell_type": "markdown",
   "id": "bf40f024",
   "metadata": {},
   "source": [
    "<h3><a id='step_3b'>Step 3b: The Q in VQE: the Quantum environment</a></h3>"
   ]
  },
  {
   "cell_type": "markdown",
   "id": "5f4b7dac",
   "metadata": {},
   "source": [
    "Since VQE runs on a quantum computer, it needs information about this stage. For testing purposes, this can even be a simulation, both in the form of noise-free or noisy simulations. Ultimately, we would want to run VQE an actual (albeit noisy) quantum hardware and hopefully, in the not-too-distant future, achieve results unattainable classically. For this challenge, let us pursue noise-free simulation only."
   ]
  },
  {
   "cell_type": "markdown",
   "id": "ddaf4304",
   "metadata": {
    "tags": []
   },
   "source": [
    "#### Noise-Free Simulation\n",
    "\n",
    "*To set up a noise-free simulation:*"
   ]
  },
  {
   "cell_type": "code",
   "execution_count": 14,
   "id": "a63eb72f",
   "metadata": {},
   "outputs": [],
   "source": [
    "#Fix the random seeds for reproducible results\n",
    "seed_simulator = 100\n",
    "seed_transpiler = 100\n",
    "\n",
    "noise_free_quantum_environment = QuantumInstance(Aer.get_backend('qasm_simulator'), seed_simulator=seed_simulator, seed_transpiler=seed_transpiler)"
   ]
  },
  {
   "cell_type": "markdown",
   "id": "aa62f250",
   "metadata": {},
   "source": [
    "<h3><a id='step_3c'>Step 3c: Initializing VQE</a></h3>"
   ]
  },
  {
   "cell_type": "markdown",
   "id": "19ef3684",
   "metadata": {},
   "source": [
    "Qiskit Nature provides a class called VQE, that implements the VQE algorithm. *It is initialized in a generic way (without reference to the molecule or the Hamiltonian) and requires the two pieces of information from above: the trial state and the quantum environment:*"
   ]
  },
  {
   "cell_type": "code",
   "execution_count": 15,
   "id": "88fe1466",
   "metadata": {},
   "outputs": [],
   "source": [
    "hydrogen_vqe_solver = VQE(ansatz=hydrogen_trial_state, quantum_instance=noise_free_quantum_environment)"
   ]
  },
  {
   "cell_type": "markdown",
   "id": "3b5c2042",
   "metadata": {},
   "source": [
    "(Note, the vqe solver is only tailored to hydrogen if the trial state is the hydrogen_chemistry_inspired_trial.)"
   ]
  },
  {
   "cell_type": "markdown",
   "id": "18ec5dbd",
   "metadata": {},
   "source": [
    "<h2><a id='step_4'>Step 4: Solving for the Ground-state</a></h4>"
   ]
  },
  {
   "cell_type": "markdown",
   "id": "49b73822",
   "metadata": {},
   "source": [
    "**Qiskit Nature provides a class called GroundStateEigensolver to calculate the ground-state of a molecule.**\n",
    "\n",
    "This class first gets initialised with information that is independent of any molecule. It can then be applied to specific molecules using the same generic setup.\n",
    "\n",
    "To initialise a GroundStateEigensolver object, we need to provide the two generic algorithmic sub-components from above, the mapping method (Step 2b) and the solving method (Step 3). For testing purposes, an alternative to the VQE solver is a classical solver (see numpy_solver below)."
   ]
  },
  {
   "cell_type": "code",
   "execution_count": 16,
   "id": "74baf354",
   "metadata": {},
   "outputs": [],
   "source": [
    "hydrogen_ground_state = GroundStateEigensolver(map_fermions_to_qubits, hydrogen_vqe_solver)"
   ]
  },
  {
   "cell_type": "markdown",
   "id": "fe21cd26",
   "metadata": {},
   "source": [
    "We are finally ready to solve for the ground-state energy of our molecule.\n",
    "\n",
    "We apply the GroundStateEigensolver to the fermionic Hamiltonian (Step 2a) which has encoded in it the molecule (Step 1). The already specified mapper and VQE solver is then automatically applied for us to produce the ground-state (approximation)."
   ]
  },
  {
   "cell_type": "code",
   "execution_count": 17,
   "id": "238b43eb",
   "metadata": {},
   "outputs": [
    {
     "name": "stdout",
     "output_type": "stream",
     "text": [
      "=== GROUND STATE ENERGY ===\n",
      " \n",
      "* Electronic ground state energy (Hartree): -1.857275030145\n",
      "  - computed part:      -1.857275030145\n",
      "~ Nuclear repulsion energy (Hartree): 0.719968994449\n",
      "> Total ground state energy (Hartree): -1.137306035696\n",
      " \n",
      "=== MEASURED OBSERVABLES ===\n",
      " \n",
      "  0:  # Particles: 2.000 S: 0.000 S^2: 0.000 M: -0.000\n",
      " \n",
      "=== DIPOLE MOMENTS ===\n",
      " \n",
      "~ Nuclear dipole moment (a.u.): [0.0  0.0  1.3889487]\n",
      " \n",
      "  0: \n",
      "  * Electronic dipole moment (a.u.): [0.0  0.0  1.38894854]\n",
      "    - computed part:      [0.0  0.0  1.38894854]\n",
      "  > Dipole moment (a.u.): [0.0  0.0  0.00000016]  Total: 0.00000016\n",
      "                 (debye): [0.0  0.0  0.00000039]  Total: 0.00000039\n",
      " \n"
     ]
    }
   ],
   "source": [
    "hydrogen_ground_state_info = hydrogen_ground_state.solve(hydrogen_fermionic_hamiltonian)\n",
    "\n",
    "print(hydrogen_ground_state_info)"
   ]
  },
  {
   "cell_type": "markdown",
   "id": "1b031d40",
   "metadata": {},
   "source": [
    "As you can see, we have calculated the Ground-state energy of the electron distribution: -1.85 Hartree\n",
    "\n",
    "From the placement of the nuclei, we are also conveniently given the repulsion energy (a simple classical calculation).\n",
    "\n",
    "Finally, when it comes to the ground-state of the overall molecule it is the total ground state energy that we are trying to minimise.\n",
    "\n",
    "So the next step would be to move the nuclei and recalculate the **total ground state energy** in search of the stable nuclei positions."
   ]
  },
  {
   "cell_type": "markdown",
   "id": "9cd772db",
   "metadata": {},
   "source": [
    "To end our discussion, let us compare the quantum-calculated energy to an accuracy-equivalent (but slower) classical calculation."
   ]
  },
  {
   "cell_type": "code",
   "execution_count": 18,
   "id": "837f75f8",
   "metadata": {},
   "outputs": [
    {
     "name": "stdout",
     "output_type": "stream",
     "text": [
      "Ground-state electronic energy (via classical calculations):  -1.8572750301451932 Hartree\n"
     ]
    }
   ],
   "source": [
    "#Alternative Step 3b\n",
    "numpy_solver = NumPyMinimumEigensolver()\n",
    "\n",
    "#Alternative Step 4\n",
    "ground_state_classical = GroundStateEigensolver(map_fermions_to_qubits, numpy_solver)\n",
    "hydrogen_ground_state_info_classical = ground_state_classical.solve(hydrogen_fermionic_hamiltonian)\n",
    "\n",
    "hydrogen_energy_classical = hydrogen_ground_state_info.computed_energies[0]\n",
    "print(\"Ground-state electronic energy (via classical calculations): \", hydrogen_energy_classical, \"Hartree\")"
   ]
  },
  {
   "cell_type": "markdown",
   "id": "d8e3b94c",
   "metadata": {},
   "source": [
    "The agreement to so many decimal places tells us that the VQE process is accurately finding the lowest eigenvalue of the given hamiltonian (and interestingly for $H_2$ the ansatz introduces no errors). However, when comparing to nature or very accurate classical simulations of $H_2$, we find that the energy is only accurate to two decimal places, e.g. total energy VQE: -1.137 Hartree vs highly accurate classical simulation: -1.166 Hartree, which only agrees two decimal places. The reason for this is that in our above treatment there are sources of modelling error including: the placement of nuclei and a number of approximations that come with the Hartree-Fock expansion. For $H_2$ these can be addressed, but ultimately, in general, the more tricky of these sources can never be fully handled because finding the perfect ground-state is QMA-complete, i.e. the quantum version of NP-complete (i.e. 'unsolvable' for certain hamiltonians). Then again, nature itself is not expected to be finding this perfect ground-state, so future experimention is needed to see how close a given quantum computing solution approximates nature's solution."
   ]
  },
  {
   "cell_type": "markdown",
   "id": "d305e345",
   "metadata": {
    "tags": []
   },
   "source": [
    "<div align=center class=\"alert alert-block alert-success\">\n",
    "<h1>Walk-through Finished</h1>\n",
    "</div>"
   ]
  },
  {
   "cell_type": "markdown",
   "id": "67f68b5f",
   "metadata": {},
   "source": [
    "\n",
    "***\n"
   ]
  },
  {
   "cell_type": "markdown",
   "id": "51a3a8fa",
   "metadata": {},
   "source": [
    "<div align=center class=\"alert alert-block alert-success\">\n",
    "    <h1><a id='challenge'>The HIV Challenge</a></h1>\n",
    "</div>\n",
    "\n",
    "Now that we have completed the walk-through, we frame the challenge as the task to refine steps 1-4 while answering related questions."
   ]
  },
  {
   "cell_type": "markdown",
   "id": "bd9ab721",
   "metadata": {
    "tags": []
   },
   "source": [
    "<h2><a id='refine_step_1'>1. Refining Step 1: Varying the Molecule</a></h2>\n",
    "\n",
    "In Step 1, we defined our molecule. For the challenge, we need to firstly define a new molecule, corresponding to our toy protease molecule (the *scissor*) with an approaching toy anti-retroviral (the *blocker*), forming a *macromolecule*. Secondly, we need to instruct Qiskit to vary the approach distance. Let's learn how to do the second step with the familiar hydrogen molecule."
   ]
  },
  {
   "cell_type": "markdown",
   "id": "79c7a2dd",
   "metadata": {},
   "source": [
    "*Here is how to specify the type of molecular variation we are interested in (namely, changing the approach distance in absolute steps)*:"
   ]
  },
  {
   "cell_type": "code",
   "execution_count": 19,
   "id": "2ec7406c",
   "metadata": {},
   "outputs": [],
   "source": [
    "molecular_variation = Molecule.absolute_stretching\n",
    "\n",
    "#Other types of molecular variation:\n",
    "#molecular_variation = Molecule.relative_stretching\n",
    "#molecular_variation = Molecule.absolute_bending\n",
    "#molecular_variation = Molecule.relative_bending"
   ]
  },
  {
   "cell_type": "markdown",
   "id": "4ab7b2d1",
   "metadata": {},
   "source": [
    "*Here is how we specify which atoms the variation applies to. The numbers refer to the index of the atom in the geometric definition list. The first atom of the specified atom_pair, is moved closer to the left-alone second atom:*"
   ]
  },
  {
   "cell_type": "code",
   "execution_count": 20,
   "id": "57c5fe06",
   "metadata": {},
   "outputs": [],
   "source": [
    "specific_molecular_variation = apply_variation_to_atom_pair(molecular_variation, atom_pair=(1, 0))"
   ]
  },
  {
   "cell_type": "markdown",
   "id": "1ddcac81",
   "metadata": {},
   "source": [
    "*Finally, here is how we alter the original molecular definition that you have already seen in the walk-through:*"
   ]
  },
  {
   "cell_type": "code",
   "execution_count": 21,
   "id": "dd7823ab",
   "metadata": {},
   "outputs": [],
   "source": [
    "hydrogen_molecule_stretchable = Molecule(geometry=\n",
    "                                 [['H', [0., 0., 0.]],\n",
    "                                  ['H', [0., 0., 0.735]]],\n",
    "                                  charge=0, multiplicity=1,\n",
    "                                  degrees_of_freedom=[specific_molecular_variation])"
   ]
  },
  {
   "cell_type": "markdown",
   "id": "3640e80d",
   "metadata": {},
   "source": [
    "If we wanted to test that the variation is working, we could manually specify a given amount of variation (Qiskit calls it a *perturbation*) and then see what the new geometry is:"
   ]
  },
  {
   "cell_type": "code",
   "execution_count": 22,
   "id": "d9ce5a29",
   "metadata": {},
   "outputs": [],
   "source": [
    "hydrogen_molecule_stretchable.perturbations = [0.1]"
   ]
  },
  {
   "cell_type": "markdown",
   "id": "f5e05326",
   "metadata": {},
   "source": [
    "(If the above were not specified, a perturbation of zero would be assumed, defaulting to the original geometry.)"
   ]
  },
  {
   "cell_type": "code",
   "execution_count": 23,
   "id": "76f95c95",
   "metadata": {},
   "outputs": [
    {
     "data": {
      "text/plain": [
       "[['H', [0.0, 0.0, 0.0]], ('H', [0.0, 0.0, 0.835])]"
      ]
     },
     "execution_count": 23,
     "metadata": {},
     "output_type": "execute_result"
    }
   ],
   "source": [
    "hydrogen_molecule_stretchable.geometry"
   ]
  },
  {
   "cell_type": "markdown",
   "id": "fc42a8c7",
   "metadata": {},
   "source": [
    "Notice how only the second atom of our geometry list (index 1, specified first in the atom_pair) has moved closer to the other atom by the amount we specified. When it comes time to scanning across different approach distances this is very helpfully automated by Qiskit."
   ]
  },
  {
   "cell_type": "markdown",
   "id": "2bfd15df",
   "metadata": {
    "tags": []
   },
   "source": [
    "## Specifying the Protease+Anti-retroviral Macromolecule"
   ]
  },
  {
   "cell_type": "markdown",
   "id": "f57ed84c",
   "metadata": {
    "tags": []
   },
   "source": [
    "### Protease\n",
    "A real protease molecule is made up of two polypeptide chains of around one hundred amino-acids in each chain (the two chains are folded together), with neighbouring pairs connected by the so-called *peptide-bond*.\n",
    "\n",
    "<img src=\"peptide_bond_wikipedia.png\" title=\"Amino Acid bonding\"/>\n",
    "\n",
    "For our toy protease molecule, we have decided to take inspiration from this peptide bond since it is the basic building structure holding successive amino acids in proteins together. It is one of the most important factors in determining the chemistry of proteins, including protein folding in general and the HIV protease's cleaving ability, in particular.\n",
    "\n",
    "To simplify the calculations, let us choose to focus on the O=C-N part of molecule. We keep and also add enough hydrogen atoms to try and make the molecule as realistic as possible (indeed, HCONH$_2$, Formamide, is a stable molecule, which, incidentally, is an ionic solvent, so it does \"cut\" ionic bonds).\n",
    "\n",
    "Making O=C-N our toy protease molecule is an extreme simplification, but nevertheless biologically motivated.\n",
    "\n",
    "\n",
    "Here is our toy protease:\n",
    "\n",
    "<img width=50% src=\"protease.png\"/>\n",
    "\n",
    "`\"O\":  (1.1280, 0.2091, 0.0000)\n",
    " \"N\": (-1.1878, 0.1791, 0.0000)\n",
    " \"C\": (0.0598, -0.3882, 0.0000)\n",
    " \"H\": (-1.3085, 1.1864, 0.0001)\n",
    " \"H\": (-2.0305, -0.3861, -0.0001)\n",
    " \"H\": (-0.0014, -1.4883, -0.0001)`\n",
    "\n",
    "Just for fun, you may imagine that this molecule is a pair of scissors, ready to cut the HIV master protein (Gag-Pol polyprotein), in the process of making copies of the HI virus:\n",
    "\n",
    "<img width=30% src=\"carpet_scissors_wikipedia_cropped.png\"/>"
   ]
  },
  {
   "cell_type": "markdown",
   "id": "4fa2f195",
   "metadata": {},
   "source": [
    "### Anti-retroviral\n",
    "The anti-retroviral is a molecule that binds with the protease to **inhibit/block the cleaving mechanism**. For this challenge, we select a single carbon atom to be our stand-in for the anti-retroviral molecule.\n",
    "\n",
    "<img width=10% src=\"arv.png\"/>\n",
    "\n",
    "### Macromolecule\n",
    "Even though the two molecules are separate in our minds, when they approach, they form a single macro-molecule, with the outer-electrons forming molecular orbitals around all the atoms.\n",
    "\n",
    "As explained in the walk-through, the quantum electronic distribution is calculated for fixed atom positions, thus we have to separately place the atoms. For the first and second task, let us fix the protease's co-ordinates and only vary the anti-retroviral's position along a straight line.\n",
    "\n",
    "We arbitrarily select a line of approach passing through a given point and approaching the nitrogen atom. This \"blocking\" approach tries to obstruct the scissor from cutting. If it \"sticks\", it's working and successfully disrupts the duplication efforts of the HIV.\n",
    "\n"
   ]
  },
  {
   "cell_type": "markdown",
   "id": "99c5e4d4",
   "metadata": {},
   "source": [
    "<h2><a id='exercise_3a'>Exercise 3a: Molecular Definition of Macromolecule with Blocking Approach</a></h2>\n",
    "\n",
    "Construct the molecular definition and molecular variation to represent the anti-retroviral approaching the nitrogen atom, between the \"blades\":\n",
    "<img width=50% src=\"arv_approaches_protease.png\"/>\n",
    " `\"C\": (-0.1805, 1.3955, 0.0000)`"
   ]
  },
  {
   "cell_type": "markdown",
   "id": "0a596fe3",
   "metadata": {},
   "source": [
    "## Write your answer code here:"
   ]
  },
  {
   "cell_type": "markdown",
   "id": "8fb75014",
   "metadata": {},
   "source": [
    "Create a your molecule in the cell below. Make sure to name the molecule `macromolecule`."
   ]
  },
  {
   "cell_type": "code",
   "execution_count": 24,
   "id": "58c8ca15",
   "metadata": {},
   "outputs": [],
   "source": [
    "## Add your code here\n",
    "macromolecule = None\n",
    "##"
   ]
  },
  {
   "cell_type": "markdown",
   "id": "8bcfd2f6",
   "metadata": {},
   "source": [
    "To submit your molecule to the grader, run the cell below."
   ]
  },
  {
   "cell_type": "code",
   "execution_count": 25,
   "id": "c7ea62b7",
   "metadata": {},
   "outputs": [
    {
     "name": "stdout",
     "output_type": "stream",
     "text": [
      "😢 Your answer is incorrect.\n",
      "You didn't appear to pass a `Molecule` object instance.\n"
     ]
    }
   ],
   "source": [
    "from qc_grader import grade_ex3a\n",
    "\n",
    "grade_ex3a(molecule=macromolecule)"
   ]
  },
  {
   "cell_type": "markdown",
   "id": "08700291",
   "metadata": {
    "tags": []
   },
   "source": [
    "### Memo Answer:"
   ]
  },
  {
   "cell_type": "code",
   "execution_count": 26,
   "id": "ba7965e7",
   "metadata": {},
   "outputs": [
    {
     "name": "stdout",
     "output_type": "stream",
     "text": [
      "🌟 Correct! Your macro-molecule is defined correctly!\n"
     ]
    }
   ],
   "source": [
    "specific_molecular_variation = apply_variation_to_atom_pair(\n",
    "    molecular_variation, atom_pair=(6, 1)\n",
    ")\n",
    "macromolecule_solution = Molecule(\n",
    "    geometry=[\n",
    "        [\"O\", [1.1280, 0.2091, 0.0000]],\n",
    "        [\"N\", [-1.1878, 0.1791, 0.0000]],\n",
    "        [\"C\", [0.0598, -0.3882, 0.0000]],\n",
    "        [\"H\", [-1.3085, 1.1864, 0.0001]],\n",
    "        [\"H\", [-2.0305, -0.3861, -0.0001]],\n",
    "        [\"H\", [-0.0014, -1.4883, -0.0001]],\n",
    "        [\"C\", [-0.1805, 1.3955, 0.0000]],\n",
    "    ],\n",
    "    charge=0,\n",
    "    multiplicity=1,\n",
    "    degrees_of_freedom=[specific_molecular_variation],\n",
    ")\n",
    "\n",
    "from qc_grader import grade_ex3a\n",
    "\n",
    "grade_ex3a(molecule=macromolecule_solution)"
   ]
  },
  {
   "cell_type": "markdown",
   "id": "1695bfa0",
   "metadata": {},
   "source": [
    "<h2><a id='refine_step_2'>2. Refining Step 2: Reducing the quantum workload</a></h2>"
   ]
  },
  {
   "cell_type": "markdown",
   "id": "fbb29d03",
   "metadata": {},
   "source": [
    "In Step 2, we constructed the qubit Hamiltonian. If we tried to apply Step 2 and beyond to our macromolecule above, the ground state calculation simulation would fail. The reason is because since we specified a zero charge, Qiskit knows that it must work with 30 (= 2\\*6+7+8+3\\*1) electrons. After second quantization, this translates into, say, 60 spin-orbitals which requires 60 qubits. 60 qubits is beyond our ability to simulate classically and while there are IBM Quantum systems with more than 60 qubits available, the noise levels are currently too high to produce accurate results when using that many qubits. Thus, for the purpose of this Challenge we need to reduce the number of qubits. Fortunately, this is well-motivated from a chemistry point of view as well: the classical Hartree-Fock approximation for core-electrons is sometimes sufficient to obtain accurate chemical results. Doubly fortunately, Qiskit has just recently been extended to seamlessly allow for users to specify that certain electrons should receive quantum-computing treatment while the remaining electrons should be classically approximated. Even as more qubits come on online, this facility may prove very useful in allowing near-term quantum computers to tackle very large molecules that would otherwise be out of reach."
   ]
  },
  {
   "cell_type": "markdown",
   "id": "a9c818c1",
   "metadata": {},
   "source": [
    "*Therefore, we next demonstrate how to instruct Qiskit to give a certain number of electrons quantum-computing treatment:*"
   ]
  },
  {
   "cell_type": "code",
   "execution_count": 27,
   "id": "77c28972",
   "metadata": {},
   "outputs": [],
   "source": [
    "macro_molecular_orbital_maker = PySCFDriver(molecule=macromolecule, unit=UnitsType.ANGSTROM, basis='sto3g')\n",
    "split_into_classical_and_quantum = ActiveSpaceTransformer(num_electrons=2, num_molecular_orbitals=2)\n",
    "macro_fermionic_hamiltonian = ElectronicStructureProblem(macro_molecular_orbital_maker, [split_into_classical_and_quantum])"
   ]
  },
  {
   "cell_type": "markdown",
   "id": "5706e5e8",
   "metadata": {},
   "source": [
    "Above, Qiskit provides a class called **ActiveSpaceTransformer** that takes in two arguments. The first is the number of electrons that should receive quantum-computing treatment (selected from the outermost electrons, counting inwards). The second is the number of orbitals to allow those electrons to roam over (around the so-called Fermi level). It is the second number that determines how many qubits are needed."
   ]
  },
  {
   "cell_type": "markdown",
   "id": "970d2992",
   "metadata": {},
   "source": [
    "<h2><a id='exercise_3b'>Exercise 3b: Classical-Quantum Treatment Conceptual Questions (Multiple-Choice)</a></h2>\n",
    "\n",
    "Q1: Why does giving quantum treatment to outer electrons of the macromolecule first, make more heuristic sense?\n",
    "\n",
    "`A: Outer electrons have higher binding energies and therefore swing the ground state energy more, therefore requiring quantum treatment.\n",
    "B: Outer electrons exhibit more quantum interference because their orbitals are more spread out.\n",
    "C: Inner core-electrons typically occupy orbitals more straightforwardly, because they mostly orbit a single nucleus and therefore do not lower the energy much by interacting/entangling with outer electrons.`\n",
    "\n",
    "Q2: For a fixed number of quantum-treatment electrons, as you increase the number of orbitals that those electrons roam over (have access to), does the calculated ground-state energy approach the asymptotic energy from above or below?\n",
    "\n",
    "`A: The asymptotic energy is approached from above, because as you increase the possible orbitals that the electrons have access to, the lower the ground state could be.\n",
    "B: The asymptotic energy is approached from below, because as you increase the possible orbitals the more accurate is your simulation, adding energy that was left out before.\n",
    "C: The asymptotic energy is approached from below, because as you increase the possible orbitals that the electrons have access to, the lower the ground state could be.\n",
    "D: The asymptotic energy is approached from above, because as you increase the possible orbitals the more accurate is your simulation, adding energy that was left out before.`"
   ]
  },
  {
   "cell_type": "markdown",
   "id": "11f430fb",
   "metadata": {},
   "source": [
    "**Uncomment your answers to these multiple choice questions in the code-cell below. Run the cell to submit your answers.**"
   ]
  },
  {
   "cell_type": "code",
   "execution_count": 28,
   "id": "e745078d",
   "metadata": {},
   "outputs": [
    {
     "name": "stdout",
     "output_type": "stream",
     "text": [
      "😢 Your answer is incorrect.\n",
      "Message from grader: Your Q1 answer is incorrect\n"
     ]
    }
   ],
   "source": [
    "from qc_grader import grade_ex3b\n",
    "\n",
    "## Q1\n",
    "# answer_for_ex3b_q1 = 'A'\n",
    "# answer_for_ex3b_q1 = 'B'\n",
    "# answer_for_ex3b_q1 = 'C'\n",
    "##\n",
    "answer_for_ex3b_q1 = ''\n",
    "## Q2\n",
    "# answer_for_ex3b_q2 = 'A'\n",
    "# answer_for_ex3b_q2 = 'B'\n",
    "# answer_for_ex3b_q2 = 'C'\n",
    "# answer_for_ex3b_q2 = 'D'\n",
    "##\n",
    "answer_for_ex3b_q2 = ''\n",
    "\n",
    "grade_ex3b(answer_for_ex3b_q1, answer_for_ex3b_q2)"
   ]
  },
  {
   "cell_type": "markdown",
   "id": "70e46af7",
   "metadata": {},
   "source": [
    "### Memo Answer\n",
    "Q1: C\n",
    "\n",
    "Q2: A"
   ]
  },
  {
   "cell_type": "code",
   "execution_count": 29,
   "id": "2855264c",
   "metadata": {},
   "outputs": [
    {
     "name": "stdout",
     "output_type": "stream",
     "text": [
      "🌟 Correct! Your answers to the two questions are right!\n"
     ]
    }
   ],
   "source": [
    "from qc_grader import grade_ex3b\n",
    "\n",
    "## Q1\n",
    "answer_for_ex3b_q1 = 'C'\n",
    "\n",
    "## Q2\n",
    "answer_for_ex3b_q2 = 'A'\n",
    "\n",
    "grade_ex3b(answer_for_ex3b_q1, answer_for_ex3b_q2)"
   ]
  },
  {
   "cell_type": "markdown",
   "id": "0bb32012",
   "metadata": {},
   "source": [
    "<h2><a id='refine_step_4'>3. Refining Step 4: Energy Surface</a></h2>"
   ]
  },
  {
   "cell_type": "markdown",
   "id": "1d07692a",
   "metadata": {},
   "source": [
    "In Step 4, we ran the ground_state solver on a given molecule once only and we haven't yet explained how to instruct Qiskit to vary the molecular geometry using the specification introduced above. As explained in the introduction, changing the nuclei positions and comparing the total energy levels, is a method for finding the nuclei arrangement with the lowest energy. If the lowest energy is **not** at \"infinity\", this corresponds to a \"stable\" bound state of the molecule at the energy minimum. The energy as a function of atomic separation is thus a crucial object of study. This function is called the **Born-Oppenheimer Potential Energy Surface (BOPES)**. Qiskit provides a helpful python Class that manages this process of varying the geometry and repeatedly calling the ground_state solver: **BOPESSampler**.\n",
    "\n",
    "Let's demonstrate BOPESSampler for the hydrogen molecule.\n",
    "\n",
    "*The only steps of the hydrogen molecule walk-through that need to be re-run are Steps 1 and 2a:*"
   ]
  },
  {
   "cell_type": "code",
   "execution_count": 30,
   "id": "9fec6daa",
   "metadata": {},
   "outputs": [],
   "source": [
    "hydrogen_stretchable_molecular_orbital_maker = PySCFDriver(molecule=hydrogen_molecule_stretchable, unit=UnitsType.ANGSTROM, basis='sto3g')\n",
    "hydrogen_stretchable_fermionic_hamiltonian = ElectronicStructureProblem(hydrogen_stretchable_molecular_orbital_maker)"
   ]
  },
  {
   "cell_type": "markdown",
   "id": "bc4fbfd7",
   "metadata": {},
   "source": [
    "*Secondly, here is how to call the sampler:*"
   ]
  },
  {
   "cell_type": "code",
   "execution_count": 31,
   "id": "0d9bcd10",
   "metadata": {},
   "outputs": [],
   "source": [
    "energy_surface = BOPESSampler(gss=hydrogen_ground_state, bootstrap=False) # same solver suffices, since the trial is the same\n",
    "perturbation_steps = np.linspace(-0.5, 2, 25) # 25 equally spaced points from -0.5 to 2, inclusive.\n",
    "\n",
    "energy_surface_result = energy_surface.sample(hydrogen_stretchable_fermionic_hamiltonian, perturbation_steps)"
   ]
  },
  {
   "cell_type": "markdown",
   "id": "8a1fc171",
   "metadata": {},
   "source": [
    "*Thirdly, here is how to produce the famous energy landscape plot:*"
   ]
  },
  {
   "cell_type": "code",
   "execution_count": 32,
   "id": "f2586481",
   "metadata": {},
   "outputs": [
    {
     "data": {
      "image/png": "[encoded data removed]",
      "text/plain": [
       "<Figure size 432x288 with 1 Axes>"
      ]
     },
     "metadata": {
      "needs_background": "light"
     },
     "output_type": "display_data"
    }
   ],
   "source": [
    "def plot_energy_landscape(energy_surface_result):\n",
    "    if len(energy_surface_result.points) > 1:\n",
    "        plt.plot(energy_surface_result.points, energy_surface_result.energies, label=\"VQE Energy\")\n",
    "        plt.xlabel('Atomic distance Deviation(Angstrom)')\n",
    "        plt.ylabel('Energy (hartree)')\n",
    "        plt.legend()\n",
    "        plt.show()\n",
    "    else:\n",
    "        print(\"Total Energy is: \", energy_surface_result.energies[0], \"hartree\")\n",
    "        print(\"(No need to plot, only one configuration calculated.)\")\n",
    "    \n",
    "plot_energy_landscape(energy_surface_result)"
   ]
  },
  {
   "cell_type": "markdown",
   "id": "820f64b4",
   "metadata": {},
   "source": [
    "For extra intuition, you may think of the energy landscape as a mountain, next to a valley, next to a plateau that a ball rolls on (the x co-ordinate of the ball corresponds the separation between the two hydrogen atoms). If the ball is not rolling too fast down the plateau (right to left) it may settle in the valley. The ball slowly rolls down the plateau because the slope is positive (representing a force of attraction between the two hydrogen atoms). If the ball overshoots the minimum point of the valley, it meets the steep negative slope of the mountain and quickly rolls back (the hydrogen atoms repell each other).\n",
    "\n",
    "Notice the minimum is at zero. This is because we defined the hydrogen molecule's nuclei positions at the known ground state positions.\n",
    "\n",
    "By the way, if we had used the hardware_inspired_trial we would have produced a similiar plot, however it would have had bumps because the anzatz does not capture the electronic ground state equally well at different bond lengths."
   ]
  },
  {
   "cell_type": "markdown",
   "id": "66aae076",
   "metadata": {},
   "source": [
    "<h2><a id='exercise_3c'>Exercise 3c: Energy Landscape, To bind or not to bind?</a></h2>\n",
    "\n",
    "The million-dollar question: Does our toy anti-retrovial bind and thus block the protease?\n",
    "\n",
    " - Search for the minimum from -0.5 to 5 for 30 points.\n",
    " - Give quantum-computing treatment to 2 electrons roaming over 2 orbitals\n",
    "\n",
    "Q1. Submit the energy landscape for the anti-retroviral approaching the protease.\n",
    "\n",
    "Q2. Is there a clear minimum at a finite separation? Does binding occur?\n",
    "\n",
    "`A. Yes, there is a clear minimum at 0, so binding does occur.\n",
    "B. Yes, there is a clear minimum at infinity, so binding only happens at infinity.\n",
    "C. No, there is no clear minimum for any separation, so binding occurs because there is no seperation.\n",
    "D. No, there is no clear minimum for any separation, so there is no binding.`\n",
    "\n",
    "(Don't preempt the answer. Furthermore, the answer might change for other approaches and other settings, so please stick to the requested settings.)"
   ]
  },
  {
   "cell_type": "markdown",
   "id": "8c8ad577",
   "metadata": {},
   "source": [
    "*Feel free to use the following function, which collects the entire walk-through and refinements to Step 2 and 4. It takes in a Molecule (of refinement Step 1 type), the inputs for the other refinements and boolean choice of whether to use VQE or the numpy solver:*"
   ]
  },
  {
   "cell_type": "code",
   "execution_count": 33,
   "id": "f482e3ab",
   "metadata": {},
   "outputs": [],
   "source": [
    "def construct_hamiltonian_solve_ground_state(\n",
    "    molecule,\n",
    "    num_electrons=2,\n",
    "    num_molecular_orbitals=2,\n",
    "    chemistry_inspired=True,\n",
    "    hardware_inspired_trial=None,\n",
    "    vqe=True,\n",
    "    perturbation_steps=np.linspace(-1, 1, 3),\n",
    "):\n",
    "    \"\"\"Creates fermionic hamiltonion and solves for the energy surface.\n",
    "\n",
    "    Args:\n",
    "        molecule (Union[qiskit_nature.drivers.molecule.Molecule, NoneType]): The molecule to simulate.\n",
    "        num_electrons (int, optional): Number of electrons for the `ActiveSpaceTransformer`. Defaults to 2.\n",
    "        num_molecular_orbitals (int, optional): Number of electron orbitals for the `ActiveSpaceTransformer`. Defaults to 2.\n",
    "        chemistry_inspired (bool, optional): Whether to create a chemistry inspired trial state. `hardware_inspired_trial` must be `None` when used. Defaults to True.\n",
    "        hardware_inspired_trial (QuantumCircuit, optional): The hardware inspired trial state to use. `chemistry_inspired` must be False when used. Defaults to None.\n",
    "        vqe (bool, optional): Whether to use VQE to calculate the energy surface. Uses `NumPyMinimumEigensolver if False. Defaults to True.\n",
    "        perturbation_steps (Union(list,numpy.ndarray), optional): The points along the degrees of freedom to evaluate, in this case a distance in angstroms. Defaults to np.linspace(-1, 1, 3).\n",
    "\n",
    "    Raises:\n",
    "        RuntimeError: `chemistry_inspired` and `hardware_inspired_trial` cannot be used together. Either `chemistry_inspired` is False or `hardware_inspired_trial` is `None`.\n",
    "\n",
    "    Returns:\n",
    "        qiskit_nature.results.BOPESSamplerResult: The surface energy as a BOPESSamplerResult object.\n",
    "    \"\"\"\n",
    "    # Verify that `chemistry_inspired` and `hardware_inspired_trial` do not conflict\n",
    "    if chemistry_inspired and hardware_inspired_trial is not None:\n",
    "        raise RuntimeError(\n",
    "            (\n",
    "                \"chemistry_inspired and hardware_inspired_trial\"\n",
    "                \" cannot both be set. Either chemistry_inspired\"\n",
    "                \" must be False or hardware_inspired_trial must be none.\"\n",
    "            )\n",
    "        )\n",
    "\n",
    "    # Step 1 including refinement, passed in\n",
    "\n",
    "    # Step 2a\n",
    "    molecular_orbital_maker = PySCFDriver(\n",
    "        molecule=molecule, unit=UnitsType.ANGSTROM, basis=\"sto3g\"\n",
    "    )\n",
    "\n",
    "    # Refinement to Step 2a\n",
    "    split_into_classical_and_quantum = ActiveSpaceTransformer(\n",
    "        num_electrons=num_electrons, num_molecular_orbitals=num_molecular_orbitals\n",
    "    )\n",
    "\n",
    "    fermionic_hamiltonian = ElectronicStructureProblem(\n",
    "        molecular_orbital_maker, [split_into_classical_and_quantum]\n",
    "    )\n",
    "    fermionic_hamiltonian.second_q_ops()\n",
    "\n",
    "    # Step 2b\n",
    "    map_fermions_to_qubits = QubitConverter(JordanWignerMapper())\n",
    "\n",
    "    # Step 3a\n",
    "    if chemistry_inspired:\n",
    "        molecule_info = fermionic_hamiltonian.molecule_data_transformed\n",
    "        num_molecular_orbitals = molecule_info.num_molecular_orbitals\n",
    "        num_spin_orbitals = 2 * num_molecular_orbitals\n",
    "        num_electrons_spin_up_spin_down = (\n",
    "            molecule_info.num_alpha,\n",
    "            molecule_info.num_beta,\n",
    "        )\n",
    "        initial_state = HartreeFock(\n",
    "            num_spin_orbitals, num_electrons_spin_up_spin_down, map_fermions_to_qubits\n",
    "        )\n",
    "\n",
    "        chemistry_inspired_trial = UCCSD(\n",
    "            map_fermions_to_qubits,\n",
    "            num_electrons_spin_up_spin_down,\n",
    "            num_spin_orbitals,\n",
    "            initial_state=initial_state,\n",
    "        )\n",
    "\n",
    "        trial_state = chemistry_inspired_trial\n",
    "    else:\n",
    "        if hardware_inspired_trial is None:\n",
    "            hardware_inspired_trial = TwoLocal(\n",
    "                rotation_blocks=[\"ry\"],\n",
    "                entanglement_blocks=\"cz\",\n",
    "                entanglement=\"linear\",\n",
    "                reps=2,\n",
    "            )\n",
    "\n",
    "        trial_state = hardware_inspired_trial\n",
    "\n",
    "    # Step 3b and alternative\n",
    "    if vqe:\n",
    "        \n",
    "        seed_simulator = 100\n",
    "        seed_transpiler = 100\n",
    "        noise_free_quantum_environment = QuantumInstance(Aer.get_backend('qasm_simulator'), seed_simulator=seed_simulator, seed_transpiler=seed_transpiler)\n",
    "        \n",
    "        solver = VQE(ansatz=trial_state, quantum_instance=noise_free_quantum_environment)\n",
    "    else:\n",
    "        solver = NumPyMinimumEigensolver()\n",
    "\n",
    "    # Step 4 and alternative\n",
    "    ground_state = GroundStateEigensolver(map_fermions_to_qubits, solver)\n",
    "\n",
    "    # Refinement to Step 4\n",
    "    energy_surface = BOPESSampler(gss=ground_state, bootstrap=False)\n",
    "    energy_surface_result = energy_surface.sample(\n",
    "        fermionic_hamiltonian, perturbation_steps\n",
    "    )\n",
    "\n",
    "    return energy_surface_result"
   ]
  },
  {
   "cell_type": "markdown",
   "id": "eaeca112",
   "metadata": {},
   "source": [
    "### Your answer"
   ]
  },
  {
   "cell_type": "code",
   "execution_count": null,
   "id": "da2660b0",
   "metadata": {},
   "outputs": [],
   "source": []
  },
  {
   "cell_type": "markdown",
   "id": "0502e7a3",
   "metadata": {},
   "source": [
    "The following code cells give a skeleton to call `construct_hamiltonian_solve_ground_state` and plot the results. Once you are confident with your results, submit them in the code-cell that follows.\n",
    "\n",
    "**Note: `construct_hamiltonian_solve_ground_state` will take some time to run (approximately 2 minutes). Do not worry if it doesn't return a result immediately.**"
   ]
  },
  {
   "cell_type": "code",
   "execution_count": 34,
   "id": "6dda17b8",
   "metadata": {},
   "outputs": [],
   "source": [
    "# Q1\n",
    "\n",
    "# Calculate the energies\n",
    "#q1_energy_surface_result = construct_hamiltonian_solve_ground_state(\n",
    "#    molecule=None,\n",
    "#    num_electrons=None,\n",
    "#    num_molecular_orbitals=None,\n",
    "#    chemistry_inspired=None,\n",
    "#    vqe=None,\n",
    "#    perturbation_steps=None,\n",
    "#)"
   ]
  },
  {
   "cell_type": "code",
   "execution_count": 35,
   "id": "6c6c95e0",
   "metadata": {},
   "outputs": [],
   "source": [
    "# Plot the energies to visualize the results\n",
    "# plot_energy_landscape(energy_surface_result)"
   ]
  },
  {
   "cell_type": "code",
   "execution_count": 36,
   "id": "f45d1e10",
   "metadata": {},
   "outputs": [],
   "source": [
    "## Q2\n",
    "# answer_for_ex3c_q2 = 'A'\n",
    "# answer_for_ex3c_q2 = 'B'\n",
    "# answer_for_ex3c_q2 = 'C'\n",
    "# answer_for_ex3c_q2 = 'D'\n",
    "answer_for_ex3c_q2 = ''"
   ]
  },
  {
   "cell_type": "markdown",
   "id": "8f65c9ca",
   "metadata": {},
   "source": [
    "Once you are happy with the results you have acquired, submit the energies and parameters for `construct_hamiltonian_solve_ground_state` in the following cell. Change the values for all parameters, except `energy_surface`, to have the same value that you used in your call of `construct_hamiltonian_solve_ground_state`"
   ]
  },
  {
   "cell_type": "code",
   "execution_count": 37,
   "id": "5d3e2d70",
   "metadata": {},
   "outputs": [
    {
     "name": "stdout",
     "output_type": "stream",
     "text": [
      "😢 Your answer is incorrect.\n",
      "Message from grader: You didn't appear to pass a `Molecule` object instance.\n"
     ]
    }
   ],
   "source": [
    "from qc_grader import grade_ex3c\n",
    "\n",
    "grade_ex3c(\n",
    "    energy_surface=None, #q1_energy_surface_result.energies,\n",
    "    molecule=None,\n",
    "    num_electrons=None,\n",
    "    num_molecular_orbitals=None,\n",
    "    chemistry_inspired=None,\n",
    "    hardware_inspired_trial=None,\n",
    "    vqe=None,\n",
    "    perturbation_steps=None,\n",
    "    q2_multiple_choice=answer_for_ex3c_q2\n",
    ")"
   ]
  },
  {
   "cell_type": "markdown",
   "id": "88cc39f5",
   "metadata": {},
   "source": [
    "### Memo Answer"
   ]
  },
  {
   "cell_type": "code",
   "execution_count": 38,
   "id": "239c78f1",
   "metadata": {},
   "outputs": [
    {
     "name": "stdout",
     "output_type": "stream",
     "text": [
      "CPU times: user 7min 49s, sys: 55.2 s, total: 8min 44s\n",
      "Wall time: 1min 22s\n"
     ]
    }
   ],
   "source": [
    "%%time\n",
    "energy_surface_result = construct_hamiltonian_solve_ground_state(\n",
    "                                molecule=macromolecule_solution,                   # Step 1\n",
    "                                num_electrons=2,                                   # Step 2a\n",
    "                                num_molecular_orbitals=2,                          # Step 2a\n",
    "                                chemistry_inspired=True,                           # Step 3a\n",
    "                                vqe=True,                                          # Step 3b\n",
    "                                perturbation_steps = np.linspace(-0.5, 5, 30))     # Step 4"
   ]
  },
  {
   "cell_type": "code",
   "execution_count": 39,
   "id": "77e6a294",
   "metadata": {},
   "outputs": [
    {
     "data": {
      "image/png": "[encoded data removed]",
      "text/plain": [
       "<Figure size 432x288 with 1 Axes>"
      ]
     },
     "metadata": {
      "needs_background": "light"
     },
     "output_type": "display_data"
    }
   ],
   "source": [
    "plot_energy_landscape(energy_surface_result)"
   ]
  },
  {
   "cell_type": "markdown",
   "id": "11cebec9",
   "metadata": {},
   "source": [
    "<div class=\"alert alert-block alert-danger\">\n",
    "Sadly, there is no clear minimum. Therefore, for this approach, the anti-retroviral does not bind with the protease and more research is required. Therefore:\n",
    "</div>"
   ]
  },
  {
   "cell_type": "code",
   "execution_count": 40,
   "id": "d70de464",
   "metadata": {},
   "outputs": [],
   "source": [
    "answer_for_ex3c_q2 = 'D'"
   ]
  },
  {
   "cell_type": "code",
   "execution_count": 41,
   "id": "c0a475bd",
   "metadata": {},
   "outputs": [
    {
     "name": "stdout",
     "output_type": "stream",
     "text": [
      "🌟 Correct! Your energy results and function parameters are correct!\n"
     ]
    }
   ],
   "source": [
    "from qc_grader import grade_ex3c\n",
    "\n",
    "# Change the values for all parameters except `energy_surface`.\n",
    "\n",
    "grade_ex3c(\n",
    "    energy_surface=energy_surface_result.energies,\n",
    "    molecule=macromolecule_solution,\n",
    "    num_electrons=2,\n",
    "    num_molecular_orbitals=2,\n",
    "    chemistry_inspired=True,\n",
    "    hardware_inspired_trial=False,\n",
    "    vqe=True,\n",
    "    perturbation_steps=np.linspace(-0.5, 5, 30),\n",
    "    q2_multiple_choice=answer_for_ex3c_q2\n",
    ")"
   ]
  },
  {
   "cell_type": "markdown",
   "id": "3d133570",
   "metadata": {},
   "source": [
    "The `%%time` keyword times `construct_hamiltonian_solve_ground_state`.\n",
    "(1 min on an Intel i7-8565U with 16GB of RAM, running Linux). A warning about the timing is included in a cell above."
   ]
  },
  {
   "cell_type": "markdown",
   "id": "2b9500d6",
   "metadata": {},
   "source": [
    "<h2><a id='refine_step_3a'>4. Refining Step 3a</a></h2>"
   ]
  },
  {
   "cell_type": "markdown",
   "id": "7ad9f2f9",
   "metadata": {},
   "source": [
    "The last refinement is a lesson in how black-box tweaking can improve results.\n",
    "\n",
    "In Step 3a, the hardware_inspired_trial is designed to run on actual current-day hardware. Recall this line from the walk-through:"
   ]
  },
  {
   "cell_type": "code",
   "execution_count": 42,
   "id": "bb6d4ed0",
   "metadata": {},
   "outputs": [],
   "source": [
    "hardware_inspired_trial = TwoLocal(rotation_blocks = ['ry'], entanglement_blocks = 'cz',\n",
    "                                   entanglement='linear', reps=2)"
   ]
  },
  {
   "cell_type": "markdown",
   "id": "90e2c58b",
   "metadata": {},
   "source": [
    "Let us get a feel for the `reps` (repetition) parameter. This parameter controls how many rounds of mix and rotate are applied in the trial state. In more detail: there is an initial round of rotations, before mix (often containing no parameters) and another round of rotations are repeated. Certain gates don't generate parameters (e.g. `h`, `cz`). Each round of rotations adds an extra set of parameters that the classical optimizer adjusts in the search for the ground state.\n",
    "\n",
    "Let's relook at the simple hydrogen molecule and compute the \"ideal\" lowest energy electronic energy using the chemistry trial, the numpy solver and a single zero perturbation (i.e., no perturbations):"
   ]
  },
  {
   "cell_type": "code",
   "execution_count": 43,
   "id": "150518f4",
   "metadata": {},
   "outputs": [
    {
     "name": "stdout",
     "output_type": "stream",
     "text": [
      "Total Energy is:  -1.137306035753404 hartree\n",
      "(No need to plot, only one configuration calculated.)\n"
     ]
    }
   ],
   "source": [
    "true_total_energy = construct_hamiltonian_solve_ground_state(\n",
    "                                molecule=hydrogen_molecule_stretchable,  # Step 1\n",
    "                                num_electrons=2,                         # Step 2a\n",
    "                                num_molecular_orbitals=2,                # Step 2a\n",
    "                                chemistry_inspired=True,                 # Step 3a\n",
    "                                vqe=False,                               # Step 3b\n",
    "                                perturbation_steps = [0])                # Step 4\n",
    "plot_energy_landscape(true_total_energy)"
   ]
  },
  {
   "cell_type": "markdown",
   "id": "99e78a74",
   "metadata": {},
   "source": [
    "We take this as the true value for the rest of our experiment.\n",
    "\n",
    "*Next, select `chemistry_inspired=False`, `vqe=True` and pass in a hardware trial with 1 round*:"
   ]
  },
  {
   "cell_type": "code",
   "execution_count": 44,
   "id": "180d2ea6",
   "metadata": {},
   "outputs": [
    {
     "name": "stdout",
     "output_type": "stream",
     "text": [
      "Total Energy is:  -1.1169983625115085 hartree\n",
      "(No need to plot, only one configuration calculated.)\n"
     ]
    }
   ],
   "source": [
    "hardware_inspired_trial = TwoLocal(rotation_blocks = ['ry'], entanglement_blocks = 'cz',\n",
    "                                   entanglement='linear', reps=1)\n",
    "\n",
    "quantum_calc_total_energy = construct_hamiltonian_solve_ground_state(\n",
    "                                molecule=hydrogen_molecule_stretchable,           # Step 1\n",
    "                                num_electrons=2,                                  # Step 2a\n",
    "                                num_molecular_orbitals=2,                         # Step 2a\n",
    "                                chemistry_inspired=False,                         # Step 3a\n",
    "                                hardware_inspired_trial=hardware_inspired_trial,  # Step 3a\n",
    "                                vqe=True,                                         # Step 3b\n",
    "                                perturbation_steps = [0])                         # Step 4\n",
    "plot_energy_landscape(quantum_calc_total_energy)"
   ]
  },
  {
   "cell_type": "markdown",
   "id": "bd901827",
   "metadata": {},
   "source": [
    "*Notice the difference is small and positive:*\n"
   ]
  },
  {
   "cell_type": "code",
   "execution_count": 45,
   "id": "d8fad5fc",
   "metadata": {},
   "outputs": [
    {
     "data": {
      "text/plain": [
       "0.02030767324189542"
      ]
     },
     "execution_count": 45,
     "metadata": {},
     "output_type": "execute_result"
    }
   ],
   "source": [
    "quantum_calc_total_energy.energies[0] - true_total_energy.energies[0]"
   ]
  },
  {
   "cell_type": "markdown",
   "id": "419a6963",
   "metadata": {},
   "source": [
    "*Let's see how many parameters are used to specify the trial state:*"
   ]
  },
  {
   "cell_type": "code",
   "execution_count": 46,
   "id": "025442ba",
   "metadata": {},
   "outputs": [
    {
     "name": "stdout",
     "output_type": "stream",
     "text": [
      "Total number of adjustable parameters:  8\n"
     ]
    }
   ],
   "source": [
    "total_number_of_parameters = len(hardware_inspired_trial._ordered_parameters)\n",
    "print(\"Total number of adjustable parameters: \", total_number_of_parameters)"
   ]
  },
  {
   "cell_type": "markdown",
   "id": "ce384845",
   "metadata": {},
   "source": [
    "<h2><a id='exercise_3d'>Exercise 3d: The effect of more repetitions</a></h2>"
   ]
  },
  {
   "cell_type": "markdown",
   "id": "95bf928e",
   "metadata": {},
   "source": [
    "Q1: Try reps equal to 1 (done for you) and 2 and compare the errors. What happens to the error? Does it increase, decrease, or stay the same?\n",
    "Be aware that:\n",
    " - VQE is a statistical algorithm, so run it a few times before observing the pattern.\n",
    " - Going beyond 2 may not continue the pattern.\n",
    " - Note that `reps` is defined in `TwoLocal`\n",
    "\n",
    "Q2: Check the total number of parameters for reps equal 1 and 2. How many parameters are introduced per round of rotations?"
   ]
  },
  {
   "cell_type": "markdown",
   "id": "2fc6d83c",
   "metadata": {},
   "source": [
    "## Write your answer here:"
   ]
  },
  {
   "cell_type": "markdown",
   "id": "901ddd8f",
   "metadata": {},
   "source": [
    "**Enter your answer to the first multiple choice question in the code-cell below and add your answer for Q2. Run the cell to submit your answers.**"
   ]
  },
  {
   "cell_type": "code",
   "execution_count": 47,
   "id": "c8a8f056",
   "metadata": {},
   "outputs": [
    {
     "name": "stdout",
     "output_type": "stream",
     "text": [
      "😢 Your answer is incorrect.\n",
      "Message from grader: Your Q1 answer is incorrect\n"
     ]
    }
   ],
   "source": [
    "from qc_grader import grade_ex3d\n",
    "\n",
    "## Q1\n",
    "# answer_for_ex3d_q1 = 'decreases'\n",
    "# answer_for_ex3d_q1 = 'increases'\n",
    "# answer_for_ex3d_q1 = 'stays the same'\n",
    "##\n",
    "answer_for_ex3d_q1 = ''\n",
    "\n",
    "## Q2\n",
    "answer_for_ex3d_q2 = 0\n",
    "##\n",
    "\n",
    "grade_ex3d(answer_for_ex3d_q1, answer_for_ex3d_q2)"
   ]
  },
  {
   "cell_type": "markdown",
   "id": "47a26870",
   "metadata": {},
   "source": [
    "### Memo Answer\n"
   ]
  },
  {
   "cell_type": "code",
   "execution_count": 48,
   "id": "8d374ff4",
   "metadata": {},
   "outputs": [
    {
     "name": "stdout",
     "output_type": "stream",
     "text": [
      "🌟 Correct! Your answers to the two questions are right!\n"
     ]
    }
   ],
   "source": [
    "from qc_grader import grade_ex3d\n",
    "\n",
    "## Q1\n",
    "answer_for_ex3d_q1 = 'decreases'\n",
    "# answer_for_ex3d_q1 = 'increases'\n",
    "# answer_for_ex3d_q1 = 'stays the same'\n",
    "##\n",
    "\n",
    "## Q2\n",
    "answer_for_ex3d_q2 = 4\n",
    "##\n",
    "\n",
    "grade_ex3d(answer_for_ex3d_q1, answer_for_ex3d_q2)"
   ]
  },
  {
   "cell_type": "markdown",
   "id": "21617134",
   "metadata": {},
   "source": [
    "Q1: The error drops. (Incidently, going beyond three reps, the error plateaus or even oscillates. This is due to the simplicity of the molecule and therefore, the small size of the Hilbert space)."
   ]
  },
  {
   "cell_type": "code",
   "execution_count": 49,
   "id": "66bc8022",
   "metadata": {},
   "outputs": [],
   "source": [
    "energy_error = []\n",
    "try_reps = range(1, 3)\n",
    "for reps in try_reps:\n",
    "\n",
    "    hardware_inspired_trial = TwoLocal(rotation_blocks = ['ry'], entanglement_blocks = 'cz',\n",
    "                                       entanglement='linear', reps=reps)\n",
    "\n",
    "    energy_error.append(construct_hamiltonian_solve_ground_state(\n",
    "                                    molecule=hydrogen_molecule_stretchable,           # Step 1\n",
    "                                    num_electrons=2,                                  # Step 2a\n",
    "                                    num_molecular_orbitals=2,                         # Step 2a\n",
    "                                    chemistry_inspired=False,                         # Step 3a\n",
    "                                    hardware_inspired_trial=hardware_inspired_trial,  # Step 3a\n",
    "                                    vqe=True,                                         # Step 3b\n",
    "                                    perturbation_steps = [0]).energies[0] - true_total_energy.energies[0])  # Step 4"
   ]
  },
  {
   "cell_type": "code",
   "execution_count": 50,
   "id": "6086bd2c",
   "metadata": {},
   "outputs": [
    {
     "data": {
      "image/png": "[encoded data removed]",
      "text/plain": [
       "<Figure size 432x288 with 1 Axes>"
      ]
     },
     "metadata": {
      "needs_background": "light"
     },
     "output_type": "display_data"
    }
   ],
   "source": [
    "plt.plot(try_reps, energy_error)\n",
    "plt.title(\"Log Energy Error\")\n",
    "plt.semilogy()\n",
    "plt.xlabel('Number of repetitions')\n",
    "plt.xticks(try_reps)\n",
    "plt.ylabel('Energy Error (hartree)')\n",
    "plt.show()"
   ]
  },
  {
   "cell_type": "markdown",
   "id": "6bc5e68d",
   "metadata": {},
   "source": [
    "Q2: The number of parameters increases. For reps = 1, there are two rounds of rotations and 8 parameters. For reps = 2 there are three rounds of rotations and 12 parameters. Therefore there are 4 parameters per round. There is a rotation for each qubit (four qubits) and there are two qubits for each orbital (two)."
   ]
  },
  {
   "cell_type": "code",
   "execution_count": 51,
   "id": "66bb2104",
   "metadata": {},
   "outputs": [
    {
     "data": {
      "text/plain": [
       "12"
      ]
     },
     "execution_count": 51,
     "metadata": {},
     "output_type": "execute_result"
    }
   ],
   "source": [
    "len(hardware_inspired_trial._ordered_parameters)"
   ]
  },
  {
   "cell_type": "markdown",
   "id": "69a30466",
   "metadata": {
    "tags": []
   },
   "source": [
    "<h2><a id='exercise_3e'>Exercise 3e: Open-ended: Find the best hardware_inspired_trial to minimize the Energy Error for the Macromolecule</a></h2>"
   ]
  },
  {
   "cell_type": "markdown",
   "id": "e1ad16dd",
   "metadata": {},
   "source": [
    "Turning to the macromolecule again. Using, `chemistry_inspired=False`, `vqe=True`, `perturbation_steps = [0]`, a maximum of 8 qubits, and your own hardware_inspired_trial with any combination of options from the walk-through; find the lowest energy. Your answer to this exercise includes all parameters passed to `construct_hamiltonian_solve_ground_state` and the result object it returns. This exercise is scored based on how close your computed energy $E_{computed}$ is to the \"true\" minimum energy of the macromolecule $E_{true}$. This score is calculated as shown below, rounded to the nearest integer."
   ]
  },
  {
   "cell_type": "markdown",
   "id": "e3c609e1",
   "metadata": {},
   "source": [
    "$$\\text{score} = -10 \\times \\log_{10}{\\left(\\left\\lvert{\\frac{E_{true} - E_{computed}}{E_{true}}}\\right\\rvert\\right)}$$"
   ]
  },
  {
   "cell_type": "markdown",
   "id": "e87535fb",
   "metadata": {},
   "source": [
    "Achieving a smaller error in your computed energy will increase your score. For example, if the true energy is -42.141 and you compute -40.0, you would have a score of 13. Use the following code cell to trial different `hardware_inspired_trial`s."
   ]
  },
  {
   "cell_type": "code",
   "execution_count": 52,
   "id": "fe495d32",
   "metadata": {},
   "outputs": [],
   "source": [
    "# Modify the following variables\n",
    "#num_electrons =\n",
    "#num_molecular_orbitals =\n",
    "#hardware_inspired_trial =\n",
    "#\n",
    "\n",
    "#computed_macromolecule_energy_result = construct_hamiltonian_solve_ground_state(\n",
    "#    molecule=macromolecule,\n",
    "#    num_electrons=num_electrons,\n",
    "#    num_molecular_orbitals=num_molecular_orbitals,\n",
    "#    chemistry_inspired=False,\n",
    "#    hardware_inspired_trial=hardware_inspired_trial,\n",
    "#    vqe=True,\n",
    "#    perturbation_steps=[0],\n",
    "#)"
   ]
  },
  {
   "cell_type": "markdown",
   "id": "6c017a73",
   "metadata": {},
   "source": [
    "Once you are ready to submit your answer, run the following code cell to have your computed energy scored. You can submit multiple times."
   ]
  },
  {
   "cell_type": "code",
   "execution_count": 53,
   "id": "aab9c236",
   "metadata": {},
   "outputs": [],
   "source": [
    "#from qc_grader import grade_ex3e\n",
    "\n",
    "#grade_ex3e(\n",
    "#    energy_surface_result=computed_macromolecule_energy_result,\n",
    "#    molecule=macromolecule,\n",
    "#    num_electrons=num_electrons,\n",
    "#    num_molecular_orbitals=num_molecular_orbitals,\n",
    "#    chemistry_inspired=False,\n",
    "#    hardware_inspired_trial=hardware_inspired_trial,\n",
    "#    vqe=True,\n",
    "#    perturbation_steps=[0],\n",
    "#)"
   ]
  },
  {
   "cell_type": "markdown",
   "id": "b1e42284",
   "metadata": {},
   "source": [
    "### MEMO"
   ]
  },
  {
   "cell_type": "code",
   "execution_count": 54,
   "id": "6366ef78",
   "metadata": {},
   "outputs": [],
   "source": [
    "# Modify the following variables\n",
    "num_electrons = 2\n",
    "num_molecular_orbitals = 2\n",
    "hardware_inspired_trial = TwoLocal(\n",
    "    rotation_blocks=[\"ry\", \"rz\"],\n",
    "    entanglement_blocks=\"cz\",\n",
    "    entanglement=\"linear\",\n",
    "    reps=2,\n",
    ")\n",
    "#\n",
    "\n",
    "computed_macromolecule_energy_result = construct_hamiltonian_solve_ground_state(\n",
    "    molecule=macromolecule_solution,\n",
    "    num_electrons=num_electrons,\n",
    "    num_molecular_orbitals=num_molecular_orbitals,\n",
    "    chemistry_inspired=False,\n",
    "    hardware_inspired_trial=hardware_inspired_trial,\n",
    "    vqe=True,\n",
    "    perturbation_steps=[0],\n",
    ")"
   ]
  },
  {
   "cell_type": "code",
   "execution_count": 55,
   "id": "7b6e6080",
   "metadata": {},
   "outputs": [
    {
     "name": "stdout",
     "output_type": "stream",
     "text": [
      "🌟 Correct! Your solution is valid.\n",
      "You achieved a score of 52. Try improve it as much as you can.\n"
     ]
    }
   ],
   "source": [
    "from qc_grader import grade_ex3e\n",
    "\n",
    "grade_ex3e(\n",
    "    energy_surface_result=computed_macromolecule_energy_result,\n",
    "    molecule=macromolecule_solution,\n",
    "    num_electrons=num_electrons,\n",
    "    num_molecular_orbitals=num_molecular_orbitals,\n",
    "    chemistry_inspired=False,\n",
    "    hardware_inspired_trial=hardware_inspired_trial,\n",
    "    vqe=True,\n",
    "    perturbation_steps=[0],\n",
    ")"
   ]
  },
  {
   "cell_type": "markdown",
   "id": "c21201e4",
   "metadata": {},
   "source": [
    "----------------"
   ]
  },
  {
   "cell_type": "markdown",
   "id": "1d95c69d-28c4-45ef-8c21-aac952971206",
   "metadata": {
    "tags": []
   },
   "source": [
    "#### <a id='qresource'>Quantum Chemistry Resources</a>\n",
    "*Videos*\n",
    "- *Quantum Chemistry I: Obtaining the Qubit Hamiltonian* \n",
    "    - https://www.youtube.com/watch?v=2XEjrwWhr88\n",
    "- *Quantum Chemistry II: Finding the Ground States* \n",
    "    - https://www.youtube.com/watch?v=_UW6puuGa5E \n",
    "    - https://www.youtube.com/watch?v=o4BAOKbcd3o\n",
    "*Tutorials*\n",
    "- https://qiskit.org/documentation/nature/tutorials/01_electronic_structure.html \n",
    "- https://qiskit.org/documentation/nature/tutorials/03_ground_state_solvers.html \n",
    "- https://qiskit.org/documentation/nature/tutorials/05_Sampling_potential_energy_surfaces.html\n",
    "*Code References*\n",
    "- UCCSD : https://qiskit.org/documentation/stubs/qiskit.chemistry.components.variational_forms.UCCSD.html\n",
    "- ActiveSpaceTransformer: https://qiskit.org/documentation/nature/stubs/qiskit_nature.transformers.second_quantization.electronic.ActiveSpaceTransformer.html?highlight=activespacetransformer#qiskit_nature.transformers.second_quantization.electronic.ActiveSpaceTransformer"
   ]
  },
  {
   "cell_type": "markdown",
   "id": "17ba3869",
   "metadata": {},
   "source": [
    "Licensing and notes:\n",
    "- All images used, with gratitude, are listed below with their respective licenses:\n",
    "  - https://de.wikipedia.org/wiki/Datei:Teppichschere.jpg by CrazyD is licensed under CC BY-SA 3.0\n",
    "  - https://commons.wikimedia.org/wiki/File:The_structure_of_the_immature_HIV-1_capsid_in_intact_virus_particles.png by MarinaVladivostok is licensed under CC0 1.0\n",
    "  - https://commons.wikimedia.org/wiki/File:Peptidformationball.svg by YassineMrabet is licensed under the public domain\n",
    "  - The remaining images are either IBM-owned, or hand-generated by the authors of this notebook.\n",
    "\n",
    "- HCONH2 (Formamide) co-ordinates kindly provided by the National Library of Medicine:\n",
    "  - `National Center for Biotechnology Information (2021). PubChem Compound Summary for CID 713, Formamide. https://pubchem.ncbi.nlm.nih.gov/compound/Formamide.`\n",
    "- For further information about the Pauli exclusion principle:\n",
    "https://en.wikipedia.org/wiki/Pauli_exclusion_principle\n",
    "- We would like to thank collaborators, Prof Yasien and Prof Munro from Wits for extensive assistance.\n",
    "- We would like to thank all the testers and feedback providers for their valuable input.\n"
   ]
  },
  {
   "cell_type": "code",
   "execution_count": 2,
   "id": "f83ea41d",
   "metadata": {},
   "outputs": [
    {
     "data": {
      "text/html": [
       "<h3>Version Information</h3><table><tr><th>Qiskit Software</th><th>Version</th></tr><tr><td><code>qiskit-terra</code></td><td>0.18.1</td></tr><tr><td><code>qiskit-aer</code></td><td>0.8.2</td></tr><tr><td><code>qiskit-ignis</code></td><td>0.6.0</td></tr><tr><td><code>qiskit-ibmq-provider</code></td><td>0.16.0</td></tr><tr><td><code>qiskit-aqua</code></td><td>0.9.4</td></tr><tr><td><code>qiskit</code></td><td>0.29.0</td></tr><tr><td><code>qiskit-nature</code></td><td>0.1.5</td></tr><tr><td><code>qiskit-finance</code></td><td>0.2.0</td></tr><tr><td><code>qiskit-optimization</code></td><td>0.2.1</td></tr><tr><td><code>qiskit-machine-learning</code></td><td>0.2.0</td></tr><tr><th>System information</th></tr><tr><td>Python</td><td>3.8.8 (default, Apr 13 2021, 12:59:45) \n",
       "[Clang 10.0.0 ]</td></tr><tr><td>OS</td><td>Darwin</td></tr><tr><td>CPUs</td><td>2</td></tr><tr><td>Memory (Gb)</td><td>4.0</td></tr><tr><td colspan='2'>Mon Sep 06 14:06:42 2021 CEST</td></tr></table>"
      ],
      "text/plain": [
       "<IPython.core.display.HTML object>"
      ]
     },
     "metadata": {},
     "output_type": "display_data"
    },
    {
     "data": {
      "text/html": [
       "<div style='width: 100%; background-color:#d5d9e0;padding-left: 10px; padding-bottom: 10px; padding-right: 10px; padding-top: 5px'><h3>This code is a part of Qiskit</h3><p>&copy; Copyright IBM 2017, 2021.</p><p>This code is licensed under the Apache License, Version 2.0. You may<br>obtain a copy of this license in the LICENSE.txt file in the root directory<br> of this source tree or at http://www.apache.org/licenses/LICENSE-2.0.<p>Any modifications or derivative works of this code must retain this<br>copyright notice, and modified files need to carry a notice indicating<br>that they have been altered from the originals.</p></div>"
      ],
      "text/plain": [
       "<IPython.core.display.HTML object>"
      ]
     },
     "metadata": {},
     "output_type": "display_data"
    }
   ],
   "source": [
    "import qiskit.tools.jupyter\n",
    "%qiskit_version_table\n",
    "%qiskit_copyright"
   ]
  },
  {
   "cell_type": "code",
   "execution_count": null,
   "id": "a379da7a-0376-4df1-9bf1-77bf043b5822",
   "metadata": {},
   "outputs": [],
   "source": []
  }
 ],
 "metadata": {
  "kernelspec": {
   "display_name": "Python 3 (ipykernel)",
   "language": "python",
   "name": "python3"
  },
  "language_info": {
   "codemirror_mode": {
    "name": "ipython",
    "version": 3
   },
   "file_extension": ".py",
   "mimetype": "text/x-python",
   "name": "python",
   "nbconvert_exporter": "python",
   "pygments_lexer": "ipython3",
   "version": "3.8.8"
  },
  "varInspector": {
   "cols": {
    "lenName": 16,
    "lenType": 16,
    "lenVar": 40
   },
   "kernels_config": {
    "python": {
     "delete_cmd_postfix": "",
     "delete_cmd_prefix": "del ",
     "library": "var_list.py",
     "varRefreshCmd": "print(var_dic_list())"
    },
    "r": {
     "delete_cmd_postfix": ") ",
     "delete_cmd_prefix": "rm(",
     "library": "var_list.r",
     "varRefreshCmd": "cat(var_dic_list()) "
    }
   },
   "types_to_exclude": [
    "module",
    "function",
    "builtin_function_or_method",
    "instance",
    "_Feature"
   ],
   "window_display": false
  },
  "widgets": {
   "application/vnd.jupyter.widget-state+json": {
    "state": {
     "017c153cd75c4c13b3f412e6a681e9fe": {
      "model_module": "@jupyter-widgets/controls",
      "model_module_version": "1.5.0",
      "model_name": "HTMLModel",
      "state": {
       "layout": "IPY_MODEL_81c9d3520c654019b0be4993d0b2d8a9",
       "style": "IPY_MODEL_1c91943cafed4cf4848d603de40b0afb",
       "value": "<h5>Job ID</h5>"
      }
     },
     "1c91943cafed4cf4848d603de40b0afb": {
      "model_module": "@jupyter-widgets/controls",
      "model_module_version": "1.5.0",
      "model_name": "DescriptionStyleModel",
      "state": {
       "description_width": ""
      }
     },
     "2681651ee14943abb3545c1f5377168a": {
      "model_module": "@jupyter-widgets/controls",
      "model_module_version": "1.5.0",
      "model_name": "DescriptionStyleModel",
      "state": {
       "description_width": ""
      }
     },
     "2b397af9590a40c3878645cbf225ae14": {
      "model_module": "@jupyter-widgets/base",
      "model_module_version": "1.2.0",
      "model_name": "LayoutModel",
      "state": {
       "width": "70px"
      }
     },
     "2e06d53b6abd4c0d9ad9be1e8580923d": {
      "model_module": "@jupyter-widgets/controls",
      "model_module_version": "1.5.0",
      "model_name": "HTMLModel",
      "state": {
       "layout": "IPY_MODEL_2b397af9590a40c3878645cbf225ae14",
       "style": "IPY_MODEL_5e1fccd0c2c141f7af49fa17da8a5319",
       "value": "<h5>Queue</h5>"
      }
     },
     "34ff35fb85af4c20ba5afc08e164f456": {
      "model_module": "@jupyter-widgets/base",
      "model_module_version": "1.2.0",
      "model_name": "LayoutModel",
      "state": {}
     },
     "5109bff7f23a4db3afbc9924034a9ca2": {
      "model_module": "@jupyter-widgets/controls",
      "model_module_version": "1.5.0",
      "model_name": "HBoxModel",
      "state": {
       "children": [
        "IPY_MODEL_017c153cd75c4c13b3f412e6a681e9fe",
        "IPY_MODEL_8756279d8d454258b5585becc4d1ccb2",
        "IPY_MODEL_e56fd2e2c1064ffda607929dd968bdc0",
        "IPY_MODEL_2e06d53b6abd4c0d9ad9be1e8580923d",
        "IPY_MODEL_ae2674d2bd034a279798a63cbd00018c"
       ],
       "layout": "IPY_MODEL_5904f458693e44fbb76e82e40e56c110"
      }
     },
     "5904f458693e44fbb76e82e40e56c110": {
      "model_module": "@jupyter-widgets/base",
      "model_module_version": "1.2.0",
      "model_name": "LayoutModel",
      "state": {
       "margin": "0px 0px 0px 37px",
       "width": "600px"
      }
     },
     "5dc6f13b818a4f7c95dc440fd75ed9d0": {
      "model_module": "@jupyter-widgets/base",
      "model_module_version": "1.2.0",
      "model_name": "LayoutModel",
      "state": {
       "width": "95px"
      }
     },
     "5e1fccd0c2c141f7af49fa17da8a5319": {
      "model_module": "@jupyter-widgets/controls",
      "model_module_version": "1.5.0",
      "model_name": "DescriptionStyleModel",
      "state": {
       "description_width": ""
      }
     },
     "61845f37eaa24ddcaeb92d9183522a94": {
      "model_module": "@jupyter-widgets/controls",
      "model_module_version": "1.5.0",
      "model_name": "HTMLModel",
      "state": {
       "layout": "IPY_MODEL_69da608631de4058abc624154827741f",
       "style": "IPY_MODEL_aa7d578c06ce4b73b36d26093fe58aa9",
       "value": "<p style='font-family: IBM Plex Sans, Arial, Helvetica, sans-serif; font-size: 20px; font-weight: medium;'>Circuit Properties</p>"
      }
     },
     "69da608631de4058abc624154827741f": {
      "model_module": "@jupyter-widgets/base",
      "model_module_version": "1.2.0",
      "model_name": "LayoutModel",
      "state": {
       "margin": "0px 0px 10px 0px"
      }
     },
     "6d3d320927b14fd695c6e2d944fb4b8a": {
      "model_module": "@jupyter-widgets/base",
      "model_module_version": "1.2.0",
      "model_name": "LayoutModel",
      "state": {
       "grid_area": "right",
       "padding": "0px 0px 0px 0px",
       "width": "70px"
      }
     },
     "80b06eba6b0f45079f881c62c7df7b02": {
      "model_module": "@jupyter-widgets/base",
      "model_module_version": "1.2.0",
      "model_name": "LayoutModel",
      "state": {
       "grid_template_areas": "\n                                       \". . . . right \"\n                                        ",
       "grid_template_columns": "20% 20% 20% 20% 20%",
       "width": "100%"
      }
     },
     "81c9d3520c654019b0be4993d0b2d8a9": {
      "model_module": "@jupyter-widgets/base",
      "model_module_version": "1.2.0",
      "model_name": "LayoutModel",
      "state": {
       "width": "190px"
      }
     },
     "84c277bdd9e248c393c83b760f229b5c": {
      "model_module": "@jupyter-widgets/base",
      "model_module_version": "1.2.0",
      "model_name": "LayoutModel",
      "state": {
       "width": "145px"
      }
     },
     "8756279d8d454258b5585becc4d1ccb2": {
      "model_module": "@jupyter-widgets/controls",
      "model_module_version": "1.5.0",
      "model_name": "HTMLModel",
      "state": {
       "layout": "IPY_MODEL_84c277bdd9e248c393c83b760f229b5c",
       "style": "IPY_MODEL_2681651ee14943abb3545c1f5377168a",
       "value": "<h5>Backend</h5>"
      }
     },
     "a1ce24f7f7b14e7282e3939ae044d95a": {
      "model_module": "@jupyter-widgets/controls",
      "model_module_version": "1.5.0",
      "model_name": "DescriptionStyleModel",
      "state": {
       "description_width": ""
      }
     },
     "a27613fca016418083d283d8401ae40f": {
      "model_module": "@jupyter-widgets/controls",
      "model_module_version": "1.5.0",
      "model_name": "ButtonModel",
      "state": {
       "button_style": "primary",
       "description": "Clear",
       "layout": "IPY_MODEL_6d3d320927b14fd695c6e2d944fb4b8a",
       "style": "IPY_MODEL_e2e25a6ba7ef428dbb3a43a9de7d1d66"
      }
     },
     "aa7d578c06ce4b73b36d26093fe58aa9": {
      "model_module": "@jupyter-widgets/controls",
      "model_module_version": "1.5.0",
      "model_name": "DescriptionStyleModel",
      "state": {
       "description_width": ""
      }
     },
     "ae2674d2bd034a279798a63cbd00018c": {
      "model_module": "@jupyter-widgets/controls",
      "model_module_version": "1.5.0",
      "model_name": "HTMLModel",
      "state": {
       "layout": "IPY_MODEL_34ff35fb85af4c20ba5afc08e164f456",
       "style": "IPY_MODEL_a1ce24f7f7b14e7282e3939ae044d95a",
       "value": "<h5>Message</h5>"
      }
     },
     "d9d8d5d57644482f93437f6dafa334f1": {
      "model_module": "@jupyter-widgets/controls",
      "model_module_version": "1.5.0",
      "model_name": "DescriptionStyleModel",
      "state": {
       "description_width": ""
      }
     },
     "e2e25a6ba7ef428dbb3a43a9de7d1d66": {
      "model_module": "@jupyter-widgets/controls",
      "model_module_version": "1.5.0",
      "model_name": "ButtonStyleModel",
      "state": {}
     },
     "e56fd2e2c1064ffda607929dd968bdc0": {
      "model_module": "@jupyter-widgets/controls",
      "model_module_version": "1.5.0",
      "model_name": "HTMLModel",
      "state": {
       "layout": "IPY_MODEL_5dc6f13b818a4f7c95dc440fd75ed9d0",
       "style": "IPY_MODEL_d9d8d5d57644482f93437f6dafa334f1",
       "value": "<h5>Status</h5>"
      }
     },
     "fd943792a29443c687eddd789f31af75": {
      "model_module": "@jupyter-widgets/controls",
      "model_module_version": "1.5.0",
      "model_name": "GridBoxModel",
      "state": {
       "children": [
        "IPY_MODEL_a27613fca016418083d283d8401ae40f"
       ],
       "layout": "IPY_MODEL_80b06eba6b0f45079f881c62c7df7b02"
      }
     }
    },
    "version_major": 2,
    "version_minor": 0
   }
  }
 },
 "nbformat": 4,
 "nbformat_minor": 5
}
