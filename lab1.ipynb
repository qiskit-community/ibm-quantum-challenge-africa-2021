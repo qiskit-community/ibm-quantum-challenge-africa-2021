{
 "cells": [
  {
   "cell_type": "markdown",
   "metadata": {},
   "source": [
    "<h1>IBM Quantum Challenge Africa 2021</h1>\n",
    "<p style=\"font-size:xx-large;\">Introduction and the Crop-Yield Problem</p>"
   ]
  },
  {
   "cell_type": "markdown",
   "metadata": {},
   "source": [
    "Quantum Computing has the potential to revolutionize computing, as it can solve problems that are not possible to solve on a classical computer. This extra ability that quantum computers have is called quantum advantage. To achieve this goal, the world needs passionate and competent end-users: those who know how to apply the technology to their field.\n",
    "\n",
    "In this challenge you will be exposed, at a high-level, to quantum computing through Qiskit. As current or future users of quantum computers, you need to know what problems are appropriate for quantum computation, how to structure the problem model/inputs so that they are compatible with your chosen algorithm, and how to execute a given algorithm and quantum solution to solve the problem.\n",
    "\n",
    "This is the first notebook for the IBM Quantum Challenge Africa. Before starting here, ensure you have completed the Week 0 content in preparation for the following exercises."
   ]
  },
  {
   "cell_type": "markdown",
   "metadata": {},
   "source": [
    "## Initialization"
   ]
  },
  {
   "cell_type": "markdown",
   "metadata": {},
   "source": [
    "To ensure the demonstrations and exercises have the required Python modules and libraries, run the following cell before continuing."
   ]
  },
  {
   "cell_type": "code",
   "execution_count": 1,
   "metadata": {},
   "outputs": [],
   "source": [
    "# Import auxiliary libraries\n",
    "import numpy as np\n",
    "\n",
    "# Import Qiskit\n",
    "from qiskit import IBMQ, Aer\n",
    "from qiskit.algorithms import QAOA, VQE, NumPyMinimumEigensolver\n",
    "from qiskit.algorithms.optimizers import COBYLA\n",
    "from qiskit.utils import QuantumInstance, algorithm_globals\n",
    "from qiskit.providers.aer.noise.noise_model import NoiseModel\n",
    "\n",
    "from qiskit_optimization import QuadraticProgram\n",
    "from qiskit_optimization.algorithms import MinimumEigenOptimizer\n",
    "from qiskit_optimization.converters import QuadraticProgramToQubo\n",
    "\n",
    "import qiskit.test.mock as Fake"
   ]
  },
  {
   "cell_type": "markdown",
   "metadata": {},
   "source": [
    "## Table of Contents"
   ]
  },
  {
   "cell_type": "markdown",
   "metadata": {},
   "source": [
    "The notebook is structured as follows:"
   ]
  },
  {
   "cell_type": "markdown",
   "metadata": {},
   "source": [
    "1. Initialization\n",
    "2. Table of Contents\n",
    "3. Qiskit and its parts\n",
    "4. Setting up the Qiskit Environment\n",
    "5. Quadratic Problems\n",
    "6. Crop-Yield Problem as a Quadratic Problem\n",
    "7. Solving the Crop-Yield Problem using Quantum Computing\n",
    "8. Simulating a Real Quantum Computer for the Crop-Yield Problem"
   ]
  },
  {
   "cell_type": "markdown",
   "metadata": {},
   "source": [
    "## Qiskit and its parts"
   ]
  },
  {
   "cell_type": "markdown",
   "metadata": {},
   "source": [
    "Qiskit is divided into multiple modules for different purposes, with Terra at the core of the Qiskit ecosystem. It helps to be familiar with what each module can do and whether you will need to utilize the software contained within them for your specific problem. There are four modules that deal with the application of quantum computing; with tools and algorithms built specifically for their fields.\n",
    "\n",
    "Have a quick look at the [Qiskit documentation](https://qiskit.org/overview) and this IBM Research [blog post](https://www.ibm.com/blogs/research/2021/04/qiskit-application-modules/) to see what these modules are called. Once you have done so, you can complete the first exercise of the challenge: replace the ficticious module names, in the python cell below, with the correct module names. Though it would be fun to have a Qiskit Gaming module, it has not yet been developed. If you are interested in contributing to the open-source Qiskit community, have a look at the [contribution guide](https://qiskit.org/documentation/contributing_to_qiskit.html)."
   ]
  },
  {
   "cell_type": "markdown",
   "metadata": {},
   "source": [
    "### Exercise 1a: Qiskit Applications Modules"
   ]
  },
  {
   "cell_type": "code",
   "execution_count": 4,
   "metadata": {},
   "outputs": [],
   "source": [
    "# Definitely real Qiskit module names\n",
    "qiskit_module_names = [\n",
    "    \"Qiskit Nature\",\n",
    "    \"Qiskit Finance\",\n",
    "    \"Qiskit Optimization\",\n",
    "    \"Qiskit Machine Learning\",\n",
    "]"
   ]
  },
  {
   "cell_type": "markdown",
   "metadata": {},
   "source": [
    "Run the following python cell to check if you have the correct module names."
   ]
  },
  {
   "cell_type": "code",
   "execution_count": 5,
   "metadata": {},
   "outputs": [
    {
     "name": "stdout",
     "output_type": "stream",
     "text": [
      "Submitting your answer for ex1/partA. Please wait...\n",
      "Congratulations 🎉! Your answer is correct and has been submitted.\n"
     ]
    }
   ],
   "source": [
    "from qc_grader import grade_ex1a\n",
    "\n",
    "grade_ex1a(qiskit_module_names)"
   ]
  },
  {
   "cell_type": "markdown",
   "metadata": {},
   "source": [
    "### Qiskit Applications Modules"
   ]
  },
  {
   "cell_type": "markdown",
   "metadata": {},
   "source": [
    "In this notebook, we will use the `Qiskit Optimization` applications module for a specific problem to illustrate how\n",
    "\n",
    "1. classical and mathematical problem definitions are represented in Qiskit,\n",
    "2. some quantum algorithms are defined,\n",
    "3. to execute a quantum algorithm for a given problem definition,\n",
    "4. and algorithms and Qiskit problems are executed on real and simulated quantum computers.\n",
    "\n",
    "We will also be using Qiskit Terra and Aer as they provide the foundation of Qiskit and high-performance quantum simulators respectively."
   ]
  },
  {
   "cell_type": "markdown",
   "metadata": {},
   "source": [
    "## Quadratic Problems"
   ]
  },
  {
   "cell_type": "markdown",
   "metadata": {},
   "source": [
    "Some computational problems can be formulated into quadratic equations such that the minimum of the quadratic equations is the optimal solution, if any exist. These problems are encountered in finance, agriculture, operations and production management, and economics.\n",
    "\n",
    "Quadratic programming is also used to identify an optimal financial portfolio with minimum risk and optimizing the layout of production components in a factory to minimize the travel distance of resources. This notebook focuses on agriculture as it is a relevant application of quantum computing to problems facing the African continent. However, all of these applications share two common characteristics: the system can be modelled as a quadratic equation and the system variables may be constrained, with their values limited to within a given range.\n",
    "\n",
    "---\n",
    "\n",
    "Quadratic problems take on the following structure. Given a vector of $n$ variables $x\\in\\mathbb{R}^n$, the quadratic function to minimize is as follows.\n",
    "\n",
    "$$\n",
    "\\begin{align}\n",
    "\\text{minimize}\\quad & f\\left(x\\right)=\\frac{1}{2}x^\\top{}\\mathbf{Q}x + c^\\top{}x &\\\\\n",
    "\\text{subject to}\\quad & \\mathbf{A}x\\leq{}b&\\\\\n",
    "& x^\\top{}\\mathbf{Q}_ix + c_{i}^\\top{}x\\leq{}r_i,\\quad&\\forall{}i\\in[1,k_q]\\\\\n",
    "& l_i\\leq{}x_i\\leq{}u_i,\\quad&\\forall{}i\\in[1,k_l]\\\\\n",
    "\\end{align}\n",
    "$$\n",
    "\n",
    "$\\mathbf{Q}$, $\\mathbf{Q}_i$, and $\\mathbf{A}$ are $n\\times{}n$ symmetric matrices. $c$ and $c_i$ are $n\\times{}1$ column vectors. $\\mathbf{Q}_i$, $\\mathbf{A}$, $c_i$, $l_i$, and $u_i$ define constraints on the variables in $x$. The quadratic equation at the core of the quadratic problem is found by multiplying out the matrices in the minimization function. Though '$\\leq{}$' is used in the constraint equations above, any identity relationship may be used for any number of constraints: i.e. \"$<$\", \"$=$\", \"$>$\", \"$\\geq$\", or \"$\\leq$\".\n",
    "\n",
    "A valid solution to the quadratic must satisfy all conditions for the problem. Examples of some constraints are given below. The first two are linear constraints whereas the third example is a quadratic constraint.\n",
    "\n",
    "$$ x_1 + x_4 \\leq{} 10$$\n",
    "\n",
    "$$ x_2 - 3x_6 = 10$$\n",
    "\n",
    "$$x_1x_2 - 4x_3x_4 + x_5 \\leq{} 15 $$\n"
   ]
  },
  {
   "cell_type": "markdown",
   "metadata": {},
   "source": [
    "Qiskit has Python code that allows you to implement a quadratic problem as a `QuadraticProgram` instance. Though our definition above used matrices to define the coefficients, `QuadraticProgram` allows you to define the objective (function overwhich to minimize) directly. To illustrate how to use `QuadraticProgram`, we will use the following quadratic problem definition, with three integer variables.\n",
    "\n",
    "$$\\begin{align}\n",
    "\\text{minimize}\\quad{} & f(x)=(x_1)^2 + (x_2)^2 - x_1x_2 - 6x_3 \\\\\n",
    "\\text{subject to}\\quad{} & x_1 + x_2 = 2             \\\\\n",
    "                         & x_2x_3 \\geq{} 1           \\\\\n",
    "                         & -2 \\leq{} x_2 \\leq{} 2    \\\\\n",
    "                         & -2 \\leq{} x_3 \\leq{} 4    \\\\\n",
    "\\end{align}$$"
   ]
  },
  {
   "cell_type": "markdown",
   "metadata": {},
   "source": [
    "The figure below shows the constraints on $x_1$ and $x_3$, with some simplifcation. The shaded area denotes valid values for $x_1$ and $x_3$, within which $f(x)$ must be minimized."
   ]
  },
  {
   "cell_type": "markdown",
   "metadata": {},
   "source": [
    "<img src=\"quadratic_example.svg\" width=512px/>"
   ]
  },
  {
   "cell_type": "markdown",
   "metadata": {},
   "source": [
    "In the following code, the above quadratic problem is defined as a `QuadraticProgram` instance. Have a look at the [Qiskit documentation for `QuadraticProgram`](https://qiskit.org/documentation/stubs/qiskit.optimization.QuadraticProgram.html), as it can be very useful in helping your understanding of its interface.\n",
    "\n",
    "The quadratic to minimize, called an objective, is implemented using dictionaries. This allows you, the developer, to explicitly define coefficients for specific variables and terms. The keys in the dictionaries are the variable names identifying a term in $f(x)$. For example, `(\"x_1\",\"x_2\")` is for $x_1x_2$. The values for each item are the coefficients for said terms. Terms that are subtracted in $f(x)$ must have a negative coefficient."
   ]
  },
  {
   "cell_type": "code",
   "execution_count": 6,
   "metadata": {},
   "outputs": [
    {
     "data": {
      "text/plain": [
       "<qiskit_optimization.problems.quadratic_constraint.QuadraticConstraint at 0x7faac6fb6e80>"
      ]
     },
     "execution_count": 6,
     "metadata": {},
     "output_type": "execute_result"
    }
   ],
   "source": [
    "quadprog = QuadraticProgram(name=\"example 1\")\n",
    "quadprog.integer_var(name=\"x_1\", lowerbound=0, upperbound=4)\n",
    "quadprog.integer_var(name=\"x_2\", lowerbound=-2, upperbound=2)\n",
    "quadprog.integer_var(name=\"x_3\", lowerbound=-2, upperbound=4)\n",
    "quadprog.minimize(\n",
    "    linear={\"x_3\": -6},\n",
    "    quadratic={(\"x_1\", \"x_1\"): 1, (\"x_2\", \"x_2\"): 1, (\"x_1\", \"x_2\"): -1},\n",
    ")\n",
    "quadprog.linear_constraint(linear={\"x_1\": 1, \"x_2\": 1}, sense=\"=\", rhs=2)\n",
    "quadprog.quadratic_constraint(quadratic={(\"x_2\", \"x_3\"): 1}, sense=\">=\", rhs=1)"
   ]
  },
  {
   "cell_type": "markdown",
   "metadata": {},
   "source": [
    "A `QuadraticProgram` can have three types of variables: binary, integer, and continuous. The Qiskit implementation of the algorithms we are going to use currently only support binary and integer variables. There are other algorithms that allow for the simulation of continuous variables, but they are not covered in this notebook. If you want to know more about them though, have a look at this Qiskit tutorial on [algorithms to solve mixed-variable quadratic problems](https://qiskit.org/documentation/tutorials/optimization/5_admm_optimizer.html)."
   ]
  },
  {
   "cell_type": "markdown",
   "metadata": {},
   "source": [
    "We can visualize the `QuadraticProgram` as an LP string, a portable text-based format used representating the model as a **L**inear **P**rogramming problem."
   ]
  },
  {
   "cell_type": "code",
   "execution_count": 7,
   "metadata": {},
   "outputs": [
    {
     "name": "stdout",
     "output_type": "stream",
     "text": [
      "\\ This file has been generated by DOcplex\n",
      "\\ ENCODING=ISO-8859-1\n",
      "\\Problem name: example 1\n",
      "\n",
      "Minimize\n",
      " obj: - 6 x_3 + [ 2 x_1^2 - 2 x_1*x_2 + 2 x_2^2 ]/2\n",
      "Subject To\n",
      " c0: x_1 + x_2 = 2\n",
      " q0: [ x_2*x_3 ] >= 1\n",
      "\n",
      "Bounds\n",
      "       x_1 <= 4\n",
      " -2 <= x_2 <= 2\n",
      " -2 <= x_3 <= 4\n",
      "\n",
      "Generals\n",
      " x_1 x_2 x_3\n",
      "End\n",
      "\n"
     ]
    }
   ],
   "source": [
    "print(quadprog.export_as_lp_string())"
   ]
  },
  {
   "cell_type": "markdown",
   "metadata": {},
   "source": [
    "Any optimization problem that can be represented as a single second-order equation, in that the greatest exponent of any term is 2, can be transformed into a quadratic problem or program of the form given above. The above example is arbitrary and does not necessarily represent a given real-world problem. The main problem of this notebook focuses on optimizing the yield of a farm, though only the problem definition need be changed to apply this technique to other quadratic problem applications."
   ]
  },
  {
   "cell_type": "markdown",
   "metadata": {},
   "source": [
    "## Crop-Yield Problem as a Quadratic Problem"
   ]
  },
  {
   "cell_type": "markdown",
   "metadata": {},
   "source": [
    "To show how to solve your quadratic program using a quantum computer, we will use two algorithms to solve the crop-yield problem. It is a common need to optimize the crops and management of a farm to reduce risk while increasing profits. One of the big challenges facing Africa and the whole world is how to produce enough food for everyone. The problem here focuses not on profits but on the tonnage of crops harvested. Imagine you have a farm with three hectares of land suitable for farming. You need to choose which crops to plant from a selection of four. Furthermore, you also need to determine how many hectares of each you should plant. The four crops you can plant are wheat, soybeans, maize, and a push-pull crop. The fourth cannot be sold once harvested but it can help increase the yield of the other crops.\n",
    "\n",
    "<table>\n",
    "    <tr>\n",
    "        <th>\n",
    "            <img src=\"farm_template.svg\" width=\"384px\"/>\n",
    "        </th>\n",
    "    </tr>\n",
    "    <tr>\n",
    "        <th>\n",
    "            Our beautiful three hectare farm\n",
    "        </th>\n",
    "    </tr>\n",
    "</table>\n",
    "\n",
    "<table>\n",
    "    <tr>\n",
    "        <th>\n",
    "        <img src=\"crop_wheat.svg\" width=\"256px\"/>\n",
    "        </th>\n",
    "        <th>\n",
    "            <img src=\"crop_soybeans.svg\" width=\"256px\"/>\n",
    "        </th>\n",
    "        <th>\n",
    "            <img src=\"crop_maize.svg\" width=\"256px\"/>\n",
    "        </th>\n",
    "        <th>\n",
    "            <img src=\"crop_pushpull.svg\" width=\"256px\"/>\n",
    "        </th>\n",
    "    </tr>\n",
    "    <tr>\n",
    "        <th>\n",
    "            Wheat\n",
    "        </th>\n",
    "        <th>\n",
    "            Soybeans\n",
    "        </th>\n",
    "        <th>\n",
    "            Maize\n",
    "        </th>\n",
    "        <th>\n",
    "            Push-Pull\n",
    "        </th>\n",
    "<!--         <th>\n",
    "            <p align=\"right\" style=\"height:32px;padding-top:10px;\">Wheat<img src=\"wheat.svg\" width=\"32px\" style=\"float:left;margin-top:-10px;margin-right:8px;\"/></p>\n",
    "        </th>\n",
    "        <th>\n",
    "            <p style=\"height:32px;padding-top:10px;\">Soybeans<img src=\"soybeans.svg\" width=\"32px\" style=\"float:left;margin-top:-10px;margin-right:8px;\"/></p>\n",
    "        </th>\n",
    "        <th>\n",
    "            <p style=\"height:32px;padding-top:10px;\">Maize<img src=\"maize.svg\" width=\"32px\" style=\"float:left;margin-top:-10px;margin-right:8px;\"/></p>\n",
    "        </th>\n",
    "        <th>\n",
    "            <p style=\"height:32px;padding-top:10px;\">Push-Pull<img src=\"pushpull.svg\" width=\"32px\" style=\"float:left;margin-top:-10px;margin-right:8px;\"/></p>\n",
    "        </th> -->\n",
    "    </tr>\n",
    "</table>\n",
    "\n",
    "There are three types of farming methods we can use: monocropping, intercropping, and push-pull farming. These are shown below. Monocropping is where only one crop is farmed. This is can make the farm susceptible to disease and pests as the entire yield would be affected. In some instances, growing two different plants nearby each other will increase the yield of both, though sometimes it can decrease the yield. Intercropping is the process where different plants are chosen to _increase_ the yield. Push-Pull crops are pairs of plants that repel pests and attract pests respectively. Integrating them into a larger farm increases the yield of harvested food but with the cost of not necessarily being able to use the harvest of Push-Pull crops as part of the total yield. This is because the Push-Pull crop may not be usable or even edible.\n",
    "\n",
    "<table>\n",
    "    <tr>\n",
    "        <th>\n",
    "        <img src=\"farm_mono.svg\" width=\"256px\"/>\n",
    "        </th>\n",
    "        <th>\n",
    "            <img src=\"farm_intercrop.svg\" width=\"256px\"/>\n",
    "        </th>\n",
    "        <th>\n",
    "            <img src=\"farm_intercrop_pushpull.svg\" width=\"256px\"/>\n",
    "        </th>\n",
    "    </tr>\n",
    "    <tr>\n",
    "        <th>\n",
    "            Monocropping\n",
    "        </th>\n",
    "        <th>\n",
    "            Intercropping\n",
    "        </th>\n",
    "        <th>\n",
    "            Push-Pull farming\n",
    "        </th>\n",
    "    </tr>\n",
    "</table>"
   ]
  },
  {
   "cell_type": "markdown",
   "metadata": {},
   "source": [
    "---\n",
    "Only in certain cases can quadratic programming problems be solved easily using classical problems. In their general sense, they are NP-Hard; a class of problems that is difficult to solve using classical computational methods. In fact, the best classical method to solve these problems involves heuristics, a technique that finds an approximate solution. Quantum Computers have been shown to provide significant speed-up and better scaling for some heuristic problems. The crop-yield problem is a combinatorial problem, in that the solution is a specific combination of input parameters. Though the problem shown here is small enough to solve classically, larger problems become intractable on a classical computer owing to the number of combinations of which to optimize.\n",
    "\n",
    "\n",
    "Solving the above problem using quantum computing involves three components:\n",
    "\n",
    "1. Defining the problem\n",
    "2. Defining the algorithm\n",
    "3. Executing the algorithm on a backend\n",
    "\n",
    "Many problems in Qiskit follow this structure as the algorithm you use can typically be swapped for another without significantly redefining your problem. Execution on different backends is the easiest, as long as the device has sufficient resource. The first component is given below, with the second and third in sections 1.5 and 1.6."
   ]
  },
  {
   "cell_type": "markdown",
   "metadata": {},
   "source": [
    "### Define the Crop-Yield problem"
   ]
  },
  {
   "cell_type": "markdown",
   "metadata": {},
   "source": [
    "The following problem is defined for you but the `QuadraticProgram` is not implemented. Your task at the end of this section is to implement the `QuadraticProgram` for the given crop-yield model.\n",
    "\n",
    "Your farm has three hectares available, $3~ha$, with each crop taking up $0~ha$ or $1~ha$. We define the yield of the farm as a quadratic function where the influence of each crop on eachother is represented by the quadratic coefficients. The variables in this quadratic are the number of hectares of the crop to be planted and the objective function to maximize is the yield of usable crops in tons. Here is the mathematical model for the problem. In this scenario, all crops increase the yield of other crops. However, the problem to solve is which crops to use to achieve the maximum yield."
   ]
  },
  {
   "cell_type": "markdown",
   "metadata": {},
   "source": [
    "<img src=\"qubo_problem_graphical_variables.svg\" width=\"534px\"/>\n",
    "\n",
    "The farm yield, in tons, is modelled as a quadratic equation, given below, with constraints on the hectares used by each crop and the total hectares available. Each crop is shown using a different symbol, as shown above, representing the number of hectares to be planted of said plant. Note that we can only plant up to 1 hectare of each crop and that our farm is constrained to 3 hectares.\n",
    "\n",
    "<img src=\"qubo_problem_graphical.svg\" width=\"400px\"/>"
   ]
  },
  {
   "cell_type": "markdown",
   "metadata": {},
   "source": [
    "----\n",
    "#### Non-graphical notation\n",
    "Here is a non-graphical representation of the above model, if you are struggling to interpret the above graphic.\n",
    "\n",
    "$$\n",
    "\\begin{align}\n",
    "    \\text{maximize} \\quad & 2(\\operatorname{Wheat}) + \\operatorname{Soybeans} + 4(\\operatorname{Maize}) \\\\\n",
    "    & + 2.4(\\operatorname{Wheat}\\times\\operatorname{Soybeans}) \\\\ & + 4(\\operatorname{Wheat}\\times\\operatorname{Maize})\\\\\n",
    "    &+ 4(\\operatorname{Wheat}\\times\\operatorname{PushPull}) \\\\ & + 2(\\operatorname{Soybeans}\\times\\operatorname{Maize}) \\\\\n",
    "                          & + (\\operatorname{Soybeans}\\times\\operatorname{PushPull}) \\\\ & + 5(\\operatorname{Maize}\\times\\operatorname{PushPull})\n",
    "\\end{align}\n",
    "$$\n",
    "\n",
    "$$\n",
    "\\begin{align}\n",
    "\\text{subject to} \\quad & \\operatorname{Wheat} + \\operatorname{Soybeans} + \\operatorname{Maize} + \\operatorname{PushPull} \\leq{} 3\\\\\n",
    "& 0\\leq{}\\operatorname{Wheat}\\leq{}1\\\\\n",
    "& 0\\leq{}\\operatorname{Soybeans}\\leq{}1\\\\\n",
    "& 0\\leq{}\\operatorname{Maize}\\leq{}1\\\\\n",
    "& 0\\leq{}\\operatorname{PushPull}\\leq{}1\n",
    "\\end{align}\n",
    "$$"
   ]
  },
  {
   "cell_type": "markdown",
   "metadata": {},
   "source": [
    "### Exercise 1b: Create Quadratic Program from crop-yield variables"
   ]
  },
  {
   "cell_type": "markdown",
   "metadata": {},
   "source": [
    "Your first exercise is to create a `QuadraticProgram` that represents the above model. Write your implementation in the `cropyield_quadratic_program` function below. Remember to use the example as a guide, and to look at the [QuadraticProgram documentation](https://qiskit.org/documentation/tutorials/optimization/1_quadratic_program.html?highlight=quadraticprogram) and [Qiskit reference](https://qiskit.org/documentation/stubs/qiskit.optimization.QuadraticProgram.html?highlight=quadraticprogram#qiskit.optimization.QuadraticProgram).\n",
    "\n",
    "**Note:** Ensure your variables are named `Wheat`, `Soybeans`, `Maize,` and `PushPull`. This is necessary for the grader to work."
   ]
  },
  {
   "cell_type": "code",
   "execution_count": 8,
   "metadata": {},
   "outputs": [],
   "source": [
    "def cropyield_quadratic_program():\n",
    "    cropyield = QuadraticProgram(name=\"Crop Yield\")\n",
    "    ##############################\n",
    "    # Put your implementation here\n",
    "    cropyield.integer_var(name=\"Wheat\",lowerbound=0,upperbound=1)\n",
    "    cropyield.integer_var(name=\"Soybeans\",lowerbound=0,upperbound=1)\n",
    "    cropyield.integer_var(name=\"Maize\",lowerbound=0,upperbound=1)\n",
    "    cropyield.integer_var(name=\"PushPull\",lowerbound=0,upperbound=1)\n",
    "    cropyield.maximize(\n",
    "        linear={\"Wheat\":2,\"Soybeans\":1,\"Maize\":4},\n",
    "        quadratic={(\"Wheat\",\"Soybeans\"):2.4,(\"Wheat\",\"Maize\"):4,(\"Wheat\",\"PushPull\"):4,(\"Soybeans\",\"Maize\"):2,(\"Soybeans\",\"PushPull\"):1,(\"Maize\",\"PushPull\"):5},\n",
    "    )\n",
    "    cropyield.linear_constraint(linear={\"Wheat\":1,\"Soybeans\":1,\"Maize\":1,\"PushPull\":1},sense=\"<=\",rhs=3)\n",
    "\n",
    "    ##############################\n",
    "    return cropyield"
   ]
  },
  {
   "cell_type": "markdown",
   "metadata": {},
   "source": [
    "Once you feel your implementation is correct, you can grade your solution in the following cell."
   ]
  },
  {
   "cell_type": "code",
   "execution_count": 9,
   "metadata": {},
   "outputs": [
    {
     "name": "stdout",
     "output_type": "stream",
     "text": [
      "Submitting your answer for ex1/partB. Please wait...\n",
      "Congratulations 🎉! Your answer is correct and has been submitted.\n"
     ]
    }
   ],
   "source": [
    "# Execute this cell to grade your solution\n",
    "from qc_grader import grade_ex1b\n",
    "\n",
    "cropyield = cropyield_quadratic_program()\n",
    "grade_ex1b(cropyield)"
   ]
  },
  {
   "cell_type": "markdown",
   "metadata": {},
   "source": [
    "### Converting QuadraticPrograms"
   ]
  },
  {
   "cell_type": "markdown",
   "metadata": {},
   "source": [
    "If we want to estimate how many qubits this quadratic program requires, we can convert it to an Ising Model and print the `num_qubits` parameter. An [ising model](https://qiskit.org/documentation/apidoc/qiskit.optimization.applications.ising.html?highlight=ising) is a special system model type that is well suited for quantum computing. Though we will not be using an ising model explicitly, the algorithms and Qiskit classes we are using do this conversion internally."
   ]
  },
  {
   "cell_type": "code",
   "execution_count": 10,
   "metadata": {},
   "outputs": [
    {
     "name": "stdout",
     "output_type": "stream",
     "text": [
      "Number of qubits required is 6\n"
     ]
    }
   ],
   "source": [
    "# Estimate the number of qubits required\n",
    "ising_operations, _ = (\n",
    "    QuadraticProgramToQubo()\n",
    "    .convert(\n",
    "        cropyield,\n",
    "    )\n",
    "    .to_ising()\n",
    ")\n",
    "print(f\"Number of qubits required is {ising_operations.num_qubits}\")"
   ]
  },
  {
   "cell_type": "markdown",
   "metadata": {},
   "source": [
    "Even though quadratic programs are widely used in Qiskit, the algorithms we are going to use require binary variables. Qiskit provides an automated method for converting our integer variables into binary variables. The binary-only form is called a _Quadratic Unconstrained Binary Optimization_ problem, or `QUBO`. The conversion is done using `QuadraticProgramToQUBO` from the Qiskit optimization module. Every integer variable, and their associated constraints, are transformed into binary variables.\n",
    "\n",
    "Run the following code to see how the QUBO version of the cropyield problem looks. Notice how the quadratic becomes longer and more variables are added. This is to account for the bits in each variable, including the constraints. When we run our quantum algorithm to solve this QuadraticProgram, it is converted to a QUBO instance within the Qiskit algorith implementation, implicitly."
   ]
  },
  {
   "cell_type": "code",
   "execution_count": 11,
   "metadata": {},
   "outputs": [
    {
     "data": {
      "text/plain": [
       "\\ This file has been generated by DOcplex\n",
       "\\ ENCODING=ISO-8859-1\n",
       "\\Problem name: Crop Yield\n",
       "\n",
       "Minimize\n",
       " obj: - 160.400000000000 Wheat@0 - 159.400000000000 Soybeans@0\n",
       "      - 162.400000000000 Maize@0 - 158.400000000000 PushPull@0\n",
       "      - 158.400000000000 c0@int_slack@0 - 316.800000000000 c0@int_slack@1 + [\n",
       "      52.800000000000 Wheat@0^2 + 100.800000000000 Wheat@0*Soybeans@0\n",
       "      + 97.600000000000 Wheat@0*Maize@0 + 97.600000000000 Wheat@0*PushPull@0\n",
       "      + 105.600000000000 Wheat@0*c0@int_slack@0\n",
       "      + 211.200000000000 Wheat@0*c0@int_slack@1 + 52.800000000000 Soybeans@0^2\n",
       "      + 101.600000000000 Soybeans@0*Maize@0\n",
       "      + 103.600000000000 Soybeans@0*PushPull@0\n",
       "      + 105.600000000000 Soybeans@0*c0@int_slack@0\n",
       "      + 211.200000000000 Soybeans@0*c0@int_slack@1 + 52.800000000000 Maize@0^2\n",
       "      + 95.600000000000 Maize@0*PushPull@0\n",
       "      + 105.600000000000 Maize@0*c0@int_slack@0\n",
       "      + 211.200000000000 Maize@0*c0@int_slack@1 + 52.800000000000 PushPull@0^2\n",
       "      + 105.600000000000 PushPull@0*c0@int_slack@0\n",
       "      + 211.200000000000 PushPull@0*c0@int_slack@1\n",
       "      + 52.800000000000 c0@int_slack@0^2\n",
       "      + 211.200000000000 c0@int_slack@0*c0@int_slack@1\n",
       "      + 211.200000000000 c0@int_slack@1^2 ]/2 + 237.600000000000\n",
       "Subject To\n",
       "\n",
       "Bounds\n",
       " 0 <= Wheat@0 <= 1\n",
       " 0 <= Soybeans@0 <= 1\n",
       " 0 <= Maize@0 <= 1\n",
       " 0 <= PushPull@0 <= 1\n",
       " 0 <= c0@int_slack@0 <= 1\n",
       " 0 <= c0@int_slack@1 <= 1\n",
       "\n",
       "Binaries\n",
       " Wheat@0 Soybeans@0 Maize@0 PushPull@0 c0@int_slack@0 c0@int_slack@1\n",
       "End"
      ]
     },
     "execution_count": 11,
     "metadata": {},
     "output_type": "execute_result"
    }
   ],
   "source": [
    "QuadraticProgramToQubo().convert(cropyield)"
   ]
  },
  {
   "cell_type": "markdown",
   "metadata": {},
   "source": [
    "## Solving the Crop-Yield Problem using a Quantum Computer"
   ]
  },
  {
   "cell_type": "markdown",
   "metadata": {},
   "source": [
    "There are three ways to _run_ a quantum algorithm using Qiskit:\n",
    "1. on a simulator locally on your own machine\n",
    "2. on a simulator hosted in the cloud by IBM\n",
    "3. on an actual quantum computer accessible through IBM Quantum.\n",
    "\n",
    "All of these are called backends. In all cases, the _backend_ can easily be swapped for another as long as the simulator or device has appropriate resources (number of qubits etc.). In the code below, we show how to access different backends. We demonstrate this using the local Aer QASM simulator from Qiskit. The Aer QASM simulator models the physical properties of a real quantum computer so you, researchers, and developers can test their quantum computing code and algorithms before running on real devices."
   ]
  },
  {
   "cell_type": "code",
   "execution_count": 16,
   "metadata": {},
   "outputs": [],
   "source": [
    "# We will use the Aer provided QASM simulator\n",
    "backend = Aer.get_backend(\"qasm_simulator\")\n",
    "\n",
    "# Given we are using a simulator, we will fix the algorithm seed to ensure our results are reproducible\n",
    "algorithm_globals.random_seed = 271828"
   ]
  },
  {
   "cell_type": "markdown",
   "metadata": {},
   "source": [
    "We would like to compare our quantum solution to that obtained classically. Secondly, we also want to try different algorithms. The following three subsections show how these different methods for solving the Crop-Yield problem are implemented in Qiskit. The two algorithms used are the [_Quantum Approximate Optimization Algorithm_](https://qiskit.org/documentation/stubs/qiskit.algorithms.QAOA.html?highlight=qaoa#qiskit.algorithms.QAOA) `QAOA` and the [_Variational Quantum Eigensolver_](https://qiskit.org/documentation/stubs/qiskit.algorithms.VQE.html?highlight=vqe#qiskit.algorithms.VQE) `VQE`.\n",
    "\n",
    "Both of these algorithms are hybrid, in that they use a classical _optimizer_ to alter parameters that affect the quantum computation. The VQE algorithm is used to find the lowest eigenvalue of a matrix, which can describe a system to optimize. The QAOA also finds the lowest eigenvalue, but achieves this is a different way to VQE. Both are very popular algorithms, with varying applications and strengths."
   ]
  },
  {
   "cell_type": "markdown",
   "metadata": {},
   "source": [
    "### Classical Solution"
   ]
  },
  {
   "cell_type": "markdown",
   "metadata": {},
   "source": [
    "The classical solution to the crop-yield problem can easily be found using Numpy and Qiskit. The QUBO problem can be solved by finding the minimum eigenvalue of its underlying matrix representation. Fortunately, we don't have to know what this matrix looks like. We only need to pass it to a `MinimumEigensolver` and `MinimumEigenOptimizer`.\n",
    "\n",
    "The optimizer translates the provided problem into a parameterised representation which is then passed to the solver. By optimizing the paramters, the solver will eventually give the minimum eigenvalue for the parameterized representation and thus the solution to the original problem. Here we use a classical solver from NumPy, the `NumPyMinimumEigensolver`."
   ]
  },
  {
   "cell_type": "code",
   "execution_count": 12,
   "metadata": {},
   "outputs": [],
   "source": [
    "def get_classical_solution_for(quadprog: QuadraticProgram):\n",
    "    # Create solver\n",
    "    solver = NumPyMinimumEigensolver()\n",
    "\n",
    "    # Create optimizer for solver\n",
    "    optimizer = MinimumEigenOptimizer(solver)\n",
    "\n",
    "    # Return result from optimizer\n",
    "    return optimizer.solve(quadprog)"
   ]
  },
  {
   "cell_type": "markdown",
   "metadata": {},
   "source": [
    "If we execute the classical method for our crop-yield problem, we get a valid solution that maximises the yield."
   ]
  },
  {
   "cell_type": "code",
   "execution_count": 13,
   "metadata": {},
   "outputs": [
    {
     "name": "stdout",
     "output_type": "stream",
     "text": [
      "Solution found using the classical method:\n",
      "\n",
      "Maximum crop-yield is 19.0 tons\n",
      "Crops used are: \n",
      "\t1.0 ha of Wheat\n",
      "\t0.0 ha of Soybeans\n",
      "\t1.0 ha of Maize\n",
      "\t1.0 ha of PushPull\n"
     ]
    }
   ],
   "source": [
    "# Get classical result\n",
    "classical_result = get_classical_solution_for(cropyield)\n",
    "\n",
    "# Format and print result\n",
    "print(\"Solution found using the classical method:\\n\")\n",
    "print(f\"Maximum crop-yield is {classical_result.fval} tons\")\n",
    "print(f\"Crops used are: \")\n",
    "\n",
    "_crops = [v.name for v in cropyield.variables]\n",
    "for cropIndex, cropHectares in enumerate(classical_result.x):\n",
    "    print(f\"\\t{cropHectares} ha of {_crops[cropIndex]}\")"
   ]
  },
  {
   "cell_type": "markdown",
   "metadata": {},
   "source": [
    "### QAOA Solution"
   ]
  },
  {
   "cell_type": "markdown",
   "metadata": {},
   "source": [
    "To solve our problem using QAOA, we need only replace the classical_solver with a `QAOA` class instance. Now that we are running a quantum algorithm, we need to tell the solver where to execute the quantum component. We use a `QuantumInstance` to store the backend information. The QAOA is an iterative algorithm, and thus is run multiple times with different internal parameters. The parameters are tuned classically during the optimization step of the computation by `optimizer`. If we leave `optimizer` as `None`, our algorithms will use the default optimization algorithm. To determine how many iterations there are, we define a callback function that runs for each iteration and stores the number of evaluations thus far. At the end of our algorithm execution, we return the result and the number of iterations."
   ]
  },
  {
   "cell_type": "code",
   "execution_count": 14,
   "metadata": {},
   "outputs": [],
   "source": [
    "def get_QAOA_solution_for(\n",
    "    quadprog: QuadraticProgram, quantumInstance: QuantumInstance, optimizer=None,\n",
    "):\n",
    "    _eval_count = 0\n",
    "\n",
    "    def callback(eval_count, parameters, mean, std):\n",
    "        nonlocal _eval_count\n",
    "        _eval_count = eval_count\n",
    "\n",
    "    # Create solver\n",
    "    solver = QAOA(\n",
    "        optimizer=optimizer, quantum_instance=quantumInstance, callback=callback,\n",
    "    )\n",
    "\n",
    "    # Create optimizer for solver\n",
    "    optimizer = MinimumEigenOptimizer(solver)\n",
    "\n",
    "    # Get result from optimizer\n",
    "    result = optimizer.solve(quadprog)\n",
    "    return result, _eval_count"
   ]
  },
  {
   "cell_type": "markdown",
   "metadata": {},
   "source": [
    "If we execute the QAOA method for our crop-yield problem, we get the same result as the classical method, showing that 1) the quantum solution is correct and 2) that you now know how to use a quantum algorithm! 🌟"
   ]
  },
  {
   "cell_type": "code",
   "execution_count": 17,
   "metadata": {},
   "outputs": [
    {
     "name": "stdout",
     "output_type": "stream",
     "text": [
      "Solution found using the QAOA method:\n",
      "\n",
      "Maximum crop-yield is 19.0 tons\n",
      "Crops used are: \n",
      "\t1.0 ha of Wheat\n",
      "\t0.0 ha of Soybeans\n",
      "\t1.0 ha of Maize\n",
      "\t1.0 ha of PushPull\n",
      "\n",
      "The solution was found within 3 evaluations of QAOA.\n"
     ]
    }
   ],
   "source": [
    "# Create a QuantumInstance\n",
    "simulator_instance = QuantumInstance(\n",
    "    backend=backend,\n",
    "    seed_simulator=algorithm_globals.random_seed,\n",
    "    seed_transpiler=algorithm_globals.random_seed,\n",
    ")\n",
    "\n",
    "# Get QAOA result\n",
    "qaoa_result, qaoa_eval_count = get_QAOA_solution_for(cropyield, simulator_instance)\n",
    "\n",
    "# Format and print result\n",
    "print(\"Solution found using the QAOA method:\\n\")\n",
    "print(f\"Maximum crop-yield is {qaoa_result.fval} tons\")\n",
    "print(f\"Crops used are: \")\n",
    "for cropHectares, cropName in zip(qaoa_result.x, qaoa_result.variable_names):\n",
    "    print(f\"\\t{cropHectares} ha of {cropName}\")\n",
    "\n",
    "print(f\"\\nThe solution was found within {qaoa_eval_count} evaluations of QAOA.\")"
   ]
  },
  {
   "cell_type": "markdown",
   "metadata": {},
   "source": [
    "### VQE Solution"
   ]
  },
  {
   "cell_type": "markdown",
   "metadata": {},
   "source": [
    "The `VQE` algorithm works in a very similar way to the `QAOA`. Not only in a mathematical modelling and algorithmic perspective, but also programmatically. There is a quantum solver and a classical optimizer. The `VQE` instance is also iterative, and so we can measure how many iterations are needed to find a solution to the Crop-Yield problem."
   ]
  },
  {
   "cell_type": "code",
   "execution_count": 18,
   "metadata": {},
   "outputs": [],
   "source": [
    "def get_VQE_solution_for(\n",
    "    quadprog: QuadraticProgram, quantumInstance: QuantumInstance, optimizer=None,\n",
    "):\n",
    "    _eval_count = 0\n",
    "\n",
    "    def callback(eval_count, parameters, mean, std):\n",
    "        nonlocal _eval_count\n",
    "        _eval_count = eval_count\n",
    "\n",
    "    # Create solver and optimizer\n",
    "    solver = VQE(\n",
    "        optimizer=optimizer, quantum_instance=quantumInstance, callback=callback\n",
    "    )\n",
    "\n",
    "    # Create optimizer for solver\n",
    "    optimizer = MinimumEigenOptimizer(solver)\n",
    "\n",
    "    # Get result from optimizer\n",
    "    result = optimizer.solve(quadprog)\n",
    "    return result, _eval_count"
   ]
  },
  {
   "cell_type": "markdown",
   "metadata": {},
   "source": [
    "And we should get the exact same answer as before."
   ]
  },
  {
   "cell_type": "code",
   "execution_count": 19,
   "metadata": {},
   "outputs": [
    {
     "name": "stdout",
     "output_type": "stream",
     "text": [
      "Solution found using the VQE method:\n",
      "\n",
      "Maximum crop-yield is 19.0 tons\n",
      "Crops used are: \n",
      "\t1.0 ha of Wheat\n",
      "\t0.0 ha of Soybeans\n",
      "\t1.0 ha of Maize\n",
      "\t1.0 ha of PushPull\n",
      "\n",
      "The solution was found within 25 evaluations of VQE\n"
     ]
    }
   ],
   "source": [
    "# Create a QuantumInstance\n",
    "simulator_instance = QuantumInstance(\n",
    "    backend=backend,\n",
    "    seed_simulator=algorithm_globals.random_seed,\n",
    "    seed_transpiler=algorithm_globals.random_seed,\n",
    ")\n",
    "\n",
    "# Get VQE result\n",
    "vqe_result, vqe_eval_count = get_VQE_solution_for(cropyield, simulator_instance)\n",
    "\n",
    "# Format and print result\n",
    "print(\"Solution found using the VQE method:\\n\")\n",
    "print(f\"Maximum crop-yield is {vqe_result.fval} tons\")\n",
    "print(f\"Crops used are: \")\n",
    "for cropHectares, cropName in zip(vqe_result.x, vqe_result.variable_names):\n",
    "    print(f\"\\t{cropHectares} ha of {cropName}\")\n",
    "\n",
    "print(f\"\\nThe solution was found within {vqe_eval_count} evaluations of VQE\")"
   ]
  },
  {
   "cell_type": "markdown",
   "metadata": {},
   "source": [
    "### Exercise 1c: Classical and Quantum Computational Results"
   ]
  },
  {
   "cell_type": "markdown",
   "metadata": {},
   "source": [
    "From the above computations you received six results, the maximum crop-yield and the number of evaluations for three different methods. The maximum yield values should be the same. If your yield values aren't all the same, rerun the algorithms. Sometimes the optimization process can miss the correct answer because of the randomness used to initialize the algorithm parameters.\n",
    "\n",
    "Run the code cell below to see if the maximum yields you computed are correct."
   ]
  },
  {
   "cell_type": "code",
   "execution_count": 20,
   "metadata": {},
   "outputs": [
    {
     "name": "stdout",
     "output_type": "stream",
     "text": [
      "Submitting your answer for ex1/partC. Please wait...\n",
      "Congratulations 🎉! Your answer is correct and has been submitted.\n"
     ]
    }
   ],
   "source": [
    "from qc_grader import grade_ex1c\n",
    "\n",
    "max_yield_qaoa = qaoa_result.fval\n",
    "max_yield_vqe = vqe_result.fval\n",
    "\n",
    "grade_ex1c(tonnage_qaoa=max_yield_qaoa, tonnage_vqe=max_yield_vqe)"
   ]
  },
  {
   "cell_type": "markdown",
   "metadata": {},
   "source": [
    "_You could always verify your result with the classical method, though this is only possible here given the size of the problem. Larger problems become more difficult to verify._"
   ]
  },
  {
   "cell_type": "markdown",
   "metadata": {},
   "source": [
    "## Simulating a Real Quantum Computer for the Crop-Yield Problem"
   ]
  },
  {
   "cell_type": "markdown",
   "metadata": {},
   "source": [
    "Sometimes one would want to _simulate_ a real quantum computer to see how the actual hardware may impact the performance of the algorithm. All quantum computers have an underlying architecture, different noise characeristics, and error rates. These three aspects impact how well the algorithm can perform on a given deivce. To test the impact a given quantum computer has on the QAOA instance, we can utilize a _fake_ instance of the device in Qiskit to tell our simulator what parameters to use. In this example we will be simulating `ibmq_johannesburg`, a device named after the city of Johannesburg in South Africa."
   ]
  },
  {
   "cell_type": "code",
   "execution_count": 21,
   "metadata": {},
   "outputs": [],
   "source": [
    "fake_device = Fake.FakeJohannesburg()"
   ]
  },
  {
   "cell_type": "markdown",
   "metadata": {},
   "source": [
    "We can inspect what this device _looks_ like using the Qiskit Jupyter tools, shown below. You do not need to know about this structure to execute quantum programs on a device, but it is useful to visualize the parameters."
   ]
  },
  {
   "cell_type": "code",
   "execution_count": 22,
   "metadata": {},
   "outputs": [
    {
     "data": {
      "application/vnd.jupyter.widget-view+json": {
       "model_id": "410f49e2e39a42ce94347871b639ecb6",
       "version_major": 2,
       "version_minor": 0
      },
      "text/plain": [
       "VBox(children=(HTML(value=\"<h1 style='color:#ffffff;background-color:#000000;padding-top: 1%;padding-bottom: 1…"
      ]
     },
     "metadata": {},
     "output_type": "display_data"
    },
    {
     "data": {
      "text/plain": [
       "<FakeJohannesburg('fake_johannesburg')>"
      ]
     },
     "execution_count": 22,
     "metadata": {},
     "output_type": "execute_result"
    }
   ],
   "source": [
    "import qiskit.tools.jupyter\n",
    "\n",
    "fake_device"
   ]
  },
  {
   "cell_type": "markdown",
   "metadata": {},
   "source": [
    "The three aforementioned components of a quantum computer are represented as a noise model, coupling map, and the basis gate set. The noise model is a representation of how the noise and errors in the computer behave. The coupling map and basis gate set are core to the architecture of the device. The coupling map represents how the physical qubits can interact whereas the basis gate set is analogous to the set of fundamental computatonal instructions we can use. You can see the coupling map in the above widget as the lines connecting each qubit in the architecture diagram.\n",
    "\n",
    "To simulate `ibmq_johannesburg`, we must pass these three components to our Aer simulator."
   ]
  },
  {
   "cell_type": "code",
   "execution_count": 23,
   "metadata": {},
   "outputs": [],
   "source": [
    "# Create the noise model, which contains the basis gate set\n",
    "noise_model = NoiseModel.from_backend(fake_device)\n",
    "\n",
    "# Get the coupling map\n",
    "coupling_map = fake_device.configuration().coupling_map"
   ]
  },
  {
   "cell_type": "markdown",
   "metadata": {},
   "source": [
    "Next we create a new `QuantumInstance` with these parameters"
   ]
  },
  {
   "cell_type": "code",
   "execution_count": 24,
   "metadata": {},
   "outputs": [],
   "source": [
    "fake_instance = QuantumInstance(\n",
    "    backend=backend,\n",
    "    basis_gates=noise_model.basis_gates,\n",
    "    coupling_map=coupling_map,\n",
    "    noise_model=noise_model,\n",
    "    seed_simulator=algorithm_globals.random_seed,\n",
    "    seed_transpiler=algorithm_globals.random_seed,\n",
    ")"
   ]
  },
  {
   "cell_type": "markdown",
   "metadata": {},
   "source": [
    "We can then execute the `QAOA` from before on this new _fake_ quantum device."
   ]
  },
  {
   "cell_type": "code",
   "execution_count": 25,
   "metadata": {},
   "outputs": [
    {
     "name": "stdout",
     "output_type": "stream",
     "text": [
      "Solution found using the QAOA method:\n",
      "\n",
      "Maximum crop-yield is 19.0 tons\n",
      "Crops used are: \n",
      "\t1.0 ha of Wheat\n",
      "\t0.0 ha of Soybeans\n",
      "\t1.0 ha of Maize\n",
      "\t1.0 ha of PushPull\n",
      "\n",
      "The solution was found within 3 evaluations of QAOA.\n"
     ]
    }
   ],
   "source": [
    "# Get QAOA result\n",
    "qaoa_result, qaoa_eval_count = get_QAOA_solution_for(cropyield, fake_instance)\n",
    "\n",
    "# Format and print result\n",
    "print(\"Solution found using the QAOA method:\\n\")\n",
    "print(f\"Maximum crop-yield is {qaoa_result.fval} tons\")\n",
    "print(f\"Crops used are: \")\n",
    "for cropHectares, cropName in zip(qaoa_result.x, qaoa_result.variable_names):\n",
    "    print(f\"\\t{cropHectares} ha of {cropName}\")\n",
    "\n",
    "print(f\"\\nThe solution was found within {qaoa_eval_count} evaluations of QAOA.\")"
   ]
  },
  {
   "cell_type": "markdown",
   "metadata": {},
   "source": [
    "### Scaling of the Quantum Solution vs Classical"
   ]
  },
  {
   "cell_type": "markdown",
   "metadata": {},
   "source": [
    "When we created our quadratic program for the crop-yield problem, we saw that the Ising Model required 6 qubits. We had constrained our problem such that we could only plant up to 1 hectare per crop. However, we could change the model so that we can plot 3 hectares per crop, upto our maximum available farm area of 3 hectares.\n",
    "\n",
    "How many qubits would this ising model require?\n",
    "\n",
    "---\n",
    "\n",
    "Furthermore, what if we had more land to farm? We know that this problem is NP-Hard and thus classical solutions are mostly found using heuristics. This is the core reason why quantum computers are promising to solve these kinds of problems. But what are the resource requirements for the quantum solution, with a larger farm and crops that can be planted in more hectares?\n",
    "\n",
    "To illustrate this, we've provided a function that returns the number of qubits required by the underlying Ising Model for the Crop-Yield Problem. We then see the estimated number of qubits needed for different problem parameters. Feel free to modify the variables being used to see how the qubit resource requirements change."
   ]
  },
  {
   "cell_type": "code",
   "execution_count": 26,
   "metadata": {
    "scrolled": true
   },
   "outputs": [
    {
     "name": "stdout",
     "output_type": "stream",
     "text": [
      "Optimizing a 10 ha farm with each crop taking up to 10 ha each, the computation is estimated to require 20 qubits.\n"
     ]
    }
   ],
   "source": [
    "# Function to estimate the number of qubits required\n",
    "def estimate_number_of_qubits_required_for(max_hectares_per_crop, hectares_available):\n",
    "    return int(\n",
    "        4 * np.ceil(np.log2(max_hectares_per_crop + 1))\n",
    "        + np.ceil(np.log2(hectares_available + 1))\n",
    "    )\n",
    "\n",
    "\n",
    "# Our new problem parameters\n",
    "hectares_available = 10\n",
    "max_hectares_per_crop = 10\n",
    "\n",
    "# Retrieving the number of qubits required\n",
    "number_of_qubits_required = estimate_number_of_qubits_required_for(\n",
    "    max_hectares_per_crop=max_hectares_per_crop, hectares_available=hectares_available\n",
    ")\n",
    "\n",
    "print(\n",
    "    f\"Optimizing a {hectares_available} ha farm with each crop taking up to {max_hectares_per_crop} ha each,\",\n",
    "    f\"the computation is estimated to require {number_of_qubits_required} qubits.\",\n",
    ")"
   ]
  },
  {
   "cell_type": "markdown",
   "metadata": {},
   "source": [
    "The number of qubits required is related to the constraints in the quadratic program and how the integer variables are converted to binary variables. In fact, the scaling of the number of qubits, as a function of the hectares available, is logarithmic in nature; owing to this conversion."
   ]
  },
  {
   "cell_type": "markdown",
   "metadata": {},
   "source": [
    "## Running on real quantum hardware"
   ]
  },
  {
   "cell_type": "markdown",
   "metadata": {},
   "source": [
    "To use the IBM Quantum platform is easy. First you need to load the account you enabled in the week 0 content. If you didn't complete this, follow this [quick guide](https://quantum-computing.ibm.com/lab/docs/iql/manage/account/ibmq) on connecting your IBM Quantum account with Qiskit in python and Jupyter."
   ]
  },
  {
   "cell_type": "code",
   "execution_count": 27,
   "metadata": {},
   "outputs": [
    {
     "data": {
      "text/plain": [
       "<AccountProvider for IBMQ(hub='ibm-q', group='open', project='main')>"
      ]
     },
     "execution_count": 27,
     "metadata": {},
     "output_type": "execute_result"
    }
   ],
   "source": [
    "IBMQ.load_account()"
   ]
  },
  {
   "cell_type": "markdown",
   "metadata": {},
   "source": [
    "IBM Quantum backends are accessed through a provider, which manages the devices to which you have access. For this challenge, you have access to the new `ibm_perth` quantum computer! Typically, you would find your provider details under your [IBM Quantum account details](https://quantum-computing.ibm.com/account). Under your account you can see the different hubs, groups, and projects you are a part of. Qiskit allows us to retrieve a provider using just the hub, group, and project as follows:\n",
    "\n",
    "```python\n",
    "provider = IBMQ.get_provider(hub=\"ibm-q\", group=\"open\", project=\"main\")\n",
    "```\n",
    "\n",
    "However, because we have given you special access for this challenge, we are going to retrive the provider using a different method. Execute the code cell below to retrieve the correct provider."
   ]
  },
  {
   "cell_type": "code",
   "execution_count": 28,
   "metadata": {},
   "outputs": [
    {
     "name": "stdout",
     "output_type": "stream",
     "text": [
      "Yay! The expected provider was found!\n"
     ]
    }
   ],
   "source": [
    "provider = None\n",
    "for prov in IBMQ.providers():\n",
    "    if (\n",
    "        \"iqc-africa-21\" in prov.credentials.hub\n",
    "        and \"q-challenge\" in prov.credentials.group\n",
    "        and \"ex1\" in prov.credentials.project\n",
    "    ):\n",
    "        # Correct provider found\n",
    "        provider = prov\n",
    "        \n",
    "if provider == None:\n",
    "    print(\"ERROR: The expected provider was not found!\")\n",
    "else:\n",
    "    print(\"Yay! The expected provider was found!\")"
   ]
  },
  {
   "cell_type": "markdown",
   "metadata": {},
   "source": [
    "If the above code cell returned an error, you may not yet have access to the real quantum computer. The list of participants is updated daily, so you may have to wait some time before the correct provider appears. If you need assistance, send a message to the challenge Slack channel [#challenge-africa-2021](https://qiskit.slack.com/archives/C02C8MKP153) and make sure to tag the admin team with [@africa_admin](#)."
   ]
  },
  {
   "cell_type": "markdown",
   "metadata": {},
   "source": [
    "------\n",
    "\n",
    "To retrieve a backend from the provider, one needs only request it by name. For example, we can request `ibm_perth` as follows."
   ]
  },
  {
   "cell_type": "code",
   "execution_count": 29,
   "metadata": {},
   "outputs": [],
   "source": [
    "backend_real = provider.get_backend(\"ibm_perth\")"
   ]
  },
  {
   "cell_type": "markdown",
   "metadata": {},
   "source": [
    "We can also list all backends available through a given backend. In this example we use the _open_ provider as it has access to all open devices and simulators, instead of the limited few for the challenge."
   ]
  },
  {
   "cell_type": "code",
   "execution_count": 30,
   "metadata": {},
   "outputs": [
    {
     "name": "stdout",
     "output_type": "stream",
     "text": [
      "ibmq_qasm_simulator\n",
      "ibmq_armonk\n",
      "ibmq_santiago\n",
      "ibmq_bogota\n",
      "ibmq_lima\n",
      "ibmq_belem\n",
      "ibmq_quito\n",
      "simulator_statevector\n",
      "simulator_mps\n",
      "simulator_extended_stabilizer\n",
      "simulator_stabilizer\n",
      "ibmq_manila\n"
     ]
    }
   ],
   "source": [
    "for _backend in IBMQ.get_provider(hub='ibm-q', group='open', project='main').backends():\n",
    "    print(_backend.name())"
   ]
  },
  {
   "cell_type": "markdown",
   "metadata": {},
   "source": [
    "Qiskit provides visual tools to view backend information in a jupyter notebook. To accomplish this, one needs to import the `jupyter` submodule and call the appropriate _magic comment_. With `qiskit_backend_overview` you can view all devices accessible by the current IBMQ account. Notice how it does not include simulators. Furthermore, you should see that all devices available through the _open group_ have at most 5 qubits. This is a problem for solving the crop-yield problem we created earlier, as we showed it requires 6 qubits.\n",
    "\n",
    "To demonstrate how a real quantum device is used, a smaller `QuadraticProgram` is provided, requiring a maximum of 4 qubits."
   ]
  },
  {
   "cell_type": "code",
   "execution_count": 31,
   "metadata": {},
   "outputs": [
    {
     "data": {
      "application/vnd.jupyter.widget-view+json": {
       "model_id": "e0c95a91ff984c349adcd74f433e2e79",
       "version_major": 2,
       "version_minor": 0
      },
      "text/plain": [
       "VBox(children=(HTML(value=\"<h2 style ='color:#ffffff; background-color:#000000;padding-top: 1%; padding-bottom…"
      ]
     },
     "metadata": {},
     "output_type": "display_data"
    }
   ],
   "source": [
    "%qiskit_backend_overview"
   ]
  },
  {
   "cell_type": "markdown",
   "metadata": {},
   "source": [
    "<div class=\"alert alert-block alert-warning\">\n",
    "    \n",
    "If you want access to larger and more sophisticated quantum computers through IBM, see if your university or company is part of the [IBM Quantum Network](https://www.ibm.com/quantum-computing/network/members/). Researchers are institutions that are part of the [African Research Universities Alliance (ARUA)](https://arua.org.za/) can also apply for access through the University of the Witwatersrand, in South Africa; which is a member of the IBM Quantum Network. If you are a researcher, you can also apply for access through the [IBM Quantum Researchers Program](https://www.ibm.com/quantum-computing/researchers-program/). If you're a student at a highschool or university, you can ask your teachers or lecturers to apply for access through the [IBM Quantum Educators Program](https://www.ibm.com/quantum-computing/educators-program/).\n",
    "\n",
    "</div>"
   ]
  },
  {
   "cell_type": "markdown",
   "metadata": {},
   "source": [
    "Given that we have imported `qiskit.tools.jupyter`, Jupyter will now display a helpful widget when an IBMQ backend is displayed. We do not have to use a _magic comment_ here as the jupyter submodule defines how some variables are displayed in a jupyter notebook, without requiring a _magic comment_."
   ]
  },
  {
   "cell_type": "code",
   "execution_count": 32,
   "metadata": {},
   "outputs": [
    {
     "data": {
      "application/vnd.jupyter.widget-view+json": {
       "model_id": "b30bdca101e8493390249b36df596e78",
       "version_major": 2,
       "version_minor": 0
      },
      "text/plain": [
       "VBox(children=(HTML(value=\"<h1 style='color:#ffffff;background-color:#000000;padding-top: 1%;padding-bottom: 1…"
      ]
     },
     "metadata": {},
     "output_type": "display_data"
    },
    {
     "data": {
      "text/plain": [
       "<IBMQBackend('ibm_perth') from IBMQ(hub='iqc-africa-21-3', group='q-challenge-2', project='ex1-recQ5FWfGudbW70tB')>"
      ]
     },
     "execution_count": 32,
     "metadata": {},
     "output_type": "execute_result"
    }
   ],
   "source": [
    "backend_real"
   ]
  },
  {
   "cell_type": "markdown",
   "metadata": {},
   "source": [
    "We can create a new `QuantumInstance` object to contain our real quantum computer backend, similar to how we created one to manage our simulator. For real devices, there is an extra parameter we can set: `shots`. The output of a quantum computing algorithm is probabilistic. Therefore, we must execute the quantum computation multiple times, sampling the outputs to estimate their probabilities. The number of `shots` is the number of executions of the quantum computation. Here we set out `QuantumInstance` to use the least busy backend with 2048 shots."
   ]
  },
  {
   "cell_type": "code",
   "execution_count": 33,
   "metadata": {},
   "outputs": [],
   "source": [
    "quantum_instance_real = QuantumInstance(backend_real, shots=2048)"
   ]
  },
  {
   "cell_type": "markdown",
   "metadata": {},
   "source": [
    "The VQE algorithm and QAOA are iterative, meaning that they incorporate a classical-quantum loop which repeats certain computations, _hopefully_ converging to a valid solution. In each iteration, or evaluation, the quantum backend will execute the quantum operations 2048 times. Each shot is quite fast, so we do not have to worry about a significant increase in processing time by using more shots."
   ]
  },
  {
   "cell_type": "markdown",
   "metadata": {},
   "source": [
    "----\n",
    "We now define our small crop-yield problem, which only requires 4 qubits. In this example, only Wheat and Maize are used. The model is altered to illustrate the impact of growing too much of a single crop, with the yield decreasing as the number of hectares of a single crop is increased. However, utilizing both wheat and maize increases yield, showing the benefits of intercropping.\n",
    "\n",
    "**NB:** The maximum number of hectares available is 4, but given that the model would never exceed this limit, the linear constraint defining the maximum number of hectares is not included. This reduces the number of qubits required from 6 to 4."
   ]
  },
  {
   "cell_type": "code",
   "execution_count": 34,
   "metadata": {},
   "outputs": [
    {
     "name": "stdout",
     "output_type": "stream",
     "text": [
      "\\ This file has been generated by DOcplex\n",
      "\\ ENCODING=ISO-8859-1\n",
      "\\Problem name: Small Crop-Yield\n",
      "\n",
      "Maximize\n",
      " obj: 3 Wheat + 3 Maize + [ - 4 Wheat^2 + 2 Wheat*Maize - 4 Maize^2 ]/2\n",
      "Subject To\n",
      "\n",
      "Bounds\n",
      "       Wheat <= 2\n",
      "       Maize <= 2\n",
      "\n",
      "Generals\n",
      " Wheat Maize\n",
      "End\n",
      "\n"
     ]
    }
   ],
   "source": [
    "# Create a small crop-yield example quadratic program\n",
    "cropyield_small = QuadraticProgram(name=\"Small Crop-Yield\")\n",
    "\n",
    "# Add two variables, indicating whether we grow 0, 1, or 2 hectares for two different crops\n",
    "cropyield_small.integer_var(lowerbound=0, upperbound=2, name=\"Wheat\")\n",
    "cropyield_small.integer_var(lowerbound=0, upperbound=2, name=\"Maize\")\n",
    "\n",
    "# Add the objective function defining the yield in tonnes\n",
    "cropyield_small.maximize(\n",
    "    linear={\"Wheat\": 3, \"Maize\": 3},\n",
    "    quadratic={(\"Maize\", \"Wheat\"): 1, (\"Maize\", \"Maize\"): -2, (\"Wheat\", \"Wheat\"): -2},\n",
    ")\n",
    "\n",
    "# This linear constraint is not used as the model never reaches this. This is because the\n",
    "# sum of the upperbounds on both variables is 4 already. If this constraint is applied, the\n",
    "# model would require 6 qubits instead of 4.\n",
    "# cropyield_small.linear_constraint(linear={\"Wheat\": 1, \"Maize\": 1}, sense=\"<=\", rhs=4)\n",
    "\n",
    "print(cropyield_small)"
   ]
  },
  {
   "cell_type": "markdown",
   "metadata": {},
   "source": [
    "Here we verify that our small crop-yield problem requires only 4 qubits."
   ]
  },
  {
   "cell_type": "code",
   "execution_count": 35,
   "metadata": {},
   "outputs": [
    {
     "name": "stdout",
     "output_type": "stream",
     "text": [
      "Number of qubits required is 4\n"
     ]
    }
   ],
   "source": [
    "# Estimate the number of qubits required\n",
    "ising_operations_small, _ = (\n",
    "    QuadraticProgramToQubo()\n",
    "    .convert(\n",
    "        cropyield_small,\n",
    "    )\n",
    "    .to_ising()\n",
    ")\n",
    "print(f\"Number of qubits required is {ising_operations_small.num_qubits}\")"
   ]
  },
  {
   "cell_type": "markdown",
   "metadata": {},
   "source": [
    "### Exercise 1d: Submitting a job to a real quantum computer"
   ]
  },
  {
   "cell_type": "markdown",
   "metadata": {},
   "source": [
    "Now that we know the problem can be run on our chosen device, we can execute the VQE algorithm. In this case we will set the optimizer, with a maximum number of iterations of 1, so that we do not occupy the device for too long. Our answer will be incorrect, but we only want to see how to send a quantum program to a real quantum computer."
   ]
  },
  {
   "cell_type": "code",
   "execution_count": 36,
   "metadata": {},
   "outputs": [
    {
     "name": "stderr",
     "output_type": "stream",
     "text": [
      "/opt/conda/lib/python3.8/site-packages/qiskit/utils/run_circuits.py:695: UserWarning: max_credits is not a recognized runtime option and may be ignored by the backend.\n",
      "  return backend.run(circuits, **run_kwargs)\n"
     ]
    }
   ],
   "source": [
    "# Create our optimizer\n",
    "optimizer = COBYLA(maxiter=1)\n",
    "\n",
    "## Get result from real device with VQE\n",
    "vqe_result_real, vqe_eval_count_real = get_VQE_solution_for(\n",
    "    cropyield_small, quantum_instance_real, optimizer=optimizer\n",
    ")"
   ]
  },
  {
   "cell_type": "markdown",
   "metadata": {},
   "source": [
    "Qiskit uses `jobs` to track computations and their results on remote devices and simulators. We can query the backend object for the jobs it received, which would be those created by the VQE algorithm."
   ]
  },
  {
   "cell_type": "code",
   "execution_count": 37,
   "metadata": {},
   "outputs": [
    {
     "name": "stdout",
     "output_type": "stream",
     "text": [
      "VQE job created at 2021-09-11 08:26:41.006000+00:00 and has a job id of 613c6841fd182315db857507\n"
     ]
    }
   ],
   "source": [
    "# Retrieve the VQE job sent\n",
    "job_real = backend_real.jobs()[0]\n",
    "\n",
    "print(f\"VQE job created at {job_real.creation_date()} and has a job id of {job_real.job_id()}\")"
   ]
  },
  {
   "cell_type": "markdown",
   "metadata": {},
   "source": [
    "Put the job id for your the above job into the cell below and execute the code cell."
   ]
  },
  {
   "cell_type": "code",
   "execution_count": 38,
   "metadata": {},
   "outputs": [
    {
     "name": "stdout",
     "output_type": "stream",
     "text": [
      "Submitting your answer for ex1/partD. Please wait...\n",
      "Congratulations 🎉! Your answer is correct and has been submitted.\n"
     ]
    }
   ],
   "source": [
    "from qc_grader import grade_ex1d\n",
    "\n",
    "#job_id = 'put your job id here'\n",
    "job_id = '613c6841fd182315db857507'\n",
    "\n",
    "grade_ex1d(job_id)"
   ]
  },
  {
   "cell_type": "markdown",
   "metadata": {},
   "source": [
    "You have now completed the first lab of the IBM Quantum Challenge Africa 2021! Make sure that you are on the [Qiskit Slack channel](https://ibm.co/Africa_Slack) so you can ask questions and talk to other participants. There are two more labs left in the challenge, which are more difficult than this introductory lab, covering quantum computing for finance and HIV."
   ]
  },
  {
   "cell_type": "markdown",
   "metadata": {},
   "source": [
    "## References"
   ]
  },
  {
   "cell_type": "markdown",
   "metadata": {},
   "source": [
    "[1] A. A. Nel, ‘Crop rotation in the summer rainfall area of South Africa’, South African Journal of Plant and Soil, vol. 22, no. 4, pp. 274–278, Jan. 2005, doi: 10.1080/02571862.2005.10634721.\n",
    "\n",
    "[2] H. Ritchie and M. Roser, ‘Crop yields’, Our World in Data, 2013, [Online]. Available: https://ourworldindata.org/crop-yields.\n",
    "\n",
    "[3] G. Brion, ‘Controlling Pests with Plants: The power of intercropping’, UVM Food Feed, Jan. 09, 2014. https://learn.uvm.edu/foodsystemsblog/2014/01/09/controlling-pests-with-plants-the-power-of-intercropping/ (accessed Feb. 15, 2021).\n",
    "\n",
    "[4] N. O. Ogot, J. O. Pittchar, C. A. O. Midega, and Z. R. Khan, ‘Attributes of push-pull technology in enhancing food and nutrition security’, African Journal of Agriculture and Food Security, vol. 6, pp. 229–242, Mar. 2018."
   ]
  },
  {
   "cell_type": "code",
   "execution_count": 39,
   "metadata": {},
   "outputs": [
    {
     "name": "stderr",
     "output_type": "stream",
     "text": [
      "/opt/conda/lib/python3.8/site-packages/qiskit/aqua/__init__.py:86: DeprecationWarning: The package qiskit.aqua is deprecated. It was moved/refactored to qiskit-terra For more information see <https://github.com/Qiskit/qiskit-aqua/blob/main/README.md#migration-guide>\n",
      "  warn_package('aqua', 'qiskit-terra')\n"
     ]
    },
    {
     "data": {
      "text/html": [
       "<h3>Version Information</h3><table><tr><th>Qiskit Software</th><th>Version</th></tr><tr><td><code>qiskit-terra</code></td><td>0.18.1</td></tr><tr><td><code>qiskit-aer</code></td><td>0.8.2</td></tr><tr><td><code>qiskit-ignis</code></td><td>0.6.0</td></tr><tr><td><code>qiskit-ibmq-provider</code></td><td>0.16.0</td></tr><tr><td><code>qiskit-aqua</code></td><td>0.9.4</td></tr><tr><td><code>qiskit</code></td><td>0.29.0</td></tr><tr><td><code>qiskit-nature</code></td><td>0.1.5</td></tr><tr><td><code>qiskit-finance</code></td><td>0.2.0</td></tr><tr><td><code>qiskit-optimization</code></td><td>0.2.1</td></tr><tr><td><code>qiskit-machine-learning</code></td><td>0.2.0</td></tr><tr><th>System information</th></tr><tr><td>Python</td><td>3.8.10 | packaged by conda-forge | (default, May 11 2021, 07:01:05) \n",
       "[GCC 9.3.0]</td></tr><tr><td>OS</td><td>Linux</td></tr><tr><td>CPUs</td><td>8</td></tr><tr><td>Memory (Gb)</td><td>31.408958435058594</td></tr><tr><td colspan='2'>Sat Sep 11 08:28:33 2021 UTC</td></tr></table>"
      ],
      "text/plain": [
       "<IPython.core.display.HTML object>"
      ]
     },
     "metadata": {},
     "output_type": "display_data"
    },
    {
     "data": {
      "text/html": [
       "<div style='width: 100%; background-color:#d5d9e0;padding-left: 10px; padding-bottom: 10px; padding-right: 10px; padding-top: 5px'><h3>This code is a part of Qiskit</h3><p>&copy; Copyright IBM 2017, 2021.</p><p>This code is licensed under the Apache License, Version 2.0. You may<br>obtain a copy of this license in the LICENSE.txt file in the root directory<br> of this source tree or at http://www.apache.org/licenses/LICENSE-2.0.<p>Any modifications or derivative works of this code must retain this<br>copyright notice, and modified files need to carry a notice indicating<br>that they have been altered from the originals.</p></div>"
      ],
      "text/plain": [
       "<IPython.core.display.HTML object>"
      ]
     },
     "metadata": {},
     "output_type": "display_data"
    }
   ],
   "source": [
    "import qiskit.tools.jupyter\n",
    "\n",
    "%qiskit_version_table\n",
    "%qiskit_copyright"
   ]
  },
  {
   "cell_type": "markdown",
   "metadata": {},
   "source": [
    "By "
   ]
  }
 ],
 "metadata": {
  "kernelspec": {
   "display_name": "Qiskit v0.29.0",
   "language": "python",
   "name": "python3"
  },
  "language_info": {
   "codemirror_mode": {
    "name": "ipython",
    "version": 3
   },
   "file_extension": ".py",
   "mimetype": "text/x-python",
   "name": "python",
   "nbconvert_exporter": "python",
   "pygments_lexer": "ipython3",
   "version": "3.8.10"
  },
  "toc": {
   "base_numbering": 1,
   "nav_menu": {},
   "number_sections": true,
   "sideBar": true,
   "skip_h1_title": false,
   "title_cell": "Table of Contents",
   "title_sidebar": "Contents",
   "toc_cell": false,
   "toc_position": {
    "height": "calc(100% - 180px)",
    "left": "10px",
    "top": "150px",
    "width": "195px"
   },
   "toc_section_display": true,
   "toc_window_display": true
  },
  "varInspector": {
   "cols": {
    "lenName": 16,
    "lenType": 16,
    "lenVar": 40
   },
   "kernels_config": {
    "python": {
     "delete_cmd_postfix": "",
     "delete_cmd_prefix": "del ",
     "library": "var_list.py",
     "varRefreshCmd": "print(var_dic_list())"
    },
    "r": {
     "delete_cmd_postfix": ") ",
     "delete_cmd_prefix": "rm(",
     "library": "var_list.r",
     "varRefreshCmd": "cat(var_dic_list()) "
    }
   },
   "oldHeight": 676.85,
   "position": {
    "height": "698.85px",
    "left": "2014px",
    "right": "20px",
    "top": "158px",
    "width": "477px"
   },
   "types_to_exclude": [
    "module",
    "function",
    "builtin_function_or_method",
    "instance",
    "_Feature"
   ],
   "varInspector_section_display": "block",
   "window_display": false
  },
  "widgets": {
   "application/vnd.jupyter.widget-state+json": {
    "state": {
     "0034511157574e819b1ca91992463d86": {
      "model_module": "@jupyter-widgets/controls",
      "model_module_version": "1.5.0",
      "model_name": "HBoxModel",
      "state": {
       "children": [
        "IPY_MODEL_79f7c5b79fdd4e77b3ff6638642fd397",
        "IPY_MODEL_fae76d190f394990b8e09de6c4fbc89c",
        "IPY_MODEL_2ddcb8a826044f54832441ede332d950",
        "IPY_MODEL_04d2c9dcc8aa47508f41e56d3b90292b",
        "IPY_MODEL_2845067a53c14309b697b9b7a5d14cd8",
        "IPY_MODEL_13b891402e964506a079b23ddc4d01c6"
       ],
       "layout": "IPY_MODEL_52d814538e6d469e8aaa227260ab45b6"
      }
     },
     "01154db8a7ab46b8b4b8ec59cd6a520d": {
      "model_module": "@jupyter-widgets/controls",
      "model_module_version": "1.5.0",
      "model_name": "DescriptionStyleModel",
      "state": {
       "description_width": ""
      }
     },
     "01977ac0c6e4490e81ffc70a2add8145": {
      "model_module": "@jupyter-widgets/controls",
      "model_module_version": "1.5.0",
      "model_name": "HTMLModel",
      "state": {
       "layout": "IPY_MODEL_3cf13c02b7e74716838dfccf62ef8ead",
       "style": "IPY_MODEL_86538640f9264a61b8189c7295ac0c27",
       "value": "<h5>32</h5>"
      }
     },
     "0241d46d348e43359e36c5c9a22bc7e7": {
      "model_module": "@jupyter-widgets/base",
      "model_module_version": "1.2.0",
      "model_name": "LayoutModel",
      "state": {
       "align_items": "center",
       "justify_content": "center",
       "margin": "0px 0px 0px 0px",
       "max_height": "250px",
       "max_width": "250px",
       "min_height": "250px",
       "min_width": "250px"
      }
     },
     "0268c853fdd74b0b918db9df187f129b": {
      "model_module": "@jupyter-widgets/controls",
      "model_module_version": "1.5.0",
      "model_name": "DescriptionStyleModel",
      "state": {
       "description_width": ""
      }
     },
     "02ce7e59d1f7459cab9ea4e918a29af1": {
      "model_module": "@jupyter-widgets/controls",
      "model_module_version": "1.5.0",
      "model_name": "HTMLModel",
      "state": {
       "layout": "IPY_MODEL_25527feadf76460e86e43145640b6d10",
       "style": "IPY_MODEL_4d47787ea1ed4b558ef6ef10559913b8",
       "value": "<p style='font-family: IBM Plex Sans, Arial, Helvetica, sans-serif; font-size: 20px; font-weight: medium;'>Circuit Properties</p>"
      }
     },
     "02dfbb658b204115bf786b4345d6c78b": {
      "model_module": "@jupyter-widgets/base",
      "model_module_version": "1.2.0",
      "model_name": "LayoutModel",
      "state": {
       "margin": "295px 0px 0px 0px",
       "min_width": "100px"
      }
     },
     "0375bf0e9c4a4d459c5c460791b56f8f": {
      "model_module": "@jupyter-widgets/controls",
      "model_module_version": "1.5.0",
      "model_name": "DescriptionStyleModel",
      "state": {
       "description_width": ""
      }
     },
     "04396f5c163b417b88c22a16f9be654c": {
      "model_module": "@jupyter-widgets/base",
      "model_module_version": "1.2.0",
      "model_name": "LayoutModel",
      "state": {
       "justify_content": "center",
       "max_width": "250px",
       "min_width": "250px"
      }
     },
     "04afec7436954973b3c58e7e4245ce42": {
      "model_module": "@jupyter-widgets/controls",
      "model_module_version": "1.5.0",
      "model_name": "DescriptionStyleModel",
      "state": {
       "description_width": ""
      }
     },
     "04d2c9dcc8aa47508f41e56d3b90292b": {
      "model_module": "@jupyter-widgets/controls",
      "model_module_version": "1.5.0",
      "model_name": "HTMLModel",
      "state": {
       "layout": "IPY_MODEL_509f2e5707ab4528a5eeb270b66643f6",
       "style": "IPY_MODEL_a90d7018c69346abacb263afdf3cdf02",
       "value": "<font style='color:#34BC6E'>DONE</font>"
      }
     },
     "04e0cb371fb549be98eb559377c6842d": {
      "model_module": "@jupyter-widgets/controls",
      "model_module_version": "1.5.0",
      "model_name": "DescriptionStyleModel",
      "state": {
       "description_width": ""
      }
     },
     "0562417fd35e4e678b21ccabb7146b08": {
      "model_module": "@jupyter-widgets/controls",
      "model_module_version": "1.5.0",
      "model_name": "HTMLModel",
      "state": {
       "layout": "IPY_MODEL_d1374cc2750146219239c8ebc3537754",
       "style": "IPY_MODEL_cbc0eb658eb249e18c8819a9ec71315b",
       "value": "<h5>16</h5>"
      }
     },
     "0585f3bd2c0a4559813cd317db2b2a11": {
      "model_module": "@jupyter-widgets/base",
      "model_module_version": "1.2.0",
      "model_name": "LayoutModel",
      "state": {
       "margin": "0px 0px 0px 0px"
      }
     },
     "060a16d3b7b546019f80ba315b7114c3": {
      "model_module": "@jupyter-widgets/controls",
      "model_module_version": "1.5.0",
      "model_name": "HTMLModel",
      "state": {
       "layout": "IPY_MODEL_41ee9c61439042ec9e6b5e830d69ab58",
       "style": "IPY_MODEL_ed8a91b33bcf4ff694585f9ae9bc9d97",
       "value": "<h5><b>5</b></h5>"
      }
     },
     "077abc4876a94b788bb65039be4eb599": {
      "model_module": "@jupyter-widgets/base",
      "model_module_version": "1.2.0",
      "model_name": "LayoutModel",
      "state": {
       "justify_content": "center"
      }
     },
     "079fa5e6ffab47d0bc5605f8de46900d": {
      "model_module": "@jupyter-widgets/controls",
      "model_module_version": "1.5.0",
      "model_name": "HTMLModel",
      "state": {
       "layout": "IPY_MODEL_43ea4a74e492457fa2de11d5acd0105e",
       "style": "IPY_MODEL_bfcb5a39f21c46d48b9ed6d75d22285b",
       "value": "<h5>0.0114</h5>"
      }
     },
     "09b90d6bf8e144de8eb859957d51ee82": {
      "model_module": "@jupyter-widgets/base",
      "model_module_version": "1.2.0",
      "model_name": "LayoutModel",
      "state": {
       "justify_content": "center",
       "max_width": "250px",
       "min_width": "250px"
      }
     },
     "0a0a00e70d3e4f829e2865776f36d52f": {
      "model_module": "@jupyter-widgets/controls",
      "model_module_version": "1.5.0",
      "model_name": "HTMLModel",
      "state": {
       "layout": "IPY_MODEL_7ff8f801e9c243a3856f50052df65f37",
       "style": "IPY_MODEL_1eebae358d8e467585a9674ad38dd503",
       "value": "<h5>NA</h5>"
      }
     },
     "0b649137afea46f7b1af732eec833f28": {
      "model_module": "@jupyter-widgets/base",
      "model_module_version": "1.2.0",
      "model_name": "LayoutModel",
      "state": {
       "max_width": "180px"
      }
     },
     "0bef21421b6e40a1ab4db05f2ac9de72": {
      "model_module": "@jupyter-widgets/base",
      "model_module_version": "1.2.0",
      "model_name": "LayoutModel",
      "state": {
       "align_items": "center",
       "display": "inline-flex",
       "flex_flow": "column"
      }
     },
     "0c0a1b05ab41424fa55ac91a3331f4d8": {
      "model_module": "@jupyter-widgets/controls",
      "model_module_version": "1.5.0",
      "model_name": "LabelModel",
      "state": {
       "layout": "IPY_MODEL_fe17d2a095244eafbbbd1a63966dde4c",
       "style": "IPY_MODEL_1d164c7db67046c59a4c35266652e116",
       "value": "50"
      }
     },
     "0d80a8960266498d8f128e2e7edc806f": {
      "model_module": "@jupyter-widgets/controls",
      "model_module_version": "1.5.0",
      "model_name": "IntProgressModel",
      "state": {
       "layout": "IPY_MODEL_31ed0fff902748b5af2e10d600446b34",
       "max": 50,
       "style": "IPY_MODEL_620c319354724a74bad9081fe4b8adb7",
       "value": 1
      }
     },
     "0e3396006aa7419a85738aef5bfc0dd1": {
      "model_module": "@jupyter-widgets/base",
      "model_module_version": "1.2.0",
      "model_name": "LayoutModel",
      "state": {
       "max_width": "180px"
      }
     },
     "0e8c7ef1e13440c0af88cb1dcf802d48": {
      "model_module": "@jupyter-widgets/base",
      "model_module_version": "1.2.0",
      "model_name": "LayoutModel",
      "state": {
       "margin": "5px 0px 0px 0px"
      }
     },
     "0eb0f7170a5a4c9685a5e9e430c74b7e": {
      "model_module": "@jupyter-widgets/base",
      "model_module_version": "1.2.0",
      "model_name": "LayoutModel",
      "state": {
       "grid_template_areas": "\n                                       \". . . . right \"\n                                        ",
       "grid_template_columns": "20% 20% 20% 20% 20%",
       "width": "100%"
      }
     },
     "0f0bebb686674d0bb85eb53f955cf3ce": {
      "model_module": "@jupyter-widgets/controls",
      "model_module_version": "1.5.0",
      "model_name": "DescriptionStyleModel",
      "state": {
       "description_width": ""
      }
     },
     "0f4f69a45ebc4a61b9dd8865bb64e6a1": {
      "model_module": "@jupyter-widgets/base",
      "model_module_version": "1.2.0",
      "model_name": "LayoutModel",
      "state": {
       "margin": "0px 0px 0px 37px",
       "width": "600px"
      }
     },
     "0f5678e1593d450cb1e2445694719904": {
      "model_module": "@jupyter-widgets/controls",
      "model_module_version": "1.5.0",
      "model_name": "DescriptionStyleModel",
      "state": {
       "description_width": ""
      }
     },
     "0f57923f85874421b1c92acfc1c1f88c": {
      "model_module": "@jupyter-widgets/base",
      "model_module_version": "1.2.0",
      "model_name": "LayoutModel",
      "state": {
       "width": "145px"
      }
     },
     "0f58dcb30d1743e88b93cdd96a59dc6e": {
      "model_module": "@jupyter-widgets/base",
      "model_module_version": "1.2.0",
      "model_name": "LayoutModel",
      "state": {
       "grid_area": "middle"
      }
     },
     "0ffed87ed9c64463b5ad942eac24f9b3": {
      "model_module": "@jupyter-widgets/controls",
      "model_module_version": "1.5.0",
      "model_name": "HTMLModel",
      "state": {
       "layout": "IPY_MODEL_3d888a4b2bb9431c9be3a06a06aa2a01",
       "style": "IPY_MODEL_4211378d80fa41ebae12b7397899a668",
       "value": "<h5>Queue</h5>"
      }
     },
     "11086d7f30594868beb9868384f3b35a": {
      "model_module": "@jupyter-widgets/base",
      "model_module_version": "1.2.0",
      "model_name": "LayoutModel",
      "state": {
       "grid_area": "right",
       "padding": "0px 0px 0px 0px",
       "width": "70px"
      }
     },
     "11cd08f0d51d4722a64934bd2baccede": {
      "model_module": "@jupyter-widgets/base",
      "model_module_version": "1.2.0",
      "model_name": "LayoutModel",
      "state": {
       "grid_area": "left",
       "width": "100%"
      }
     },
     "1241fbcd9835488dac4e119d253e41ae": {
      "model_module": "@jupyter-widgets/controls",
      "model_module_version": "1.5.0",
      "model_name": "HTMLModel",
      "state": {
       "layout": "IPY_MODEL_463d051405a74b6bad2e6e4ce7316eb4",
       "style": "IPY_MODEL_ae3d6539ee644a9ca82d796e4033ad77",
       "value": "<h5><b>5</b></h5>"
      }
     },
     "1293aa300ecb43e9bb6912579832b75b": {
      "model_module": "@jupyter-widgets/controls",
      "model_module_version": "1.5.0",
      "model_name": "DescriptionStyleModel",
      "state": {
       "description_width": ""
      }
     },
     "137fb596eafb4ef2bd1afec14210eb07": {
      "model_module": "@jupyter-widgets/base",
      "model_module_version": "1.2.0",
      "model_name": "LayoutModel",
      "state": {}
     },
     "13b891402e964506a079b23ddc4d01c6": {
      "model_module": "@jupyter-widgets/controls",
      "model_module_version": "1.5.0",
      "model_name": "HTMLModel",
      "state": {
       "layout": "IPY_MODEL_32819ea28bf24192a55cb34d0d6931b9",
       "style": "IPY_MODEL_96a09e1b4c664c6092d865d39b7d1284",
       "value": "job has successfully run"
      }
     },
     "145d1fe55cfb460a97192243752bb58e": {
      "model_module": "@jupyter-widgets/controls",
      "model_module_version": "1.5.0",
      "model_name": "HTMLModel",
      "state": {
       "layout": "IPY_MODEL_97c55df89736416fa3b8ebdd6a5e96b5",
       "style": "IPY_MODEL_814a2b0a3b434e5c8b354e5ca79b6a48",
       "value": "<h5>Backend</h5>"
      }
     },
     "15a1ab115cd542e0b6145f2c26ad5764": {
      "model_module": "@jupyter-widgets/controls",
      "model_module_version": "1.5.0",
      "model_name": "LabelModel",
      "state": {
       "layout": "IPY_MODEL_9f169c7485194832809812f42a714106",
       "style": "IPY_MODEL_efb0a36420b7416c8dabbbf3d3da5723",
       "value": "4"
      }
     },
     "172fb81471cd4245ba098136ceaaa9f7": {
      "model_module": "@jupyter-widgets/controls",
      "model_module_version": "1.5.0",
      "model_name": "DescriptionStyleModel",
      "state": {
       "description_width": ""
      }
     },
     "17879dd58f07455fbecd8757056bc2b4": {
      "model_module": "@jupyter-widgets/base",
      "model_module_version": "1.2.0",
      "model_name": "LayoutModel",
      "state": {}
     },
     "1789b0dcc0344e8cb7016708e6b018c1": {
      "model_module": "@jupyter-widgets/controls",
      "model_module_version": "1.5.0",
      "model_name": "LabelModel",
      "state": {
       "layout": "IPY_MODEL_2902e71ef1974ab5adc2a6145a60abe5",
       "style": "IPY_MODEL_cf315387536843598eb4e95a8ab50a50",
       "value": "Avg. CX Err."
      }
     },
     "17ff75aa7f874529981fe6876bde358b": {
      "model_module": "@jupyter-widgets/controls",
      "model_module_version": "1.5.0",
      "model_name": "HTMLModel",
      "state": {
       "layout": "IPY_MODEL_4d93b5c2760e4558b8c073efca35d2d4",
       "style": "IPY_MODEL_fd7a7a3de61d4ab5a546680e956a964a",
       "value": "<table><style>\ntable {\n    border-collapse: collapse;\n    width: auto;\n}\n\nth, td {\n    text-align: left;\n    padding: 8px;\n}\n\ntr:nth-child(even) {background-color: #f6f6f6;};\n</style><tr><th></th><th>Type</th><th>Gate error</th></tr><tr><td><font style='font-weight:bold'>cx13_12</font></td><td>cx</td><td>0.01666</td></tr><tr><td><font style='font-weight:bold'>cx13_14</font></td><td>cx</td><td>0.05884</td></tr><tr><td><font style='font-weight:bold'>cx14_9</font></td><td>cx</td><td>0.03955</td></tr><tr><td><font style='font-weight:bold'>cx14_13</font></td><td>cx</td><td>0.05884</td></tr><tr><td><font style='font-weight:bold'>cx14_19</font></td><td>cx</td><td>0.02031</td></tr><tr><td><font style='font-weight:bold'>cx15_10</font></td><td>cx</td><td>0.02979</td></tr><tr><td><font style='font-weight:bold'>cx15_16</font></td><td>cx</td><td>0.02217</td></tr><tr><td><font style='font-weight:bold'>cx16_15</font></td><td>cx</td><td>0.02217</td></tr><tr><td><font style='font-weight:bold'>cx16_17</font></td><td>cx</td><td>0.02326</td></tr><tr><td><font style='font-weight:bold'>cx17_16</font></td><td>cx</td><td>0.02326</td></tr><tr><td><font style='font-weight:bold'>cx17_18</font></td><td>cx</td><td>0.04465</td></tr><tr><td><font style='font-weight:bold'>cx18_17</font></td><td>cx</td><td>0.04465</td></tr><tr><td><font style='font-weight:bold'>cx18_19</font></td><td>cx</td><td>0.02858</td></tr><tr><td><font style='font-weight:bold'>cx19_14</font></td><td>cx</td><td>0.02031</td></tr><tr><td><font style='font-weight:bold'>cx19_18</font></td><td>cx</td><td>0.02858</td></tr></table>"
      }
     },
     "18f96ca096764931af49468b9c4274ba": {
      "model_module": "@jupyter-widgets/controls",
      "model_module_version": "1.5.0",
      "model_name": "DescriptionStyleModel",
      "state": {
       "description_width": ""
      }
     },
     "1ae7e7b4ae04473789117e18264271a5": {
      "model_module": "@jupyter-widgets/base",
      "model_module_version": "1.2.0",
      "model_name": "LayoutModel",
      "state": {
       "grid_gap": "0px 0px",
       "grid_template_areas": "\n                                                   \"top top top\"\n                                                   \"left middle right\"\n                                                   ",
       "grid_template_columns": "33% 33% 33%",
       "grid_template_rows": "auto auto"
      }
     },
     "1b47a56165394bae8192f486227674ff": {
      "model_module": "@jupyter-widgets/controls",
      "model_module_version": "1.5.0",
      "model_name": "VBoxModel",
      "state": {
       "children": [
        "IPY_MODEL_9290792d4f334fa295df32565ace1d1e",
        "IPY_MODEL_318c2832f5c040ffabd22b30df3d6935"
       ],
       "layout": "IPY_MODEL_bc75a0d78df04abf9fb2aebd1eda2072"
      }
     },
     "1d164c7db67046c59a4c35266652e116": {
      "model_module": "@jupyter-widgets/controls",
      "model_module_version": "1.5.0",
      "model_name": "DescriptionStyleModel",
      "state": {
       "description_width": ""
      }
     },
     "1d5e2813fa29424dba04f9dfb4400a76": {
      "model_module": "@jupyter-widgets/controls",
      "model_module_version": "1.5.0",
      "model_name": "LabelModel",
      "state": {
       "layout": "IPY_MODEL_a27a50b26f384c0ca88cc1ece8abe560",
       "style": "IPY_MODEL_c229b36199ad44159ac67101fc18f6e9",
       "value": "50"
      }
     },
     "1e31137dc4c7400f80acbe1490ae3f4d": {
      "model_module": "@jupyter-widgets/controls",
      "model_module_version": "1.5.0",
      "model_name": "DescriptionStyleModel",
      "state": {
       "description_width": ""
      }
     },
     "1e706c5c29a644d09709b2251d104aea": {
      "model_module": "@jupyter-widgets/controls",
      "model_module_version": "1.5.0",
      "model_name": "VBoxModel",
      "state": {
       "children": [
        "IPY_MODEL_c2dae79b36ee482eafe19ef1df775f47",
        "IPY_MODEL_50ffa87c8adf4e03b95a73bb7460cec6"
       ],
       "layout": "IPY_MODEL_9c17fe175573480fa4e52e9a59ddccc1"
      }
     },
     "1e7cc4fb927849a98d96b974fb4f6562": {
      "model_module": "@jupyter-widgets/controls",
      "model_module_version": "1.5.0",
      "model_name": "IntProgressModel",
      "state": {
       "layout": "IPY_MODEL_0e3396006aa7419a85738aef5bfc0dd1",
       "max": 50,
       "style": "IPY_MODEL_90ace12c6e5e4f87983a13968eb6b89a"
      }
     },
     "1eebae358d8e467585a9674ad38dd503": {
      "model_module": "@jupyter-widgets/controls",
      "model_module_version": "1.5.0",
      "model_name": "DescriptionStyleModel",
      "state": {
       "description_width": ""
      }
     },
     "1fe6db6f4299401aad733ea72304c1d7": {
      "model_module": "@jupyter-widgets/controls",
      "model_module_version": "1.5.0",
      "model_name": "DescriptionStyleModel",
      "state": {
       "description_width": ""
      }
     },
     "2019c8057566467da7066479402a5573": {
      "model_module": "@jupyter-widgets/controls",
      "model_module_version": "1.5.0",
      "model_name": "ProgressStyleModel",
      "state": {
       "bar_color": "#71cddd",
       "description_width": ""
      }
     },
     "201cade3a7494043a25bce25510d5c61": {
      "model_module": "@jupyter-widgets/base",
      "model_module_version": "1.2.0",
      "model_name": "LayoutModel",
      "state": {
       "justify_content": "center"
      }
     },
     "201d35e4e05a4f26bf7b0371b9feff56": {
      "model_module": "@jupyter-widgets/base",
      "model_module_version": "1.2.0",
      "model_name": "LayoutModel",
      "state": {
       "margin": "0px 5px 0px 0px",
       "width": "32px"
      }
     },
     "203529f9590a433e9d90ddd43f857069": {
      "model_module": "@jupyter-widgets/controls",
      "model_module_version": "1.5.0",
      "model_name": "LabelModel",
      "state": {
       "layout": "IPY_MODEL_5468a28494b94b94b533c6c4061b8077",
       "style": "IPY_MODEL_62609935ec0444988d44d42309946c88",
       "value": "Least Busy"
      }
     },
     "20fa38e73fff4fa8a26647656f81d757": {
      "model_module": "@jupyter-widgets/base",
      "model_module_version": "1.2.0",
      "model_name": "LayoutModel",
      "state": {}
     },
     "219231dd69bf4d499e9724e593ccb149": {
      "model_module": "@jupyter-widgets/controls",
      "model_module_version": "1.5.0",
      "model_name": "DescriptionStyleModel",
      "state": {
       "description_width": ""
      }
     },
     "2290fd4575964ff286417b8c1769abc8": {
      "model_module": "@jupyter-widgets/controls",
      "model_module_version": "1.5.0",
      "model_name": "DescriptionStyleModel",
      "state": {
       "description_width": ""
      }
     },
     "230774e7fc50403fba1df431d2a54493": {
      "model_module": "@jupyter-widgets/controls",
      "model_module_version": "1.5.0",
      "model_name": "HTMLModel",
      "state": {
       "layout": "IPY_MODEL_d5e5125330f84df291a3e58cde5896ae",
       "style": "IPY_MODEL_bdcd41fba2e24f65a9ee2bbcb333a392",
       "value": "<h4>ibmq_quito</h4>"
      }
     },
     "250a92e539f046198416849e6db5d2dd": {
      "model_module": "@jupyter-widgets/controls",
      "model_module_version": "1.5.0",
      "model_name": "DescriptionStyleModel",
      "state": {
       "description_width": ""
      }
     },
     "25527feadf76460e86e43145640b6d10": {
      "model_module": "@jupyter-widgets/base",
      "model_module_version": "1.2.0",
      "model_name": "LayoutModel",
      "state": {
       "margin": "0px 0px 10px 0px"
      }
     },
     "25543cd5f17743a2a50762f33e3965af": {
      "model_module": "@jupyter-widgets/base",
      "model_module_version": "1.2.0",
      "model_name": "LayoutModel",
      "state": {
       "min_width": "auto"
      }
     },
     "25e2bf39d29a4749a863806358b25c42": {
      "model_module": "@jupyter-widgets/controls",
      "model_module_version": "1.5.0",
      "model_name": "TabModel",
      "state": {
       "_titles": {
        "0": "Configuration",
        "1": "Qubit Properties",
        "2": "Multi-Qubit Gates",
        "3": "Error Map",
        "4": "Job History"
       },
       "children": [
        "IPY_MODEL_c7e8974644b944cc8aa35c53313b4c72",
        "IPY_MODEL_1e706c5c29a644d09709b2251d104aea",
        "IPY_MODEL_bd7658d54a11464794ae9b0219cbc9f7",
        "IPY_MODEL_dc95eec600144d9fb13bf9d5bba6e6e3",
        "IPY_MODEL_b9812e9c8f324269a1a83524dcbfc77f"
       ],
       "layout": "IPY_MODEL_3533664f3d4c4dca8f9e8e96cff1354c"
      }
     },
     "25f20c08c647415ba6bd402bffcca727": {
      "model_module": "@jupyter-widgets/output",
      "model_module_version": "1.0.0",
      "model_name": "OutputModel",
      "state": {
       "layout": "IPY_MODEL_4b0810018117451aaf2136f12b6f1e7f",
       "outputs": [
        {
         "data": {
          "image/png": "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\n",
          "text/plain": "<Figure size 792x648 with 5 Axes>"
         },
         "metadata": {},
         "output_type": "display_data"
        }
       ]
      }
     },
     "2639c39de70a49f5b0ccf3afaa35a300": {
      "model_module": "@jupyter-widgets/controls",
      "model_module_version": "1.5.0",
      "model_name": "DescriptionStyleModel",
      "state": {
       "description_width": ""
      }
     },
     "2813c7e61b6f45ce95a30676c51b363f": {
      "model_module": "@jupyter-widgets/controls",
      "model_module_version": "1.5.0",
      "model_name": "DescriptionStyleModel",
      "state": {
       "description_width": ""
      }
     },
     "2845067a53c14309b697b9b7a5d14cd8": {
      "model_module": "@jupyter-widgets/controls",
      "model_module_version": "1.5.0",
      "model_name": "HTMLModel",
      "state": {
       "layout": "IPY_MODEL_53d3e7ddc4274bb3b9d5f14f1d4a70bc",
       "style": "IPY_MODEL_1e31137dc4c7400f80acbe1490ae3f4d",
       "value": "-"
      }
     },
     "285335e2e2ef4b45b7aee42b25a40f51": {
      "model_module": "@jupyter-widgets/base",
      "model_module_version": "1.2.0",
      "model_name": "LayoutModel",
      "state": {}
     },
     "2902e71ef1974ab5adc2a6145a60abe5": {
      "model_module": "@jupyter-widgets/base",
      "model_module_version": "1.2.0",
      "model_name": "LayoutModel",
      "state": {
       "margin": "8px 0px 0px 0px"
      }
     },
     "2a9b1f308e1c49e5a563a6a5a28d778e": {
      "model_module": "@jupyter-widgets/base",
      "model_module_version": "1.2.0",
      "model_name": "LayoutModel",
      "state": {
       "justify_content": "center"
      }
     },
     "2bb67e1b93ec44e7962473a215bd57ce": {
      "model_module": "@jupyter-widgets/base",
      "model_module_version": "1.2.0",
      "model_name": "LayoutModel",
      "state": {
       "width": "190px"
      }
     },
     "2c650bfe69404e14aaeb8c98aec706da": {
      "model_module": "@jupyter-widgets/base",
      "model_module_version": "1.2.0",
      "model_name": "LayoutModel",
      "state": {
       "align_items": "center",
       "justify_content": "center",
       "margin": "0px 0px 0px 0px",
       "max_height": "250px",
       "max_width": "250px",
       "min_height": "250px",
       "min_width": "250px"
      }
     },
     "2c80f48fde8b4c95831876bcd616849e": {
      "model_module": "@jupyter-widgets/controls",
      "model_module_version": "1.5.0",
      "model_name": "HTMLModel",
      "state": {
       "layout": "IPY_MODEL_bb41007b5a6343879f85826bd4be1bc8",
       "style": "IPY_MODEL_b47b1ea0832645f5be9526c7af9a3b2c",
       "value": "<h5><b>5</b></h5>"
      }
     },
     "2c95d8b4a40d4399a2718040759b1214": {
      "model_module": "@jupyter-widgets/controls",
      "model_module_version": "1.5.0",
      "model_name": "DescriptionStyleModel",
      "state": {
       "description_width": ""
      }
     },
     "2cf8faf4255a4d19bba999d9e7429362": {
      "model_module": "@jupyter-widgets/base",
      "model_module_version": "1.2.0",
      "model_name": "LayoutModel",
      "state": {
       "justify_content": "center"
      }
     },
     "2d6e4c795e964a0c98552c95037c7d41": {
      "model_module": "@jupyter-widgets/base",
      "model_module_version": "1.2.0",
      "model_name": "LayoutModel",
      "state": {
       "min_width": "auto"
      }
     },
     "2d7fc58de83e4f8ea33ad74d17415992": {
      "model_module": "@jupyter-widgets/controls",
      "model_module_version": "1.5.0",
      "model_name": "DescriptionStyleModel",
      "state": {
       "description_width": ""
      }
     },
     "2d8127d6d7884c0ab3616e42428092d5": {
      "model_module": "@jupyter-widgets/base",
      "model_module_version": "1.2.0",
      "model_name": "LayoutModel",
      "state": {}
     },
     "2ddcb8a826044f54832441ede332d950": {
      "model_module": "@jupyter-widgets/controls",
      "model_module_version": "1.5.0",
      "model_name": "HTMLModel",
      "state": {
       "layout": "IPY_MODEL_0f57923f85874421b1c92acfc1c1f88c",
       "style": "IPY_MODEL_0375bf0e9c4a4d459c5c460791b56f8f",
       "value": "ibm_perth"
      }
     },
     "2e683b2c38b64d36bae732f83fb5c553": {
      "model_module": "@jupyter-widgets/controls",
      "model_module_version": "1.5.0",
      "model_name": "LabelModel",
      "state": {
       "layout": "IPY_MODEL_8fe10343a1224223ac6bca66943f4267",
       "style": "IPY_MODEL_37ef733d3f83464a97dfe19d80eccbb3",
       "value": "Pending Jobs"
      }
     },
     "2fc6be6405874c6495a23eee63051fe7": {
      "model_module": "@jupyter-widgets/controls",
      "model_module_version": "1.5.0",
      "model_name": "HBoxModel",
      "state": {
       "children": [
        "IPY_MODEL_a26930f7ece144a58d07221c1f5dc339",
        "IPY_MODEL_343b61781d8e4f92a5898e9ca667e1d0",
        "IPY_MODEL_ab8978e85cbd4cbdbcc95bafca7e51c2"
       ],
       "layout": "IPY_MODEL_04396f5c163b417b88c22a16f9be654c"
      }
     },
     "30d3849632a54248b486a73af0d89452": {
      "model_module": "@jupyter-widgets/base",
      "model_module_version": "1.2.0",
      "model_name": "LayoutModel",
      "state": {
       "justify_content": "center"
      }
     },
     "317cf9d7a314487b89008820db673c9d": {
      "model_module": "@jupyter-widgets/controls",
      "model_module_version": "1.5.0",
      "model_name": "HTMLModel",
      "state": {
       "layout": "IPY_MODEL_632c677ac2c94f42ae18db4b6d40e8b1",
       "style": "IPY_MODEL_a080128415ff458f8ca345a6b84ed08f",
       "value": "<h5>8</h5>"
      }
     },
     "318c2832f5c040ffabd22b30df3d6935": {
      "model_module": "@jupyter-widgets/controls",
      "model_module_version": "1.5.0",
      "model_name": "HTMLModel",
      "state": {
       "layout": "IPY_MODEL_c8a6f048e6e44107936144ac769c2710",
       "style": "IPY_MODEL_523ace3800194471973a6e6a25995f49",
       "value": "<table><style>\ntable {\n    border-collapse: collapse;\n    width: auto;\n}\n\nth, td {\n    text-align: left;\n    padding: 8px;\n}\n\ntr:nth-child(even) {background-color: #f6f6f6;}\n</style><tr><th></th><th>Frequency</th><th>T1</th><th>T2</th><th>U1</th><th>U2</th><th>U3</th><th>Readout error</th></tr><tr><td><font style='font-weight:bold'>Q0</font></td><td>4.66492 GHz</td><td>65.02615 µs</td><td>17.70905 µs</td><td>0</td><td>0.00075</td><td>0.00151</td><td>0.0334 </td><tr><td><font style='font-weight:bold'>Q1</font></td><td>4.76767 GHz</td><td>43.9688 µs</td><td>15.58758 µs</td><td>0</td><td>0.00068</td><td>0.00137</td><td>0.0867 </td><tr><td><font style='font-weight:bold'>Q2</font></td><td>4.61803 GHz</td><td>52.93976 µs</td><td>13.80566 µs</td><td>0</td><td>0.00087</td><td>0.00174</td><td>0.0926 </td><tr><td><font style='font-weight:bold'>Q3</font></td><td>5.02263 GHz</td><td>48.80939 µs</td><td>14.67257 µs</td><td>0</td><td>0.00088</td><td>0.00175</td><td>0.0765 </td><tr><td><font style='font-weight:bold'>Q4</font></td><td>4.65579 GHz</td><td>76.5053 µs</td><td>15.55758 µs</td><td>0</td><td>0.00074</td><td>0.00149</td><td>0.0681 </td><tr><td><font style='font-weight:bold'>Q5</font></td><td>4.74578 GHz</td><td>62.26546 µs</td><td>9.21099 µs</td><td>0</td><td>0.00101</td><td>0.00203</td><td>0.0701 </td><tr><td><font style='font-weight:bold'>Q6</font></td><td>4.83168 GHz</td><td>51.07522 µs</td><td>14.30637 µs</td><td>0</td><td>0.00131</td><td>0.00261</td><td>0.0672 </td><tr><td><font style='font-weight:bold'>Q7</font></td><td>4.70569 GHz</td><td>34.47778 µs</td><td>12.42501 µs</td><td>0</td><td>0.00097</td><td>0.00194</td><td>0.0175 </td><tr><td><font style='font-weight:bold'>Q8</font></td><td>4.8984 GHz</td><td>22.00524 µs</td><td>5.4628 µs</td><td>0</td><td>0.00185</td><td>0.0037</td><td>0.0902 </td><tr><td><font style='font-weight:bold'>Q9</font></td><td>4.7406 GHz</td><td>61.6795 µs</td><td>12.31188 µs</td><td>0</td><td>0.00098</td><td>0.00197</td><td>0.097 </td><tr><td><font style='font-weight:bold'>Q10</font></td><td>4.84131 GHz</td><td>39.29521 µs</td><td>8.29331 µs</td><td>0</td><td>0.0011</td><td>0.0022</td><td>0.0724 </td><tr><td><font style='font-weight:bold'>Q11</font></td><td>4.75709 GHz</td><td>71.76919 µs</td><td>13.57695 µs</td><td>0</td><td>0.00074</td><td>0.00147</td><td>0.1013 </td><tr><td><font style='font-weight:bold'>Q12</font></td><td>4.61986 GHz</td><td>82.39661 µs</td><td>17.04141 µs</td><td>0</td><td>0.00076</td><td>0.00153</td><td>0.0884 </td><tr><td><font style='font-weight:bold'>Q13</font></td><td>4.85395 GHz</td><td>51.26071 µs</td><td>12.95339 µs</td><td>0</td><td>0.0007</td><td>0.00141</td><td>0.0265 </td><tr><td><font style='font-weight:bold'>Q14</font></td><td>4.40127 GHz</td><td>35.98483 µs</td><td>12.06972 µs</td><td>0</td><td>0.00106</td><td>0.00212</td><td>0.1173 </td><tr><td><font style='font-weight:bold'>Q15</font></td><td>4.69354 GHz</td><td>56.86022 µs</td><td>17.28385 µs</td><td>0</td><td>0.00065</td><td>0.0013</td><td>0.0644 </td><tr><td><font style='font-weight:bold'>Q16</font></td><td>4.51267 GHz</td><td>69.36949 µs</td><td>15.96325 µs</td><td>0</td><td>0.00085</td><td>0.0017</td><td>0.1727 </td><tr><td><font style='font-weight:bold'>Q17</font></td><td>4.72421 GHz</td><td>44.24938 µs</td><td>14.42326 µs</td><td>0</td><td>0.00083</td><td>0.00165</td><td>0.0681 </td><tr><td><font style='font-weight:bold'>Q18</font></td><td>4.3351 GHz</td><td>62.35078 µs</td><td>14.96326 µs</td><td>0</td><td>0.00082</td><td>0.00164</td><td>0.1678 </td><tr><td><font style='font-weight:bold'>Q19</font></td><td>4.58623 GHz</td><td>78.6054 µs</td><td>20.57852 µs</td><td>0</td><td>0.00076</td><td>0.00153</td><td>0.1042 </td></table>"
      }
     },
     "31a896763de1478cb74070f7683cb26e": {
      "model_module": "@jupyter-widgets/controls",
      "model_module_version": "1.5.0",
      "model_name": "VBoxModel",
      "state": {
       "children": [
        "IPY_MODEL_a4b6163cda094fbfb7439045d80c29f0",
        "IPY_MODEL_f4e4a6a2b7fb4d9dae1161bddd80496b",
        "IPY_MODEL_2e683b2c38b64d36bae732f83fb5c553",
        "IPY_MODEL_3b6a40e6e11e4087ad1144da26e7716e",
        "IPY_MODEL_203529f9590a433e9d90ddd43f857069",
        "IPY_MODEL_784fcc8b5ce641a38deed3c99c7e7249",
        "IPY_MODEL_1789b0dcc0344e8cb7016708e6b018c1",
        "IPY_MODEL_56ac21697bf242cbb399f70596ea7f5a"
       ],
       "layout": "IPY_MODEL_02dfbb658b204115bf786b4345d6c78b"
      }
     },
     "31caf76f40854d9ba3be0d7905b1b448": {
      "model_module": "@jupyter-widgets/controls",
      "model_module_version": "1.5.0",
      "model_name": "HTMLModel",
      "state": {
       "layout": "IPY_MODEL_51931849f6ae45bb9eb0abc8cf260c52",
       "style": "IPY_MODEL_a6b9daa319044b1aa799e76743f122ef",
       "value": "<h5>0.018</h5>"
      }
     },
     "31e9aa2554db475789092ea1293836b9": {
      "model_module": "@jupyter-widgets/base",
      "model_module_version": "1.2.0",
      "model_name": "LayoutModel",
      "state": {
       "justify_content": "center"
      }
     },
     "31ed0fff902748b5af2e10d600446b34": {
      "model_module": "@jupyter-widgets/base",
      "model_module_version": "1.2.0",
      "model_name": "LayoutModel",
      "state": {
       "max_width": "180px"
      }
     },
     "3231e55694ee4cae9023ea16867330ed": {
      "model_module": "@jupyter-widgets/controls",
      "model_module_version": "1.5.0",
      "model_name": "HTMLModel",
      "state": {
       "layout": "IPY_MODEL_41b658bc68f64713bc67d9537f11bfbb",
       "style": "IPY_MODEL_3dd8cce25433467b9e60953e8858b5de",
       "value": "<h5 style='color:#dc267f'>False</h5>"
      }
     },
     "3239c529d8f545c2b9dfc0949e6579f3": {
      "model_module": "@jupyter-widgets/controls",
      "model_module_version": "1.5.0",
      "model_name": "HTMLModel",
      "state": {
       "layout": "IPY_MODEL_576df784a2774356bdedc7ea9b33c7a6",
       "style": "IPY_MODEL_219231dd69bf4d499e9724e593ccb149",
       "value": "<table><style>\ntable {\n    border-collapse: collapse;\n    width: auto;\n}\n\nth, td {\n    text-align: left;\n    padding: 8px;\n}\n\ntr:nth-child(even) {background-color: #f6f6f6;};\n</style><tr><th></th><th>Type</th><th>Gate error</th></tr><tr><td><font style='font-weight:bold'>cx5_6</font></td><td>cx</td><td>0.00716</td></tr><tr><td><font style='font-weight:bold'>cx6_5</font></td><td>cx</td><td>0.00716</td></tr><tr><td><font style='font-weight:bold'>cx4_5</font></td><td>cx</td><td>0.01334</td></tr><tr><td><font style='font-weight:bold'>cx5_4</font></td><td>cx</td><td>0.01334</td></tr></table>"
      }
     },
     "32819ea28bf24192a55cb34d0d6931b9": {
      "model_module": "@jupyter-widgets/base",
      "model_module_version": "1.2.0",
      "model_name": "LayoutModel",
      "state": {
       "overflow_x": "scroll"
      }
     },
     "33a39722e028480781028283be4f0a39": {
      "model_module": "@jupyter-widgets/controls",
      "model_module_version": "1.5.0",
      "model_name": "HTMLModel",
      "state": {
       "layout": "IPY_MODEL_de504abe0db64419ac49c8c2445fd2bc",
       "style": "IPY_MODEL_3f2ad9a69e40433da4fe09e1955bf8ac",
       "value": "<h5>32</h5>"
      }
     },
     "343b61781d8e4f92a5898e9ca667e1d0": {
      "model_module": "@jupyter-widgets/controls",
      "model_module_version": "1.5.0",
      "model_name": "IntProgressModel",
      "state": {
       "layout": "IPY_MODEL_dd676ae3fdca4a97b5d098db624f0137",
       "max": 50,
       "style": "IPY_MODEL_6477be8e03024e8fb9d7a3556d2aa598",
       "value": 4
      }
     },
     "3482ee7b384c454ab785d281d8926ddb": {
      "model_module": "@jupyter-widgets/controls",
      "model_module_version": "1.5.0",
      "model_name": "HTMLModel",
      "state": {
       "layout": "IPY_MODEL_6c93d259015446a78e3bbccbb225ef10",
       "style": "IPY_MODEL_fd1ef7da7e0c4606b4abcff90068fc16",
       "value": "<h5 style='color:#34bc6e'>True</h5>"
      }
     },
     "349c0f3b7f0e4c81914ee1b5ca9e9cbe": {
      "model_module": "@jupyter-widgets/controls",
      "model_module_version": "1.5.0",
      "model_name": "HTMLModel",
      "state": {
       "layout": "IPY_MODEL_aeb70f2b5f894af7971eaddcdf173a2c",
       "style": "IPY_MODEL_0268c853fdd74b0b918db9df187f129b",
       "value": "job has successfully run"
      }
     },
     "34e2dc7d2c084c16893b1605cda23cd1": {
      "model_module": "@jupyter-widgets/controls",
      "model_module_version": "1.5.0",
      "model_name": "IntProgressModel",
      "state": {
       "layout": "IPY_MODEL_0b649137afea46f7b1af732eec833f28",
       "max": 50,
       "style": "IPY_MODEL_2019c8057566467da7066479402a5573",
       "value": 13
      }
     },
     "3512384619fa451ba71679c736dc21c8": {
      "model_module": "@jupyter-widgets/base",
      "model_module_version": "1.2.0",
      "model_name": "LayoutModel",
      "state": {
       "grid_gap": "0px 0px",
       "grid_template_areas": "\n                               \"left right right right\"\n                               \"bottom bottom bottom bottom\"\n                               ",
       "grid_template_columns": "31% 23% 23% 23%",
       "grid_template_rows": "auto auto"
      }
     },
     "352ee26a8c9642e2b5570aa03ff99085": {
      "model_module": "@jupyter-widgets/base",
      "model_module_version": "1.2.0",
      "model_name": "LayoutModel",
      "state": {
       "margin": "10px 0px 0px 0px"
      }
     },
     "3533664f3d4c4dca8f9e8e96cff1354c": {
      "model_module": "@jupyter-widgets/base",
      "model_module_version": "1.2.0",
      "model_name": "LayoutModel",
      "state": {
       "overflow_y": "scroll"
      }
     },
     "359b3f33fd594644926028bbe089b0b6": {
      "model_module": "@jupyter-widgets/base",
      "model_module_version": "1.2.0",
      "model_name": "LayoutModel",
      "state": {}
     },
     "36e51e2b229e4ae087500b5e812f9f0d": {
      "model_module": "@jupyter-widgets/output",
      "model_module_version": "1.0.0",
      "model_name": "OutputModel",
      "state": {
       "layout": "IPY_MODEL_4429612e397d4604af3a58f80a53add5",
       "outputs": [
        {
         "data": {
          "image/png": "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\n",
          "text/plain": "<Figure size 360x360 with 1 Axes>"
         },
         "metadata": {},
         "output_type": "display_data"
        }
       ]
      }
     },
     "370e48b22ee1497fb288b54e8f161bfe": {
      "model_module": "@jupyter-widgets/controls",
      "model_module_version": "1.5.0",
      "model_name": "HTMLModel",
      "state": {
       "layout": "IPY_MODEL_efe0ff45a7a44cbda028e67ea5095a91",
       "style": "IPY_MODEL_e63df45aabe3497fa277bcedda87b040",
       "value": "<h5>0.0339</h5>"
      }
     },
     "3759fbfc2baa4d448dc2e8739a3c63fc": {
      "model_module": "@jupyter-widgets/controls",
      "model_module_version": "1.5.0",
      "model_name": "HBoxModel",
      "state": {
       "children": [
        "IPY_MODEL_846fb8f79b214dd0bd30f981aa12e938",
        "IPY_MODEL_e3c3285f24d3443cb8a61db6fd08c189",
        "IPY_MODEL_7b93b00cff1e4dc59a98497b78b1edeb"
       ],
       "layout": "IPY_MODEL_f5e928a9824946d98eed38f10a1449a9"
      }
     },
     "3792348e8e9d4d478a816a9603b83bf7": {
      "model_module": "@jupyter-widgets/output",
      "model_module_version": "1.0.0",
      "model_name": "OutputModel",
      "state": {
       "layout": "IPY_MODEL_0241d46d348e43359e36c5c9a22bc7e7",
       "outputs": [
        {
         "data": {
          "image/png": "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\n",
          "text/plain": "<Figure size 360x360 with 1 Axes>"
         },
         "metadata": {},
         "output_type": "display_data"
        }
       ]
      }
     },
     "37ac56c50f384e40aa9f941b22c525a3": {
      "model_module": "@jupyter-widgets/controls",
      "model_module_version": "1.5.0",
      "model_name": "DescriptionStyleModel",
      "state": {
       "description_width": ""
      }
     },
     "37ef733d3f83464a97dfe19d80eccbb3": {
      "model_module": "@jupyter-widgets/controls",
      "model_module_version": "1.5.0",
      "model_name": "DescriptionStyleModel",
      "state": {
       "description_width": ""
      }
     },
     "3834abfc0f3849a781ead88342e9ec46": {
      "model_module": "@jupyter-widgets/base",
      "model_module_version": "1.2.0",
      "model_name": "LayoutModel",
      "state": {}
     },
     "38a9dd1880b24310a31930ec7ed06b97": {
      "model_module": "@jupyter-widgets/controls",
      "model_module_version": "1.5.0",
      "model_name": "HTMLModel",
      "state": {
       "layout": "IPY_MODEL_b51e682ab6c24945b75ec7787d24da2e",
       "style": "IPY_MODEL_67d38d2f79154a81863d39a2190bbcce",
       "value": "<h5 style='color:#34bc6e'>True</h5>"
      }
     },
     "38eae149bd734417a3cdb539afbc836c": {
      "model_module": "@jupyter-widgets/controls",
      "model_module_version": "1.5.0",
      "model_name": "DescriptionStyleModel",
      "state": {
       "description_width": ""
      }
     },
     "39033c20de4147f09c8a8217fa55eb15": {
      "model_module": "@jupyter-widgets/controls",
      "model_module_version": "1.5.0",
      "model_name": "HTMLModel",
      "state": {
       "layout": "IPY_MODEL_137fb596eafb4ef2bd1afec14210eb07",
       "style": "IPY_MODEL_b242c93403ab4bfc8292e58d2f70af13",
       "value": "<h5>143.8 / 157.5 us</h5>"
      }
     },
     "39c8cf94a59a4a9e9773380b8c364477": {
      "model_module": "@jupyter-widgets/controls",
      "model_module_version": "1.5.0",
      "model_name": "DescriptionStyleModel",
      "state": {
       "description_width": ""
      }
     },
     "3a506f2763404975b5b7e2b3c768d613": {
      "model_module": "@jupyter-widgets/controls",
      "model_module_version": "1.5.0",
      "model_name": "DescriptionStyleModel",
      "state": {
       "description_width": ""
      }
     },
     "3a5cfb7f79e8436c926aec1bad978265": {
      "model_module": "@jupyter-widgets/base",
      "model_module_version": "1.2.0",
      "model_name": "LayoutModel",
      "state": {
       "justify_content": "center",
       "max_width": "250px",
       "min_width": "250px"
      }
     },
     "3b671c20006546e7bc7e4cc2e7e04b98": {
      "model_module": "@jupyter-widgets/controls",
      "model_module_version": "1.5.0",
      "model_name": "HTMLModel",
      "state": {
       "layout": "IPY_MODEL_bc8a61c1a30b4d53b494ad8d129a528e",
       "style": "IPY_MODEL_d5b44fa8c87847808298d032aae2d584",
       "value": "<h5>88.5 / 124.5 us</h5>"
      }
     },
     "3b6a40e6e11e4087ad1144da26e7716e": {
      "model_module": "@jupyter-widgets/controls",
      "model_module_version": "1.5.0",
      "model_name": "LabelModel",
      "state": {
       "layout": "IPY_MODEL_0e8c7ef1e13440c0af88cb1dcf802d48",
       "style": "IPY_MODEL_86673736406c46b6bbf1f474f6c4ce7f",
       "value": "Operational"
      }
     },
     "3baf74353df14c21b026ecfc9f12e897": {
      "model_module": "@jupyter-widgets/controls",
      "model_module_version": "1.5.0",
      "model_name": "DescriptionStyleModel",
      "state": {
       "description_width": ""
      }
     },
     "3ccf46a970594549933e368d87a7a5d3": {
      "model_module": "@jupyter-widgets/controls",
      "model_module_version": "1.5.0",
      "model_name": "HTMLModel",
      "state": {
       "layout": "IPY_MODEL_2bb67e1b93ec44e7962473a215bd57ce",
       "style": "IPY_MODEL_c647af2aba9046288f937eb8faef82c1",
       "value": "613c6841fd182315db857507"
      }
     },
     "3cf13c02b7e74716838dfccf62ef8ead": {
      "model_module": "@jupyter-widgets/base",
      "model_module_version": "1.2.0",
      "model_name": "LayoutModel",
      "state": {
       "justify_content": "center"
      }
     },
     "3d0836e83cc74b34bbe910fa61ce4521": {
      "model_module": "@jupyter-widgets/base",
      "model_module_version": "1.2.0",
      "model_name": "LayoutModel",
      "state": {
       "grid_gap": "0px 25px",
       "grid_template_columns": "250px 250px 250px 250px 250px 250px 250px 250px ",
       "grid_template_rows": "auto"
      }
     },
     "3d888a4b2bb9431c9be3a06a06aa2a01": {
      "model_module": "@jupyter-widgets/base",
      "model_module_version": "1.2.0",
      "model_name": "LayoutModel",
      "state": {
       "width": "70px"
      }
     },
     "3dd8cce25433467b9e60953e8858b5de": {
      "model_module": "@jupyter-widgets/controls",
      "model_module_version": "1.5.0",
      "model_name": "DescriptionStyleModel",
      "state": {
       "description_width": ""
      }
     },
     "3ea9b89704694170a7de2e571861cbd8": {
      "model_module": "@jupyter-widgets/base",
      "model_module_version": "1.2.0",
      "model_name": "LayoutModel",
      "state": {
       "align_items": "center",
       "justify_content": "center",
       "margin": "0px 0px 0px 0px",
       "max_height": "250px",
       "max_width": "250px",
       "min_height": "250px",
       "min_width": "250px"
      }
     },
     "3f23cc0c37154b8883c5c54341d4d26f": {
      "model_module": "@jupyter-widgets/base",
      "model_module_version": "1.2.0",
      "model_name": "LayoutModel",
      "state": {
       "align_items": "center",
       "display": "flex-inline"
      }
     },
     "3f2ad9a69e40433da4fe09e1955bf8ac": {
      "model_module": "@jupyter-widgets/controls",
      "model_module_version": "1.5.0",
      "model_name": "DescriptionStyleModel",
      "state": {
       "description_width": ""
      }
     },
     "3f6049ac23c84cb990b3e1226ba618e2": {
      "model_module": "@jupyter-widgets/controls",
      "model_module_version": "1.5.0",
      "model_name": "HBoxModel",
      "state": {
       "children": [
        "IPY_MODEL_a7d209f7422047ab88c1230bfbf22c0f",
        "IPY_MODEL_787d7d5e6c724e73a53647021630af24",
        "IPY_MODEL_992e13f67865433c97509068077a730f"
       ],
       "layout": "IPY_MODEL_c8f2c80878094b91b1e8a0f7ca5c10f2"
      }
     },
     "3f9fa3cbbc4341d98c50b3976c44822e": {
      "model_module": "@jupyter-widgets/controls",
      "model_module_version": "1.5.0",
      "model_name": "DescriptionStyleModel",
      "state": {
       "description_width": ""
      }
     },
     "3ff517d5fa0746b39731fb6a0d03b449": {
      "model_module": "@jupyter-widgets/controls",
      "model_module_version": "1.5.0",
      "model_name": "DescriptionStyleModel",
      "state": {
       "description_width": ""
      }
     },
     "40ca9d15d0b14d7f942d55e48ea2a41c": {
      "model_module": "@jupyter-widgets/controls",
      "model_module_version": "1.5.0",
      "model_name": "HTMLMathModel",
      "state": {
       "layout": "IPY_MODEL_869a2a6d7c30451e88a2f966a9fb43fe",
       "style": "IPY_MODEL_76514aed603343eab82f1b3da899e423",
       "value": "<table><style>\ntable {\n    border-collapse: collapse;\n    width: auto;\n}\n\nth, td {\n    text-align: left;\n    padding: 8px;\n}\n\ntr:nth-child(even) {background-color: #f6f6f6;}\n</style><tr><th></th><th></th></tr><tr><td>sample_name</td><td>family: Falcon, revision: 5.11, segment: H</td></tr><tr><td>credits_required</td><td>True</td></tr><tr><td>dynamic_reprate_enabled</td><td>True</td></tr><tr><td>conditional</td><td>False</td></tr><tr><td>url</td><td>None</td></tr><tr><td>pulse_num_channels</td><td>9</td></tr><tr><td>memory</td><td>True</td></tr><tr><td>discriminators</td><td>['linear_discriminator', 'hw_qmfk', 'quadratic_discriminator']</td></tr><tr><td>coupling_map</td><td>[[0, 1], [1, 0], [1, 2], [1, 3], [2, 1], [3, 1], [3, 5], [4, 5], [5, 3], [5, 4], [5, 6], [6, 5]]</td></tr><tr><td>online_date</td><td>2021-07-22 04:00:00+00:00</td></tr><tr><td>rep_delay_range</td><td>[0.0, 500.0]</td></tr><tr><td>default_rep_delay</td><td>250.0</td></tr><tr><td>processor_type</td><td>{'family': 'Falcon', 'revision': '5.11', 'segment': 'H'}</td></tr><tr><td>n_uchannels</td><td>12</td></tr><tr><td>description</td><td>7 qubit device</td></tr><tr><td>meas_lo_range</td><td>[[6.663115502, 7.663115502], [6.6164476510000005, 7.6164476510000005], [6.84928468, 7.84928468], [6.719581694, 7.719581694], [6.637153809000001, 7.637153809000001], [6.78180398, 7.78180398], [6.6522457170000004, 7.6522457170000004]]</td></tr><tr><td>rep_times</td><td>[1000.0]</td></tr><tr><td>acquisition_latency</td><td>[]</td></tr><tr><td>multi_meas_enabled</td><td>True</td></tr><tr><td>uchannels_enabled</td><td>True</td></tr><tr><td>backend_name</td><td>ibm_perth</td></tr><tr><td>allow_object_storage</td><td>True</td></tr><tr><td>n_registers</td><td>1</td></tr><tr><td>supported_instructions</td><td>['u2', 'play', 'u3', 'id', 'measure', 'x', 'delay', 'sx', 'acquire', 'cx', 'rz', 'shiftf', 'setf', 'u1', 'reset']</td></tr><tr><td>open_pulse</td><td>False</td></tr><tr><td>qubit_channel_mapping</td><td>[['d0', 'u0', 'u1', 'm0'], ['u2', 'm1', 'u4', 'u3', 'u1', 'u5', 'u0', 'd1'], ['u2', 'm2', 'd2', 'u4'], ['u3', 'u8', 'm3', 'd3', 'u5', 'u6'], ['u7', 'd4', 'u9', 'm4'], ['m5', 'u9', 'u11', 'u8', 'u7', 'd5', 'u10', 'u6'], ['m6', 'u11', 'u10', 'd6']]</td></tr><tr><td>channels</td><td>{'acquire0': {'operates': {'qubits': [0]}, 'purpose': 'acquire', 'type': 'acquire'}, 'acquire1': {'operates': {'qubits': [1]}, 'purpose': 'acquire', 'type': 'acquire'}, 'acquire2': {'operates': {'qubits': [2]}, 'purpose': 'acquire', 'type': 'acquire'}, 'acquire3': {'operates': {'qubits': [3]}, 'purpose': 'acquire', 'type': 'acquire'}, 'acquire4': {'operates': {'qubits': [4]}, 'purpose': 'acquire', 'type': 'acquire'}, 'acquire5': {'operates': {'qubits': [5]}, 'purpose': 'acquire', 'type': 'acquire'}, 'acquire6': {'operates': {'qubits': [6]}, 'purpose': 'acquire', 'type': 'acquire'}, 'd0': {'operates': {'qubits': [0]}, 'purpose': 'drive', 'type': 'drive'}, 'd1': {'operates': {'qubits': [1]}, 'purpose': 'drive', 'type': 'drive'}, 'd2': {'operates': {'qubits': [2]}, 'purpose': 'drive', 'type': 'drive'}, 'd3': {'operates': {'qubits': [3]}, 'purpose': 'drive', 'type': 'drive'}, 'd4': {'operates': {'qubits': [4]}, 'purpose': 'drive', 'type': 'drive'}, 'd5': {'operates': {'qubits': [5]}, 'purpose': 'drive', 'type': 'drive'}, 'd6': {'operates': {'qubits': [6]}, 'purpose': 'drive', 'type': 'drive'}, 'm0': {'operates': {'qubits': [0]}, 'purpose': 'measure', 'type': 'measure'}, 'm1': {'operates': {'qubits': [1]}, 'purpose': 'measure', 'type': 'measure'}, 'm2': {'operates': {'qubits': [2]}, 'purpose': 'measure', 'type': 'measure'}, 'm3': {'operates': {'qubits': [3]}, 'purpose': 'measure', 'type': 'measure'}, 'm4': {'operates': {'qubits': [4]}, 'purpose': 'measure', 'type': 'measure'}, 'm5': {'operates': {'qubits': [5]}, 'purpose': 'measure', 'type': 'measure'}, 'm6': {'operates': {'qubits': [6]}, 'purpose': 'measure', 'type': 'measure'}, 'u0': {'operates': {'qubits': [0, 1]}, 'purpose': 'cross-resonance', 'type': 'control'}, 'u1': {'operates': {'qubits': [1, 0]}, 'purpose': 'cross-resonance', 'type': 'control'}, 'u10': {'operates': {'qubits': [5, 6]}, 'purpose': 'cross-resonance', 'type': 'control'}, 'u11': {'operates': {'qubits': [6, 5]}, 'purpose': 'cross-resonance', 'type': 'control'}, 'u2': {'operates': {'qubits': [1, 2]}, 'purpose': 'cross-resonance', 'type': 'control'}, 'u3': {'operates': {'qubits': [1, 3]}, 'purpose': 'cross-resonance', 'type': 'control'}, 'u4': {'operates': {'qubits': [2, 1]}, 'purpose': 'cross-resonance', 'type': 'control'}, 'u5': {'operates': {'qubits': [3, 1]}, 'purpose': 'cross-resonance', 'type': 'control'}, 'u6': {'operates': {'qubits': [3, 5]}, 'purpose': 'cross-resonance', 'type': 'control'}, 'u7': {'operates': {'qubits': [4, 5]}, 'purpose': 'cross-resonance', 'type': 'control'}, 'u8': {'operates': {'qubits': [5, 3]}, 'purpose': 'cross-resonance', 'type': 'control'}, 'u9': {'operates': {'qubits': [5, 4]}, 'purpose': 'cross-resonance', 'type': 'control'}}</td></tr><tr><td>measure_esp_enabled</td><td>True</td></tr><tr><td>parametric_pulses</td><td>['gaussian', 'gaussian_square', 'drag', 'constant']</td></tr><tr><td>meas_kernels</td><td>['hw_qmfk']</td></tr><tr><td>timing_constraints</td><td>{'acquire_alignment': 16, 'granularity': 16, 'min_length': 64, 'pulse_alignment': 1}</td></tr><tr><td>dt</td><td>0.2222222222222222</td></tr><tr><td>simulator</td><td>False</td></tr><tr><td>local</td><td>False</td></tr><tr><td>dtm</td><td>0.2222222222222222</td></tr><tr><td>meas_map</td><td>[[0, 1, 2, 3, 4, 5, 6]]</td></tr><tr><td>u_channel_lo</td><td>[[{'q': 1, 'scale': (1+0j)}], [{'q': 0, 'scale': (1+0j)}], [{'q': 2, 'scale': (1+0j)}], [{'q': 3, 'scale': (1+0j)}], [{'q': 1, 'scale': (1+0j)}], [{'q': 1, 'scale': (1+0j)}], [{'q': 5, 'scale': (1+0j)}], [{'q': 5, 'scale': (1+0j)}], [{'q': 3, 'scale': (1+0j)}], [{'q': 4, 'scale': (1+0j)}], [{'q': 6, 'scale': (1+0j)}], [{'q': 5, 'scale': (1+0j)}]]</td></tr><tr><td>allow_q_object</td><td>True</td></tr><tr><td>pulse_num_qubits</td><td>3</td></tr><tr><td>qubit_lo_range</td><td>[[4.657381253740882, 5.657381253740882], [4.534331639019153, 5.534331639019153], [4.361860311476747, 5.361860311476747], [4.624415825588315, 5.624415825588315], [4.659498808494863, 5.659498808494863], [4.478861718365966, 5.478861718365966], [4.656668125711387, 5.656668125711387]]</td></tr><tr><td>hamiltonian</td><td>$$\\begin{align} \\mathcal{H}/\\hbar = & \\sum_{i=0}^{6}\\left(\\frac{\\omega_{q,i}}{2}(\\mathbb{I}-\\sigma_i^{z})+\\frac{\\Delta_{i}}{2}(O_i^2-O_i)+\\Omega_{d,i}D_i(t)\\sigma_i^{X}\\right) \\\\ & + J_{0,1}(\\sigma_{0}^{+}\\sigma_{1}^{-}+\\sigma_{0}^{-}\\sigma_{1}^{+}) + J_{1,2}(\\sigma_{1}^{+}\\sigma_{2}^{-}+\\sigma_{1}^{-}\\sigma_{2}^{+}) + J_{4,5}(\\sigma_{4}^{+}\\sigma_{5}^{-}+\\sigma_{4}^{-}\\sigma_{5}^{+}) + J_{5,6}(\\sigma_{5}^{+}\\sigma_{6}^{-}+\\sigma_{5}^{-}\\sigma_{6}^{+}) \\\\ & + J_{1,3}(\\sigma_{1}^{+}\\sigma_{3}^{-}+\\sigma_{1}^{-}\\sigma_{3}^{+}) + J_{3,5}(\\sigma_{3}^{+}\\sigma_{5}^{-}+\\sigma_{3}^{-}\\sigma_{5}^{+}) \\\\ & + \\Omega_{d,0}(U_{0}^{(0,1)}(t))\\sigma_{0}^{X} + \\Omega_{d,1}(U_{1}^{(1,0)}(t)+U_{3}^{(1,3)}(t)+U_{2}^{(1,2)}(t))\\sigma_{1}^{X} \\\\ & + \\Omega_{d,2}(U_{4}^{(2,1)}(t))\\sigma_{2}^{X} + \\Omega_{d,3}(U_{5}^{(3,1)}(t)+U_{6}^{(3,5)}(t))\\sigma_{3}^{X} \\\\ & + \\Omega_{d,4}(U_{7}^{(4,5)}(t))\\sigma_{4}^{X} + \\Omega_{d,5}(U_{8}^{(5,3)}(t)+U_{10}^{(5,6)}(t)+U_{9}^{(5,4)}(t))\\sigma_{5}^{X} \\\\ & + \\Omega_{d,6}(U_{11}^{(6,5)}(t))\\sigma_{6}^{X} \\\\ \\end{align}$$</td></tr><tr><td>meas_levels</td><td>[1, 2]</td></tr><tr><td>conditional_latency</td><td>[]</td></tr><tr><td>input_allowed</td><td>['job']</td></tr></table>"
      }
     },
     "410f49e2e39a42ce94347871b639ecb6": {
      "model_module": "@jupyter-widgets/controls",
      "model_module_version": "1.5.0",
      "model_name": "VBoxModel",
      "state": {
       "children": [
        "IPY_MODEL_d448be4cc7f942699562b59ed2369c65",
        "IPY_MODEL_d483ddc1def94d819915c14702339864"
       ],
       "layout": "IPY_MODEL_6c6bfab7834048a88cb0a1af97705568"
      }
     },
     "41b4bff09c304480acdf5aafade777da": {
      "model_module": "@jupyter-widgets/base",
      "model_module_version": "1.2.0",
      "model_name": "LayoutModel",
      "state": {}
     },
     "41b658bc68f64713bc67d9537f11bfbb": {
      "model_module": "@jupyter-widgets/base",
      "model_module_version": "1.2.0",
      "model_name": "LayoutModel",
      "state": {
       "justify_content": "center"
      }
     },
     "41edc9f8e3244e9680a68b22cbf082fe": {
      "model_module": "@jupyter-widgets/base",
      "model_module_version": "1.2.0",
      "model_name": "LayoutModel",
      "state": {
       "justify_content": "center"
      }
     },
     "41ee9c61439042ec9e6b5e830d69ab58": {
      "model_module": "@jupyter-widgets/base",
      "model_module_version": "1.2.0",
      "model_name": "LayoutModel",
      "state": {
       "justify_content": "center"
      }
     },
     "4206be8ffa9d4439bb4646785c06785e": {
      "model_module": "@jupyter-widgets/controls",
      "model_module_version": "1.5.0",
      "model_name": "DescriptionStyleModel",
      "state": {
       "description_width": ""
      }
     },
     "4211378d80fa41ebae12b7397899a668": {
      "model_module": "@jupyter-widgets/controls",
      "model_module_version": "1.5.0",
      "model_name": "DescriptionStyleModel",
      "state": {
       "description_width": ""
      }
     },
     "4378e5a6f65041229679a469737d31dc": {
      "model_module": "@jupyter-widgets/base",
      "model_module_version": "1.2.0",
      "model_name": "LayoutModel",
      "state": {
       "margin": "0px 5px 0px 0px",
       "width": "32px"
      }
     },
     "43ea4a74e492457fa2de11d5acd0105e": {
      "model_module": "@jupyter-widgets/base",
      "model_module_version": "1.2.0",
      "model_name": "LayoutModel",
      "state": {}
     },
     "4429612e397d4604af3a58f80a53add5": {
      "model_module": "@jupyter-widgets/base",
      "model_module_version": "1.2.0",
      "model_name": "LayoutModel",
      "state": {
       "align_items": "center",
       "justify_content": "center",
       "margin": "0px 0px 0px 0px",
       "max_height": "250px",
       "max_width": "250px",
       "min_height": "250px",
       "min_width": "250px"
      }
     },
     "4448d6004af64208ab06c4e70e54fd49": {
      "model_module": "@jupyter-widgets/controls",
      "model_module_version": "1.5.0",
      "model_name": "DescriptionStyleModel",
      "state": {
       "description_width": ""
      }
     },
     "4497abe23d5844eeb77a14cf4d111b8e": {
      "model_module": "@jupyter-widgets/controls",
      "model_module_version": "1.5.0",
      "model_name": "VBoxModel",
      "state": {
       "children": [
        "IPY_MODEL_e76a9e2be7784702a82772faff1c1b5e",
        "IPY_MODEL_c1a0e25f3c5d4d38b9fd81bb7083b919",
        "IPY_MODEL_060a16d3b7b546019f80ba315b7114c3",
        "IPY_MODEL_0562417fd35e4e678b21ccabb7146b08",
        "IPY_MODEL_2fc6be6405874c6495a23eee63051fe7",
        "IPY_MODEL_ef46bd0b84d8472f84fe03316f1c24f8",
        "IPY_MODEL_514cfb57fe1a408a95947eb028b45d3c",
        "IPY_MODEL_dbe49d34f2d74822b638ce1d48598359",
        "IPY_MODEL_d62e506657a246cbb24a15394b1dfcda",
        "IPY_MODEL_f8d2a5f713a34f38a39b021926d12989"
       ],
       "layout": "IPY_MODEL_daf5568393bd4f898200905d18cdd705"
      }
     },
     "463d051405a74b6bad2e6e4ce7316eb4": {
      "model_module": "@jupyter-widgets/base",
      "model_module_version": "1.2.0",
      "model_name": "LayoutModel",
      "state": {
       "justify_content": "center"
      }
     },
     "4730923a9dcf4e70a291a3e33699740d": {
      "model_module": "@jupyter-widgets/output",
      "model_module_version": "1.0.0",
      "model_name": "OutputModel",
      "state": {
       "layout": "IPY_MODEL_55471ca5012d4af78d203febe1ed90c8",
       "outputs": [
        {
         "data": {
          "image/png": "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\n",
          "text/plain": "<Figure size 360x360 with 1 Axes>"
         },
         "metadata": {},
         "output_type": "display_data"
        }
       ]
      }
     },
     "47aee61dfe834b61942e7c210838581a": {
      "model_module": "@jupyter-widgets/controls",
      "model_module_version": "1.5.0",
      "model_name": "DescriptionStyleModel",
      "state": {
       "description_width": ""
      }
     },
     "47eb06d320a34224b9bf23b30bca51d0": {
      "model_module": "@jupyter-widgets/controls",
      "model_module_version": "1.5.0",
      "model_name": "DescriptionStyleModel",
      "state": {
       "description_width": ""
      }
     },
     "480dd33fd6c34818850a926b8bfa2610": {
      "model_module": "@jupyter-widgets/controls",
      "model_module_version": "1.5.0",
      "model_name": "HTMLModel",
      "state": {
       "layout": "IPY_MODEL_ba7cddb21ce149f380d1cb37d778acaa",
       "style": "IPY_MODEL_c57cbd8b38a64f3cac697df108b03e99",
       "value": "<h4>ibmq_bogota</h4>"
      }
     },
     "48211e6cc51742b7893940ea803c3f96": {
      "model_module": "@jupyter-widgets/controls",
      "model_module_version": "1.5.0",
      "model_name": "DescriptionStyleModel",
      "state": {
       "description_width": ""
      }
     },
     "483a7576b4a942d0b5771edeed85c193": {
      "model_module": "@jupyter-widgets/controls",
      "model_module_version": "1.5.0",
      "model_name": "HTMLModel",
      "state": {
       "layout": "IPY_MODEL_c0a57b2f6fb34e1db9a4538e1289ce65",
       "style": "IPY_MODEL_6d17d6a09e8d4181a4d30ec8e4d98332",
       "value": "<h5>0.0096</h5>"
      }
     },
     "49156651f89b4497bbbc7870e6ac03ab": {
      "model_module": "@jupyter-widgets/base",
      "model_module_version": "1.2.0",
      "model_name": "LayoutModel",
      "state": {
       "grid_area": "middle"
      }
     },
     "4a5a8fb3e129473cac5145f6191786bf": {
      "model_module": "@jupyter-widgets/controls",
      "model_module_version": "1.5.0",
      "model_name": "HTMLModel",
      "state": {
       "layout": "IPY_MODEL_aae4cae941784f89a5d99b6a8c324f4c",
       "style": "IPY_MODEL_48211e6cc51742b7893940ea803c3f96",
       "value": "<h5 style='color:#34bc6e'>True</h5>"
      }
     },
     "4a7a68cf67f340269fa72465b71e0863": {
      "model_module": "@jupyter-widgets/controls",
      "model_module_version": "1.5.0",
      "model_name": "DescriptionStyleModel",
      "state": {
       "description_width": ""
      }
     },
     "4af7e94be60646ceafcac97facea336e": {
      "model_module": "@jupyter-widgets/controls",
      "model_module_version": "1.5.0",
      "model_name": "DescriptionStyleModel",
      "state": {
       "description_width": ""
      }
     },
     "4afd2d25827e4380b589b0aee7bb5d4f": {
      "model_module": "@jupyter-widgets/controls",
      "model_module_version": "1.5.0",
      "model_name": "ButtonStyleModel",
      "state": {}
     },
     "4b0810018117451aaf2136f12b6f1e7f": {
      "model_module": "@jupyter-widgets/base",
      "model_module_version": "1.2.0",
      "model_name": "LayoutModel",
      "state": {
       "align_items": "center",
       "display": "flex-inline"
      }
     },
     "4b53f199796f4ce488944a73227d54db": {
      "model_module": "@jupyter-widgets/controls",
      "model_module_version": "1.5.0",
      "model_name": "DescriptionStyleModel",
      "state": {
       "description_width": ""
      }
     },
     "4c504353ac6640d79951eab65637baba": {
      "model_module": "@jupyter-widgets/controls",
      "model_module_version": "1.5.0",
      "model_name": "HTMLModel",
      "state": {
       "layout": "IPY_MODEL_fa6c6cee2c40490fa008e61de1cf29c8",
       "style": "IPY_MODEL_52c89aed28c7488ba6a7e27ca58d019c",
       "value": "<h4>ibmq_lima</h4>"
      }
     },
     "4c50b2747b43451b8094fede5d166596": {
      "model_module": "@jupyter-widgets/controls",
      "model_module_version": "1.5.0",
      "model_name": "DescriptionStyleModel",
      "state": {
       "description_width": ""
      }
     },
     "4c73fa63ee514a398e1529cde1c5dd78": {
      "model_module": "@jupyter-widgets/base",
      "model_module_version": "1.2.0",
      "model_name": "LayoutModel",
      "state": {
       "max_width": "180px"
      }
     },
     "4d1322a6feb24e8ebfae53a6d1beddd5": {
      "model_module": "@jupyter-widgets/controls",
      "model_module_version": "1.5.0",
      "model_name": "HTMLModel",
      "state": {
       "layout": "IPY_MODEL_c937abc0c64c4e7a871ef002cdfb2b9e",
       "style": "IPY_MODEL_a1ddddfb0bcb4f4db598fe9a80678883",
       "value": "<h5><b>5</b></h5>"
      }
     },
     "4d47787ea1ed4b558ef6ef10559913b8": {
      "model_module": "@jupyter-widgets/controls",
      "model_module_version": "1.5.0",
      "model_name": "DescriptionStyleModel",
      "state": {
       "description_width": ""
      }
     },
     "4d93b5c2760e4558b8c073efca35d2d4": {
      "model_module": "@jupyter-widgets/base",
      "model_module_version": "1.2.0",
      "model_name": "LayoutModel",
      "state": {
       "grid_area": "right"
      }
     },
     "4e13f214acba45b38225da73a285e0a6": {
      "model_module": "@jupyter-widgets/controls",
      "model_module_version": "1.5.0",
      "model_name": "HTMLModel",
      "state": {
       "layout": "IPY_MODEL_88c7a3d9294e4b4b8855c42df6d4c50b",
       "style": "IPY_MODEL_8df088b705134553bf60cca14e345498",
       "value": "<h5>0.0092</h5>"
      }
     },
     "4e59eab1b98e41b785487bd0432e40e2": {
      "model_module": "@jupyter-widgets/base",
      "model_module_version": "1.2.0",
      "model_name": "LayoutModel",
      "state": {}
     },
     "4e72b5267e3e40958b45e30c0bf380b4": {
      "model_module": "@jupyter-widgets/controls",
      "model_module_version": "1.5.0",
      "model_name": "HTMLModel",
      "state": {
       "layout": "IPY_MODEL_7f88a7e3d74141beab66ec1f9a1290b3",
       "style": "IPY_MODEL_4206be8ffa9d4439bb4646785c06785e",
       "value": "<h5>16</h5>"
      }
     },
     "4ee5597fc44744d9826a0613d369d954": {
      "model_module": "@jupyter-widgets/base",
      "model_module_version": "1.2.0",
      "model_name": "LayoutModel",
      "state": {
       "max_width": "180px"
      }
     },
     "4f744b520e4d4991b21a796ea35652a5": {
      "model_module": "@jupyter-widgets/base",
      "model_module_version": "1.2.0",
      "model_name": "LayoutModel",
      "state": {}
     },
     "509f2e5707ab4528a5eeb270b66643f6": {
      "model_module": "@jupyter-widgets/base",
      "model_module_version": "1.2.0",
      "model_name": "LayoutModel",
      "state": {
       "width": "95px"
      }
     },
     "50ffa87c8adf4e03b95a73bb7460cec6": {
      "model_module": "@jupyter-widgets/controls",
      "model_module_version": "1.5.0",
      "model_name": "HTMLModel",
      "state": {
       "layout": "IPY_MODEL_86982c529be543e99680bea327a84ad7",
       "style": "IPY_MODEL_5887d88f31b64e34b2426844d43115dc",
       "value": "<table><style>\ntable {\n    border-collapse: collapse;\n    width: auto;\n}\n\nth, td {\n    text-align: left;\n    padding: 8px;\n}\n\ntr:nth-child(even) {background-color: #f6f6f6;}\n</style><tr><th></th><th>Frequency</th><th>T1</th><th>T2</th><th>RZ</th><th>SX</th><th>X</th><th>Readout error</th></tr><tr><td><font style='font-weight:bold'>Q0</font></td><td>5.15738 GHz</td><td>122.19713 us</td><td>107.42665 us</td><td>0</td><td>0.00021</td><td>0.00021</td><td>0.0083 </td><tr><td><font style='font-weight:bold'>Q1</font></td><td>5.03433 GHz</td><td>142.63531 us</td><td>105.55464 us</td><td>0</td><td>0.0004</td><td>0.0004</td><td>0.0155 </td><tr><td><font style='font-weight:bold'>Q2</font></td><td>4.86186 GHz</td><td>119.67265 us</td><td>139.95327 us</td><td>0</td><td>0.00028</td><td>0.00028</td><td>0.0084 </td><tr><td><font style='font-weight:bold'>Q3</font></td><td>5.12442 GHz</td><td>131.44695 us</td><td>196.62244 us</td><td>0</td><td>0.00028</td><td>0.00028</td><td>0.0106 </td><tr><td><font style='font-weight:bold'>Q4</font></td><td>5.1595 GHz</td><td>165.23075 us</td><td>130.16937 us</td><td>0</td><td>0.00027</td><td>0.00027</td><td>0.0064 </td><tr><td><font style='font-weight:bold'>Q5</font></td><td>4.97886 GHz</td><td>172.14763 us</td><td>161.7618 us</td><td>0</td><td>0.0003</td><td>0.0003</td><td>0.0115 </td><tr><td><font style='font-weight:bold'>Q6</font></td><td>5.15667 GHz</td><td>153.58043 us</td><td>261.0319 us</td><td>0</td><td>0.00028</td><td>0.00028</td><td>0.0063 </td></table>"
      }
     },
     "514337db5dfb46bb8373e578215d5478": {
      "model_module": "@jupyter-widgets/controls",
      "model_module_version": "1.5.0",
      "model_name": "HTMLModel",
      "state": {
       "layout": "IPY_MODEL_359b3f33fd594644926028bbe089b0b6",
       "style": "IPY_MODEL_4a7a68cf67f340269fa72465b71e0863",
       "value": "<h5>0.0251</h5>"
      }
     },
     "514cfb57fe1a408a95947eb028b45d3c": {
      "model_module": "@jupyter-widgets/controls",
      "model_module_version": "1.5.0",
      "model_name": "HTMLModel",
      "state": {
       "layout": "IPY_MODEL_077abc4876a94b788bb65039be4eb599",
       "style": "IPY_MODEL_39c8cf94a59a4a9e9773380b8c364477",
       "value": "<h5 style='color:#dc267f'>False</h5>"
      }
     },
     "51931849f6ae45bb9eb0abc8cf260c52": {
      "model_module": "@jupyter-widgets/base",
      "model_module_version": "1.2.0",
      "model_name": "LayoutModel",
      "state": {}
     },
     "51a9942cdb174939812fac7b19388817": {
      "model_module": "@jupyter-widgets/base",
      "model_module_version": "1.2.0",
      "model_name": "LayoutModel",
      "state": {
       "justify_content": "center"
      }
     },
     "523ace3800194471973a6e6a25995f49": {
      "model_module": "@jupyter-widgets/controls",
      "model_module_version": "1.5.0",
      "model_name": "DescriptionStyleModel",
      "state": {
       "description_width": ""
      }
     },
     "524a68f3fe3247509e62f99d07ad0077": {
      "model_module": "@jupyter-widgets/base",
      "model_module_version": "1.2.0",
      "model_name": "LayoutModel",
      "state": {
       "align_items": "center",
       "display": "inline-flex",
       "flex_flow": "column"
      }
     },
     "52790aa59bf64092a9df55caec4e1ecf": {
      "model_module": "@jupyter-widgets/controls",
      "model_module_version": "1.5.0",
      "model_name": "GridBoxModel",
      "state": {
       "children": [
        "IPY_MODEL_8c7e661dc0474eb6ad384c9c2224822f",
        "IPY_MODEL_53e11138626d4b86b8eee0b62a95daa8",
        "IPY_MODEL_6ee5efa37f9642fca98024b299cb6e4a",
        "IPY_MODEL_17ff75aa7f874529981fe6876bde358b"
       ],
       "layout": "IPY_MODEL_f45a84f4ab544a8c8ae67f45e86087c6"
      }
     },
     "52a4298b9a35461fae2b240adb64de45": {
      "model_module": "@jupyter-widgets/controls",
      "model_module_version": "1.5.0",
      "model_name": "HTMLModel",
      "state": {
       "layout": "IPY_MODEL_c8252b4bc76d49d297e0c93717723a30",
       "style": "IPY_MODEL_9fbe4ce740ae453a8985755f9254462f",
       "value": "<h5><b>7</b></h5>"
      }
     },
     "52c89aed28c7488ba6a7e27ca58d019c": {
      "model_module": "@jupyter-widgets/controls",
      "model_module_version": "1.5.0",
      "model_name": "DescriptionStyleModel",
      "state": {
       "description_width": ""
      }
     },
     "52d814538e6d469e8aaa227260ab45b6": {
      "model_module": "@jupyter-widgets/base",
      "model_module_version": "1.2.0",
      "model_name": "LayoutModel",
      "state": {
       "max_width": "700px",
       "min_width": "700px"
      }
     },
     "53caeaf3b9b642008038ef9c1133d2b7": {
      "model_module": "@jupyter-widgets/controls",
      "model_module_version": "1.5.0",
      "model_name": "TabModel",
      "state": {
       "layout": "IPY_MODEL_da684b64c6bf4619af83375c610cd298"
      }
     },
     "53d3e7ddc4274bb3b9d5f14f1d4a70bc": {
      "model_module": "@jupyter-widgets/base",
      "model_module_version": "1.2.0",
      "model_name": "LayoutModel",
      "state": {
       "width": "70px"
      }
     },
     "53e11138626d4b86b8eee0b62a95daa8": {
      "model_module": "@jupyter-widgets/controls",
      "model_module_version": "1.5.0",
      "model_name": "HTMLModel",
      "state": {
       "layout": "IPY_MODEL_dc13ed7d55cb42bcbfe50fa237f753d6",
       "style": "IPY_MODEL_876da25d14364ab6a8740c74988c2eac",
       "value": "<table><style>\ntable {\n    border-collapse: collapse;\n    width: auto;\n}\n\nth, td {\n    text-align: left;\n    padding: 8px;\n}\n\ntr:nth-child(even) {background-color: #f6f6f6;};\n</style><tr><th></th><th>Type</th><th>Gate error</th></tr><tr><td><font style='font-weight:bold'>cx0_1</font></td><td>cx</td><td>0.01345</td></tr><tr><td><font style='font-weight:bold'>cx0_5</font></td><td>cx</td><td>0.01872</td></tr><tr><td><font style='font-weight:bold'>cx1_0</font></td><td>cx</td><td>0.01345</td></tr><tr><td><font style='font-weight:bold'>cx1_2</font></td><td>cx</td><td>0.02611</td></tr><tr><td><font style='font-weight:bold'>cx2_1</font></td><td>cx</td><td>0.02611</td></tr><tr><td><font style='font-weight:bold'>cx2_3</font></td><td>cx</td><td>0.03695</td></tr><tr><td><font style='font-weight:bold'>cx3_2</font></td><td>cx</td><td>0.03695</td></tr><tr><td><font style='font-weight:bold'>cx3_4</font></td><td>cx</td><td>0.02886</td></tr><tr><td><font style='font-weight:bold'>cx4_3</font></td><td>cx</td><td>0.02886</td></tr><tr><td><font style='font-weight:bold'>cx4_9</font></td><td>cx</td><td>0.02049</td></tr><tr><td><font style='font-weight:bold'>cx5_0</font></td><td>cx</td><td>0.01872</td></tr><tr><td><font style='font-weight:bold'>cx5_6</font></td><td>cx</td><td>0.02532</td></tr><tr><td><font style='font-weight:bold'>cx5_10</font></td><td>cx</td><td>0.03206</td></tr><tr><td><font style='font-weight:bold'>cx6_5</font></td><td>cx</td><td>0.02532</td></tr><tr><td><font style='font-weight:bold'>cx6_7</font></td><td>cx</td><td>0.04163</td></tr><tr><td><font style='font-weight:bold'>cx7_6</font></td><td>cx</td><td>0.04163</td></tr></table>"
      }
     },
     "541046700fe24f5eb3cb6118366e324f": {
      "model_module": "@jupyter-widgets/base",
      "model_module_version": "1.2.0",
      "model_name": "LayoutModel",
      "state": {
       "align_items": "center",
       "justify_content": "center",
       "margin": "0px 0px 0px 0px",
       "max_height": "250px",
       "max_width": "250px",
       "min_height": "250px",
       "min_width": "250px"
      }
     },
     "541259aef2c64c5685479a2fe8ecaa07": {
      "model_module": "@jupyter-widgets/base",
      "model_module_version": "1.2.0",
      "model_name": "LayoutModel",
      "state": {
       "grid_area": "bottom",
       "width": "auto"
      }
     },
     "5468a28494b94b94b533c6c4061b8077": {
      "model_module": "@jupyter-widgets/base",
      "model_module_version": "1.2.0",
      "model_name": "LayoutModel",
      "state": {
       "margin": "10px 0px 0px 0px"
      }
     },
     "54bd9ab93a2d48e0bbeccd3823e782a5": {
      "model_module": "@jupyter-widgets/controls",
      "model_module_version": "1.5.0",
      "model_name": "LabelModel",
      "state": {
       "layout": "IPY_MODEL_a8c85efd37454956b7e255fcec0d9801",
       "style": "IPY_MODEL_80b54f76f4fa4c97a9e120d93d09a368",
       "value": "50"
      }
     },
     "54fa9c98015d4b5aa7f129c44c3a47c6": {
      "model_module": "@jupyter-widgets/output",
      "model_module_version": "1.0.0",
      "model_name": "OutputModel",
      "state": {
       "layout": "IPY_MODEL_ddc92b06c68a4890a58201f31e4a95a2",
       "outputs": [
        {
         "data": {
          "image/png": "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\n",
          "text/plain": "<Figure size 360x360 with 1 Axes>"
         },
         "metadata": {},
         "output_type": "display_data"
        }
       ]
      }
     },
     "55471ca5012d4af78d203febe1ed90c8": {
      "model_module": "@jupyter-widgets/base",
      "model_module_version": "1.2.0",
      "model_name": "LayoutModel",
      "state": {
       "align_items": "center",
       "display": "flex-inline",
       "grid_area": "right",
       "max_height": "325px",
       "padding": "10px 10px 10px 10px",
       "width": "auto"
      }
     },
     "55c20daeeddd4340a8e7912ca34698fe": {
      "model_module": "@jupyter-widgets/controls",
      "model_module_version": "1.5.0",
      "model_name": "ProgressStyleModel",
      "state": {
       "bar_color": "#71cddd",
       "description_width": ""
      }
     },
     "55fd75475179469f9298e6246c070376": {
      "model_module": "@jupyter-widgets/controls",
      "model_module_version": "1.5.0",
      "model_name": "DescriptionStyleModel",
      "state": {
       "description_width": ""
      }
     },
     "5632f1486f204e479b954f23861b6c27": {
      "model_module": "@jupyter-widgets/controls",
      "model_module_version": "1.5.0",
      "model_name": "DescriptionStyleModel",
      "state": {
       "description_width": ""
      }
     },
     "56ac21697bf242cbb399f70596ea7f5a": {
      "model_module": "@jupyter-widgets/controls",
      "model_module_version": "1.5.0",
      "model_name": "LabelModel",
      "state": {
       "layout": "IPY_MODEL_fa0b648e1f544f73b2a4b6913280332e",
       "style": "IPY_MODEL_cac3abad25e748958031f70ae6dcb6ac",
       "value": "Avg. Meas. Err."
      }
     },
     "56c1a5e1d99443a8b9e36a41141fb0b3": {
      "model_module": "@jupyter-widgets/controls",
      "model_module_version": "1.5.0",
      "model_name": "HTMLModel",
      "state": {
       "layout": "IPY_MODEL_fa88919099ea4776ada289da81d483c3",
       "style": "IPY_MODEL_37ac56c50f384e40aa9f941b22c525a3",
       "value": "<h5>0.0085</h5>"
      }
     },
     "576df784a2774356bdedc7ea9b33c7a6": {
      "model_module": "@jupyter-widgets/base",
      "model_module_version": "1.2.0",
      "model_name": "LayoutModel",
      "state": {
       "grid_area": "left"
      }
     },
     "58306c3dfdaa4820bcce0da2e9891b6c": {
      "model_module": "@jupyter-widgets/base",
      "model_module_version": "1.2.0",
      "model_name": "LayoutModel",
      "state": {
       "width": "95px"
      }
     },
     "584ae9ddefce42b4a2d6db1cbde0eb9b": {
      "model_module": "@jupyter-widgets/base",
      "model_module_version": "1.2.0",
      "model_name": "LayoutModel",
      "state": {}
     },
     "5887d88f31b64e34b2426844d43115dc": {
      "model_module": "@jupyter-widgets/controls",
      "model_module_version": "1.5.0",
      "model_name": "DescriptionStyleModel",
      "state": {
       "description_width": ""
      }
     },
     "59485519d3f744e0bacc0c3be6d5e23b": {
      "model_module": "@jupyter-widgets/base",
      "model_module_version": "1.2.0",
      "model_name": "LayoutModel",
      "state": {
       "max_width": "180px"
      }
     },
     "5995c7ad2f55452e828505ac61eddc83": {
      "model_module": "@jupyter-widgets/controls",
      "model_module_version": "1.5.0",
      "model_name": "DescriptionStyleModel",
      "state": {
       "description_width": ""
      }
     },
     "5a684b02467f4becb0cf37c6c9e23449": {
      "model_module": "@jupyter-widgets/base",
      "model_module_version": "1.2.0",
      "model_name": "LayoutModel",
      "state": {
       "grid_area": "left",
       "width": "100%"
      }
     },
     "5bd07b74ebd243969b95c6ab13b2670d": {
      "model_module": "@jupyter-widgets/base",
      "model_module_version": "1.2.0",
      "model_name": "LayoutModel",
      "state": {
       "max_height": "620px"
      }
     },
     "5be446749f67453daf580b36f4d80f6f": {
      "model_module": "@jupyter-widgets/controls",
      "model_module_version": "1.5.0",
      "model_name": "LabelModel",
      "state": {
       "layout": "IPY_MODEL_8f732ddd9e61404db212c0a8e071eee0",
       "style": "IPY_MODEL_47eb06d320a34224b9bf23b30bca51d0",
       "value": "13"
      }
     },
     "5c1fecf97e7a41afaeaa9d276e931879": {
      "model_module": "@jupyter-widgets/controls",
      "model_module_version": "1.5.0",
      "model_name": "DescriptionStyleModel",
      "state": {
       "description_width": ""
      }
     },
     "5c5ef89889784e659ae259ac7b310d8c": {
      "model_module": "@jupyter-widgets/controls",
      "model_module_version": "1.5.0",
      "model_name": "DescriptionStyleModel",
      "state": {
       "description_width": ""
      }
     },
     "5cf8a2d936da4836b36512f25710a081": {
      "model_module": "@jupyter-widgets/base",
      "model_module_version": "1.2.0",
      "model_name": "LayoutModel",
      "state": {
       "min_width": "auto"
      }
     },
     "5df86c00ae8544ae83475abbbf4b2b5b": {
      "model_module": "@jupyter-widgets/controls",
      "model_module_version": "1.5.0",
      "model_name": "HTMLMathModel",
      "state": {
       "layout": "IPY_MODEL_541259aef2c64c5685479a2fe8ecaa07",
       "style": "IPY_MODEL_abb984d9e2e64ba8a95a2289639b7d35",
       "value": "<table><style>\ntable {\n    border-collapse: collapse;\n    width: auto;\n}\n\nth, td {\n    text-align: left;\n    padding: 8px;\n}\n\ntr:nth-child(even) {background-color: #f6f6f6;}\n</style><tr><th></th><th></th></tr><tr><td>sample_name</td><td>Hexbert</td></tr><tr><td>credits_required</td><td>True</td></tr><tr><td>dynamic_reprate_enabled</td><td>False</td></tr><tr><td>conditional</td><td>False</td></tr><tr><td>url</td><td>None</td></tr><tr><td>memory</td><td>True</td></tr><tr><td>discriminators</td><td>['linear_discriminator', 'quadratic_discriminator']</td></tr><tr><td>coupling_map</td><td>[[0, 1], [0, 5], [1, 0], [1, 2], [2, 1], [2, 3], [3, 2], [3, 4], [4, 3], [4, 9], [5, 0], [5, 6], [5, 10], [6, 5], [6, 7], [7, 6], [7, 8], [7, 12], [8, 7], [8, 9], [9, 4], [9, 8], [9, 14], [10, 5], [10, 11], [10, 15], [11, 10], [11, 12], [12, 7], [12, 11], [12, 13], [13, 12], [13, 14], [14, 9], [14, 13], [14, 19], [15, 10], [15, 16], [16, 15], [16, 17], [17, 16], [17, 18], [18, 17], [18, 19], [19, 14], [19, 18]]</td></tr><tr><td>online_date</td><td>2019-09-13 04:00:00+00:00</td></tr><tr><td>rep_times</td><td>[1000.0]</td></tr><tr><td>n_uchannels</td><td>46</td></tr><tr><td>description</td><td>20 qubit device Johannesburg</td></tr><tr><td>meas_lo_range</td><td>[[6.582440095000002, 7.582440095000002], [6.420965043000002, 7.420965043000002], [6.544025536, 7.544025536], [6.487596291, 7.487596291000002], [6.515162829, 7.515162829], [6.38843403, 7.388434030000002], [6.479164254000001, 7.479164254000001], [6.3875422130000015, 7.3875422130000015], [6.590439509, 7.590439509], [6.446428035, 7.446428035], [6.5559762710000005, 7.5559762710000005], [6.4055736460000015, 7.4055736460000015], [6.515604958000002, 7.515604958000002], [6.476179029000002, 7.476179029000002], [6.49972362, 7.49972362], [6.377593348, 7.377593348], [6.471263482, 7.471263482], [6.382423119, 7.382423119], [6.580569418000001, 7.580569418000001], [6.424848203000002, 7.424848203000002]]</td></tr><tr><td>acquisition_latency</td><td>[]</td></tr><tr><td>uchannels_enabled</td><td>True</td></tr><tr><td>backend_name</td><td>fake_johannesburg</td></tr><tr><td>allow_object_storage</td><td>True</td></tr><tr><td>n_registers</td><td>1</td></tr><tr><td>open_pulse</td><td>True</td></tr><tr><td>qubit_channel_mapping</td><td>[['u2', 'm0', 'u10', 'u1', 'u0', 'd0'], ['d1', 'u2', 'u4', 'm1', 'u0', 'u3'], ['u4', 'u5', 'd2', 'm2', 'u6', 'u3'], ['u5', 'u8', 'm3', 'u6', 'd3', 'u7'], ['u20', 'u8', 'u9', 'd4', 'm4', 'u7'], ['u10', 'u1', 'u12', 'u11', 'u23', 'u13', 'd5', 'm5'], ['d6', 'u11', 'u15', 'm6', 'u13', 'u14'], ['u28', 'd7', 'u15', 'u17', 'u16', 'u18', 'm7', 'u14'], ['u18', 'u16', 'd8', 'm8', 'u19', 'u21'], ['d9', 'u9', 'u22', 'u33', 'u19', 'u21', 'm9', 'u20'], ['u24', 'd10', 'u12', 'u25', 'u23', 'u26', 'u36', 'm10'], ['u24', 'u29', 'm11', 'u26', 'u27', 'd11'], ['d12', 'u28', 'u29', 'u31', 'u30', 'u17', 'u27', 'm12'], ['u31', 'm13', 'u32', 'd13', 'u30', 'u34'], ['u44', 'd14', 'u32', 'u35', 'u22', 'm14', 'u33', 'u34'], ['d15', 'u38', 'u25', 'm15', 'u37', 'u36'], ['u39', 'u38', 'u40', 'u37', 'm16', 'd16'], ['d17', 'u42', 'u39', 'u41', 'u40', 'm17'], ['u43', 'm18', 'u41', 'u45', 'd18', 'u42'], ['u44', 'u43', 'm19', 'u45', 'u35', 'd19']]</td></tr><tr><td>parametric_pulses</td><td>[]</td></tr><tr><td>meas_kernels</td><td>['boxcar']</td></tr><tr><td>dt</td><td>0.2222222222222222</td></tr><tr><td>simulator</td><td>False</td></tr><tr><td>local</td><td>False</td></tr><tr><td>dtm</td><td>0.2222222222222222</td></tr><tr><td>meas_map</td><td>[[0, 1, 2, 3, 4, 5, 6, 7, 8, 9, 10, 11, 12, 13, 14, 15, 16, 17, 18, 19]]</td></tr><tr><td>u_channel_lo</td><td>[[{'q': 1, 'scale': (1+0j)}], [{'q': 5, 'scale': (1+0j)}], [{'q': 0, 'scale': (1+0j)}], [{'q': 2, 'scale': (1+0j)}], [{'q': 1, 'scale': (1+0j)}], [{'q': 3, 'scale': (1+0j)}], [{'q': 2, 'scale': (1+0j)}], [{'q': 4, 'scale': (1+0j)}], [{'q': 3, 'scale': (1+0j)}], [{'q': 9, 'scale': (1+0j)}], [{'q': 0, 'scale': (1+0j)}], [{'q': 6, 'scale': (1+0j)}], [{'q': 10, 'scale': (1+0j)}], [{'q': 5, 'scale': (1+0j)}], [{'q': 7, 'scale': (1+0j)}], [{'q': 6, 'scale': (1+0j)}], [{'q': 8, 'scale': (1+0j)}], [{'q': 12, 'scale': (1+0j)}], [{'q': 7, 'scale': (1+0j)}], [{'q': 9, 'scale': (1+0j)}], [{'q': 4, 'scale': (1+0j)}], [{'q': 8, 'scale': (1+0j)}], [{'q': 14, 'scale': (1+0j)}], [{'q': 5, 'scale': (1+0j)}], [{'q': 11, 'scale': (1+0j)}], [{'q': 15, 'scale': (1+0j)}], [{'q': 10, 'scale': (1+0j)}], [{'q': 12, 'scale': (1+0j)}], [{'q': 7, 'scale': (1+0j)}], [{'q': 11, 'scale': (1+0j)}], [{'q': 13, 'scale': (1+0j)}], [{'q': 12, 'scale': (1+0j)}], [{'q': 14, 'scale': (1+0j)}], [{'q': 9, 'scale': (1+0j)}], [{'q': 13, 'scale': (1+0j)}], [{'q': 19, 'scale': (1+0j)}], [{'q': 10, 'scale': (1+0j)}], [{'q': 16, 'scale': (1+0j)}], [{'q': 15, 'scale': (1+0j)}], [{'q': 17, 'scale': (1+0j)}], [{'q': 16, 'scale': (1+0j)}], [{'q': 18, 'scale': (1+0j)}], [{'q': 17, 'scale': (1+0j)}], [{'q': 19, 'scale': (1+0j)}], [{'q': 14, 'scale': (1+0j)}], [{'q': 18, 'scale': (1+0j)}]]</td></tr><tr><td>allow_q_object</td><td>True</td></tr><tr><td>qubit_lo_range</td><td>[[4.164921219025063, 5.164921219025063], [4.26767163657472, 5.267671636574722], [4.118034101840273, 5.118034101840273], [4.522627765569717, 5.522627765569717], [4.155787513438005, 5.155787513438007], [4.245781392793495, 5.245781392793495], [4.331680271816184, 5.331680271816184], [4.205694167284576, 5.205694167284576], [4.398401743238063, 5.398401743238063], [4.240604573181179, 5.240604573181179], [4.341305536370642, 5.341305536370642], [4.257092566528682, 5.257092566528682], [4.1198621405375295, 5.11986214053753], [4.353945886402921, 5.353945886402921], [3.901271095555993, 4.901271095555994], [4.193544830088672, 5.193544830088672], [4.012673616968253, 5.012673616968254], [4.224206493424603, 5.224206493424605], [3.8350998481550134, 4.8350998481550125], [4.0862258365306365, 5.086225836530638]]</td></tr><tr><td>hamiltonian</td><td>$$\\begin{align} \\mathcal{H}/\\hbar = & \\sum_{i=0}^{19}\\left(\\frac{\\omega_{q,i}}{2}(\\mathbb{I}-\\sigma_i^{z})+\\frac{\\Delta_{i}}{2}(O_i^2-O_i)+\\Omega_{d,i}D_i(t)\\sigma_i^{X}\\right) \\\\ & + J_{10,11}(\\sigma_{10}^{+}\\sigma_{11}^{-}+\\sigma_{10}^{-}\\sigma_{11}^{+}) + J_{7,12}(\\sigma_{7}^{+}\\sigma_{12}^{-}+\\sigma_{7}^{-}\\sigma_{12}^{+}) + J_{5,6}(\\sigma_{5}^{+}\\sigma_{6}^{-}+\\sigma_{5}^{-}\\sigma_{6}^{+}) + J_{8,9}(\\sigma_{8}^{+}\\sigma_{9}^{-}+\\sigma_{8}^{-}\\sigma_{9}^{+}) \\\\ & + J_{10,15}(\\sigma_{10}^{+}\\sigma_{15}^{-}+\\sigma_{10}^{-}\\sigma_{15}^{+}) + J_{15,16}(\\sigma_{15}^{+}\\sigma_{16}^{-}+\\sigma_{15}^{-}\\sigma_{16}^{+}) + J_{18,19}(\\sigma_{18}^{+}\\sigma_{19}^{-}+\\sigma_{18}^{-}\\sigma_{19}^{+}) + J_{1,2}(\\sigma_{1}^{+}\\sigma_{2}^{-}+\\sigma_{1}^{-}\\sigma_{2}^{+}) \\\\ & + J_{16,17}(\\sigma_{16}^{+}\\sigma_{17}^{-}+\\sigma_{16}^{-}\\sigma_{17}^{+}) + J_{4,9}(\\sigma_{4}^{+}\\sigma_{9}^{-}+\\sigma_{4}^{-}\\sigma_{9}^{+}) + J_{6,7}(\\sigma_{6}^{+}\\sigma_{7}^{-}+\\sigma_{6}^{-}\\sigma_{7}^{+}) + J_{12,13}(\\sigma_{12}^{+}\\sigma_{13}^{-}+\\sigma_{12}^{-}\\sigma_{13}^{+}) \\\\ & + J_{3,4}(\\sigma_{3}^{+}\\sigma_{4}^{-}+\\sigma_{3}^{-}\\sigma_{4}^{+}) + J_{9,14}(\\sigma_{9}^{+}\\sigma_{14}^{-}+\\sigma_{9}^{-}\\sigma_{14}^{+}) + J_{14,19}(\\sigma_{14}^{+}\\sigma_{19}^{-}+\\sigma_{14}^{-}\\sigma_{19}^{+}) + J_{0,5}(\\sigma_{0}^{+}\\sigma_{5}^{-}+\\sigma_{0}^{-}\\sigma_{5}^{+}) \\\\ & + J_{2,3}(\\sigma_{2}^{+}\\sigma_{3}^{-}+\\sigma_{2}^{-}\\sigma_{3}^{+}) + J_{11,12}(\\sigma_{11}^{+}\\sigma_{12}^{-}+\\sigma_{11}^{-}\\sigma_{12}^{+}) + J_{17,18}(\\sigma_{17}^{+}\\sigma_{18}^{-}+\\sigma_{17}^{-}\\sigma_{18}^{+}) + J_{0,1}(\\sigma_{0}^{+}\\sigma_{1}^{-}+\\sigma_{0}^{-}\\sigma_{1}^{+}) \\\\ & + J_{5,10}(\\sigma_{5}^{+}\\sigma_{10}^{-}+\\sigma_{5}^{-}\\sigma_{10}^{+}) + J_{13,14}(\\sigma_{13}^{+}\\sigma_{14}^{-}+\\sigma_{13}^{-}\\sigma_{14}^{+}) + J_{7,8}(\\sigma_{7}^{+}\\sigma_{8}^{-}+\\sigma_{7}^{-}\\sigma_{8}^{+}) \\\\ & + \\Omega_{d,0}(U_{0}^{(0,1)}(t)+U_{1}^{(0,5)}(t))\\sigma_{0}^{X} + \\Omega_{d,1}(U_{2}^{(1,0)}(t)+U_{3}^{(1,2)}(t))\\sigma_{1}^{X} \\\\ & + \\Omega_{d,2}(U_{4}^{(2,1)}(t)+U_{5}^{(2,3)}(t))\\sigma_{2}^{X} + \\Omega_{d,3}(U_{7}^{(3,4)}(t)+U_{6}^{(3,2)}(t))\\sigma_{3}^{X} \\\\ & + \\Omega_{d,4}(U_{8}^{(4,3)}(t)+U_{9}^{(4,9)}(t))\\sigma_{4}^{X} + \\Omega_{d,5}(U_{10}^{(5,0)}(t)+U_{12}^{(5,10)}(t)+U_{11}^{(5,6)}(t))\\sigma_{5}^{X} \\\\ & + \\Omega_{d,6}(U_{14}^{(6,7)}(t)+U_{13}^{(6,5)}(t))\\sigma_{6}^{X} + \\Omega_{d,7}(U_{15}^{(7,6)}(t)+U_{16}^{(7,8)}(t)+U_{17}^{(7,12)}(t))\\sigma_{7}^{X} \\\\ & + \\Omega_{d,8}(U_{18}^{(8,7)}(t)+U_{19}^{(8,9)}(t))\\sigma_{8}^{X} + \\Omega_{d,9}(U_{20}^{(9,4)}(t)+U_{21}^{(9,8)}(t)+U_{22}^{(9,14)}(t))\\sigma_{9}^{X} \\\\ & + \\Omega_{d,10}(U_{24}^{(10,11)}(t)+U_{23}^{(10,5)}(t)+U_{25}^{(10,15)}(t))\\sigma_{10}^{X} + \\Omega_{d,11}(U_{27}^{(11,12)}(t)+U_{26}^{(11,10)}(t))\\sigma_{11}^{X} \\\\ & + \\Omega_{d,12}(U_{28}^{(12,7)}(t)+U_{30}^{(12,13)}(t)+U_{29}^{(12,11)}(t))\\sigma_{12}^{X} + \\Omega_{d,13}(U_{31}^{(13,12)}(t)+U_{32}^{(13,14)}(t))\\sigma_{13}^{X} \\\\ & + \\Omega_{d,14}(U_{35}^{(14,19)}(t)+U_{34}^{(14,13)}(t)+U_{33}^{(14,9)}(t))\\sigma_{14}^{X} + \\Omega_{d,15}(U_{36}^{(15,10)}(t)+U_{37}^{(15,16)}(t))\\sigma_{15}^{X} \\\\ & + \\Omega_{d,16}(U_{38}^{(16,15)}(t)+U_{39}^{(16,17)}(t))\\sigma_{16}^{X} + \\Omega_{d,17}(U_{41}^{(17,18)}(t)+U_{40}^{(17,16)}(t))\\sigma_{17}^{X} \\\\ & + \\Omega_{d,18}(U_{43}^{(18,19)}(t)+U_{42}^{(18,17)}(t))\\sigma_{18}^{X} + \\Omega_{d,19}(U_{45}^{(19,18)}(t)+U_{44}^{(19,14)}(t))\\sigma_{19}^{X} \\\\ \\end{align}$$</td></tr><tr><td>meas_levels</td><td>[1, 2]</td></tr><tr><td>conditional_latency</td><td>[]</td></tr></table>"
      }
     },
     "5fd32081e2824180962f0c629e5364d1": {
      "model_module": "@jupyter-widgets/controls",
      "model_module_version": "1.5.0",
      "model_name": "HTMLModel",
      "state": {
       "layout": "IPY_MODEL_f681a39cb6584ba8a033f2a27b10ef1f",
       "style": "IPY_MODEL_9db17765badb4a089cd1cc9e0b789550",
       "value": "<table><style>\ntable {\n    border-collapse: collapse;\n    width: auto;\n}\n\nth, td {\n    text-align: left;\n    padding: 8px;\n}\n\ntr:nth-child(even) {background-color: #f6f6f6;};\n</style><tr><th></th><th>Type</th><th>Gate error</th></tr><tr><td><font style='font-weight:bold'>cx2_1</font></td><td>cx</td><td>0.00842</td></tr><tr><td><font style='font-weight:bold'>cx1_2</font></td><td>cx</td><td>0.00842</td></tr><tr><td><font style='font-weight:bold'>cx0_1</font></td><td>cx</td><td>0.0084</td></tr><tr><td><font style='font-weight:bold'>cx1_0</font></td><td>cx</td><td>0.0084</td></tr></table>"
      }
     },
     "620c319354724a74bad9081fe4b8adb7": {
      "model_module": "@jupyter-widgets/controls",
      "model_module_version": "1.5.0",
      "model_name": "ProgressStyleModel",
      "state": {
       "bar_color": "#71cddd",
       "description_width": ""
      }
     },
     "62609935ec0444988d44d42309946c88": {
      "model_module": "@jupyter-widgets/controls",
      "model_module_version": "1.5.0",
      "model_name": "DescriptionStyleModel",
      "state": {
       "description_width": ""
      }
     },
     "62ce77e744ee42baa13eb5b4f916d274": {
      "model_module": "@jupyter-widgets/base",
      "model_module_version": "1.2.0",
      "model_name": "LayoutModel",
      "state": {
       "justify_content": "center"
      }
     },
     "6312e9df312b4d6b8146a75f5cc69991": {
      "model_module": "@jupyter-widgets/controls",
      "model_module_version": "1.5.0",
      "model_name": "DescriptionStyleModel",
      "state": {
       "description_width": ""
      }
     },
     "632c677ac2c94f42ae18db4b6d40e8b1": {
      "model_module": "@jupyter-widgets/base",
      "model_module_version": "1.2.0",
      "model_name": "LayoutModel",
      "state": {
       "justify_content": "center"
      }
     },
     "6425ca3db63c4cbb8bf055b72174b6e1": {
      "model_module": "@jupyter-widgets/controls",
      "model_module_version": "1.5.0",
      "model_name": "HTMLModel",
      "state": {
       "layout": "IPY_MODEL_aedba304d9c24274a3991b821aa3f1b4",
       "style": "IPY_MODEL_38eae149bd734417a3cdb539afbc836c",
       "value": "<h5>125.9 / 54.5 us</h5>"
      }
     },
     "6477be8e03024e8fb9d7a3556d2aa598": {
      "model_module": "@jupyter-widgets/controls",
      "model_module_version": "1.5.0",
      "model_name": "ProgressStyleModel",
      "state": {
       "bar_color": "#71cddd",
       "description_width": ""
      }
     },
     "65cbd17f78264f15b656e2142384da25": {
      "model_module": "@jupyter-widgets/controls",
      "model_module_version": "1.5.0",
      "model_name": "HTMLModel",
      "state": {
       "layout": "IPY_MODEL_a8a96675ca7847af8a4406ef43e21a16",
       "style": "IPY_MODEL_a60131fea6774603801122e635696eca",
       "value": "ibm_perth"
      }
     },
     "66ba014f1d794bdc8982faa8656f0622": {
      "model_module": "@jupyter-widgets/base",
      "model_module_version": "1.2.0",
      "model_name": "LayoutModel",
      "state": {
       "min_width": "auto"
      }
     },
     "67d38d2f79154a81863d39a2190bbcce": {
      "model_module": "@jupyter-widgets/controls",
      "model_module_version": "1.5.0",
      "model_name": "DescriptionStyleModel",
      "state": {
       "description_width": ""
      }
     },
     "67ffbea6037a43869922e80ae670b814": {
      "model_module": "@jupyter-widgets/base",
      "model_module_version": "1.2.0",
      "model_name": "LayoutModel",
      "state": {}
     },
     "697e58f03b0c4c76a1b2489ec6b112b9": {
      "model_module": "@jupyter-widgets/controls",
      "model_module_version": "1.5.0",
      "model_name": "DescriptionStyleModel",
      "state": {
       "description_width": ""
      }
     },
     "69a35b79c63146f3885005394d585df7": {
      "model_module": "@jupyter-widgets/controls",
      "model_module_version": "1.5.0",
      "model_name": "DescriptionStyleModel",
      "state": {
       "description_width": ""
      }
     },
     "6a1b514b71444cd8b3c3054f1bcba273": {
      "model_module": "@jupyter-widgets/base",
      "model_module_version": "1.2.0",
      "model_name": "LayoutModel",
      "state": {
       "justify_content": "center",
       "max_width": "250px",
       "min_width": "250px"
      }
     },
     "6aa24d7eae0a4bd582a7d3a1edbc3af6": {
      "model_module": "@jupyter-widgets/controls",
      "model_module_version": "1.5.0",
      "model_name": "HTMLModel",
      "state": {
       "layout": "IPY_MODEL_41b4bff09c304480acdf5aafade777da",
       "style": "IPY_MODEL_0f0bebb686674d0bb85eb53f955cf3ce",
       "value": "<h4>ibm_perth</h4>"
      }
     },
     "6bc1dde0b9c04f3eaf52825a6adb0d81": {
      "model_module": "@jupyter-widgets/controls",
      "model_module_version": "1.5.0",
      "model_name": "HTMLModel",
      "state": {
       "layout": "IPY_MODEL_71705d0293594f59b9eb4b61bac176d9",
       "style": "IPY_MODEL_5632f1486f204e479b954f23861b6c27",
       "value": "<h5><b>5</b></h5>"
      }
     },
     "6bff792a57cb42e9b4b5a4905b55d9bd": {
      "model_module": "@jupyter-widgets/controls",
      "model_module_version": "1.5.0",
      "model_name": "HTMLModel",
      "state": {
       "layout": "IPY_MODEL_31e9aa2554db475789092ea1293836b9",
       "style": "IPY_MODEL_7f10c08e5297478fbe79001e4e786c2d",
       "value": "<h5 style='color:#34bc6e'>True</h5>"
      }
     },
     "6c6bfab7834048a88cb0a1af97705568": {
      "model_module": "@jupyter-widgets/base",
      "model_module_version": "1.2.0",
      "model_name": "LayoutModel",
      "state": {
       "border": "4px solid #000000",
       "max_height": "650px",
       "min_height": "650px",
       "overflow_y": "hidden"
      }
     },
     "6c93d259015446a78e3bbccbb225ef10": {
      "model_module": "@jupyter-widgets/base",
      "model_module_version": "1.2.0",
      "model_name": "LayoutModel",
      "state": {
       "justify_content": "center"
      }
     },
     "6d17d6a09e8d4181a4d30ec8e4d98332": {
      "model_module": "@jupyter-widgets/controls",
      "model_module_version": "1.5.0",
      "model_name": "DescriptionStyleModel",
      "state": {
       "description_width": ""
      }
     },
     "6d62f072dde44bd5a02afac790bb879d": {
      "model_module": "@jupyter-widgets/base",
      "model_module_version": "1.2.0",
      "model_name": "LayoutModel",
      "state": {
       "grid_gap": "0px 0px",
       "grid_template_areas": "\n                               \"left right right right\"\n                               \"bottom bottom bottom bottom\"\n                               ",
       "grid_template_columns": "31% 23% 23% 23%",
       "grid_template_rows": "auto auto"
      }
     },
     "6ee5efa37f9642fca98024b299cb6e4a": {
      "model_module": "@jupyter-widgets/controls",
      "model_module_version": "1.5.0",
      "model_name": "HTMLModel",
      "state": {
       "layout": "IPY_MODEL_0f58dcb30d1743e88b93cdd96a59dc6e",
       "style": "IPY_MODEL_5c5ef89889784e659ae259ac7b310d8c",
       "value": "<table><style>\ntable {\n    border-collapse: collapse;\n    width: auto;\n}\n\nth, td {\n    text-align: left;\n    padding: 8px;\n}\n\ntr:nth-child(even) {background-color: #f6f6f6;};\n</style><tr><th></th><th>Type</th><th>Gate error</th></tr><tr><td><font style='font-weight:bold'>cx7_8</font></td><td>cx</td><td>0.01868</td></tr><tr><td><font style='font-weight:bold'>cx7_12</font></td><td>cx</td><td>0.02643</td></tr><tr><td><font style='font-weight:bold'>cx8_7</font></td><td>cx</td><td>0.01868</td></tr><tr><td><font style='font-weight:bold'>cx8_9</font></td><td>cx</td><td>0.02868</td></tr><tr><td><font style='font-weight:bold'>cx9_4</font></td><td>cx</td><td>0.02049</td></tr><tr><td><font style='font-weight:bold'>cx9_8</font></td><td>cx</td><td>0.02868</td></tr><tr><td><font style='font-weight:bold'>cx9_14</font></td><td>cx</td><td>0.03955</td></tr><tr><td><font style='font-weight:bold'>cx10_5</font></td><td>cx</td><td>0.03206</td></tr><tr><td><font style='font-weight:bold'>cx10_11</font></td><td>cx</td><td>0.01839</td></tr><tr><td><font style='font-weight:bold'>cx10_15</font></td><td>cx</td><td>0.02979</td></tr><tr><td><font style='font-weight:bold'>cx11_10</font></td><td>cx</td><td>0.01839</td></tr><tr><td><font style='font-weight:bold'>cx11_12</font></td><td>cx</td><td>0.02652</td></tr><tr><td><font style='font-weight:bold'>cx12_7</font></td><td>cx</td><td>0.02643</td></tr><tr><td><font style='font-weight:bold'>cx12_11</font></td><td>cx</td><td>0.02652</td></tr><tr><td><font style='font-weight:bold'>cx12_13</font></td><td>cx</td><td>0.01666</td></tr></table>"
      }
     },
     "6f57f368573a4a1cafec1e4df5e05fd4": {
      "model_module": "@jupyter-widgets/controls",
      "model_module_version": "1.5.0",
      "model_name": "HTMLModel",
      "state": {
       "layout": "IPY_MODEL_4f744b520e4d4991b21a796ea35652a5",
       "style": "IPY_MODEL_8987ae6830b842a6aa75feedb99390cf",
       "value": "<h5>83.3 / 93.5 us</h5>"
      }
     },
     "6f6ddc2715584baa884581f37ac4682c": {
      "model_module": "@jupyter-widgets/controls",
      "model_module_version": "1.5.0",
      "model_name": "DescriptionStyleModel",
      "state": {
       "description_width": ""
      }
     },
     "6fb56da172b647edb25669b985d6ef0f": {
      "model_module": "@jupyter-widgets/base",
      "model_module_version": "1.2.0",
      "model_name": "LayoutModel",
      "state": {
       "min_width": "auto"
      }
     },
     "6fbeff002a164f5a90ec7e61b5ff46c7": {
      "model_module": "@jupyter-widgets/base",
      "model_module_version": "1.2.0",
      "model_name": "LayoutModel",
      "state": {
       "min_width": "auto"
      }
     },
     "70ee0231563b41ca852636797e1f165e": {
      "model_module": "@jupyter-widgets/controls",
      "model_module_version": "1.5.0",
      "model_name": "DescriptionStyleModel",
      "state": {
       "description_width": ""
      }
     },
     "71705d0293594f59b9eb4b61bac176d9": {
      "model_module": "@jupyter-widgets/base",
      "model_module_version": "1.2.0",
      "model_name": "LayoutModel",
      "state": {
       "justify_content": "center"
      }
     },
     "71b25b702bcf4ee598a98a742dd02eaa": {
      "model_module": "@jupyter-widgets/base",
      "model_module_version": "1.2.0",
      "model_name": "LayoutModel",
      "state": {
       "min_width": "auto"
      }
     },
     "72b81991b35b4566becb9b7e4c716379": {
      "model_module": "@jupyter-widgets/base",
      "model_module_version": "1.2.0",
      "model_name": "LayoutModel",
      "state": {
       "width": "190px"
      }
     },
     "7317379235964bc8893b31eae93fb3a2": {
      "model_module": "@jupyter-widgets/controls",
      "model_module_version": "1.5.0",
      "model_name": "HTMLModel",
      "state": {
       "layout": "IPY_MODEL_72b81991b35b4566becb9b7e4c716379",
       "style": "IPY_MODEL_6312e9df312b4d6b8146a75f5cc69991",
       "value": "<h5>Job ID</h5>"
      }
     },
     "737dcc1c9b95443a96830ee7bb6cf968": {
      "model_module": "@jupyter-widgets/base",
      "model_module_version": "1.2.0",
      "model_name": "LayoutModel",
      "state": {
       "align_items": "center",
       "display": "inline-flex",
       "flex_flow": "column"
      }
     },
     "73a0da12edb34276a6892925566776e5": {
      "model_module": "@jupyter-widgets/controls",
      "model_module_version": "1.5.0",
      "model_name": "DescriptionStyleModel",
      "state": {
       "description_width": ""
      }
     },
     "7478a5209efb4faabb7e5f7185227e1b": {
      "model_module": "@jupyter-widgets/base",
      "model_module_version": "1.2.0",
      "model_name": "LayoutModel",
      "state": {}
     },
     "76514aed603343eab82f1b3da899e423": {
      "model_module": "@jupyter-widgets/controls",
      "model_module_version": "1.5.0",
      "model_name": "DescriptionStyleModel",
      "state": {
       "description_width": ""
      }
     },
     "7654b412560943a991b7cb0645163535": {
      "model_module": "@jupyter-widgets/controls",
      "model_module_version": "1.5.0",
      "model_name": "HTMLModel",
      "state": {
       "layout": "IPY_MODEL_2a9b1f308e1c49e5a563a6a5a28d778e",
       "style": "IPY_MODEL_f217a3eba13341b2a28ae61592765e86",
       "value": "<h5 style='color:#dc267f'>False</h5>"
      }
     },
     "784f43e9daea43c3acd8b4e32776f894": {
      "model_module": "@jupyter-widgets/base",
      "model_module_version": "1.2.0",
      "model_name": "LayoutModel",
      "state": {}
     },
     "784fcc8b5ce641a38deed3c99c7e7249": {
      "model_module": "@jupyter-widgets/controls",
      "model_module_version": "1.5.0",
      "model_name": "LabelModel",
      "state": {
       "layout": "IPY_MODEL_352ee26a8c9642e2b5570aa03ff99085",
       "style": "IPY_MODEL_1293aa300ecb43e9bb6912579832b75b",
       "value": "Avg. T1 / T2"
      }
     },
     "787d7d5e6c724e73a53647021630af24": {
      "model_module": "@jupyter-widgets/controls",
      "model_module_version": "1.5.0",
      "model_name": "IntProgressModel",
      "state": {
       "layout": "IPY_MODEL_59485519d3f744e0bacc0c3be6d5e23b",
       "max": 50,
       "style": "IPY_MODEL_c1022bf5697946418c74b9fefdf14f2e",
       "value": 32
      }
     },
     "788402233a4e4c00904ea670545e5e1f": {
      "model_module": "@jupyter-widgets/controls",
      "model_module_version": "1.5.0",
      "model_name": "DescriptionStyleModel",
      "state": {
       "description_width": ""
      }
     },
     "7974050ef63c41f5ad0e0db56ff481c7": {
      "model_module": "@jupyter-widgets/controls",
      "model_module_version": "1.5.0",
      "model_name": "HTMLModel",
      "state": {
       "layout": "IPY_MODEL_95b7094ea5984a289744d54b2a59ff15",
       "style": "IPY_MODEL_4c50b2747b43451b8094fede5d166596",
       "value": "<h5><b>5</b></h5>"
      }
     },
     "79f7c5b79fdd4e77b3ff6638642fd397": {
      "model_module": "@jupyter-widgets/controls",
      "model_module_version": "1.5.0",
      "model_name": "ButtonModel",
      "state": {
       "icon": "close",
       "layout": "IPY_MODEL_4378e5a6f65041229679a469737d31dc",
       "style": "IPY_MODEL_cdb7019880034450a87396cddee3e78e"
      }
     },
     "7abfb45da8bf48cf8671435aef87244a": {
      "model_module": "@jupyter-widgets/controls",
      "model_module_version": "1.5.0",
      "model_name": "DescriptionStyleModel",
      "state": {
       "description_width": ""
      }
     },
     "7b93b00cff1e4dc59a98497b78b1edeb": {
      "model_module": "@jupyter-widgets/controls",
      "model_module_version": "1.5.0",
      "model_name": "LabelModel",
      "state": {
       "layout": "IPY_MODEL_a96c07ee29dd4377822d593a4a18e9c4",
       "style": "IPY_MODEL_04afec7436954973b3c58e7e4245ce42",
       "value": "50"
      }
     },
     "7bcbb5b6901242cb8084126b0aa9cf16": {
      "model_module": "@jupyter-widgets/controls",
      "model_module_version": "1.5.0",
      "model_name": "HBoxModel",
      "state": {
       "children": [
        "IPY_MODEL_7317379235964bc8893b31eae93fb3a2",
        "IPY_MODEL_145d1fe55cfb460a97192243752bb58e",
        "IPY_MODEL_df8e85b91da34b0fb0087f98ba1431d2",
        "IPY_MODEL_0ffed87ed9c64463b5ad942eac24f9b3",
        "IPY_MODEL_7fa6db9748a94b58bd865c2075e87d59"
       ],
       "layout": "IPY_MODEL_0f4f69a45ebc4a61b9dd8865bb64e6a1"
      }
     },
     "7bee790cf4324a529b089997e7642e6e": {
      "model_module": "@jupyter-widgets/controls",
      "model_module_version": "1.5.0",
      "model_name": "HBoxModel",
      "state": {
       "children": [
        "IPY_MODEL_a586834232144dbab6668a7c156ae0be",
        "IPY_MODEL_1e7cc4fb927849a98d96b974fb4f6562",
        "IPY_MODEL_9e8b5564e34e4bbdb79fc4e40dd901ce"
       ],
       "layout": "IPY_MODEL_80f1c276a0d2469d8a0ec7f8ef67340d"
      }
     },
     "7cb549b338b9489481581756b29d7045": {
      "model_module": "@jupyter-widgets/base",
      "model_module_version": "1.2.0",
      "model_name": "LayoutModel",
      "state": {
       "align_items": "center",
       "justify_content": "center",
       "margin": "0px 0px 0px 0px",
       "max_height": "250px",
       "max_width": "250px",
       "min_height": "250px",
       "min_width": "250px"
      }
     },
     "7cd4cdb98e0e42f0ae6045f83fba1449": {
      "model_module": "@jupyter-widgets/controls",
      "model_module_version": "1.5.0",
      "model_name": "HTMLModel",
      "state": {
       "layout": "IPY_MODEL_30d3849632a54248b486a73af0d89452",
       "style": "IPY_MODEL_c25251c164d04ae9bb3be5d72d8dbe68",
       "value": "<h5>1</h5>"
      }
     },
     "7f10c08e5297478fbe79001e4e786c2d": {
      "model_module": "@jupyter-widgets/controls",
      "model_module_version": "1.5.0",
      "model_name": "DescriptionStyleModel",
      "state": {
       "description_width": ""
      }
     },
     "7f3de3f3e9974ca7a20c62a844c24bba": {
      "model_module": "@jupyter-widgets/controls",
      "model_module_version": "1.5.0",
      "model_name": "HTMLModel",
      "state": {
       "layout": "IPY_MODEL_51a9942cdb174939812fac7b19388817",
       "style": "IPY_MODEL_3f9fa3cbbc4341d98c50b3976c44822e",
       "value": "<h5 style='color:#34bc6e'>True</h5>"
      }
     },
     "7f551e8f95b146049e55f376ea642347": {
      "model_module": "@jupyter-widgets/controls",
      "model_module_version": "1.5.0",
      "model_name": "HTMLModel",
      "state": {
       "layout": "IPY_MODEL_89c99eba906240bda612417d3c1835a1",
       "style": "IPY_MODEL_18f96ca096764931af49468b9c4274ba",
       "value": "<h5>0.0063</h5>"
      }
     },
     "7f88a7e3d74141beab66ec1f9a1290b3": {
      "model_module": "@jupyter-widgets/base",
      "model_module_version": "1.2.0",
      "model_name": "LayoutModel",
      "state": {
       "justify_content": "center"
      }
     },
     "7fa6db9748a94b58bd865c2075e87d59": {
      "model_module": "@jupyter-widgets/controls",
      "model_module_version": "1.5.0",
      "model_name": "HTMLModel",
      "state": {
       "layout": "IPY_MODEL_c401c492b7c6452e80a7b4d69c813628",
       "style": "IPY_MODEL_fd774eda628c4a578f39231c0e59f9e3",
       "value": "<h5>Message</h5>"
      }
     },
     "7ff8f801e9c243a3856f50052df65f37": {
      "model_module": "@jupyter-widgets/base",
      "model_module_version": "1.2.0",
      "model_name": "LayoutModel",
      "state": {}
     },
     "80b54f76f4fa4c97a9e120d93d09a368": {
      "model_module": "@jupyter-widgets/controls",
      "model_module_version": "1.5.0",
      "model_name": "DescriptionStyleModel",
      "state": {
       "description_width": ""
      }
     },
     "80f1c276a0d2469d8a0ec7f8ef67340d": {
      "model_module": "@jupyter-widgets/base",
      "model_module_version": "1.2.0",
      "model_name": "LayoutModel",
      "state": {
       "justify_content": "center",
       "max_width": "250px",
       "min_width": "250px"
      }
     },
     "814a2b0a3b434e5c8b354e5ca79b6a48": {
      "model_module": "@jupyter-widgets/controls",
      "model_module_version": "1.5.0",
      "model_name": "DescriptionStyleModel",
      "state": {
       "description_width": ""
      }
     },
     "825d461a7e7348b980cdb7cbb9afa843": {
      "model_module": "@jupyter-widgets/controls",
      "model_module_version": "1.5.0",
      "model_name": "ButtonStyleModel",
      "state": {
       "button_color": "white"
      }
     },
     "8276f61e68544c7fbb812afbaee922ea": {
      "model_module": "@jupyter-widgets/controls",
      "model_module_version": "1.5.0",
      "model_name": "HTMLMathModel",
      "state": {
       "layout": "IPY_MODEL_5a684b02467f4becb0cf37c6c9e23449",
       "style": "IPY_MODEL_2d7fc58de83e4f8ea33ad74d17415992",
       "value": "<table><style>\ntable {\n    border-collapse: collapse;\n    width: auto;\n}\n\nth, td {\n    text-align: left;\n    padding: 8px;\n}\n\ntr:nth-child(even) {background-color: #f6f6f6;}\n</style><tr><th>Property</th><th>Value</th></tr><tr><td><font style='font-weight:bold'>n_qubits</font></td><td>20</td></tr><tr><td><font style='font-weight:bold'>quantum_volume</font></td><td>32</td></tr><tr><td><font style='font-weight:bold'>operational</font></td><td>True</td></tr><tr><td><font style='font-weight:bold'>status_msg</font></td><td></td></tr><tr><td><font style='font-weight:bold'>pending_jobs</font></td><td>0</td></tr><tr><td><font style='font-weight:bold'>backend_version</font></td><td>1.2.2</td></tr><tr><td><font style='font-weight:bold'>basis_gates</font></td><td>['id', 'u1', 'u2', 'u3', 'cx']</td></tr><tr><td><font style='font-weight:bold'>max_shots</font></td><td>8192</td></tr><tr><td><font style='font-weight:bold'>max_experiments</font></td><td>900</td></tr></table>"
      }
     },
     "83050c7b88bd42868215ddbdd44aed12": {
      "model_module": "@jupyter-widgets/controls",
      "model_module_version": "1.5.0",
      "model_name": "DescriptionStyleModel",
      "state": {
       "description_width": ""
      }
     },
     "8324e17c0339492783d4ec7cf8d4f57a": {
      "model_module": "@jupyter-widgets/controls",
      "model_module_version": "1.5.0",
      "model_name": "GridBoxModel",
      "state": {
       "children": [
        "IPY_MODEL_8276f61e68544c7fbb812afbaee922ea",
        "IPY_MODEL_99d385a395e44311a17b5b70d38fbaad",
        "IPY_MODEL_5df86c00ae8544ae83475abbbf4b2b5b"
       ],
       "layout": "IPY_MODEL_3512384619fa451ba71679c736dc21c8"
      }
     },
     "8454a9ccea784f088c9cd015146fedab": {
      "model_module": "@jupyter-widgets/controls",
      "model_module_version": "1.5.0",
      "model_name": "HTMLModel",
      "state": {
       "layout": "IPY_MODEL_2cf8faf4255a4d19bba999d9e7429362",
       "style": "IPY_MODEL_73a0da12edb34276a6892925566776e5",
       "value": "<h5 style='color:#dc267f'>False</h5>"
      }
     },
     "846fb8f79b214dd0bd30f981aa12e938": {
      "model_module": "@jupyter-widgets/controls",
      "model_module_version": "1.5.0",
      "model_name": "LabelModel",
      "state": {
       "layout": "IPY_MODEL_66ba014f1d794bdc8982faa8656f0622",
       "style": "IPY_MODEL_f32884275df642c085a43c484dbd1058",
       "value": "1"
      }
     },
     "84836e0ccb5e4bcbbf8faaaafa732f21": {
      "model_module": "@jupyter-widgets/controls",
      "model_module_version": "1.5.0",
      "model_name": "HTMLModel",
      "state": {
       "layout": "IPY_MODEL_a5520cb1364047489eccf6ce8fa0b763",
       "style": "IPY_MODEL_dad17df1b0634ce4b2b2e85106cf0a70",
       "value": "<h4>ibmq_armonk</h4>"
      }
     },
     "84d6a71b66e844e78b5a402409d61ed6": {
      "model_module": "@jupyter-widgets/base",
      "model_module_version": "1.2.0",
      "model_name": "LayoutModel",
      "state": {
       "margin": "0px 0px 0px 0px"
      }
     },
     "857cf4b137ce47f2af50b644780cfd87": {
      "model_module": "@jupyter-widgets/base",
      "model_module_version": "1.2.0",
      "model_name": "LayoutModel",
      "state": {}
     },
     "86538640f9264a61b8189c7295ac0c27": {
      "model_module": "@jupyter-widgets/controls",
      "model_module_version": "1.5.0",
      "model_name": "DescriptionStyleModel",
      "state": {
       "description_width": ""
      }
     },
     "86673736406c46b6bbf1f474f6c4ce7f": {
      "model_module": "@jupyter-widgets/controls",
      "model_module_version": "1.5.0",
      "model_name": "DescriptionStyleModel",
      "state": {
       "description_width": ""
      }
     },
     "86982c529be543e99680bea327a84ad7": {
      "model_module": "@jupyter-widgets/base",
      "model_module_version": "1.2.0",
      "model_name": "LayoutModel",
      "state": {}
     },
     "869a2a6d7c30451e88a2f966a9fb43fe": {
      "model_module": "@jupyter-widgets/base",
      "model_module_version": "1.2.0",
      "model_name": "LayoutModel",
      "state": {
       "grid_area": "bottom",
       "width": "auto"
      }
     },
     "876da25d14364ab6a8740c74988c2eac": {
      "model_module": "@jupyter-widgets/controls",
      "model_module_version": "1.5.0",
      "model_name": "DescriptionStyleModel",
      "state": {
       "description_width": ""
      }
     },
     "88c7a3d9294e4b4b8855c42df6d4c50b": {
      "model_module": "@jupyter-widgets/base",
      "model_module_version": "1.2.0",
      "model_name": "LayoutModel",
      "state": {}
     },
     "8987ae6830b842a6aa75feedb99390cf": {
      "model_module": "@jupyter-widgets/controls",
      "model_module_version": "1.5.0",
      "model_name": "DescriptionStyleModel",
      "state": {
       "description_width": ""
      }
     },
     "89c99eba906240bda612417d3c1835a1": {
      "model_module": "@jupyter-widgets/base",
      "model_module_version": "1.2.0",
      "model_name": "LayoutModel",
      "state": {}
     },
     "89d63cb5f7cf46f58032bcac4abd742d": {
      "model_module": "@jupyter-widgets/controls",
      "model_module_version": "1.5.0",
      "model_name": "DescriptionStyleModel",
      "state": {
       "description_width": ""
      }
     },
     "8b9d2a2b0ab3484295af361306ee757b": {
      "model_module": "@jupyter-widgets/base",
      "model_module_version": "1.2.0",
      "model_name": "LayoutModel",
      "state": {
       "align_items": "center",
       "display": "inline-flex",
       "flex_flow": "column"
      }
     },
     "8c7e661dc0474eb6ad384c9c2224822f": {
      "model_module": "@jupyter-widgets/controls",
      "model_module_version": "1.5.0",
      "model_name": "HTMLModel",
      "state": {
       "layout": "IPY_MODEL_ffe850cdce4c492a8a9ce0d0f7461f3b",
       "style": "IPY_MODEL_91ae3066bf184c278aef07dcb4dda6da",
       "value": "<div><font style='font-weight:bold'>last_update_date</font>: 2020-08-09 14:09:32-04:00</div>"
      }
     },
     "8cc6c45684644d80af33f65f2e9af104": {
      "model_module": "@jupyter-widgets/base",
      "model_module_version": "1.2.0",
      "model_name": "LayoutModel",
      "state": {
       "justify_content": "center"
      }
     },
     "8df088b705134553bf60cca14e345498": {
      "model_module": "@jupyter-widgets/controls",
      "model_module_version": "1.5.0",
      "model_name": "DescriptionStyleModel",
      "state": {
       "description_width": ""
      }
     },
     "8e741432c7314c8fb26ab2bd5067b39b": {
      "model_module": "@jupyter-widgets/controls",
      "model_module_version": "1.5.0",
      "model_name": "VBoxModel",
      "state": {
       "children": [
        "IPY_MODEL_84836e0ccb5e4bcbbf8faaaafa732f21",
        "IPY_MODEL_ede973b6de1540fcb179d67cc938ba97",
        "IPY_MODEL_f47124e43bd44122b3a94c3390c121b2",
        "IPY_MODEL_7cd4cdb98e0e42f0ae6045f83fba1449",
        "IPY_MODEL_3759fbfc2baa4d448dc2e8739a3c63fc",
        "IPY_MODEL_f7a293d9d90e4a0dae6388c77c763951",
        "IPY_MODEL_7654b412560943a991b7cb0645163535",
        "IPY_MODEL_cf13c6b1a3d04292b2148180f0f63939",
        "IPY_MODEL_0a0a00e70d3e4f829e2865776f36d52f",
        "IPY_MODEL_c2683b7e08444e9b837a6b714e64e64f"
       ],
       "layout": "IPY_MODEL_bb33a9ff5c3546b788150adc00eea6e8"
      }
     },
     "8ea012d08e53407bb45abf7598090542": {
      "model_module": "@jupyter-widgets/base",
      "model_module_version": "1.2.0",
      "model_name": "LayoutModel",
      "state": {
       "max_width": "180px"
      }
     },
     "8f732ddd9e61404db212c0a8e071eee0": {
      "model_module": "@jupyter-widgets/base",
      "model_module_version": "1.2.0",
      "model_name": "LayoutModel",
      "state": {
       "min_width": "auto"
      }
     },
     "8fe10343a1224223ac6bca66943f4267": {
      "model_module": "@jupyter-widgets/base",
      "model_module_version": "1.2.0",
      "model_name": "LayoutModel",
      "state": {
       "margin": "5px 0px 0px 0px"
      }
     },
     "90ace12c6e5e4f87983a13968eb6b89a": {
      "model_module": "@jupyter-widgets/controls",
      "model_module_version": "1.5.0",
      "model_name": "ProgressStyleModel",
      "state": {
       "bar_color": "#71cddd",
       "description_width": ""
      }
     },
     "90e4e9db16fa45a2b5c239af8f01b882": {
      "model_module": "@jupyter-widgets/controls",
      "model_module_version": "1.5.0",
      "model_name": "HTMLModel",
      "state": {
       "layout": "IPY_MODEL_ef9aa26ccf364d36bed1a78dcf240986",
       "style": "IPY_MODEL_89d63cb5f7cf46f58032bcac4abd742d",
       "value": "<h1 style='color:#ffffff;background-color:#000000;padding-top: 1%;padding-bottom: 1%;padding-left: 1%; margin-top: 0px'>ibm_perth</h1>"
      }
     },
     "91ae3066bf184c278aef07dcb4dda6da": {
      "model_module": "@jupyter-widgets/controls",
      "model_module_version": "1.5.0",
      "model_name": "DescriptionStyleModel",
      "state": {
       "description_width": ""
      }
     },
     "922a74789c63416e883e513f2713c8d1": {
      "model_module": "@jupyter-widgets/base",
      "model_module_version": "1.2.0",
      "model_name": "LayoutModel",
      "state": {}
     },
     "9290792d4f334fa295df32565ace1d1e": {
      "model_module": "@jupyter-widgets/controls",
      "model_module_version": "1.5.0",
      "model_name": "HTMLModel",
      "state": {
       "layout": "IPY_MODEL_584ae9ddefce42b4a2d6db1cbde0eb9b",
       "style": "IPY_MODEL_83050c7b88bd42868215ddbdd44aed12",
       "value": "<div><font style='font-weight:bold'>last_update_date</font>: Sun 09 August 2020 at 14:09 </div>"
      }
     },
     "94da6a1e8a6b4c6e96aadafd86e84d22": {
      "model_module": "@jupyter-widgets/base",
      "model_module_version": "1.2.0",
      "model_name": "LayoutModel",
      "state": {
       "justify_content": "center"
      }
     },
     "95b7094ea5984a289744d54b2a59ff15": {
      "model_module": "@jupyter-widgets/base",
      "model_module_version": "1.2.0",
      "model_name": "LayoutModel",
      "state": {
       "justify_content": "center"
      }
     },
     "96a09e1b4c664c6092d865d39b7d1284": {
      "model_module": "@jupyter-widgets/controls",
      "model_module_version": "1.5.0",
      "model_name": "DescriptionStyleModel",
      "state": {
       "description_width": ""
      }
     },
     "96e472c7688545a4b77244bb2da25d41": {
      "model_module": "@jupyter-widgets/controls",
      "model_module_version": "1.5.0",
      "model_name": "ButtonModel",
      "state": {
       "button_style": "primary",
       "description": "Clear",
       "layout": "IPY_MODEL_11086d7f30594868beb9868384f3b35a",
       "style": "IPY_MODEL_4afd2d25827e4380b589b0aee7bb5d4f"
      }
     },
     "9723c286e70f4a0aaadb6ecf3417bf6e": {
      "model_module": "@jupyter-widgets/controls",
      "model_module_version": "1.5.0",
      "model_name": "DescriptionStyleModel",
      "state": {
       "description_width": ""
      }
     },
     "976395b3d10047ca8fd31e3d21f1ac87": {
      "model_module": "@jupyter-widgets/base",
      "model_module_version": "1.2.0",
      "model_name": "LayoutModel",
      "state": {
       "min_width": "auto"
      }
     },
     "97c55df89736416fa3b8ebdd6a5e96b5": {
      "model_module": "@jupyter-widgets/base",
      "model_module_version": "1.2.0",
      "model_name": "LayoutModel",
      "state": {
       "width": "145px"
      }
     },
     "992e13f67865433c97509068077a730f": {
      "model_module": "@jupyter-widgets/controls",
      "model_module_version": "1.5.0",
      "model_name": "LabelModel",
      "state": {
       "layout": "IPY_MODEL_edd249ae95054bd78259e2e93c54f9b6",
       "style": "IPY_MODEL_01154db8a7ab46b8b4b8ec59cd6a520d",
       "value": "50"
      }
     },
     "99d385a395e44311a17b5b70d38fbaad": {
      "model_module": "@jupyter-widgets/output",
      "model_module_version": "1.0.0",
      "model_name": "OutputModel",
      "state": {
       "layout": "IPY_MODEL_cba5814f6f4f471a8b51a1c874eba7eb",
       "outputs": [
        {
         "data": {
          "image/png": "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\n",
          "text/plain": "<Figure size 360x360 with 1 Axes>"
         },
         "metadata": {},
         "output_type": "display_data"
        }
       ]
      }
     },
     "9aa6e6a301a84671bfd0148b2ae5f179": {
      "model_module": "@jupyter-widgets/controls",
      "model_module_version": "1.5.0",
      "model_name": "LabelModel",
      "state": {
       "layout": "IPY_MODEL_976395b3d10047ca8fd31e3d21f1ac87",
       "style": "IPY_MODEL_5c1fecf97e7a41afaeaa9d276e931879",
       "value": "1"
      }
     },
     "9c17fe175573480fa4e52e9a59ddccc1": {
      "model_module": "@jupyter-widgets/base",
      "model_module_version": "1.2.0",
      "model_name": "LayoutModel",
      "state": {}
     },
     "9d3e260799a04c239cb1b7947b2d9771": {
      "model_module": "@jupyter-widgets/controls",
      "model_module_version": "1.5.0",
      "model_name": "HTMLModel",
      "state": {
       "layout": "IPY_MODEL_b392fa3e11a548a8be5769a8e2e87ef8",
       "style": "IPY_MODEL_3a506f2763404975b5b7e2b3c768d613",
       "value": "<h5 style='color:#dc267f'>False</h5>"
      }
     },
     "9db17765badb4a089cd1cc9e0b789550": {
      "model_module": "@jupyter-widgets/controls",
      "model_module_version": "1.5.0",
      "model_name": "DescriptionStyleModel",
      "state": {
       "description_width": ""
      }
     },
     "9e8b5564e34e4bbdb79fc4e40dd901ce": {
      "model_module": "@jupyter-widgets/controls",
      "model_module_version": "1.5.0",
      "model_name": "LabelModel",
      "state": {
       "layout": "IPY_MODEL_25543cd5f17743a2a50762f33e3965af",
       "style": "IPY_MODEL_cf5a332a04aa45e79bcd6d9b1b268568",
       "value": "50"
      }
     },
     "9f169c7485194832809812f42a714106": {
      "model_module": "@jupyter-widgets/base",
      "model_module_version": "1.2.0",
      "model_name": "LayoutModel",
      "state": {
       "min_width": "auto"
      }
     },
     "9f8afc92b6574d6281657865f25055ee": {
      "model_module": "@jupyter-widgets/controls",
      "model_module_version": "1.5.0",
      "model_name": "HTMLModel",
      "state": {
       "layout": "IPY_MODEL_857cf4b137ce47f2af50b644780cfd87",
       "style": "IPY_MODEL_be08fc2314b044b7b0afd3e6c77381a3",
       "value": "<h5>0.034</h5>"
      }
     },
     "9fbe4ce740ae453a8985755f9254462f": {
      "model_module": "@jupyter-widgets/controls",
      "model_module_version": "1.5.0",
      "model_name": "DescriptionStyleModel",
      "state": {
       "description_width": ""
      }
     },
     "a080128415ff458f8ca345a6b84ed08f": {
      "model_module": "@jupyter-widgets/controls",
      "model_module_version": "1.5.0",
      "model_name": "DescriptionStyleModel",
      "state": {
       "description_width": ""
      }
     },
     "a1ddddfb0bcb4f4db598fe9a80678883": {
      "model_module": "@jupyter-widgets/controls",
      "model_module_version": "1.5.0",
      "model_name": "DescriptionStyleModel",
      "state": {
       "description_width": ""
      }
     },
     "a26930f7ece144a58d07221c1f5dc339": {
      "model_module": "@jupyter-widgets/controls",
      "model_module_version": "1.5.0",
      "model_name": "LabelModel",
      "state": {
       "layout": "IPY_MODEL_b97efcf939034944916d97c274547ddc",
       "style": "IPY_MODEL_dd8768b498954e2fa17cad2ecb7ec113",
       "value": "4"
      }
     },
     "a27a50b26f384c0ca88cc1ece8abe560": {
      "model_module": "@jupyter-widgets/base",
      "model_module_version": "1.2.0",
      "model_name": "LayoutModel",
      "state": {
       "min_width": "auto"
      }
     },
     "a4b6163cda094fbfb7439045d80c29f0": {
      "model_module": "@jupyter-widgets/controls",
      "model_module_version": "1.5.0",
      "model_name": "LabelModel",
      "state": {
       "layout": "IPY_MODEL_7478a5209efb4faabb7e5f7185227e1b",
       "style": "IPY_MODEL_172fb81471cd4245ba098136ceaaa9f7",
       "value": "Num. Qubits"
      }
     },
     "a5520cb1364047489eccf6ce8fa0b763": {
      "model_module": "@jupyter-widgets/base",
      "model_module_version": "1.2.0",
      "model_name": "LayoutModel",
      "state": {}
     },
     "a586834232144dbab6668a7c156ae0be": {
      "model_module": "@jupyter-widgets/controls",
      "model_module_version": "1.5.0",
      "model_name": "LabelModel",
      "state": {
       "layout": "IPY_MODEL_6fb56da172b647edb25669b985d6ef0f",
       "style": "IPY_MODEL_2639c39de70a49f5b0ccf3afaa35a300",
       "value": "0"
      }
     },
     "a58c65da27e14a92aafd14d5c5665cbc": {
      "model_module": "@jupyter-widgets/base",
      "model_module_version": "1.2.0",
      "model_name": "LayoutModel",
      "state": {}
     },
     "a60131fea6774603801122e635696eca": {
      "model_module": "@jupyter-widgets/controls",
      "model_module_version": "1.5.0",
      "model_name": "DescriptionStyleModel",
      "state": {
       "description_width": ""
      }
     },
     "a62cc0027430424f9238edd900afb1f6": {
      "model_module": "@jupyter-widgets/controls",
      "model_module_version": "1.5.0",
      "model_name": "DescriptionStyleModel",
      "state": {
       "description_width": ""
      }
     },
     "a6b9daa319044b1aa799e76743f122ef": {
      "model_module": "@jupyter-widgets/controls",
      "model_module_version": "1.5.0",
      "model_name": "DescriptionStyleModel",
      "state": {
       "description_width": ""
      }
     },
     "a7898257e2f240d499f6b6525f9b58ca": {
      "model_module": "@jupyter-widgets/controls",
      "model_module_version": "1.5.0",
      "model_name": "HBoxModel",
      "state": {
       "children": [
        "IPY_MODEL_f53dfbbd3c674479a2a5febe8e707809",
        "IPY_MODEL_3ccf46a970594549933e368d87a7a5d3",
        "IPY_MODEL_65cbd17f78264f15b656e2142384da25",
        "IPY_MODEL_f3b4f54c97bc431facf484a74921fd58",
        "IPY_MODEL_c09743f56a2f471f8cb90b4badc884c9",
        "IPY_MODEL_349c0f3b7f0e4c81914ee1b5ca9e9cbe"
       ],
       "layout": "IPY_MODEL_d663b728de0c417d938b19ae23dc3620"
      }
     },
     "a7d209f7422047ab88c1230bfbf22c0f": {
      "model_module": "@jupyter-widgets/controls",
      "model_module_version": "1.5.0",
      "model_name": "LabelModel",
      "state": {
       "layout": "IPY_MODEL_5cf8a2d936da4836b36512f25710a081",
       "style": "IPY_MODEL_6f6ddc2715584baa884581f37ac4682c",
       "value": "32"
      }
     },
     "a8578f1fecda4d3484dd63b0a4e894f0": {
      "model_module": "@jupyter-widgets/controls",
      "model_module_version": "1.5.0",
      "model_name": "DescriptionStyleModel",
      "state": {
       "description_width": ""
      }
     },
     "a8a96675ca7847af8a4406ef43e21a16": {
      "model_module": "@jupyter-widgets/base",
      "model_module_version": "1.2.0",
      "model_name": "LayoutModel",
      "state": {
       "width": "145px"
      }
     },
     "a8c85efd37454956b7e255fcec0d9801": {
      "model_module": "@jupyter-widgets/base",
      "model_module_version": "1.2.0",
      "model_name": "LayoutModel",
      "state": {
       "min_width": "auto"
      }
     },
     "a90d7018c69346abacb263afdf3cdf02": {
      "model_module": "@jupyter-widgets/controls",
      "model_module_version": "1.5.0",
      "model_name": "DescriptionStyleModel",
      "state": {
       "description_width": ""
      }
     },
     "a96c07ee29dd4377822d593a4a18e9c4": {
      "model_module": "@jupyter-widgets/base",
      "model_module_version": "1.2.0",
      "model_name": "LayoutModel",
      "state": {
       "min_width": "auto"
      }
     },
     "aa201147936a4d34b1c5d5003baf3eaa": {
      "model_module": "@jupyter-widgets/controls",
      "model_module_version": "1.5.0",
      "model_name": "HTMLModel",
      "state": {
       "layout": "IPY_MODEL_b790092840734a5f91d66a80217c067b",
       "style": "IPY_MODEL_0f5678e1593d450cb1e2445694719904",
       "value": "<h5>0.0268</h5>"
      }
     },
     "aa7a59e665e7453d92b58d4cb867b25c": {
      "model_module": "@jupyter-widgets/controls",
      "model_module_version": "1.5.0",
      "model_name": "ProgressStyleModel",
      "state": {
       "bar_color": "#71cddd",
       "description_width": ""
      }
     },
     "aa90d28f540f4daaa538a61f0b4e8458": {
      "model_module": "@jupyter-widgets/base",
      "model_module_version": "1.2.0",
      "model_name": "LayoutModel",
      "state": {
       "overflow_y": "scroll"
      }
     },
     "aae4cae941784f89a5d99b6a8c324f4c": {
      "model_module": "@jupyter-widgets/base",
      "model_module_version": "1.2.0",
      "model_name": "LayoutModel",
      "state": {
       "justify_content": "center"
      }
     },
     "ab8978e85cbd4cbdbcc95bafca7e51c2": {
      "model_module": "@jupyter-widgets/controls",
      "model_module_version": "1.5.0",
      "model_name": "LabelModel",
      "state": {
       "layout": "IPY_MODEL_6fbeff002a164f5a90ec7e61b5ff46c7",
       "style": "IPY_MODEL_55fd75475179469f9298e6246c070376",
       "value": "50"
      }
     },
     "abb984d9e2e64ba8a95a2289639b7d35": {
      "model_module": "@jupyter-widgets/controls",
      "model_module_version": "1.5.0",
      "model_name": "DescriptionStyleModel",
      "state": {
       "description_width": ""
      }
     },
     "ac6dd0dba23a4eb1ab868874f6bd0463": {
      "model_module": "@jupyter-widgets/controls",
      "model_module_version": "1.5.0",
      "model_name": "VBoxModel",
      "state": {
       "children": [
        "IPY_MODEL_f546271991874359b6135421a0c0143a",
        "IPY_MODEL_54fa9c98015d4b5aa7f129c44c3a47c6",
        "IPY_MODEL_1241fbcd9835488dac4e119d253e41ae",
        "IPY_MODEL_ddd2b2409ed04a7585a953570ae97808",
        "IPY_MODEL_3f6049ac23c84cb990b3e1226ba618e2",
        "IPY_MODEL_b56eddf47fbb49f38d5d1e135c5f8bc2",
        "IPY_MODEL_d9128f03766f41d9b4b9dafe2bc3e074",
        "IPY_MODEL_ddab57917f294a6bb84c324012f7ac63",
        "IPY_MODEL_7f551e8f95b146049e55f376ea642347",
        "IPY_MODEL_aa201147936a4d34b1c5d5003baf3eaa"
       ],
       "layout": "IPY_MODEL_0bef21421b6e40a1ab4db05f2ac9de72"
      }
     },
     "aca1d8a355684f40b5f0f039cd7118d1": {
      "model_module": "@jupyter-widgets/controls",
      "model_module_version": "1.5.0",
      "model_name": "DescriptionStyleModel",
      "state": {
       "description_width": ""
      }
     },
     "acbac492d2c14f51bc4db5bec60f2b48": {
      "model_module": "@jupyter-widgets/controls",
      "model_module_version": "1.5.0",
      "model_name": "DescriptionStyleModel",
      "state": {
       "description_width": ""
      }
     },
     "ad79b34b353a494db1b1537757ccdb79": {
      "model_module": "@jupyter-widgets/base",
      "model_module_version": "1.2.0",
      "model_name": "LayoutModel",
      "state": {
       "align_items": "center",
       "display": "inline-flex",
       "flex_flow": "column"
      }
     },
     "ae3d6539ee644a9ca82d796e4033ad77": {
      "model_module": "@jupyter-widgets/controls",
      "model_module_version": "1.5.0",
      "model_name": "DescriptionStyleModel",
      "state": {
       "description_width": ""
      }
     },
     "aeb70f2b5f894af7971eaddcdf173a2c": {
      "model_module": "@jupyter-widgets/base",
      "model_module_version": "1.2.0",
      "model_name": "LayoutModel",
      "state": {
       "overflow_x": "scroll"
      }
     },
     "aedba304d9c24274a3991b821aa3f1b4": {
      "model_module": "@jupyter-widgets/base",
      "model_module_version": "1.2.0",
      "model_name": "LayoutModel",
      "state": {}
     },
     "b22d0b94489346efbdf93d8565f62f1f": {
      "model_module": "@jupyter-widgets/controls",
      "model_module_version": "1.5.0",
      "model_name": "LabelModel",
      "state": {
       "layout": "IPY_MODEL_71b25b702bcf4ee598a98a742dd02eaa",
       "style": "IPY_MODEL_4b53f199796f4ce488944a73227d54db",
       "value": "50"
      }
     },
     "b242c93403ab4bfc8292e58d2f70af13": {
      "model_module": "@jupyter-widgets/controls",
      "model_module_version": "1.5.0",
      "model_name": "DescriptionStyleModel",
      "state": {
       "description_width": ""
      }
     },
     "b30bdca101e8493390249b36df596e78": {
      "model_module": "@jupyter-widgets/controls",
      "model_module_version": "1.5.0",
      "model_name": "VBoxModel",
      "state": {
       "children": [
        "IPY_MODEL_90e4e9db16fa45a2b5c239af8f01b882",
        "IPY_MODEL_25e2bf39d29a4749a863806358b25c42"
       ],
       "layout": "IPY_MODEL_bd31b04b931b48989052d793bc41cc68"
      }
     },
     "b392fa3e11a548a8be5769a8e2e87ef8": {
      "model_module": "@jupyter-widgets/base",
      "model_module_version": "1.2.0",
      "model_name": "LayoutModel",
      "state": {
       "justify_content": "center"
      }
     },
     "b4484fdf8831444b8d068f2e75f08d45": {
      "model_module": "@jupyter-widgets/controls",
      "model_module_version": "1.5.0",
      "model_name": "HTMLModel",
      "state": {
       "layout": "IPY_MODEL_62ce77e744ee42baa13eb5b4f916d274",
       "style": "IPY_MODEL_da96e88831334751966960b679d2ab57",
       "value": "<h5 style='color:#34bc6e'>True</h5>"
      }
     },
     "b461e4a2976b4b7b9c4962db3d1edca8": {
      "model_module": "@jupyter-widgets/controls",
      "model_module_version": "1.5.0",
      "model_name": "DescriptionStyleModel",
      "state": {
       "description_width": ""
      }
     },
     "b47b1ea0832645f5be9526c7af9a3b2c": {
      "model_module": "@jupyter-widgets/controls",
      "model_module_version": "1.5.0",
      "model_name": "DescriptionStyleModel",
      "state": {
       "description_width": ""
      }
     },
     "b51e682ab6c24945b75ec7787d24da2e": {
      "model_module": "@jupyter-widgets/base",
      "model_module_version": "1.2.0",
      "model_name": "LayoutModel",
      "state": {
       "justify_content": "center"
      }
     },
     "b56eddf47fbb49f38d5d1e135c5f8bc2": {
      "model_module": "@jupyter-widgets/controls",
      "model_module_version": "1.5.0",
      "model_name": "HTMLModel",
      "state": {
       "layout": "IPY_MODEL_41edc9f8e3244e9680a68b22cbf082fe",
       "style": "IPY_MODEL_fd6b78806f34415d9cf1ac4d72e4c48e",
       "value": "<h5 style='color:#34bc6e'>True</h5>"
      }
     },
     "b5bfe71b58d44aa8be028237d3948e8f": {
      "model_module": "@jupyter-widgets/base",
      "model_module_version": "1.2.0",
      "model_name": "LayoutModel",
      "state": {
       "justify_content": "center",
       "max_width": "250px",
       "min_width": "250px"
      }
     },
     "b6a6ace5d28148d482ae6611b52dcbd4": {
      "model_module": "@jupyter-widgets/base",
      "model_module_version": "1.2.0",
      "model_name": "LayoutModel",
      "state": {
       "width": "70px"
      }
     },
     "b757855203294c3aaac04794aeb6b5cb": {
      "model_module": "@jupyter-widgets/controls",
      "model_module_version": "1.5.0",
      "model_name": "HBoxModel",
      "state": {
       "children": [
        "IPY_MODEL_31a896763de1478cb74070f7683cb26e",
        "IPY_MODEL_f9de4fa95a504e119b5f9916268c6991"
       ],
       "layout": "IPY_MODEL_3834abfc0f3849a781ead88342e9ec46"
      }
     },
     "b790092840734a5f91d66a80217c067b": {
      "model_module": "@jupyter-widgets/base",
      "model_module_version": "1.2.0",
      "model_name": "LayoutModel",
      "state": {}
     },
     "b8cc635062324e79b639382e41ff0adb": {
      "model_module": "@jupyter-widgets/controls",
      "model_module_version": "1.5.0",
      "model_name": "IntProgressModel",
      "state": {
       "layout": "IPY_MODEL_8ea012d08e53407bb45abf7598090542",
       "max": 50,
       "style": "IPY_MODEL_55c20daeeddd4340a8e7912ca34698fe",
       "value": 4
      }
     },
     "b8eb9fd2d8be4edc923ac221f18d718d": {
      "model_module": "@jupyter-widgets/controls",
      "model_module_version": "1.5.0",
      "model_name": "DescriptionStyleModel",
      "state": {
       "description_width": ""
      }
     },
     "b9112467f7e24e919e988d40d93ee124": {
      "model_module": "@jupyter-widgets/controls",
      "model_module_version": "1.5.0",
      "model_name": "HTMLModel",
      "state": {
       "layout": "IPY_MODEL_94da6a1e8a6b4c6e96aadafd86e84d22",
       "style": "IPY_MODEL_250a92e539f046198416849e6db5d2dd",
       "value": "<h5>32</h5>"
      }
     },
     "b97efcf939034944916d97c274547ddc": {
      "model_module": "@jupyter-widgets/base",
      "model_module_version": "1.2.0",
      "model_name": "LayoutModel",
      "state": {
       "min_width": "auto"
      }
     },
     "b9812e9c8f324269a1a83524dcbfc77f": {
      "model_module": "@jupyter-widgets/controls",
      "model_module_version": "1.5.0",
      "model_name": "TabModel",
      "state": {
       "layout": "IPY_MODEL_5bd07b74ebd243969b95c6ab13b2670d"
      }
     },
     "b9e6129d28904d998422761bceb22f91": {
      "model_module": "@jupyter-widgets/base",
      "model_module_version": "1.2.0",
      "model_name": "LayoutModel",
      "state": {
       "justify_content": "center"
      }
     },
     "ba7cddb21ce149f380d1cb37d778acaa": {
      "model_module": "@jupyter-widgets/base",
      "model_module_version": "1.2.0",
      "model_name": "LayoutModel",
      "state": {}
     },
     "bb33a9ff5c3546b788150adc00eea6e8": {
      "model_module": "@jupyter-widgets/base",
      "model_module_version": "1.2.0",
      "model_name": "LayoutModel",
      "state": {
       "align_items": "center",
       "display": "inline-flex",
       "flex_flow": "column"
      }
     },
     "bb41007b5a6343879f85826bd4be1bc8": {
      "model_module": "@jupyter-widgets/base",
      "model_module_version": "1.2.0",
      "model_name": "LayoutModel",
      "state": {
       "justify_content": "center"
      }
     },
     "bb45d8309ff546f2a124e0a054317cb7": {
      "model_module": "@jupyter-widgets/controls",
      "model_module_version": "1.5.0",
      "model_name": "HBoxModel",
      "state": {
       "children": [
        "IPY_MODEL_15a1ab115cd542e0b6145f2c26ad5764",
        "IPY_MODEL_b8cc635062324e79b639382e41ff0adb",
        "IPY_MODEL_b22d0b94489346efbdf93d8565f62f1f"
       ],
       "layout": "IPY_MODEL_b5bfe71b58d44aa8be028237d3948e8f"
      }
     },
     "bc75a0d78df04abf9fb2aebd1eda2072": {
      "model_module": "@jupyter-widgets/base",
      "model_module_version": "1.2.0",
      "model_name": "LayoutModel",
      "state": {}
     },
     "bc805e54488d4a058341e7601c84ca57": {
      "model_module": "@jupyter-widgets/controls",
      "model_module_version": "1.5.0",
      "model_name": "HTMLModel",
      "state": {
       "layout": "IPY_MODEL_922a74789c63416e883e513f2713c8d1",
       "style": "IPY_MODEL_2290fd4575964ff286417b8c1769abc8",
       "value": "<h5>100.3 / 83.4 us</h5>"
      }
     },
     "bc8a61c1a30b4d53b494ad8d129a528e": {
      "model_module": "@jupyter-widgets/base",
      "model_module_version": "1.2.0",
      "model_name": "LayoutModel",
      "state": {}
     },
     "bd31b04b931b48989052d793bc41cc68": {
      "model_module": "@jupyter-widgets/base",
      "model_module_version": "1.2.0",
      "model_name": "LayoutModel",
      "state": {
       "border": "4px solid #000000",
       "max_height": "650px",
       "min_height": "650px",
       "overflow_y": "hidden"
      }
     },
     "bd7658d54a11464794ae9b0219cbc9f7": {
      "model_module": "@jupyter-widgets/controls",
      "model_module_version": "1.5.0",
      "model_name": "GridBoxModel",
      "state": {
       "children": [
        "IPY_MODEL_d14a63d19e3e46af96f1f2a232e6eeeb",
        "IPY_MODEL_3239c529d8f545c2b9dfc0949e6579f3",
        "IPY_MODEL_e444ab7517cf4b92ba3c7bb6aca0924a",
        "IPY_MODEL_5fd32081e2824180962f0c629e5364d1"
       ],
       "layout": "IPY_MODEL_1ae7e7b4ae04473789117e18264271a5"
      }
     },
     "bdcd41fba2e24f65a9ee2bbcb333a392": {
      "model_module": "@jupyter-widgets/controls",
      "model_module_version": "1.5.0",
      "model_name": "DescriptionStyleModel",
      "state": {
       "description_width": ""
      }
     },
     "be08fc2314b044b7b0afd3e6c77381a3": {
      "model_module": "@jupyter-widgets/controls",
      "model_module_version": "1.5.0",
      "model_name": "DescriptionStyleModel",
      "state": {
       "description_width": ""
      }
     },
     "bfcb5a39f21c46d48b9ed6d75d22285b": {
      "model_module": "@jupyter-widgets/controls",
      "model_module_version": "1.5.0",
      "model_name": "DescriptionStyleModel",
      "state": {
       "description_width": ""
      }
     },
     "c09743f56a2f471f8cb90b4badc884c9": {
      "model_module": "@jupyter-widgets/controls",
      "model_module_version": "1.5.0",
      "model_name": "HTMLModel",
      "state": {
       "layout": "IPY_MODEL_b6a6ace5d28148d482ae6611b52dcbd4",
       "style": "IPY_MODEL_b8eb9fd2d8be4edc923ac221f18d718d",
       "value": "-"
      }
     },
     "c09ab1fc5949486d998f96cd6c905150": {
      "model_module": "@jupyter-widgets/controls",
      "model_module_version": "1.5.0",
      "model_name": "VBoxModel",
      "state": {
       "children": [
        "IPY_MODEL_4c504353ac6640d79951eab65637baba",
        "IPY_MODEL_ef5ca17a1d534832a9653f3a1f5cdb09",
        "IPY_MODEL_7974050ef63c41f5ad0e0db56ff481c7",
        "IPY_MODEL_317cf9d7a314487b89008820db673c9d",
        "IPY_MODEL_bb45d8309ff546f2a124e0a054317cb7",
        "IPY_MODEL_6bff792a57cb42e9b4b5a4905b55d9bd",
        "IPY_MODEL_e05e68f981cb4531989df913a2fc328a",
        "IPY_MODEL_6f57f368573a4a1cafec1e4df5e05fd4",
        "IPY_MODEL_079fa5e6ffab47d0bc5605f8de46900d",
        "IPY_MODEL_cdf9a96b719a48939342689513776f24"
       ],
       "layout": "IPY_MODEL_737dcc1c9b95443a96830ee7bb6cf968"
      }
     },
     "c0a57b2f6fb34e1db9a4538e1289ce65": {
      "model_module": "@jupyter-widgets/base",
      "model_module_version": "1.2.0",
      "model_name": "LayoutModel",
      "state": {}
     },
     "c1022bf5697946418c74b9fefdf14f2e": {
      "model_module": "@jupyter-widgets/controls",
      "model_module_version": "1.5.0",
      "model_name": "ProgressStyleModel",
      "state": {
       "bar_color": "#71cddd",
       "description_width": ""
      }
     },
     "c1a0e25f3c5d4d38b9fd81bb7083b919": {
      "model_module": "@jupyter-widgets/output",
      "model_module_version": "1.0.0",
      "model_name": "OutputModel",
      "state": {
       "layout": "IPY_MODEL_7cb549b338b9489481581756b29d7045",
       "outputs": [
        {
         "data": {
          "image/png": "iVBORw0KGgoAAAANSUhEUgAAAR4AAAEeCAYAAABcyXrWAAAAOXRFWHRTb2Z0d2FyZQBNYXRwbG90bGliIHZlcnNpb24zLjQuMywgaHR0cHM6Ly9tYXRwbG90bGliLm9yZy/MnkTPAAAACXBIWXMAAAsTAAALEwEAmpwYAAASu0lEQVR4nO3df6xkVWHA8e/bXdhfLEq0ptZWhcIiRRDRloq01loxEAU09Ve0ioXb1B9Nr1Zpq0RQQSNIvUYjDVeUWmur2KLQYsFotJVWDWAFAQtINahVog3Cvre77I/pH+cOPN4+Hm/fzJxz7pzvJ9lssvP23vPuzHzn/pp7ZwaDAZIU06rUA5BUHsMjKTrDIyk6wyMpOsMjKTrDIyk6wyMpOsMjKTrDIyk6wyMpOsMjKTrDIyk6wyMpOsMjKTrDIyk6wyMpOsMjKTrDIyk6wyMpOsMjKTrDIyk6wyMpOsMjKTrDIyk6wyMpOsMjKTrDIyk6wyMpOsMjKTrDIyk6wyMpOsMjKTrDIyk6wyMpOsMjKTrDIyk6wyMpOsMjKTrDIyk6wyMpOsMjKTrDIyk6wyMpOsMjKTrDIyk6wyMpOsMjKTrDIyk6wyMpOsMjKTrDIyk6wyMpOsMjKTrDIyk6wyMpOsMjKbo1qQegfqgaZoBfBp4G/BqwPzADzAK3A9cBt7U1u5MNUr0xMxgMUo9BGasajgLeBJxC+KC6D9gPWN39yADYQlh7XgN8BXgf8EUjpIdieLSoquF44ALgIGAtD4Tm4QwIa0H3AmcBH2lrfJHpQQyPHqRqeATwIeBFwIYRJzcL3Ai8rK35/qhj0/QwPLpf1XA0cBVhU2rdmCa7E9gOnNrWfGZM01TPeVRLAFQNxxL2zzya8UUHwn6fjcDHq4bXjHG66jHXeDTcgfzvhDWdSZojrPlcOuH5KHOGp3BVwwbgNuCxhMPjkzYHHNHW3BFhXsqUm1o6HziAONGBcITsU1Xja69kPvkFqxqeAbwGWB9xtquBw4DXRpynMmN4yvZOxrsjebk2AmdVzbLPDdKUMTyFqhoeDxxHvE2shdYBJySatxIzPOV6LemiA7AJOCPh/JWQ4SnXiwg7elP6zaphn8RjUAKGp0BVw77AganHAWwDDk89CMVneMp0OOFNn9oqwmU2VBjDU6bNkMU3xjcSru2jwhieMq0nn+d+U+oBKL5cXnyKK4e1nSEvFlYgw1OmOfJ4ww8IFwxTYQxPmW4hj+d+eKEwFSaHF5/i+w6wb+pBdK5LPQDFZ3gK1NbsJFwKI7V9CRFUYQxPuf4B2Jpw/gPgS23NroRjUCKGp1wXkfa7WrPAeQnnr4QMT6HamruAfyXd0a27gS8nmrcSMzxlezvhDhCxzQJneL+tchmegrU1NxIufTobcbb3AdcQ9jGpUIZH5xA2e2IZAK92badshkcnAI+JOL+1wGkR56cMGZ6CVQ0nAZ+B6BfjOqdqeFvkeSojhqdQS0TnLsJ3ucZlO+H7WAvPGTI+BTM8BVoiOqcDvwI0hFCMuh9mDrgCeCJwPLBlwePGp1DeSbQwS0Wnrbl43s8dBbwbeDbhRMPlXp95J7CD8FWIM9uaK+dN8zjg8+x5q+Qz25pz9+LXUM8ZnoIsNzoL/s/jCHekeDlhbWgrsP+CH/s5sAH4KXAl0LQ1336I6RkfGZ5SrCQ6i0xjHXAE8I0FD/0O8M225p5lTsf4FM7wFGAc0VkwvQe9aNp677/zZXzK5s7lKTfu6IxLW/NVwjlE7nAukOGZYrlGZ8j4lMvwTKncozNkfMpkeKZQX6IzZHzKY3imTN+iM2R8ymJ4pkhfozNkfMpheKZE36MzZHzKYHimwLREZ8j4TD/D03PTFp0h4zPdDE+PTWt0hozP9DI8PTXt0RkyPtPJ8PRQKdEZMj7Tx/D0TNVwDnAZhURn6GHic1WCIWkEhqdHuui8jT2ft6mOztAS8Tm+arg6wZC0QoanJ6qGd8GimxVFRGdoXny2LXjoua759Ifh6YGq4WTgLxZ56JKSojPUxedNizx0vPt8+sHwZK6LzqXAmgUPXdLWvCbBkLLQ1lwIvG6Rh9zh3AOGJ2PzojN/R/IAuLjk6AzNi8/CzS7jkznDk6klonN6W3N6mlHlp4vPc/FQe68Yngw9THQ+mmZU+fI8n/4xPJkxOitjfPrF8GTE6IzG+PSH4cmE0RkP49MPhicDRme8jE/+DE9iRmcyjE/eDE9CRmeyjE++DE8iRicO45Mnw5OA0YnL+OTH8ERmdNIwPnkxPBEZnbSMTz4MTyRGJw/GJw8zg8Eg9RiyVDWsAg4BngYcCTwSWA3MArcC1wI3tPUe34xebFq9j07VsBrYDDwd+PiCh/+YsDy+3dZsjz22lagajgM+D+y34KEz25pzl/H/1wBPIrw+ngzsD8wQgnYzcB1heewY57inheGZp2qYAY4B/gx4PrAL2E14cc7M+9E5YCewAbgBOA+4rK25b5Fp9jY63fI4Dngz8DxgB2Hsmxb86HB5rAeuJyyPy9uanfFGu/f2Nj7d8ng28Bbgd+H+53sjD359zBJeO+uBrwHnA1e2NbvG+gv0mOHpVA0nAg3wS4QXzN5sht5LCNT7gPcOP+V6Hp0XAhcAv8Ceb6yHcy8hRO8G3p/zG2458emC83LgvYQ135Usj+3A2cCFbc3u0Ubdf8WHp2o4ALgQeAFhDWYUs8APgJcAB9LD6FQNjwYuBp5DeIONYha4A3hJW/OdUcc2KUvFB/goYdPyGYxnedwCvLStuWPEafVa0eGpGo4Gria84NaOabIDwibJ6u7P/H/PPTrHAlcC6xjf8thN+LR/XVtzyZimOXZLxGc7Ye134e2EVmpXN81T25pLxzTN3ik2PN2b7Cr2fKFNQh+i8xzgc4z+qf5Q5oC3tjUfmND0R7ZEfCZhDnhDW/OxCPPKTpHhqRqeAnwVowNA1XAM8CVG39R8OHPA63uw5nM1YT/fpG0FXtXWfCbCvLJS3Hk8VcN64Aom98m+0A7gm5Hmtdeqhk2E5THp6NDN48NVw5MizGulboZoR+PWA5dUDU+MNL9sFBce4D3Ao9i7oxKj2Ae4tGrYN9L89tYHiLPmN7QW+HR3XlCOLoKoz9Va4JPdkbNiFBWequHpwB8R59N9aAZ4LOEISVaqhmcBLyXOZsXQKuAgoI44z2XpTqk4gfHtWF+ONYQTVIu6c0hR4QHOIhyxiW0D8MZuMy8n7yRuhIc2Am/rzv7NybmkWx5nd2fLF6GYX7Rq+EXC/ZdSrtK+OOG8H6RqOAj4jYRDWEM4dyoLVcMRwKEJh7A/4dypIhQTHsImVspDePsBf55w/gu9nrTP/ybyWh5/yvjO1VmJjYSvphShpPC8kDSbWfMdUjXsn3gMQycRdyfqYo6umqj7U5ZyInvenz6mGeC3S9ncKuKX7J7Mw1KPg3Aey1NTD6J7sz8h9TgI57E8OfUgqoZHAI9OPQ7CWc0Hpx5EDEWEh3B5ixy+Kb2OcBmF1J5MeNOntoY8lsdTCR8Kqe0mj+UxcaWE52DyCM9awqHT1A4h7U72oQ2QxcmEh5B2M2toP8JYpl4p4VlHHm80iHfG9FJyWh4xT158KOsgixMaZ8jj9TFxpYRnQNojWvPlcC2WXJYFkMW1elwekZUSntnUA5jn56kHQFgeuQTwntSD4IErBqa2kz2vBT2VSgnPzaQ/dAxhB+b1qQcB3EQez/0W4MbUgyAsjxzCM0sYy9TL4cUXww/IY+fyTsJFwFO7lbQnyw3NEC4Sn9oNpPmqxEJryeP1MXFFhKetGRBeXKmtJ4NP+O4ayLemHgchfsnH0d0p5M7U4yBcPP6HqQcRQxHh6fwt6befr1nO7XAi+QRpz13ZDVyV0YXPPwlJn5udwOe6D8mpV1J4/o60v++9hNu+5OJi0i6POcJtX3JxYeL53wf8VeIxRFNMeNqaLYRP+VQ3WJsjXOM5C23NzwjXWE61U/Uu4JpE895DW/ND4MukO7T+3bbmvxLNO7piwtN5N+x5070IZoEzMtqsGDqLNMtjDnhzhpsVf0maza05wk0ki1FUeNqa7xPuAhnzvJ4dwDcI+5iy0tb8N+FiYDGXx3bgC23NZRHnuSzdGsf7ibvvaxvwj23NFyLOM7miwtP5a8KRpVibXNuBV2b46T50PuGme7FON9hG3pf5fAfxDkIMunm9IdL8slFceLoAnAz8hMnv35gDTmlrfjTh+axYd2j9ROD/mPzZzLPAiW3NTyc8n1H8AfCYSPOaBY5v6yzO3o6quPAAtDV3AccCP2Zyaz5zhFvVfnFC0x+btuYHwDOBnzG5NZ9Z4KS25j8mNP2RVQ2nAR+JMKsB4Sjn89o631sfTVKR4QFoa+4kXPvkW4x3H8c2wtrDiW3NP49xuhPV1twOHE24t/c4l8dWwhGs57Q1XxrjdMfqIaKzg3BC37iXx4+A38o5wpNWbHgA2pqfAMcAbyWsoYy66TUHfBb41bbmKyNOK7puzeepwDmEN8g4lsffAwe3NV8fcVoTs0R0fh84ELiAsDxG2RQddNO4GNjc1nxrhGn1XpG3MF5Md9eFswl3gtjF8q+Lch/hBXk9cPa0HJ2oGg4l7Gg9mfD7Lfe7TMPl8XXgrNwDvFR02prL5/3cEYTlcQIhIsu9VdH27uf/jbA8vjbyoKeA4Vmgangk8Oruz2GECO3igbXD4bV91hO+3/MvwAfbmtuiDzaCquFRwGnAKwi3f9lBCMtiy+N7hNshf6it+Z/og91Ly43Ogv/zGKACXgZs5oHQzl8eEC4udgdwGfDhbtNeHcOzhO4i8QcTrlG8kXCVum3Ad4EbM/reVRTd8tgMHE5YHqsImw+3Ad9u6yQnI67ISqKzyDRWEy7dehhhjXAVYfPyVuCmtk52lnz2DI+KM47oaDRF71xWeYxOHgyPimF08mF4VASjkxfDo6lndPJjeDTVjE6eDI+mltHJl+HRVDI6eTM8mjpGJ3+GR1PF6PSD4dHUMDr9YXg0FYxOvxge9Z7R6Z81qQcgjaJq+Bhw6oJ/NjqZc41HvWV0+svwqJeqhovZMzq7MTq9YHjUO90+nT9c5KH3GJ1+MDzqlSVuQXNuW3Nm7PFoZdy5rN54iOjsJKzpvD3BkLRChke94CHz6eKmlrJndKaP4VHWjM50MjzKltGZXoZHWTI6083wKDtGZ/oZHmXF6JTB8CgbRqcchkdZMDplMTxKzuiUx/AoKaNTJsOjZIxOuQyPkjA6ZfNLolqWqmEdcCTwNOBo4BHADDAL3AhcB1zf1tyzjGkZncLNDAaD1GNQpqqG1cDzgDOAY4GthA+rDQt+dDuwrfv324DzgE+3NVsXmabRkeHRnqqGGeBVhICsBzbt5SS2dH83wLvamvu66RodAYZHC1QNjwM+Afw6sHHEyc0B/wu8mLB5ZnQEGB7NUzX8HnAZsBbYZ0yTHRCuErhwekanYIZHAFQNzwc+xZ77bybB6BTO8Iiq4VnAlcSJzi7gRUanbJ7HU7iq4QDgn4gTHQjh+V6keSlThkcXMvpO5L2xD3Bp1YxtH5J6yPAUrGp4LvACws7kWGaAxxHODVKhDE/Z3kG8Taz5NgJvqRr2TTBvZcDwFKpq2AwclXAIq4BTEs5fCRmecv0Jab+rtwk3t4pleMp1IuM7SXCljuy+fKrCGJ4CdW/2x6ceB+FLp0ekHoTiMzxlOpLwParU1gBPTz0IxWd4ynQQ4bB2ahuAzakHofgMT5nWk0d4IO7Ji8qE4SnTrtQDmCensSgSw1OmLcDu1IMgXDLj7tSDUHyGp0w3AatTD4IQwBtSD0LxGZ4y3UYe4VlFuEi8CmN4CtTW7Aa+k3ochPjdnnoQis/wlOtvCLemSWU3cEUXQRXG8JTrEtJubm0FLkg4fyVkeArV1twNXEq6w9k/BL6RaN5KzPCU7WzCzfhimwPe2NZ4we9CGZ6CtTV3AG8l7r6ebcDlbc2VEeepzBgefRC4hXDLmRhmgddGmpcyZXgK1x1Vej5wF5Pf37MFOL7bv6SCGR7R1vwEeAbhdsOTWPMZAPcSonP9BKavnjE8AqCtuZNwbZxrGe8+nzngTuC4tuY/xzhd9Zjh0f26NZ9nAm8mxGfnCJMbEM7VuQg4tK39TpYe4C2Mtaiq4QmEI16vJJxlvN8y/+u27u+rgXe1NddOYHjqOcOjJVUN+wGvIAToKYQLxA/P/ZkhrNmsIZwFfQvwWeCitubH0Qer3jA8Wraquf8uoIcTLlu6irA5dTtwu9+70nIZHknRuXNZUnSGR1J0hkdSdIZHUnSGR1J0hkdSdIZHUnSGR1J0hkdSdIZHUnSGR1J0hkdSdIZHUnSGR1J0hkdSdIZHUnSGR1J0hkdSdIZHUnSGR1J0hkdSdIZHUnSGR1J0hkdSdIZHUnSGR1J0hkdSdIZHUnSGR1J0hkdSdIZHUnSGR1J0hkdSdIZHUnSGR1J0hkdSdIZHUnSGR1J0hkdSdIZHUnSGR1J0hkdSdIZHUnSGR1J0hkdSdIZHUnSGR1J0hkdSdIZHUnSGR1J0hkdSdIZHUnSGR1J0hkdSdIZHUnSGR1J0/w9S6qAa8C+pDwAAAABJRU5ErkJggg==\n",
          "text/plain": "<Figure size 360x360 with 1 Axes>"
         },
         "metadata": {},
         "output_type": "display_data"
        }
       ]
      }
     },
     "c229b36199ad44159ac67101fc18f6e9": {
      "model_module": "@jupyter-widgets/controls",
      "model_module_version": "1.5.0",
      "model_name": "DescriptionStyleModel",
      "state": {
       "description_width": ""
      }
     },
     "c25251c164d04ae9bb3be5d72d8dbe68": {
      "model_module": "@jupyter-widgets/controls",
      "model_module_version": "1.5.0",
      "model_name": "DescriptionStyleModel",
      "state": {
       "description_width": ""
      }
     },
     "c2683b7e08444e9b837a6b714e64e64f": {
      "model_module": "@jupyter-widgets/controls",
      "model_module_version": "1.5.0",
      "model_name": "HTMLModel",
      "state": {
       "layout": "IPY_MODEL_fbbeff25849c438596c2ed454ccf38a1",
       "style": "IPY_MODEL_c90d95c9d48b4d8ea104b224bfc4c145",
       "value": "<h5>0.0364</h5>"
      }
     },
     "c2dae79b36ee482eafe19ef1df775f47": {
      "model_module": "@jupyter-widgets/controls",
      "model_module_version": "1.5.0",
      "model_name": "HTMLModel",
      "state": {
       "layout": "IPY_MODEL_17879dd58f07455fbecd8757056bc2b4",
       "style": "IPY_MODEL_788402233a4e4c00904ea670545e5e1f",
       "value": "<div><font style='font-weight:bold'>last_update_date</font>: Sat 11 September 2021 at 07:30 UTC</div>"
      }
     },
     "c401c492b7c6452e80a7b4d69c813628": {
      "model_module": "@jupyter-widgets/base",
      "model_module_version": "1.2.0",
      "model_name": "LayoutModel",
      "state": {}
     },
     "c40b77633f20493e956a95a947b283f6": {
      "model_module": "@jupyter-widgets/output",
      "model_module_version": "1.0.0",
      "model_name": "OutputModel",
      "state": {
       "layout": "IPY_MODEL_3ea9b89704694170a7de2e571861cbd8",
       "outputs": [
        {
         "data": {
          "image/png": "iVBORw0KGgoAAAANSUhEUgAAAR4AAAEeCAYAAABcyXrWAAAAOXRFWHRTb2Z0d2FyZQBNYXRwbG90bGliIHZlcnNpb24zLjQuMywgaHR0cHM6Ly9tYXRwbG90bGliLm9yZy/MnkTPAAAACXBIWXMAAAsTAAALEwEAmpwYAAASC0lEQVR4nO3df7BmdV3A8ffdXdhfLEiak1n+IFglBBVNEy01UgcGRZgUHc0f6WkyazyWUqkj+HtEydNokhwpMrIUE4VkQgdGKksZwAQVEyQd1JTRRoV7d5f98fTH91z2cndd7u7zPJ/vOc/3/ZphmNl793y/e+7zvO/59ZwzNxqNkKRIq3JPQFJ5DI+kcIZHUjjDIymc4ZEUzvBICmd4JIUzPJLCGR5J4QyPpHCGR1I4wyMpnOGRFM7wSApneCSFMzySwhkeSeEMj6RwhkdSOMMjKZzhkRTO8EgKZ3gkhTM8ksIZHknhDI+kcIZHUjjDIymc4ZEUzvBICmd4JIUzPJLCGR5J4QyPpHCGR1I4wyMpnOGRFM7wSApneCSFMzySwhkeSeEMj6RwhkdSOMMjKZzhkRTO8EgKZ3gkhTM8ksIZHknhDI+kcIZHUjjDIymc4ZEUzvBICmd4JIUzPJLCrck9AQ1D1TAH/ALwGOCXgUOBOWAeuAW4Dri5rdmVbZIajLnRaJR7DuqxquFRwB8Bzyb9oroLOARY3X3LCLiTtPW8BrgaeDdwpRHST2N4tFdVw9OBc4EjgLXsDs29GZG2gu4AzgI+2Nb4ItM9GB7dQ9VwGPA+4HRgw5iLmwduBJ7X1nxr3Llpdhge3a1qOB64grQrtW5Ci90BbANe0tZ8bELL1MB5VksAVA0nkI7P3I/JRQfScZ+NwIeqhpdOcLkaMLd4tHgA+d9IWzrTtEDa8rl4yuOo5wxP4aqGDcDNwANIp8enbQE4tq25NWAs9ZS7WnoXcDgx0YF0huwjVeNrr2T+8AtWNTwBeCmwPnDY1cDRwCsCx1TPGJ6yvZnJHkheqY3AWVWz4muDNGMMT6GqhgcBTyJuF2u5dcBJmcZWZoanXK8gX3QANgFnZhxfGRmecp1OOtCb069WDQdlnoMyMDwFqhoOBh6aex7AVuCY3JNQPMNTpmNIb/rcVpFus6HCGJ4ybYZefGJ8I+nePiqM4SnTevrzs9+UewKK15cXn2L1YWtnkTcLK5DhKdMC/XjDj0g3DFNhDE+ZbqIfP/vFG4WpMH148Sne14CDc0+ic13uCSie4SlQW7ODdCuM3A4mRVCFMTzl+kdgS8bxR8BVbc3OjHNQJoanXOeT97Na88A5GcdXRoanUG3N7cC/kO/s1o+Az2YaW5kZnrK9kfQEiGjzwJk+b6tchqdgbc2NpFufzgcOexfwOdIxJhXK8OitpN2eKNuAF7u1UzbDo5OA+weNtQCc1tZ8L2g89ZThKVjV8CzgYxByM64F4Iy25sqAsdRza3JPQHnsIzq3kx7sN+5z0xdtY/eWztUTWqYGzi2eAu0jOi8HfhFoSBcXjnscZgG4DDjS6GgpnyRamH1Fp625YMn3PQp4O/BU0oWGK70/8w5gO+mjEG9oay4fd86aPYanICuNzrK/80DSEymeT9oa2gIcuuzbfkzaNfsBcDnQtDVfnuDUNWMMTyEOJDp7WcY64FjgmmVfegrwxbbmJ+POU2UwPAWYRHSWLe8eL5q2zvqZLw2QB5dn3KSjI02C4ZlhRkd9ZXhmlNFRnxmeGWR01HeGZ8YYHQ2B4ZkhRkdDYXhmhNHRkBieGWB0NDSGZ+CMjobI8AyY0dFQGZ6BMjoaMsMzQEZHQ2d4BqZqeCtwCUZHA+atTweki87r9/Ilo6NBcYtnIKqGt2B0NCMMzwBUDacCf7qXL11odDREhqfnuuhczJ67xRe2NS/NMCVpbIanx5ZEZ+mB5BFwgdHRkHlwuaf2EZ2XtzV/nWdW0mS4xdNDRkezzvD0jNFRCQxPjxgdlcLw9ITRUUkMTw8YHZXG8GRmdFQiw5OR0VGpDE8mRkclMzwZGB2VzvAEMzqS4QlldKTE8AQxOtJuc6PRKPcceqlqWAUcBTwGOA64D7AamAe+DlwL3NDWbF3BsgYfnaphNbAZeCzwoWVf/j3S+vhyW7Mtem45VA1rgIeTXh+PAA4F5oA7ga8C15HWx/Zsk+wxw7NE1TAHPB74Y+AUYCewCziE9KJatADsADYANwDnAJe0NXftZZmDjU63Pp4EvAZ4BrCdNPdNy751cX2sB64nrY9L25odcbOdvm59PBV4LfAbcPfPeyP3fH3Mk14764HPA+8CLm9rdsbNtt8MT6dqOBlogJ8nvWD2Zzf0DlKg3g28c/G33MCjcxpwLvCz7PnGujd3kEL0duA9Q3/DdcF5PvBO0pbvgayPbcDZwHltza4JT3Fwig9P1XA4cB7wTNIWzDjmgW8DzwUeygCjUzXcD7gAOJH0BhvHPHAr8Ny25mvjzi2HquEBpF3LJzCZ9XETcEZbc+u4cxuyosNTNRwPfJq0K7V2QosdkXZJVnf/Lf3zvkfnBOByYB2TWx+7SL/tf7+tuXBCywxRNZxIepTQOvZ8nNCB2klaHy9pay6e0DIHp9izWt2b7GrgvkzuTQZpE/xghhedE0kRPozJro9VpF3Xv6waXjXB5U5V1XAKcCnpeNakogPpdbEBuLBqyr19bZFbPFXDI4F/J23pTNsQovN44CrG39W8NwvAK/u+5VM1PAX4FNNfH1uAF7U1H5vyOL1T3BZP1bAeuIzx99dXajvwxaCx9lvVsIm0Pqb9JqMb4/1Vw8MDxjogVcPPAB8nZn2sJ235PCRgrF4pLjzAO0i7V/tzVmIcBwEXVw0HB423v/6CmC2/RWuBj3bXBfXR+cREZ9Fa4MPdmbNiFBWequGxwO8S+8KaAx4AvCFwzBWpGp4MnEH6zRtlFXAEUAeOuSLdJRUnMdljXPdmDekC1ZcHjpldUeEBziKdoYi2AXh1t5vXJ28mNsKLNgKv767+7ZO3kW99nN1dLV+EYv6hVcPPAU8jbhdrb56Tcex7qBqOAB6XcQprSNdO9ULVcCzwsIxTOJR07VQRigkPaRcr5ym8Q4A/yTj+cq8k789/E/1aH69isqfN99dG0kdTilBSeE4jz27WUkdVDYdmnsOiZ0H2A97HV03o8ZR9OZm8T9adA369lN2tIv6R3Q/z6NzzIF3H8ujck+je7A/OPQ/SdSyPyD2JquEw4H6550G6qvnI3JOIUER4SLe36MMnpdeRbqOQ2yNIb/rc1tCP9fFo0i+F3HbRj/UxdX07qzAtR9KP8KwlnTrN7SjyHmRftAH4QNXwgdwT6YlDSD+bmVfKFs86+vFGg7grpvelT+tDu83Rj9fH1JUSnhF5z2gt1Yd7sfRlXWhPg7530UqVEp753BNY4se5J0BaH30IoO5pB+nWqTOvlGM8XyX/qWNIBzCvzz0J4Cv045fOHaT79FyUcxJVw+OAz0D2Sx3mST+bmdeHF1+Eb9OPg8s7SDcBz+3r5L1YbtEc6Sbxud1Ano9KLLeWfrw+pq6I8LQ1I9KLK7f1wI25J9HdA/nruedBil/2eXRPCrkt9zxIN4//Tu5JRCgiPJ2/I//+8+dW8jicIBeR99qVXcAVPbrx+Ych689mB/DJ7pfkzCspPH9P3n/vHaTHvvTFBeRdHwukx770xXmZx78L+PPMcwhTTHjamjtJv+VzPWBtAbgi09h7aGt+CHySfKdvbwc+l2nsPbQ13wE+S75LDb7R1vxXprHDFROeztthz4fuBZgHzuzRbsWis8izPhaA1/Rwt+LPyLO7tUB6iGQxigpPW/Mt0lMgI6/r2Q5cQzrG1CttzX+TbgYWuT62AZ9pay4JHHNFui2O9xB77Gsr8E9tzWcCx8yuqPB0/op0Zilql2sb8MIe/nZf9C7SQ/eiLjfYSr9v8/km4k5CjLqx/iBovN4oLjxdAE4Fvs/0j28sAM9ua7475XEOWHdq/WTg/5j+1czzwMltzQ+mPM44fhu4f9BY88DT25qfBI3XG8WFB6CtuR04Afge09vyWSA9qvbKKS1/YtqabwNPBH7I9LZ85oFntTX/MaXlj61qeBnwwYChRqSznM9o6/4++miaigwPQFtzG+neJ19issc4tpK2Hk5ua/55gsudqrbmFuB40rO9J7k+tpDOYJ3Y1lw1weVO1E+JznbSBX2TXh/fBX6tzxGetmLDA9DWfB94PPA60hbKuLteC8AngF9qa64ec1nhui2fRwNvJb1BJrE+/gE4sq35wpjLmpp9ROe3gIcC55LWxzi7oqNuGRcAm9uaL42xrMEr8hHGe9M9deFs0pMgdrLy+6LcRXpBXg+cPStnJ6qGh5EOtJ5K+vet9LNMi+vjC8BZfQ/wvqLT1ly65PuOJa2Pk0gRWemjirZ13/+vpPXx+bEnPQMMzzJVw32AF3f/HU2K0E52bx0u3ttnPenzPZ8C3tvW3Bw+2QBVw32BlwEvID3+ZTspLHtbH98kPQ75fW3N/4RPdj+tNDrL/s79gQp4HrCZ3aFduj4g3WztVuAS4P3drr06hmcfupvEH0m6R/FGYDXpGM43gBt79LmrEN362AwcQ1ofq0i7DzcDX27rLBcjHpADic5elrEaeDjpF9QG0vpYIH3w9Sttne0q+d4zPCrOJKKj8RR9cFnlMTr9YHhUDKPTH4ZHRTA6/WJ4NPOMTv8YHs00o9NPhkczy+j0l+HRTDI6/WZ4NHOMTv8ZHs0UozMMhkczw+gMh+HRTDA6w2J4NHhGZ3jW5J6ANI6q4W+Alyz7Y6PTc27xaLCMznAZHg1S1XABe0ZnF0ZnEAyPBqc7pvM7e/nSO4zOMBgeDco+HkHztrbmDdHz0YHx4LIG46dEZwdpS+eNGaakA2R4NAieMp8t7mqp94zO7DE86jWjM5sMj3rL6Mwuw6NeMjqzzfCod4zO7DM86hWjUwbDo94wOuUwPOoFo1MWw6PsjE55DI+yMjplMjzKxuiUy/AoC6NTNj8kqhWpGtYBxwGPAY4HDgPmgHngRuA64Pq25icrWJbRKdzcaDTKPQf1VNWwGngGcCZwArCF9Mtqw7Jv3QZs7f78ZuAc4KNtzZa9LNPoyPBoT1XDHPAiUkDWA5v2cxF3dv9vgLe0NXd1yzU6AgyPlqkaHghcBPwKsHHMxS0A/ws8h7R7ZnQEGB4tUTX8JnAJsBY4aEKLHZHuErh8eUanYIZHAFQNpwAfYc/jN9NgdApneETV8GTgcmKisxM43eiUzet4Clc1HA58nJjoQArPN4PGUk8ZHp3H+AeR98dBwMVVM7FjSBogw1OwquFpwDNJB5OjzAEPJF0bpEIZnrK9ibhdrKU2Aq+tGg7OMLZ6wPAUqmrYDDwq4xRWAc/OOL4yMjzl+kPyflZvE+5uFcvwlOtkJneR4IE6rvvwqQpjeArUvdkflHsepA+dHpt7EopneMp0HOlzVLmtAR6bexKKZ3jKdATptHZuG4DNuSeheIanTOvpR3gg9uJF9YThKdPO3BNYok9zURDDU6Y7gV25J0G6ZcaPck9C8QxPmb4CrM49CVIAb8g9CcUzPGW6mX6EZxXpJvEqjOEpUFuzC/ha7nmQ4ndL7kkonuEp19+SHk2Tyy7gsi6CKozhKdeF5N3d2gKcm3F8ZWR4CtXW/Ai4mHyns78DXJNpbGVmeMp2NulhfNEWgFe3Nd7wu1CGp2Btza3A64g91rMVuLStuTxwTPWM4dF7gZtIj5yJMA+8Imgs9ZThKVx3VukU4Hamf7znTuDp3fElFczwiLbm+8ATSI8bnsaWzwi4gxSd66ewfA2M4REAbc1tpHvjXMtkj/ksALcBT2pr/nOCy9WAGR7drdvyeSLwGlJ8doyxuBHpWp3zgYe1tZ/J0m4+wlh7VTU8mHTG64Wkq4wPWeFf3dr9/9PAW9qaa6cwPQ2c4dE+VQ2HAC8gBeiRpBvEL177M0fasllDugr6JuATwPltzffCJ6vBMDxasaq5+ymgx5BuW7qKtDt1C3CLn7vSShkeSeE8uCwpnOGRFM7wSApneCSFMzySwhkeSeEMj6RwhkdSOMMjKZzhkRTO8EgKZ3gkhTM8ksIZHknhDI+kcIZHUjjDIymc4ZEUzvBICmd4JIUzPJLCGR5J4QyPpHCGR1I4wyMpnOGRFM7wSApneCSFMzySwhkeSeEMj6RwhkdSOMMjKZzhkRTO8EgKZ3gkhTM8ksIZHknhDI+kcIZHUjjDIymc4ZEUzvBICmd4JIUzPJLCGR5J4QyPpHCGR1I4wyMpnOGRFM7wSApneCSFMzySwhkeSeEMj6RwhkdSuP8H4ejhn5CawyYAAAAASUVORK5CYII=\n",
          "text/plain": "<Figure size 360x360 with 1 Axes>"
         },
         "metadata": {},
         "output_type": "display_data"
        }
       ]
      }
     },
     "c565030573c34c8284d523896b554b23": {
      "model_module": "@jupyter-widgets/controls",
      "model_module_version": "1.5.0",
      "model_name": "HTMLModel",
      "state": {
       "layout": "IPY_MODEL_4e59eab1b98e41b785487bd0432e40e2",
       "style": "IPY_MODEL_f83a51f7587d4084936c0e867622b2df",
       "value": "<h4>ibmq_manila</h4>"
      }
     },
     "c57cbd8b38a64f3cac697df108b03e99": {
      "model_module": "@jupyter-widgets/controls",
      "model_module_version": "1.5.0",
      "model_name": "DescriptionStyleModel",
      "state": {
       "description_width": ""
      }
     },
     "c647af2aba9046288f937eb8faef82c1": {
      "model_module": "@jupyter-widgets/controls",
      "model_module_version": "1.5.0",
      "model_name": "DescriptionStyleModel",
      "state": {
       "description_width": ""
      }
     },
     "c7d59cf8e9b14be88aa57bbc5f278a7c": {
      "model_module": "@jupyter-widgets/base",
      "model_module_version": "1.2.0",
      "model_name": "LayoutModel",
      "state": {
       "width": "190px"
      }
     },
     "c7e8974644b944cc8aa35c53313b4c72": {
      "model_module": "@jupyter-widgets/controls",
      "model_module_version": "1.5.0",
      "model_name": "GridBoxModel",
      "state": {
       "children": [
        "IPY_MODEL_fcc5b3e9117f4b07864470a340533a6f",
        "IPY_MODEL_4730923a9dcf4e70a291a3e33699740d",
        "IPY_MODEL_40ca9d15d0b14d7f942d55e48ea2a41c"
       ],
       "layout": "IPY_MODEL_6d62f072dde44bd5a02afac790bb879d"
      }
     },
     "c8252b4bc76d49d297e0c93717723a30": {
      "model_module": "@jupyter-widgets/base",
      "model_module_version": "1.2.0",
      "model_name": "LayoutModel",
      "state": {
       "justify_content": "center"
      }
     },
     "c8a6f048e6e44107936144ac769c2710": {
      "model_module": "@jupyter-widgets/base",
      "model_module_version": "1.2.0",
      "model_name": "LayoutModel",
      "state": {}
     },
     "c8f2c80878094b91b1e8a0f7ca5c10f2": {
      "model_module": "@jupyter-widgets/base",
      "model_module_version": "1.2.0",
      "model_name": "LayoutModel",
      "state": {
       "justify_content": "center",
       "max_width": "250px",
       "min_width": "250px"
      }
     },
     "c90d95c9d48b4d8ea104b224bfc4c145": {
      "model_module": "@jupyter-widgets/controls",
      "model_module_version": "1.5.0",
      "model_name": "DescriptionStyleModel",
      "state": {
       "description_width": ""
      }
     },
     "c937abc0c64c4e7a871ef002cdfb2b9e": {
      "model_module": "@jupyter-widgets/base",
      "model_module_version": "1.2.0",
      "model_name": "LayoutModel",
      "state": {
       "justify_content": "center"
      }
     },
     "cac3abad25e748958031f70ae6dcb6ac": {
      "model_module": "@jupyter-widgets/controls",
      "model_module_version": "1.5.0",
      "model_name": "DescriptionStyleModel",
      "state": {
       "description_width": ""
      }
     },
     "cb790d9194b84a928c3c1736db227206": {
      "model_module": "@jupyter-widgets/base",
      "model_module_version": "1.2.0",
      "model_name": "LayoutModel",
      "state": {
       "width": "95px"
      }
     },
     "cba25c9ad56246c28e1be5be378d959b": {
      "model_module": "@jupyter-widgets/controls",
      "model_module_version": "1.5.0",
      "model_name": "ProgressStyleModel",
      "state": {
       "bar_color": "#71cddd",
       "description_width": ""
      }
     },
     "cba5814f6f4f471a8b51a1c874eba7eb": {
      "model_module": "@jupyter-widgets/base",
      "model_module_version": "1.2.0",
      "model_name": "LayoutModel",
      "state": {
       "align_items": "center",
       "display": "flex-inline",
       "grid_area": "right",
       "max_height": "325px",
       "padding": "10px 10px 10px 10px",
       "width": "auto"
      }
     },
     "cbc0eb658eb249e18c8819a9ec71315b": {
      "model_module": "@jupyter-widgets/controls",
      "model_module_version": "1.5.0",
      "model_name": "DescriptionStyleModel",
      "state": {
       "description_width": ""
      }
     },
     "cc75e8556ab1457588eb5fecc36e6a47": {
      "model_module": "@jupyter-widgets/base",
      "model_module_version": "1.2.0",
      "model_name": "LayoutModel",
      "state": {}
     },
     "cdb7019880034450a87396cddee3e78e": {
      "model_module": "@jupyter-widgets/controls",
      "model_module_version": "1.5.0",
      "model_name": "ButtonStyleModel",
      "state": {
       "button_color": "white"
      }
     },
     "cdba378a95404536a0f6e7278a2ad784": {
      "model_module": "@jupyter-widgets/controls",
      "model_module_version": "1.5.0",
      "model_name": "LabelModel",
      "state": {
       "layout": "IPY_MODEL_2d6e4c795e964a0c98552c95037c7d41",
       "style": "IPY_MODEL_697e58f03b0c4c76a1b2489ec6b112b9",
       "value": "2"
      }
     },
     "cdf9a96b719a48939342689513776f24": {
      "model_module": "@jupyter-widgets/controls",
      "model_module_version": "1.5.0",
      "model_name": "HTMLModel",
      "state": {
       "layout": "IPY_MODEL_fdf89c96b9444c48b5c9cd04cfbed047",
       "style": "IPY_MODEL_fd27d26f8d8d4ad7b67d9e5a506651c0",
       "value": "<h5>0.039</h5>"
      }
     },
     "cf13c6b1a3d04292b2148180f0f63939": {
      "model_module": "@jupyter-widgets/controls",
      "model_module_version": "1.5.0",
      "model_name": "HTMLModel",
      "state": {
       "layout": "IPY_MODEL_a58c65da27e14a92aafd14d5c5665cbc",
       "style": "IPY_MODEL_a8578f1fecda4d3484dd63b0a4e894f0",
       "value": "<h5>144.0 / 250.8 us</h5>"
      }
     },
     "cf315387536843598eb4e95a8ab50a50": {
      "model_module": "@jupyter-widgets/controls",
      "model_module_version": "1.5.0",
      "model_name": "DescriptionStyleModel",
      "state": {
       "description_width": ""
      }
     },
     "cf5a332a04aa45e79bcd6d9b1b268568": {
      "model_module": "@jupyter-widgets/controls",
      "model_module_version": "1.5.0",
      "model_name": "DescriptionStyleModel",
      "state": {
       "description_width": ""
      }
     },
     "d1374cc2750146219239c8ebc3537754": {
      "model_module": "@jupyter-widgets/base",
      "model_module_version": "1.2.0",
      "model_name": "LayoutModel",
      "state": {
       "justify_content": "center"
      }
     },
     "d14a63d19e3e46af96f1f2a232e6eeeb": {
      "model_module": "@jupyter-widgets/controls",
      "model_module_version": "1.5.0",
      "model_name": "HTMLModel",
      "state": {
       "layout": "IPY_MODEL_ddb0787e9dfb4eb6b955dedc4adb4aee",
       "style": "IPY_MODEL_d5335c2a47fe4f4e86374b85c78534bb",
       "value": "<div><font style='font-weight:bold'>last_update_date</font>: 2021-09-11 07:30:06+00:00</div>"
      }
     },
     "d34e111fdb4745d4bbc20a2584cbd418": {
      "model_module": "@jupyter-widgets/base",
      "model_module_version": "1.2.0",
      "model_name": "LayoutModel",
      "state": {
       "justify_content": "center"
      }
     },
     "d448be4cc7f942699562b59ed2369c65": {
      "model_module": "@jupyter-widgets/controls",
      "model_module_version": "1.5.0",
      "model_name": "HTMLModel",
      "state": {
       "layout": "IPY_MODEL_84d6a71b66e844e78b5a402409d61ed6",
       "style": "IPY_MODEL_7abfb45da8bf48cf8671435aef87244a",
       "value": "<h1 style='color:#ffffff;background-color:#000000;padding-top: 1%;padding-bottom: 1%;padding-left: 1%; margin-top: 0px'>fake_johannesburg</h1>"
      }
     },
     "d483ddc1def94d819915c14702339864": {
      "model_module": "@jupyter-widgets/controls",
      "model_module_version": "1.5.0",
      "model_name": "TabModel",
      "state": {
       "_titles": {
        "0": "Configuration",
        "1": "Qubit Properties",
        "2": "Multi-Qubit Gates",
        "3": "Error Map",
        "4": "Job History"
       },
       "children": [
        "IPY_MODEL_8324e17c0339492783d4ec7cf8d4f57a",
        "IPY_MODEL_1b47a56165394bae8192f486227674ff",
        "IPY_MODEL_52790aa59bf64092a9df55caec4e1ecf",
        "IPY_MODEL_25f20c08c647415ba6bd402bffcca727",
        "IPY_MODEL_53caeaf3b9b642008038ef9c1133d2b7"
       ],
       "layout": "IPY_MODEL_aa90d28f540f4daaa538a61f0b4e8458"
      }
     },
     "d5335c2a47fe4f4e86374b85c78534bb": {
      "model_module": "@jupyter-widgets/controls",
      "model_module_version": "1.5.0",
      "model_name": "DescriptionStyleModel",
      "state": {
       "description_width": ""
      }
     },
     "d5b44fa8c87847808298d032aae2d584": {
      "model_module": "@jupyter-widgets/controls",
      "model_module_version": "1.5.0",
      "model_name": "DescriptionStyleModel",
      "state": {
       "description_width": ""
      }
     },
     "d5e5125330f84df291a3e58cde5896ae": {
      "model_module": "@jupyter-widgets/base",
      "model_module_version": "1.2.0",
      "model_name": "LayoutModel",
      "state": {}
     },
     "d62e506657a246cbb24a15394b1dfcda": {
      "model_module": "@jupyter-widgets/controls",
      "model_module_version": "1.5.0",
      "model_name": "HTMLModel",
      "state": {
       "layout": "IPY_MODEL_67ffbea6037a43869922e80ae670b814",
       "style": "IPY_MODEL_ed3300f9eb8f4783906b32421566a78c",
       "value": "<h5>0.0149</h5>"
      }
     },
     "d663b728de0c417d938b19ae23dc3620": {
      "model_module": "@jupyter-widgets/base",
      "model_module_version": "1.2.0",
      "model_name": "LayoutModel",
      "state": {
       "max_width": "700px",
       "min_width": "700px"
      }
     },
     "d9128f03766f41d9b4b9dafe2bc3e074": {
      "model_module": "@jupyter-widgets/controls",
      "model_module_version": "1.5.0",
      "model_name": "HTMLModel",
      "state": {
       "layout": "IPY_MODEL_fae8fe31a8184bb5a3412f12736bdc19",
       "style": "IPY_MODEL_70ee0231563b41ca852636797e1f165e",
       "value": "<h5 style='color:#dc267f'>False</h5>"
      }
     },
     "da684b64c6bf4619af83375c610cd298": {
      "model_module": "@jupyter-widgets/base",
      "model_module_version": "1.2.0",
      "model_name": "LayoutModel",
      "state": {
       "max_height": "620px"
      }
     },
     "da8f58b1b84c45d185f21785e86fc698": {
      "model_module": "@jupyter-widgets/controls",
      "model_module_version": "1.5.0",
      "model_name": "DescriptionStyleModel",
      "state": {
       "description_width": ""
      }
     },
     "da96e88831334751966960b679d2ab57": {
      "model_module": "@jupyter-widgets/controls",
      "model_module_version": "1.5.0",
      "model_name": "DescriptionStyleModel",
      "state": {
       "description_width": ""
      }
     },
     "dad17df1b0634ce4b2b2e85106cf0a70": {
      "model_module": "@jupyter-widgets/controls",
      "model_module_version": "1.5.0",
      "model_name": "DescriptionStyleModel",
      "state": {
       "description_width": ""
      }
     },
     "daf5568393bd4f898200905d18cdd705": {
      "model_module": "@jupyter-widgets/base",
      "model_module_version": "1.2.0",
      "model_name": "LayoutModel",
      "state": {
       "align_items": "center",
       "display": "inline-flex",
       "flex_flow": "column"
      }
     },
     "db5f05131bd14d749330ac96459b3816": {
      "model_module": "@jupyter-widgets/base",
      "model_module_version": "1.2.0",
      "model_name": "LayoutModel",
      "state": {}
     },
     "dbe49d34f2d74822b638ce1d48598359": {
      "model_module": "@jupyter-widgets/controls",
      "model_module_version": "1.5.0",
      "model_name": "HTMLModel",
      "state": {
       "layout": "IPY_MODEL_784f43e9daea43c3acd8b4e32776f894",
       "style": "IPY_MODEL_acbac492d2c14f51bc4db5bec60f2b48",
       "value": "<h5>94.8 / 104.4 us</h5>"
      }
     },
     "dc13ed7d55cb42bcbfe50fa237f753d6": {
      "model_module": "@jupyter-widgets/base",
      "model_module_version": "1.2.0",
      "model_name": "LayoutModel",
      "state": {
       "grid_area": "left"
      }
     },
     "dc95eec600144d9fb13bf9d5bba6e6e3": {
      "model_module": "@jupyter-widgets/output",
      "model_module_version": "1.0.0",
      "model_name": "OutputModel",
      "state": {
       "layout": "IPY_MODEL_3f23cc0c37154b8883c5c54341d4d26f",
       "outputs": [
        {
         "data": {
          "image/png": "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\n",
          "text/plain": "<Figure size 792x648 with 5 Axes>"
         },
         "metadata": {},
         "output_type": "display_data"
        }
       ]
      }
     },
     "dd676ae3fdca4a97b5d098db624f0137": {
      "model_module": "@jupyter-widgets/base",
      "model_module_version": "1.2.0",
      "model_name": "LayoutModel",
      "state": {
       "max_width": "180px"
      }
     },
     "dd8768b498954e2fa17cad2ecb7ec113": {
      "model_module": "@jupyter-widgets/controls",
      "model_module_version": "1.5.0",
      "model_name": "DescriptionStyleModel",
      "state": {
       "description_width": ""
      }
     },
     "ddab57917f294a6bb84c324012f7ac63": {
      "model_module": "@jupyter-widgets/controls",
      "model_module_version": "1.5.0",
      "model_name": "HTMLModel",
      "state": {
       "layout": "IPY_MODEL_285335e2e2ef4b45b7aee42b25a40f51",
       "style": "IPY_MODEL_04e0cb371fb549be98eb559377c6842d",
       "value": "<h5>90.8 / 123.9 us</h5>"
      }
     },
     "ddb0787e9dfb4eb6b955dedc4adb4aee": {
      "model_module": "@jupyter-widgets/base",
      "model_module_version": "1.2.0",
      "model_name": "LayoutModel",
      "state": {
       "grid_area": "top"
      }
     },
     "ddc92b06c68a4890a58201f31e4a95a2": {
      "model_module": "@jupyter-widgets/base",
      "model_module_version": "1.2.0",
      "model_name": "LayoutModel",
      "state": {
       "align_items": "center",
       "justify_content": "center",
       "margin": "0px 0px 0px 0px",
       "max_height": "250px",
       "max_width": "250px",
       "min_height": "250px",
       "min_width": "250px"
      }
     },
     "ddd2b2409ed04a7585a953570ae97808": {
      "model_module": "@jupyter-widgets/controls",
      "model_module_version": "1.5.0",
      "model_name": "HTMLModel",
      "state": {
       "layout": "IPY_MODEL_b9e6129d28904d998422761bceb22f91",
       "style": "IPY_MODEL_b461e4a2976b4b7b9c4962db3d1edca8",
       "value": "<h5>32</h5>"
      }
     },
     "de504abe0db64419ac49c8c2445fd2bc": {
      "model_module": "@jupyter-widgets/base",
      "model_module_version": "1.2.0",
      "model_name": "LayoutModel",
      "state": {
       "justify_content": "center"
      }
     },
     "df8e85b91da34b0fb0087f98ba1431d2": {
      "model_module": "@jupyter-widgets/controls",
      "model_module_version": "1.5.0",
      "model_name": "HTMLModel",
      "state": {
       "layout": "IPY_MODEL_58306c3dfdaa4820bcce0da2e9891b6c",
       "style": "IPY_MODEL_3baf74353df14c21b026ecfc9f12e897",
       "value": "<h5>Status</h5>"
      }
     },
     "dfa5cef162b743cebe228bce29995606": {
      "model_module": "@jupyter-widgets/controls",
      "model_module_version": "1.5.0",
      "model_name": "VBoxModel",
      "state": {
       "children": [
        "IPY_MODEL_c565030573c34c8284d523896b554b23",
        "IPY_MODEL_36e51e2b229e4ae087500b5e812f9f0d",
        "IPY_MODEL_4d1322a6feb24e8ebfae53a6d1beddd5",
        "IPY_MODEL_b9112467f7e24e919e988d40d93ee124",
        "IPY_MODEL_fe4b927007b145a2b9795be45ff0d14e",
        "IPY_MODEL_3482ee7b384c454ab785d281d8926ddb",
        "IPY_MODEL_8454a9ccea784f088c9cd015146fedab",
        "IPY_MODEL_6425ca3db63c4cbb8bf055b72174b6e1",
        "IPY_MODEL_56c1a5e1d99443a8b9e36a41141fb0b3",
        "IPY_MODEL_514337db5dfb46bb8373e578215d5478"
       ],
       "layout": "IPY_MODEL_f90718adcdaf41e4aa9e874dcee3f094"
      }
     },
     "e05e68f981cb4531989df913a2fc328a": {
      "model_module": "@jupyter-widgets/controls",
      "model_module_version": "1.5.0",
      "model_name": "HTMLModel",
      "state": {
       "layout": "IPY_MODEL_d34e111fdb4745d4bbc20a2584cbd418",
       "style": "IPY_MODEL_2813c7e61b6f45ce95a30676c51b363f",
       "value": "<h5 style='color:#dc267f'>False</h5>"
      }
     },
     "e0c71f708cf24d10b4b4a2266401641b": {
      "model_module": "@jupyter-widgets/controls",
      "model_module_version": "1.5.0",
      "model_name": "HTMLModel",
      "state": {
       "layout": "IPY_MODEL_0585f3bd2c0a4559813cd317db2b2a11",
       "style": "IPY_MODEL_69a35b79c63146f3885005394d585df7",
       "value": "<h2 style ='color:#ffffff; background-color:#000000;padding-top: 1%; padding-bottom: 1%;padding-left: 1%;margin-top: 0px'>Backend Overview</h2>"
      }
     },
     "e0c95a91ff984c349adcd74f433e2e79": {
      "model_module": "@jupyter-widgets/controls",
      "model_module_version": "1.5.0",
      "model_name": "VBoxModel",
      "state": {
       "children": [
        "IPY_MODEL_e0c71f708cf24d10b4b4a2266401641b",
        "IPY_MODEL_b757855203294c3aaac04794aeb6b5cb"
       ],
       "layout": "IPY_MODEL_cc75e8556ab1457588eb5fecc36e6a47"
      }
     },
     "e3c3285f24d3443cb8a61db6fd08c189": {
      "model_module": "@jupyter-widgets/controls",
      "model_module_version": "1.5.0",
      "model_name": "IntProgressModel",
      "state": {
       "layout": "IPY_MODEL_4ee5597fc44744d9826a0613d369d954",
       "max": 50,
       "style": "IPY_MODEL_cba25c9ad56246c28e1be5be378d959b",
       "value": 1
      }
     },
     "e444ab7517cf4b92ba3c7bb6aca0924a": {
      "model_module": "@jupyter-widgets/controls",
      "model_module_version": "1.5.0",
      "model_name": "HTMLModel",
      "state": {
       "layout": "IPY_MODEL_49156651f89b4497bbbc7870e6ac03ab",
       "style": "IPY_MODEL_1fe6db6f4299401aad733ea72304c1d7",
       "value": "<table><style>\ntable {\n    border-collapse: collapse;\n    width: auto;\n}\n\nth, td {\n    text-align: left;\n    padding: 8px;\n}\n\ntr:nth-child(even) {background-color: #f6f6f6;};\n</style><tr><th></th><th>Type</th><th>Gate error</th></tr><tr><td><font style='font-weight:bold'>cx3_5</font></td><td>cx</td><td>0.0078</td></tr><tr><td><font style='font-weight:bold'>cx5_3</font></td><td>cx</td><td>0.0078</td></tr><tr><td><font style='font-weight:bold'>cx3_1</font></td><td>cx</td><td>0.00986</td></tr><tr><td><font style='font-weight:bold'>cx1_3</font></td><td>cx</td><td>0.00986</td></tr></table>"
      }
     },
     "e63df45aabe3497fa277bcedda87b040": {
      "model_module": "@jupyter-widgets/controls",
      "model_module_version": "1.5.0",
      "model_name": "DescriptionStyleModel",
      "state": {
       "description_width": ""
      }
     },
     "e655ae8ea552421eab0ab71078f65484": {
      "model_module": "@jupyter-widgets/controls",
      "model_module_version": "1.5.0",
      "model_name": "VBoxModel",
      "state": {
       "children": [
        "IPY_MODEL_480dd33fd6c34818850a926b8bfa2610",
        "IPY_MODEL_c40b77633f20493e956a95a947b283f6",
        "IPY_MODEL_2c80f48fde8b4c95831876bcd616849e",
        "IPY_MODEL_01977ac0c6e4490e81ffc70a2add8145",
        "IPY_MODEL_eb962b5346524e8d95540951c7bd6e36",
        "IPY_MODEL_b4484fdf8831444b8d068f2e75f08d45",
        "IPY_MODEL_3231e55694ee4cae9023ea16867330ed",
        "IPY_MODEL_3b671c20006546e7bc7e4cc2e7e04b98",
        "IPY_MODEL_ff06e1aaef354cb38f3bf5e146f1ecca",
        "IPY_MODEL_370e48b22ee1497fb288b54e8f161bfe"
       ],
       "layout": "IPY_MODEL_ad79b34b353a494db1b1537757ccdb79"
      }
     },
     "e68ef0a4c47f43b9bb0365102a0cc636": {
      "model_module": "@jupyter-widgets/controls",
      "model_module_version": "1.5.0",
      "model_name": "HBoxModel",
      "state": {
       "children": [
        "IPY_MODEL_cdba378a95404536a0f6e7278a2ad784",
        "IPY_MODEL_ef2dc459942240d5b8c9eeab0f9caa03",
        "IPY_MODEL_54bd9ab93a2d48e0bbeccd3823e782a5"
       ],
       "layout": "IPY_MODEL_09b90d6bf8e144de8eb859957d51ee82"
      }
     },
     "e699be1750034dba8be0b3fa24487ad4": {
      "model_module": "@jupyter-widgets/output",
      "model_module_version": "1.0.0",
      "model_name": "OutputModel",
      "state": {
       "layout": "IPY_MODEL_eeb9c5ea6920407297770409499e4748",
       "outputs": [
        {
         "data": {
          "image/png": "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\n",
          "text/plain": "<Figure size 360x360 with 1 Axes>"
         },
         "metadata": {},
         "output_type": "display_data"
        }
       ]
      }
     },
     "e76a9e2be7784702a82772faff1c1b5e": {
      "model_module": "@jupyter-widgets/controls",
      "model_module_version": "1.5.0",
      "model_name": "HTMLModel",
      "state": {
       "layout": "IPY_MODEL_db5f05131bd14d749330ac96459b3816",
       "style": "IPY_MODEL_4448d6004af64208ab06c4e70e54fd49",
       "value": "<h4>ibmq_belem</h4>"
      }
     },
     "e7d0f5e5d76e4edeb5bbc7e64bcbcc61": {
      "model_module": "@jupyter-widgets/base",
      "model_module_version": "1.2.0",
      "model_name": "LayoutModel",
      "state": {
       "justify_content": "center"
      }
     },
     "eb962b5346524e8d95540951c7bd6e36": {
      "model_module": "@jupyter-widgets/controls",
      "model_module_version": "1.5.0",
      "model_name": "HBoxModel",
      "state": {
       "children": [
        "IPY_MODEL_9aa6e6a301a84671bfd0148b2ae5f179",
        "IPY_MODEL_0d80a8960266498d8f128e2e7edc806f",
        "IPY_MODEL_0c0a1b05ab41424fa55ac91a3331f4d8"
       ],
       "layout": "IPY_MODEL_3a5cfb7f79e8436c926aec1bad978265"
      }
     },
     "ed3300f9eb8f4783906b32421566a78c": {
      "model_module": "@jupyter-widgets/controls",
      "model_module_version": "1.5.0",
      "model_name": "DescriptionStyleModel",
      "state": {
       "description_width": ""
      }
     },
     "ed8a91b33bcf4ff694585f9ae9bc9d97": {
      "model_module": "@jupyter-widgets/controls",
      "model_module_version": "1.5.0",
      "model_name": "DescriptionStyleModel",
      "state": {
       "description_width": ""
      }
     },
     "edd249ae95054bd78259e2e93c54f9b6": {
      "model_module": "@jupyter-widgets/base",
      "model_module_version": "1.2.0",
      "model_name": "LayoutModel",
      "state": {
       "min_width": "auto"
      }
     },
     "ede973b6de1540fcb179d67cc938ba97": {
      "model_module": "@jupyter-widgets/output",
      "model_module_version": "1.0.0",
      "model_name": "OutputModel",
      "state": {
       "layout": "IPY_MODEL_541046700fe24f5eb3cb6118366e324f",
       "outputs": [
        {
         "data": {
          "image/png": "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\n",
          "text/plain": "<Figure size 360x360 with 1 Axes>"
         },
         "metadata": {},
         "output_type": "display_data"
        }
       ]
      }
     },
     "eeb9c5ea6920407297770409499e4748": {
      "model_module": "@jupyter-widgets/base",
      "model_module_version": "1.2.0",
      "model_name": "LayoutModel",
      "state": {
       "align_items": "center",
       "justify_content": "center",
       "margin": "0px 0px 0px 0px",
       "max_height": "250px",
       "max_width": "250px",
       "min_height": "250px",
       "min_width": "250px"
      }
     },
     "ef2dc459942240d5b8c9eeab0f9caa03": {
      "model_module": "@jupyter-widgets/controls",
      "model_module_version": "1.5.0",
      "model_name": "IntProgressModel",
      "state": {
       "layout": "IPY_MODEL_4c73fa63ee514a398e1529cde1c5dd78",
       "max": 50,
       "style": "IPY_MODEL_aa7a59e665e7453d92b58d4cb867b25c",
       "value": 2
      }
     },
     "ef46bd0b84d8472f84fe03316f1c24f8": {
      "model_module": "@jupyter-widgets/controls",
      "model_module_version": "1.5.0",
      "model_name": "HTMLModel",
      "state": {
       "layout": "IPY_MODEL_201cade3a7494043a25bce25510d5c61",
       "style": "IPY_MODEL_47aee61dfe834b61942e7c210838581a",
       "value": "<h5 style='color:#34bc6e'>True</h5>"
      }
     },
     "ef5ca17a1d534832a9653f3a1f5cdb09": {
      "model_module": "@jupyter-widgets/output",
      "model_module_version": "1.0.0",
      "model_name": "OutputModel",
      "state": {
       "layout": "IPY_MODEL_2c650bfe69404e14aaeb8c98aec706da",
       "outputs": [
        {
         "data": {
          "image/png": "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\n",
          "text/plain": "<Figure size 360x360 with 1 Axes>"
         },
         "metadata": {},
         "output_type": "display_data"
        }
       ]
      }
     },
     "ef9aa26ccf364d36bed1a78dcf240986": {
      "model_module": "@jupyter-widgets/base",
      "model_module_version": "1.2.0",
      "model_name": "LayoutModel",
      "state": {
       "margin": "0px 0px 0px 0px"
      }
     },
     "efb0a36420b7416c8dabbbf3d3da5723": {
      "model_module": "@jupyter-widgets/controls",
      "model_module_version": "1.5.0",
      "model_name": "DescriptionStyleModel",
      "state": {
       "description_width": ""
      }
     },
     "efe0ff45a7a44cbda028e67ea5095a91": {
      "model_module": "@jupyter-widgets/base",
      "model_module_version": "1.2.0",
      "model_name": "LayoutModel",
      "state": {}
     },
     "f0a39b48d76c4d7799f91abae8d0824a": {
      "model_module": "@jupyter-widgets/controls",
      "model_module_version": "1.5.0",
      "model_name": "GridBoxModel",
      "state": {
       "children": [
        "IPY_MODEL_96e472c7688545a4b77244bb2da25d41"
       ],
       "layout": "IPY_MODEL_0eb0f7170a5a4c9685a5e9e430c74b7e"
      }
     },
     "f1330f81eca240dd84ad479b2a467d20": {
      "model_module": "@jupyter-widgets/controls",
      "model_module_version": "1.5.0",
      "model_name": "VBoxModel",
      "state": {
       "children": [
        "IPY_MODEL_230774e7fc50403fba1df431d2a54493",
        "IPY_MODEL_e699be1750034dba8be0b3fa24487ad4",
        "IPY_MODEL_6bc1dde0b9c04f3eaf52825a6adb0d81",
        "IPY_MODEL_4e72b5267e3e40958b45e30c0bf380b4",
        "IPY_MODEL_e68ef0a4c47f43b9bb0365102a0cc636",
        "IPY_MODEL_4a5a8fb3e129473cac5145f6191786bf",
        "IPY_MODEL_9d3e260799a04c239cb1b7947b2d9771",
        "IPY_MODEL_bc805e54488d4a058341e7601c84ca57",
        "IPY_MODEL_31caf76f40854d9ba3be0d7905b1b448",
        "IPY_MODEL_9f8afc92b6574d6281657865f25055ee"
       ],
       "layout": "IPY_MODEL_8b9d2a2b0ab3484295af361306ee757b"
      }
     },
     "f1a363f1b4d941d7a84c1dba6a6f0850": {
      "model_module": "@jupyter-widgets/controls",
      "model_module_version": "1.5.0",
      "model_name": "VBoxModel",
      "state": {
       "children": [
        "IPY_MODEL_6aa24d7eae0a4bd582a7d3a1edbc3af6",
        "IPY_MODEL_3792348e8e9d4d478a816a9603b83bf7",
        "IPY_MODEL_52a4298b9a35461fae2b240adb64de45",
        "IPY_MODEL_33a39722e028480781028283be4f0a39",
        "IPY_MODEL_7bee790cf4324a529b089997e7642e6e",
        "IPY_MODEL_38a9dd1880b24310a31930ec7ed06b97",
        "IPY_MODEL_7f3de3f3e9974ca7a20c62a844c24bba",
        "IPY_MODEL_39033c20de4147f09c8a8217fa55eb15",
        "IPY_MODEL_4e13f214acba45b38225da73a285e0a6",
        "IPY_MODEL_483a7576b4a942d0b5771edeed85c193"
       ],
       "layout": "IPY_MODEL_524a68f3fe3247509e62f99d07ad0077"
      }
     },
     "f217a3eba13341b2a28ae61592765e86": {
      "model_module": "@jupyter-widgets/controls",
      "model_module_version": "1.5.0",
      "model_name": "DescriptionStyleModel",
      "state": {
       "description_width": ""
      }
     },
     "f32884275df642c085a43c484dbd1058": {
      "model_module": "@jupyter-widgets/controls",
      "model_module_version": "1.5.0",
      "model_name": "DescriptionStyleModel",
      "state": {
       "description_width": ""
      }
     },
     "f3b4f54c97bc431facf484a74921fd58": {
      "model_module": "@jupyter-widgets/controls",
      "model_module_version": "1.5.0",
      "model_name": "HTMLModel",
      "state": {
       "layout": "IPY_MODEL_cb790d9194b84a928c3c1736db227206",
       "style": "IPY_MODEL_da8f58b1b84c45d185f21785e86fc698",
       "value": "<font style='color:#34BC6E'>DONE</font>"
      }
     },
     "f45a84f4ab544a8c8ae67f45e86087c6": {
      "model_module": "@jupyter-widgets/base",
      "model_module_version": "1.2.0",
      "model_name": "LayoutModel",
      "state": {
       "grid_gap": "0px 0px",
       "grid_template_areas": "\n                                                   \"top top top\"\n                                                   \"left middle right\"\n                                                   ",
       "grid_template_columns": "33% 33% 33%",
       "grid_template_rows": "auto auto"
      }
     },
     "f47124e43bd44122b3a94c3390c121b2": {
      "model_module": "@jupyter-widgets/controls",
      "model_module_version": "1.5.0",
      "model_name": "HTMLModel",
      "state": {
       "layout": "IPY_MODEL_8cc6c45684644d80af33f65f2e9af104",
       "style": "IPY_MODEL_aca1d8a355684f40b5f0f039cd7118d1",
       "value": "<h5><b>1</b></h5>"
      }
     },
     "f4e4a6a2b7fb4d9dae1161bddd80496b": {
      "model_module": "@jupyter-widgets/controls",
      "model_module_version": "1.5.0",
      "model_name": "LabelModel",
      "state": {
       "layout": "IPY_MODEL_fe94e7a610464f09baefda5184e8b44c",
       "style": "IPY_MODEL_4af7e94be60646ceafcac97facea336e",
       "value": "Quantum Vol."
      }
     },
     "f53dfbbd3c674479a2a5febe8e707809": {
      "model_module": "@jupyter-widgets/controls",
      "model_module_version": "1.5.0",
      "model_name": "ButtonModel",
      "state": {
       "icon": "close",
       "layout": "IPY_MODEL_201d35e4e05a4f26bf7b0371b9feff56",
       "style": "IPY_MODEL_825d461a7e7348b980cdb7cbb9afa843"
      }
     },
     "f546271991874359b6135421a0c0143a": {
      "model_module": "@jupyter-widgets/controls",
      "model_module_version": "1.5.0",
      "model_name": "HTMLModel",
      "state": {
       "layout": "IPY_MODEL_fd41109ab10642918d7e9a5babaa7ad2",
       "style": "IPY_MODEL_9723c286e70f4a0aaadb6ecf3417bf6e",
       "value": "<h4>ibmq_santiago</h4>"
      }
     },
     "f5e928a9824946d98eed38f10a1449a9": {
      "model_module": "@jupyter-widgets/base",
      "model_module_version": "1.2.0",
      "model_name": "LayoutModel",
      "state": {
       "justify_content": "center",
       "max_width": "250px",
       "min_width": "250px"
      }
     },
     "f681a39cb6584ba8a033f2a27b10ef1f": {
      "model_module": "@jupyter-widgets/base",
      "model_module_version": "1.2.0",
      "model_name": "LayoutModel",
      "state": {
       "grid_area": "right"
      }
     },
     "f7a293d9d90e4a0dae6388c77c763951": {
      "model_module": "@jupyter-widgets/controls",
      "model_module_version": "1.5.0",
      "model_name": "HTMLModel",
      "state": {
       "layout": "IPY_MODEL_e7d0f5e5d76e4edeb5bbc7e64bcbcc61",
       "style": "IPY_MODEL_2c95d8b4a40d4399a2718040759b1214",
       "value": "<h5 style='color:#34bc6e'>True</h5>"
      }
     },
     "f83a51f7587d4084936c0e867622b2df": {
      "model_module": "@jupyter-widgets/controls",
      "model_module_version": "1.5.0",
      "model_name": "DescriptionStyleModel",
      "state": {
       "description_width": ""
      }
     },
     "f8d2a5f713a34f38a39b021926d12989": {
      "model_module": "@jupyter-widgets/controls",
      "model_module_version": "1.5.0",
      "model_name": "HTMLModel",
      "state": {
       "layout": "IPY_MODEL_2d8127d6d7884c0ab3616e42428092d5",
       "style": "IPY_MODEL_5995c7ad2f55452e828505ac61eddc83",
       "value": "<h5>0.0236</h5>"
      }
     },
     "f90718adcdaf41e4aa9e874dcee3f094": {
      "model_module": "@jupyter-widgets/base",
      "model_module_version": "1.2.0",
      "model_name": "LayoutModel",
      "state": {
       "align_items": "center",
       "display": "inline-flex",
       "flex_flow": "column"
      }
     },
     "f9de4fa95a504e119b5f9916268c6991": {
      "model_module": "@jupyter-widgets/controls",
      "model_module_version": "1.5.0",
      "model_name": "GridBoxModel",
      "state": {
       "children": [
        "IPY_MODEL_f1a363f1b4d941d7a84c1dba6a6f0850",
        "IPY_MODEL_dfa5cef162b743cebe228bce29995606",
        "IPY_MODEL_f1330f81eca240dd84ad479b2a467d20",
        "IPY_MODEL_4497abe23d5844eeb77a14cf4d111b8e",
        "IPY_MODEL_c09ab1fc5949486d998f96cd6c905150",
        "IPY_MODEL_e655ae8ea552421eab0ab71078f65484",
        "IPY_MODEL_ac6dd0dba23a4eb1ab868874f6bd0463",
        "IPY_MODEL_8e741432c7314c8fb26ab2bd5067b39b"
       ],
       "layout": "IPY_MODEL_3d0836e83cc74b34bbe910fa61ce4521"
      }
     },
     "fa0b648e1f544f73b2a4b6913280332e": {
      "model_module": "@jupyter-widgets/base",
      "model_module_version": "1.2.0",
      "model_name": "LayoutModel",
      "state": {
       "margin": "8px 0px 0px 0px"
      }
     },
     "fa6c6cee2c40490fa008e61de1cf29c8": {
      "model_module": "@jupyter-widgets/base",
      "model_module_version": "1.2.0",
      "model_name": "LayoutModel",
      "state": {}
     },
     "fa88919099ea4776ada289da81d483c3": {
      "model_module": "@jupyter-widgets/base",
      "model_module_version": "1.2.0",
      "model_name": "LayoutModel",
      "state": {}
     },
     "fae76d190f394990b8e09de6c4fbc89c": {
      "model_module": "@jupyter-widgets/controls",
      "model_module_version": "1.5.0",
      "model_name": "HTMLModel",
      "state": {
       "layout": "IPY_MODEL_c7d59cf8e9b14be88aa57bbc5f278a7c",
       "style": "IPY_MODEL_3ff517d5fa0746b39731fb6a0d03b449",
       "value": "613c682e822822a079e20bcd"
      }
     },
     "fae8fe31a8184bb5a3412f12736bdc19": {
      "model_module": "@jupyter-widgets/base",
      "model_module_version": "1.2.0",
      "model_name": "LayoutModel",
      "state": {
       "justify_content": "center"
      }
     },
     "fbbeff25849c438596c2ed454ccf38a1": {
      "model_module": "@jupyter-widgets/base",
      "model_module_version": "1.2.0",
      "model_name": "LayoutModel",
      "state": {}
     },
     "fcc5b3e9117f4b07864470a340533a6f": {
      "model_module": "@jupyter-widgets/controls",
      "model_module_version": "1.5.0",
      "model_name": "HTMLMathModel",
      "state": {
       "layout": "IPY_MODEL_11cd08f0d51d4722a64934bd2baccede",
       "style": "IPY_MODEL_a62cc0027430424f9238edd900afb1f6",
       "value": "<table><style>\ntable {\n    border-collapse: collapse;\n    width: auto;\n}\n\nth, td {\n    text-align: left;\n    padding: 8px;\n}\n\ntr:nth-child(even) {background-color: #f6f6f6;}\n</style><tr><th>Property</th><th>Value</th></tr><tr><td><font style='font-weight:bold'>n_qubits</font></td><td>7</td></tr><tr><td><font style='font-weight:bold'>quantum_volume</font></td><td>32</td></tr><tr><td><font style='font-weight:bold'>operational</font></td><td>True</td></tr><tr><td><font style='font-weight:bold'>status_msg</font></td><td>active</td></tr><tr><td><font style='font-weight:bold'>pending_jobs</font></td><td>0</td></tr><tr><td><font style='font-weight:bold'>backend_version</font></td><td>1.0.1</td></tr><tr><td><font style='font-weight:bold'>basis_gates</font></td><td>['id', 'rz', 'sx', 'x', 'cx', 'reset']</td></tr><tr><td><font style='font-weight:bold'>max_shots</font></td><td>2048</td></tr><tr><td><font style='font-weight:bold'>max_experiments</font></td><td>4</td></tr></table>"
      }
     },
     "fd1ef7da7e0c4606b4abcff90068fc16": {
      "model_module": "@jupyter-widgets/controls",
      "model_module_version": "1.5.0",
      "model_name": "DescriptionStyleModel",
      "state": {
       "description_width": ""
      }
     },
     "fd27d26f8d8d4ad7b67d9e5a506651c0": {
      "model_module": "@jupyter-widgets/controls",
      "model_module_version": "1.5.0",
      "model_name": "DescriptionStyleModel",
      "state": {
       "description_width": ""
      }
     },
     "fd41109ab10642918d7e9a5babaa7ad2": {
      "model_module": "@jupyter-widgets/base",
      "model_module_version": "1.2.0",
      "model_name": "LayoutModel",
      "state": {}
     },
     "fd6b78806f34415d9cf1ac4d72e4c48e": {
      "model_module": "@jupyter-widgets/controls",
      "model_module_version": "1.5.0",
      "model_name": "DescriptionStyleModel",
      "state": {
       "description_width": ""
      }
     },
     "fd774eda628c4a578f39231c0e59f9e3": {
      "model_module": "@jupyter-widgets/controls",
      "model_module_version": "1.5.0",
      "model_name": "DescriptionStyleModel",
      "state": {
       "description_width": ""
      }
     },
     "fd7a7a3de61d4ab5a546680e956a964a": {
      "model_module": "@jupyter-widgets/controls",
      "model_module_version": "1.5.0",
      "model_name": "DescriptionStyleModel",
      "state": {
       "description_width": ""
      }
     },
     "fddac90f357f45c5b845b9aef78a6d5b": {
      "model_module": "@jupyter-widgets/controls",
      "model_module_version": "1.5.0",
      "model_name": "DescriptionStyleModel",
      "state": {
       "description_width": ""
      }
     },
     "fdf89c96b9444c48b5c9cd04cfbed047": {
      "model_module": "@jupyter-widgets/base",
      "model_module_version": "1.2.0",
      "model_name": "LayoutModel",
      "state": {}
     },
     "fe17d2a095244eafbbbd1a63966dde4c": {
      "model_module": "@jupyter-widgets/base",
      "model_module_version": "1.2.0",
      "model_name": "LayoutModel",
      "state": {
       "min_width": "auto"
      }
     },
     "fe4b927007b145a2b9795be45ff0d14e": {
      "model_module": "@jupyter-widgets/controls",
      "model_module_version": "1.5.0",
      "model_name": "HBoxModel",
      "state": {
       "children": [
        "IPY_MODEL_5be446749f67453daf580b36f4d80f6f",
        "IPY_MODEL_34e2dc7d2c084c16893b1605cda23cd1",
        "IPY_MODEL_1d5e2813fa29424dba04f9dfb4400a76"
       ],
       "layout": "IPY_MODEL_6a1b514b71444cd8b3c3054f1bcba273"
      }
     },
     "fe94e7a610464f09baefda5184e8b44c": {
      "model_module": "@jupyter-widgets/base",
      "model_module_version": "1.2.0",
      "model_name": "LayoutModel",
      "state": {}
     },
     "ff06e1aaef354cb38f3bf5e146f1ecca": {
      "model_module": "@jupyter-widgets/controls",
      "model_module_version": "1.5.0",
      "model_name": "HTMLModel",
      "state": {
       "layout": "IPY_MODEL_20fa38e73fff4fa8a26647656f81d757",
       "style": "IPY_MODEL_fddac90f357f45c5b845b9aef78a6d5b",
       "value": "<h5>0.0127</h5>"
      }
     },
     "ffe850cdce4c492a8a9ce0d0f7461f3b": {
      "model_module": "@jupyter-widgets/base",
      "model_module_version": "1.2.0",
      "model_name": "LayoutModel",
      "state": {
       "grid_area": "top"
      }
     }
    },
    "version_major": 2,
    "version_minor": 0
   }
  }
 },
 "nbformat": 4,
 "nbformat_minor": 4
}
